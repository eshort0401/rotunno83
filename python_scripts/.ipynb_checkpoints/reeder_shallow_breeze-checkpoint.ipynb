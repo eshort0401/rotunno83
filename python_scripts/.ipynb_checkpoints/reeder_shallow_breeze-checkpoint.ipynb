{
 "cells": [
  {
   "cell_type": "code",
   "execution_count": 1,
   "id": "3240bfa1",
   "metadata": {
    "ExecuteTime": {
     "end_time": "2023-08-17T12:42:07.959445Z",
     "start_time": "2023-08-17T12:42:06.348763Z"
    }
   },
   "outputs": [],
   "source": [
    "import rotunno as rt\n",
    "import matplotlib.pyplot as plt\n",
    "import numpy as np\n",
    "\n",
    "%matplotlib inline\n",
    "import ipywidgets as widgets\n",
    "from ipywidgets import interact, interactive, fixed, interact_manual"
   ]
  },
  {
   "cell_type": "code",
   "execution_count": 2,
   "id": "ba1742fa",
   "metadata": {
    "ExecuteTime": {
     "end_time": "2023-08-17T12:42:07.963715Z",
     "start_time": "2023-08-17T12:42:07.960946Z"
    }
   },
   "outputs": [],
   "source": [
    "rt.init_fonts()"
   ]
  },
  {
   "cell_type": "code",
   "execution_count": 7,
   "id": "d3154f60",
   "metadata": {
    "ExecuteTime": {
     "end_time": "2023-08-17T12:42:16.219044Z",
     "start_time": "2023-08-17T12:42:16.215068Z"
    }
   },
   "outputs": [],
   "source": [
    "plt.rcParams.update({'font.size': 16})"
   ]
  },
  {
   "cell_type": "code",
   "execution_count": 8,
   "id": "51272254",
   "metadata": {
    "ExecuteTime": {
     "end_time": "2023-08-17T12:42:16.420140Z",
     "start_time": "2023-08-17T12:42:16.406296Z"
    }
   },
   "outputs": [],
   "source": [
    "dx = 1e3\n",
    "x = np.arange(-1000e3, 1000e3+dx, dx)\n",
    "t = 60*6\n",
    "\n",
    "H = 1e3\n",
    "omega = 2*np.pi/(24*3600)\n",
    "A = .5*omega\n",
    "phi=70\n",
    "f0 = 2*omega*np.sin(phi*np.pi/180)\n",
    "rho1 = 1\n",
    "rho2 = 1.2\n",
    "g = 9.81\n",
    "gr = g*(rho2-rho1)/rho2\n",
    "LR = np.sqrt(gr*H)/f0\n",
    "l = np.sqrt(f0**2*LR**2/(f0**2-omega**2))"
   ]
  },
  {
   "cell_type": "code",
   "execution_count": 9,
   "id": "160053f3",
   "metadata": {
    "ExecuteTime": {
     "end_time": "2023-08-17T12:42:16.577041Z",
     "start_time": "2023-08-17T12:42:16.565795Z"
    }
   },
   "outputs": [],
   "source": [
    "eta = np.zeros_like(x)\n",
    "\n",
    "eta[x<0] = A/(2*omega)*np.exp(x[x<0]/l)*np.cos(omega*t)\n",
    "eta[x>=0] = A/omega*(1-.5*np.exp(-x[x>=0]/l))*np.cos(omega*t)\n",
    "h = H*(1+eta)"
   ]
  },
  {
   "cell_type": "code",
   "execution_count": 12,
   "id": "3f4b30fe",
   "metadata": {
    "ExecuteTime": {
     "end_time": "2023-08-17T12:44:12.169822Z",
     "start_time": "2023-08-17T12:44:11.957961Z"
    }
   },
   "outputs": [
    {
     "data": {
      "application/vnd.jupyter.widget-view+json": {
       "model_id": "f783ae354aeb43ee8a7ba67c6b82f94a",
       "version_major": 2,
       "version_minor": 0
      },
      "text/plain": [
       "interactive(children=(FloatSlider(value=0.0, description='t [s]', max=86400.0, readout_format='.2e', step=5400…"
      ]
     },
     "metadata": {},
     "output_type": "display_data"
    }
   ],
   "source": [
    "# def update(A=A, f0=f0, rho1=1, rho2=2, H=H, phi=phi):\n",
    "\n",
    "t_widget = widgets.FloatSlider(\n",
    "    value=0, min=0.0, max=24*3600, step=24*3600/16, \n",
    "    orientation='horizontal', continuous_update=True, readout=True, \n",
    "    readout_format='.2e',\n",
    "    description='t [s]',)\n",
    "\n",
    "A_widget = widgets.FloatSlider(\n",
    "    value=.5e-4, min=0.0, max=1e-4, step=1e-5, orientation='horizontal',\n",
    "    continuous_update=True, readout=True, \n",
    "    readout_format='.2e')\n",
    "\n",
    "phi_widget = widgets.FloatSlider(\n",
    "    value=70, min=35, max=90, step=5, orientation='horizontal',\n",
    "    continuous_update=True, readout=True, \n",
    "    description=r'$\\phi$',\n",
    "    readout_format='d')\n",
    "\n",
    "rho1_widget = widgets.FloatSlider(\n",
    "    value=1, min=0, max=1.1, step=.1, orientation='horizontal',\n",
    "    continuous_update=True, readout=True, \n",
    "    description=r'$\\rho_1$',\n",
    "    readout_format='.1f')\n",
    "\n",
    "def update(t=t, A=A, phi=phi, rho1=rho1):\n",
    "    omega = 2*np.pi/(24*3600)\n",
    "    f0 = 2*omega*np.sin(phi*np.pi/180)\n",
    "    gr = g*(rho2-rho1)/rho2\n",
    "    LR = np.sqrt(gr*H)/f0\n",
    "    l = np.sqrt(f0**2*LR**2/(f0**2-omega**2))\n",
    "    \n",
    "    eta = np.zeros_like(x)\n",
    "\n",
    "    eta[x<0] = A/(2*omega)*np.exp(x[x<0]/l)*np.cos(omega*t)\n",
    "    eta[x>=0] = A/omega*(1-.5*np.exp(-x[x>=0]/l))*np.cos(omega*t)\n",
    "    h = H*(1+eta)\n",
    "    \n",
    "    fig, ax = plt.subplots(1, 1, figsize=(8, 4))\n",
    "    \n",
    "    ax.plot(x/1000, h, linewidth=2)\n",
    "    ax.plot(x/1000, H*np.ones_like(x), '--', color='grey', linewidth=2)\n",
    "    note = r'$l$ = {:.1f} km'.format(l/1000)\n",
    "    ax.text(-700, 2.2*H, note)\n",
    "    ax.set_xlabel('Distance [km]')\n",
    "    ax.set_ylabel('Height [m]')\n",
    "    ax.set_ylim(0, 2.5*H)\n",
    "    ax.set_xlim(np.min(x)/1000, np.max(x)/1000)\n",
    "    ax.grid()\n",
    "    \n",
    "    plt.show()\n",
    "    \n",
    "interactive_plot = interactive(\n",
    "    update, t=t_widget, A=A_widget, phi=phi_widget, rho1=rho1_widget)\n",
    "output = interactive_plot.children[-1]\n",
    "# output.layout.height = '350px'\n",
    "interactive_plot"
   ]
  },
  {
   "cell_type": "code",
   "execution_count": null,
   "id": "8a78197e",
   "metadata": {},
   "outputs": [],
   "source": []
  },
  {
   "cell_type": "code",
   "execution_count": null,
   "id": "574ca0b3",
   "metadata": {},
   "outputs": [],
   "source": []
  }
 ],
 "metadata": {
  "kernelspec": {
   "display_name": "Python 3 (ipykernel)",
   "language": "python",
   "name": "python3"
  },
  "language_info": {
   "codemirror_mode": {
    "name": "ipython",
    "version": 3
   },
   "file_extension": ".py",
   "mimetype": "text/x-python",
   "name": "python",
   "nbconvert_exporter": "python",
   "pygments_lexer": "ipython3",
   "version": "3.8.10"
  },
  "latex_envs": {
   "LaTeX_envs_menu_present": true,
   "autoclose": false,
   "autocomplete": true,
   "bibliofile": "biblio.bib",
   "cite_by": "apalike",
   "current_citInitial": 1,
   "eqLabelWithNumbers": true,
   "eqNumInitial": 1,
   "hotkeys": {
    "equation": "Ctrl-E",
    "itemize": "Ctrl-I"
   },
   "labels_anchors": false,
   "latex_user_defs": false,
   "report_style_numbering": false,
   "user_envs_cfg": false
  },
  "toc": {
   "base_numbering": 1,
   "nav_menu": {},
   "number_sections": true,
   "sideBar": true,
   "skip_h1_title": false,
   "title_cell": "Table of Contents",
   "title_sidebar": "Contents",
   "toc_cell": false,
   "toc_position": {},
   "toc_section_display": true,
   "toc_window_display": false
  }
 },
 "nbformat": 4,
 "nbformat_minor": 5
}
