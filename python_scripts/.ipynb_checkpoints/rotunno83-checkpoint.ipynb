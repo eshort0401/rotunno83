{
 "cells": [
  {
   "cell_type": "code",
   "execution_count": 1,
   "metadata": {
    "ExecuteTime": {
     "end_time": "2019-11-19T00:34:41.677309Z",
     "start_time": "2019-11-19T00:34:41.039407Z"
    }
   },
   "outputs": [],
   "source": [
    "import datetime\n",
    "\n",
    "from numba import jit, njit, prange\n",
    "from numba import int32\n",
    "\n",
    "import numpy as np\n",
    "import xarray as xr\n",
    "\n",
    "import sys, pdb, traceback\n",
    "\n",
    "import matplotlib.pyplot as plt\n",
    "\n",
    "import rotunno as rt\n",
    "\n",
    "from scipy.special import exp1"
   ]
  },
  {
   "cell_type": "code",
   "execution_count": 141,
   "metadata": {
    "ExecuteTime": {
     "end_time": "2019-11-17T10:39:25.160112Z",
     "start_time": "2019-11-17T10:39:25.094224Z"
    }
   },
   "outputs": [],
   "source": [
    "# Convenience functions\n",
    "%load_ext autoreload\n",
    "%autoreload 1\n",
    "%aimport rotunno"
   ]
  },
  {
   "cell_type": "code",
   "execution_count": 86,
   "metadata": {
    "ExecuteTime": {
     "end_time": "2019-11-19T01:45:04.988431Z",
     "start_time": "2019-11-19T01:45:04.977458Z"
    },
    "scrolled": false
   },
   "outputs": [
    {
     "name": "stdout",
     "output_type": "stream",
     "text": [
      "(-0.019020007896208772+0.016188792559887893j)\n",
      "(1.5510397102357274-0.5205475841029514j)\n",
      "(-0.01897175174356449+0.016212564016480434j)\n"
     ]
    }
   ],
   "source": [
    "print(exp1(40j))\n",
    "print(calc_exp1(40j))\n",
    "print(calc_exp1_alt(40j))"
   ]
  },
  {
   "cell_type": "code",
   "execution_count": 257,
   "metadata": {
    "ExecuteTime": {
     "end_time": "2019-11-19T05:50:12.794049Z",
     "start_time": "2019-11-19T05:50:12.741651Z"
    }
   },
   "outputs": [],
   "source": [
    "def solve_qian(xiN=241,zetaN=200,tauN=32,sN=1999,alpha=3,U=0.625,L=0.1):\n",
    "\n",
    "    print('Initialising')\n",
    "\n",
    "    # Time interval\n",
    "    delTau = 2*np.pi/tauN\n",
    "    delS = 1/sN\n",
    "    delZeta = 10/zetaN\n",
    "    \n",
    "    # Initialise solution arrays\n",
    "    psi = np.zeros((xiN,zetaN,tauN), dtype=np.complex64)\n",
    "    u = np.zeros((xiN,zetaN,tauN), dtype=np.complex64)\n",
    "    w = np.zeros((xiN,zetaN,tauN), dtype=np.complex64)\n",
    "\n",
    "    # Initialise domains\n",
    "    xi = np.linspace(-6,6,xiN, dtype=np.float64)\n",
    "    # Dont start at zero as exponential integral not defined there\n",
    "    zeta = np.arange(delZeta,10+delZeta,delZeta, dtype=np.float64)\n",
    "    tau = np.arange(0,2*np.pi,delTau, dtype=np.float64)\n",
    "    s = np.arange(delS,1,delS, dtype=np.float64)  \n",
    "\n",
    "    print('Integrating')\n",
    "    psi, u, w = integrate_qian(xi,zeta,tau,s,alpha,U,L)\n",
    "\n",
    "    ds = xr.Dataset({'psi':(('mode','tau','zeta','xi'),psi),\n",
    "                     'u':(('mode','tau','zeta','xi'),u),\n",
    "                     'w':(('mode','tau','zeta','xi'),w)},\n",
    "                    {'mode': np.arange(1,4), 'tau': tau, 'zeta':zeta, 'xi':xi})\n",
    "\n",
    "    print('Saving')\n",
    "    now = str(datetime.datetime.now())[0:-7]\n",
    "    now=now.replace('-', '').replace(':', '').replace(' ', '_')\n",
    "    ds.attrs['U'] = U\n",
    "    ds.attrs['L'] = L\n",
    "    ds.to_netcdf('../datasets/qian_{}.nc'.format(now),\n",
    "                 encoding={'psi':{'zlib':True, 'complevel':9},\n",
    "                           'u':{'zlib':True, 'complevel':9},\n",
    "                           'w':{'zlib':True, 'complevel':9}})\n",
    "    \n",
    "    for var in ['psi', 'u', 'w', 'xi', 'zeta', 'tau']:\n",
    "        ds[var].attrs['units'] = '-'\n",
    "    \n",
    "    return ds\n",
    "\n",
    "@jit(parallel=True)\n",
    "def integrate_qian(xi,zeta,tau,s,alpha,U,L):\n",
    "    \n",
    "    psi = np.zeros((3, tau.size, zeta.size, xi.size), dtype=np.complex64) \n",
    "    u = np.zeros((3, tau.size, zeta.size, xi.size), dtype=np.complex64) \n",
    "    w = np.zeros((3, tau.size, zeta.size, xi.size), dtype=np.complex64)\n",
    "    \n",
    "    # Define alternative domains\n",
    "    theta = calc_theta(s,alpha=3)\n",
    "    \n",
    "    k_3 = calc_k_3(theta,U)\n",
    "    k0_3 = calc_k_3(0,U)\n",
    "    \n",
    "    k_2 = calc_k_2(theta,U)\n",
    "    k0_2 = calc_k_2(0,U)\n",
    "    \n",
    "    # Don't need to worry about waves 2*pi/0.05 > 125 or < 0.005\n",
    "    k_1 = np.linspace(0.2,1500,s.size)\n",
    "    \n",
    "    # Perform numerical integration\n",
    "    for i in prange(xi.size):\n",
    "        for j in range(zeta.size):\n",
    "            for l in range(tau.size):\n",
    "                                                \n",
    "                # Calc psi1\n",
    "                psi1_ig = calc_psi1(xi[i],zeta[j],tau[l],k_1,U,L)\n",
    "                psi[0][l,j,i] = np.trapz(k_1,psi1_ig)\n",
    "                \n",
    "#                 pdb.set_trace()\n",
    "                \n",
    "                # Calc psi2\n",
    "                psi2a_ig = calc_psi2a(xi[i],zeta[j],tau[l],s,alpha,U,L)\n",
    "                psi2b_ig = calc_psi2b(xi[i],zeta[j],tau[l],s,alpha,U,L)\n",
    "                \n",
    "                psi2ab = np.trapz(s, psi2a_ig+psi2b_ig)\n",
    "                \n",
    "                psi2c = (-1/(2*U)*np.exp(1j*zeta[j]/U)\n",
    "                         *calc_C2(xi[i],tau[l],k0_2,U,L)\n",
    "                         *calc_ep0(-1j*zeta[j]/U))\n",
    "                         \n",
    "                psi[1][l,j,i] = psi2ab+psi2c\n",
    "                \n",
    "                # Calc psi3\n",
    "                psi3a_ig = calc_psi3a(xi[i],zeta[j],tau[l],s,alpha,U,L)\n",
    "                psi3b_ig = calc_psi3b(xi[i],zeta[j],tau[l],s,alpha,U,L)\n",
    "                \n",
    "                psi3ab = np.trapz(s, psi3a_ig+psi3b_ig)\n",
    "                \n",
    "                psi3c = (-U/2*calc_C3(xi[i],tau[l],k0_3,U,L)\n",
    "                         *calc_ep0(1j*zeta[j]/U))\n",
    "                \n",
    "                psi[2][l,j,i] = psi3ab+psi3c\n",
    "                \n",
    "                \n",
    "                # Calc u1\n",
    "                u1_ig = calc_u1(xi[i],zeta[j],tau[l],k_1,U,L)\n",
    "                u[0][l,j,i] = np.trapz(k_1,u1_ig)\n",
    "                    \n",
    "                # Calc u2\n",
    "                u2a_ig = calc_u2a(xi[i],zeta[j],tau[l],s,alpha,U,L)\n",
    "                u2b_ig = calc_u2b(xi[i],zeta[j],tau[l],s,alpha,U,L)\n",
    "                \n",
    "                u2ab = np.trapz(s,u2a_ig+u2b_ig)\n",
    "                \n",
    "                u2c = (-1j*np.exp(1j*zeta[j]/U)/(2*U**2)\n",
    "                       *calc_C2(xi[i],tau[l],k0_2,U,L)\n",
    "                       *(calc_ep0(-1j*zeta[j]/U)\n",
    "                         -calc_exp1(1j*zeta[j]/U)))\n",
    "                       \n",
    "                u[1][l,j,i] = u2ab+u2c\n",
    "                \n",
    "                # Calc u3\n",
    "                u3a_ig = calc_u3a(xi[i],zeta[j],tau[l],s,alpha,U,L)\n",
    "                u3b_ig = calc_u3b(xi[i],zeta[j],tau[l],s,alpha,U,L)\n",
    "                \n",
    "                u3ab = np.trapz(s,u3a_ig+u3b_ig)\n",
    "\n",
    "                u3c = (-1j/(2*np.pi)\n",
    "                       *calc_C3(xi[i],tau[l],k0_3,U,L)\n",
    "                       *calc_exp1(-1j*zeta[j]/U))              \n",
    "\n",
    "                u[2][l,j,i] = u3ab+u3c\n",
    "                                \n",
    "                # Calc w1\n",
    "                w1_ig = psi1_ig*1j*k_1\n",
    "                w[0][l,j,i] = np.trapz(k_1,w1_ig)\n",
    "                \n",
    "                # Calc w2\n",
    "                w2ab = np.trapz(s, 1j*(1-np.sin(theta))/U*(psi2a_ig+psi2b_ig))\n",
    "                w2c = (-1j/(2*U**2)*np.exp(1j*zeta[j]/U)\n",
    "                       *calc_C2(xi[i],tau[l],k0_2,U,L)\n",
    "                       *(calc_ep0(-1j*zeta[j]/U)-calc_ep1(-1j*zeta[j]/U)))\n",
    "                \n",
    "                w[1][l,j,i] = w2ab+w2c\n",
    "                \n",
    "                # Calc w3\n",
    "                w3ab = np.trapz(s, 1j*(1-np.sin(theta))/U*(psi3a_ig+psi3b_ig))\n",
    "                w3c = (-1j/2*calc_C3(xi[i],tau[l],k0_3,U,L)\n",
    "                       *(calc_ep0(1j*zeta[j]/U)-calc_ep1(1j*zeta[j]/U)))\n",
    "                \n",
    "                w[2][l,j,i] = w3ab+w3c\n",
    "\n",
    "    psi = np.real(psi)\n",
    "    u = np.real(u)\n",
    "    w = -np.real(w)\n",
    "    return psi, u, w\n",
    "\n",
    "@jit(parallel=True)\n",
    "def calc_exp1(z,n=100):\n",
    "#     s = np.float64(0)\n",
    "#     for i in np.arange(1,n):\n",
    "#         i_f = np.float64(i)\n",
    "#         s += (-z)**i_f/(i_f*np.math.factorial(i_f)) \n",
    "#     return -np.euler_gamma-np.log(z)-s\n",
    "    return exp1(z)\n",
    "\n",
    "# @jit(parallel=True)\n",
    "# def calc_exp1_alt(z,n=100):\n",
    "#     s = np.float64(0)\n",
    "#     for i in np.arange(0,n):\n",
    "#         i_f = np.float64(i)\n",
    "#         s += np.exp(-z)/z*np.math.factorial(i_f)/(-z)**i_f\n",
    "#     return s\n",
    "\n",
    "@jit(parallel=True)\n",
    "def calc_ep0(z):\n",
    "    # Note this formula only applies if Re(z)>=0!\n",
    "    return np.exp(z) + z*calc_exp1(-z)\n",
    "\n",
    "@jit(parallel=True)\n",
    "def calc_ep1(z):\n",
    "    return (np.exp(z) + z*calc_ep0(z))/2\n",
    "                           \n",
    "@jit(parallel=True)\n",
    "def calc_psi1(xi,zeta,tau,k,U,L):\n",
    "    m=k/(1+k*U)\n",
    "    psi1 = (-(1/2)*np.exp(-k*L)/(k**2+(1+k*U)**2)\n",
    "            *(np.exp(1j*m*zeta)-np.exp(-zeta))\n",
    "            *np.exp(1j*(k*xi+tau)))\n",
    "    return psi1\n",
    "\n",
    "@jit(parallel=True)\n",
    "def calc_psi2a(xi,zeta,tau,s,alpha,U,L):\n",
    "    theta = calc_theta(s,alpha)\n",
    "    k = calc_k_2(theta,U)\n",
    "    # Note only difference between u2a is sign\n",
    "    psi2a = (1/(2*U)*calc_C2(xi,tau,k,U,L)*np.exp(-zeta)*np.cos(theta)\n",
    "             *alpha*s**(alpha-1)*np.pi/2)\n",
    "    return psi2a\n",
    "\n",
    "@jit(parallel=True)\n",
    "def calc_psi2b(xi,zeta,tau,s,alpha,U,L):\n",
    "    theta = calc_theta(s, alpha=alpha)\n",
    "    k = calc_k_2(theta,U)\n",
    "    k0 = calc_k_2(0,U)\n",
    "    psi2b = (-1/(2*U)*np.exp(1j*zeta/U)\n",
    "             *(calc_C2(xi,tau,k,U,L)-calc_C2(xi,tau,k0,U,L))\n",
    "             *np.exp(-1j*zeta/(U*np.sin(theta)))*np.cos(theta)\n",
    "             *alpha*s**(alpha-1)*np.pi/2)\n",
    "    return psi2b\n",
    "\n",
    "@jit(parallel=True)\n",
    "def calc_psi3a(xi,zeta,tau,s,alpha,U,L):\n",
    "    theta = calc_theta(s, alpha)\n",
    "    k = calc_k_3(theta,U)\n",
    "    psi3a = (U/2*calc_C3(xi,tau,k,U,L)*np.exp(-zeta)*np.cos(theta)\n",
    "             *alpha*s**(alpha-1)*np.pi/2)\n",
    "    return psi3a\n",
    "\n",
    "@jit(parallel=True)\n",
    "def calc_psi3b(xi,zeta,tau,s,alpha,U,L):\n",
    "    theta = calc_theta(s, alpha=alpha)\n",
    "    k = calc_k_3(theta,U)\n",
    "    k0 = calc_k_3(0,U)\n",
    "    psi3b = (-U/2*(calc_C3(xi,tau,k,U,L)-calc_C3(xi,tau,k0,U,L))\n",
    "             *np.exp(1j*zeta/(U*np.sin(theta)))*np.cos(theta)\n",
    "             *alpha*s**(alpha-1)*np.pi/2)\n",
    "    return psi3b\n",
    "    \n",
    "@jit(parallel=True)\n",
    "def calc_u1(xi,zeta,tau,k,U,L):\n",
    "    m=k/(1+k*U)\n",
    "    u1 = (-(1/2)*np.exp(-k*L)/(k**2+(1+k*U)**2)\n",
    "          *(1j*m*np.exp(1j*m*zeta)+np.exp(-zeta))\n",
    "          *np.exp(1j*(k*xi+tau)))\n",
    "    return u1\n",
    "    \n",
    "@jit(parallel=True)\n",
    "def calc_u2a(xi,zeta,tau,s,alpha,U,L):\n",
    "    theta = calc_theta(s,alpha=alpha)\n",
    "    k = calc_k_2(theta,U)\n",
    "    u2a = (-1/(2*U)*calc_C2(xi,tau,k,U,L)*np.exp(-zeta)*np.cos(theta)\n",
    "           *alpha*s**(alpha-1)*np.pi/2)\n",
    "    return u2a\n",
    "\n",
    "@jit(parallel=True)\n",
    "def calc_u2b(xi,zeta,tau,s,alpha,U,L):\n",
    "    theta = calc_theta(s, alpha=alpha)\n",
    "    k = calc_k_2(theta,U)\n",
    "    k_0 = calc_k_2(0,U)\n",
    "    u2b = (-1j/(2*U**2)*np.exp(1j*zeta/U)\n",
    "           *(calc_C2(xi,tau,k,U,L)-calc_C2(xi,tau,k_0,U,L))\n",
    "           *np.exp(-1j*zeta/(np.sin(theta)*U))*np.cos(theta)\n",
    "           *alpha*s**(alpha-1)*np.pi/2\n",
    "           +1j/(2*U**2)*np.exp(1j*zeta/U)\n",
    "           *(calc_C2(xi,tau,k,U,L)-calc_C2(xi,tau,k_0,U,L))\n",
    "           *np.exp(-1j*zeta/(np.sin(theta)*U))*np.cos(theta)/np.sin(theta)\n",
    "           *alpha*s**(alpha-1)*np.pi/2)\n",
    "    return u2b\n",
    "    \n",
    "@jit(parallel=True)\n",
    "def calc_u3a(xi,zeta,tau,s,alpha,U,L):\n",
    "    theta = calc_theta(s, alpha)\n",
    "    k = calc_k_3(theta,U)\n",
    "    u3a = (-U/(2*np.pi)*calc_C3(xi,tau,k,U,L)\n",
    "           *np.exp(-zeta)*np.cos(theta)*alpha*s**(alpha-1)*np.pi/2)\n",
    "    return u3a\n",
    "\n",
    "@jit(parallel=True)\n",
    "def calc_u3b(xi,zeta,tau,s,alpha,U,L):\n",
    "    theta = calc_theta(s, alpha=alpha)\n",
    "    k = calc_k_3(theta,U)\n",
    "    k_0 = calc_k_3(0,U)\n",
    "    u3b = (-1j/(2*np.pi)*(calc_C3(xi,tau,k,U,L)-calc_C3(xi,tau,k_0,U,L))\n",
    "           *np.exp(1j*zeta/(U*np.sin(theta)))*(1/np.tan(theta))\n",
    "           *alpha*s**(alpha-1)*np.pi/2)\n",
    "    return u3b         \n",
    "    \n",
    "@jit(parallel=True)\n",
    "def calc_C2(xi,tau,k,U,L):\n",
    "    C2 = np.exp(-k*L)*np.exp(1j*(k*xi-tau))/(k**2+(U*k-1)**2)\n",
    "    return C2\n",
    "\n",
    "@jit(parallel=True)\n",
    "def calc_C3(xi,tau,k,U,L):\n",
    "    C3 = k**2*np.exp(-k*L)*np.exp(1j*(k*xi-tau))/(k**2+(U*k-1)**2)\n",
    "    return C3\n",
    "\n",
    "@jit(parallel=True)\n",
    "def calc_theta(s,alpha=3):\n",
    "    theta = (np.pi/2)*s**alpha\n",
    "    return theta\n",
    "    \n",
    "@jit(parallel=True)\n",
    "def calc_k_3(theta,U):\n",
    "    k = 1/(U*(1-np.sin(theta)))\n",
    "    return k\n",
    "\n",
    "@jit(parallel=True)\n",
    "def calc_k_2(theta,U):\n",
    "    k = (1-np.sin(theta))/U\n",
    "    return k"
   ]
  },
  {
   "cell_type": "code",
   "execution_count": 260,
   "metadata": {
    "ExecuteTime": {
     "end_time": "2019-11-19T06:22:09.574134Z",
     "start_time": "2019-11-19T06:21:30.526211Z"
    }
   },
   "outputs": [
    {
     "name": "stdout",
     "output_type": "stream",
     "text": [
      "Initialising\n",
      "Integrating\n",
      "Saving\n"
     ]
    }
   ],
   "source": [
    "ds = solve_qian(xiN=41, zetaN=21, tauN=16, sN=2000, U=.625, L=0.1)"
   ]
  },
  {
   "cell_type": "code",
   "execution_count": 261,
   "metadata": {
    "ExecuteTime": {
     "end_time": "2019-11-19T06:22:09.591378Z",
     "start_time": "2019-11-19T06:22:09.576262Z"
    }
   },
   "outputs": [
    {
     "data": {
      "text/plain": [
       "<xarray.Dataset>\n",
       "Dimensions:  (mode: 3, tau: 16, xi: 41, zeta: 21)\n",
       "Coordinates:\n",
       "  * mode     (mode) int64 1 2 3\n",
       "  * tau      (tau) float64 0.0 0.3927 0.7854 1.178 ... 4.712 5.105 5.498 5.89\n",
       "  * zeta     (zeta) float64 0.4762 0.9524 1.429 1.905 ... 8.571 9.048 9.524 10.0\n",
       "  * xi       (xi) float64 -6.0 -5.7 -5.4 -5.1 -4.8 -4.5 ... 4.8 5.1 5.4 5.7 6.0\n",
       "Data variables:\n",
       "    psi      (mode, tau, zeta, xi) float32 0.04512498 0.04234324 ... 0.03080016\n",
       "    u        (mode, tau, zeta, xi) float32 0.07095631 ... -0.010504975\n",
       "    w        (mode, tau, zeta, xi) float32 0.010494804 ... 0.017598355\n",
       "Attributes:\n",
       "    U:        0.625\n",
       "    L:        0.1"
      ]
     },
     "execution_count": 261,
     "metadata": {},
     "output_type": "execute_result"
    }
   ],
   "source": [
    "ds"
   ]
  },
  {
   "cell_type": "code",
   "execution_count": 262,
   "metadata": {
    "ExecuteTime": {
     "end_time": "2019-11-19T06:22:09.647966Z",
     "start_time": "2019-11-19T06:22:09.593422Z"
    }
   },
   "outputs": [
    {
     "data": {
      "text/plain": [
       "<xarray.Dataset>\n",
       "Dimensions:  ()\n",
       "Data variables:\n",
       "    psi      float64 0.9158\n",
       "    u        float64 1.418\n",
       "    w        float64 0.5122"
      ]
     },
     "execution_count": 262,
     "metadata": {},
     "output_type": "execute_result"
    }
   ],
   "source": [
    "ds.sum(dim='mode').max()"
   ]
  },
  {
   "cell_type": "code",
   "execution_count": 263,
   "metadata": {
    "ExecuteTime": {
     "end_time": "2019-11-19T06:22:09.902292Z",
     "start_time": "2019-11-19T06:22:09.650573Z"
    }
   },
   "outputs": [
    {
     "data": {
      "text/plain": [
       "<matplotlib.colorbar.Colorbar at 0x7fdb4a76f198>"
      ]
     },
     "execution_count": 263,
     "metadata": {},
     "output_type": "execute_result"
    },
    {
     "data": {
      "image/png": "[encoded data removed]",
      "text/plain": [
       "<Figure size 1008x720 with 2 Axes>"
      ]
     },
     "metadata": {},
     "output_type": "display_data"
    }
   ],
   "source": [
    "plt.figure(figsize=(14,10))\n",
    "plt.contourf(ds.xi, ds.zeta, ds.w.sel(mode=1)[4], levels=np.arange(-.2,.2+0.02,0.04), cmap='RdBu_r')\n",
    "# plt.clim([-1.5,1.5])\n",
    "plt.colorbar()"
   ]
  },
  {
   "cell_type": "code",
   "execution_count": 142,
   "metadata": {
    "ExecuteTime": {
     "end_time": "2019-11-17T10:40:22.296395Z",
     "start_time": "2019-11-17T10:40:22.283241Z"
    }
   },
   "outputs": [],
   "source": [
    "ds = xr.open_dataset('../datasets/qian_20191117_200602.nc')"
   ]
  },
  {
   "cell_type": "code",
   "execution_count": 405,
   "metadata": {
    "ExecuteTime": {
     "end_time": "2019-11-17T13:46:05.710842Z",
     "start_time": "2019-11-17T13:46:02.706137Z"
    }
   },
   "outputs": [
    {
     "name": "stdout",
     "output_type": "stream",
     "text": [
      "Animating stream function.\n",
      "timestep 0\n",
      "timestep 0\n",
      "timestep 1\n",
      "timestep 2\n",
      "timestep 3\n",
      "timestep 4\n",
      "timestep 5\n",
      "timestep 6\n",
      "timestep 7\n",
      "timestep 8\n",
      "timestep 9\n",
      "timestep 10\n",
      "timestep 11\n",
      "timestep 12\n",
      "timestep 13\n",
      "timestep 14\n",
      "timestep 15\n"
     ]
    }
   ],
   "source": [
    "rt.animatePsi(ds.sum(dim='mode', keep_attrs=True).squeeze())"
   ]
  },
  {
   "cell_type": "code",
   "execution_count": 426,
   "metadata": {
    "ExecuteTime": {
     "end_time": "2019-11-17T14:06:06.062248Z",
     "start_time": "2019-11-17T14:06:01.755862Z"
    }
   },
   "outputs": [
    {
     "name": "stdout",
     "output_type": "stream",
     "text": [
      "Animating velocity field.\n",
      "timestep 0\n",
      "timestep 0\n",
      "timestep 1\n",
      "timestep 2\n",
      "timestep 3\n",
      "timestep 4\n",
      "timestep 5\n",
      "timestep 6\n",
      "timestep 7\n",
      "timestep 8\n",
      "timestep 9\n",
      "timestep 10\n",
      "timestep 11\n",
      "timestep 12\n",
      "timestep 13\n",
      "timestep 14\n",
      "timestep 15\n",
      "timestep 16\n",
      "timestep 17\n",
      "timestep 18\n",
      "timestep 19\n",
      "timestep 20\n",
      "timestep 21\n",
      "timestep 22\n",
      "timestep 23\n",
      "timestep 24\n",
      "timestep 25\n",
      "timestep 26\n",
      "timestep 27\n",
      "timestep 28\n",
      "timestep 29\n",
      "timestep 30\n",
      "timestep 31\n"
     ]
    }
   ],
   "source": [
    "rt.animateVelocity(ds.sum(dim='mode', keep_attrs=True).squeeze())"
   ]
  },
  {
   "cell_type": "code",
   "execution_count": 421,
   "metadata": {
    "ExecuteTime": {
     "end_time": "2019-11-17T14:00:12.193266Z",
     "start_time": "2019-11-17T14:00:07.623445Z"
    }
   },
   "outputs": [
    {
     "name": "stdout",
     "output_type": "stream",
     "text": [
      "Animating velocity field.\n",
      "timestep 0\n",
      "timestep 0\n",
      "timestep 1\n",
      "timestep 2\n",
      "timestep 3\n",
      "timestep 4\n",
      "timestep 5\n",
      "timestep 6\n",
      "timestep 7\n",
      "timestep 8\n",
      "timestep 9\n",
      "timestep 10\n",
      "timestep 11\n",
      "timestep 12\n",
      "timestep 13\n",
      "timestep 14\n",
      "timestep 15\n",
      "timestep 16\n",
      "timestep 17\n",
      "timestep 18\n",
      "timestep 19\n",
      "timestep 20\n",
      "timestep 21\n",
      "timestep 22\n",
      "timestep 23\n",
      "timestep 24\n",
      "timestep 25\n",
      "timestep 26\n",
      "timestep 27\n",
      "timestep 28\n",
      "timestep 29\n",
      "timestep 30\n",
      "timestep 31\n"
     ]
    }
   ],
   "source": [
    "rt.animateVelocity(ds.sel(mode=2).squeeze())"
   ]
  },
  {
   "cell_type": "code",
   "execution_count": 168,
   "metadata": {
    "ExecuteTime": {
     "end_time": "2019-11-19T03:26:08.807878Z",
     "start_time": "2019-11-19T03:26:08.803979Z"
    }
   },
   "outputs": [
    {
     "data": {
      "text/plain": [
       "(inf+0j)"
      ]
     },
     "execution_count": 168,
     "metadata": {},
     "output_type": "execute_result"
    }
   ],
   "source": [
    "exp1(1j*0)"
   ]
  },
  {
   "cell_type": "code",
   "execution_count": null,
   "metadata": {},
   "outputs": [],
   "source": []
  }
 ],
 "metadata": {
  "kernelspec": {
   "display_name": "Python 3",
   "language": "python",
   "name": "python3"
  },
  "language_info": {
   "codemirror_mode": {
    "name": "ipython",
    "version": 3
   },
   "file_extension": ".py",
   "mimetype": "text/x-python",
   "name": "python",
   "nbconvert_exporter": "python",
   "pygments_lexer": "ipython3",
   "version": "3.6.5"
  },
  "toc": {
   "base_numbering": 1,
   "nav_menu": {},
   "number_sections": true,
   "sideBar": true,
   "skip_h1_title": false,
   "title_cell": "Table of Contents",
   "title_sidebar": "Contents",
   "toc_cell": false,
   "toc_position": {},
   "toc_section_display": true,
   "toc_window_display": false
  }
 },
 "nbformat": 4,
 "nbformat_minor": 2
}
