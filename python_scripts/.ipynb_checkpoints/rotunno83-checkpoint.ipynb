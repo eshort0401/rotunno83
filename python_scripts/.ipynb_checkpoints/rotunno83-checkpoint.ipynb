{
 "cells": [
  {
   "cell_type": "code",
   "execution_count": 45,
   "metadata": {
    "ExecuteTime": {
     "end_time": "2019-11-12T00:52:05.710905Z",
     "start_time": "2019-11-12T00:52:05.707739Z"
    }
   },
   "outputs": [],
   "source": [
    "import datetime\n",
    "\n",
    "from numba import jit\n",
    "from numba import int32\n",
    "\n",
    "import numpy as np\n",
    "import xarray as xr"
   ]
  },
  {
   "cell_type": "code",
   "execution_count": 66,
   "metadata": {
    "ExecuteTime": {
     "end_time": "2019-11-12T01:23:24.618389Z",
     "start_time": "2019-11-12T01:23:24.610908Z"
    }
   },
   "outputs": [],
   "source": [
    "def solve_rotunno_case_two(xin=161,zetaN=81,tauN=32,kN=21,\n",
    "                           xi0=0.2, latitude=5, h=1500, \n",
    "                           delTheta=6, theta0=300, theta1=350, \n",
    "                           tropHeight=12000):\n",
    "    \n",
    "    # Time interval\n",
    "    delTau = 2*np.pi/tauN\n",
    "\n",
    "    # Initialise solution arrays\n",
    "    psi = np.zeros((xiN,zetaN,tauN)) \n",
    "    u = np.zeros((xiN,zetaN,tauN))\n",
    "    v = np.zeros((xiN,zetaN,tauN))\n",
    "    w = np.zeros((xiN,zetaN,tauN))\n",
    "    b = np.zeros((xiN,zetaN,tauN))\n",
    "\n",
    "    # Initialise domains\n",
    "    xi = np.linspace(-2,2,xiN)\n",
    "    zeta = np.linspace(0,4,zetaN)\n",
    "    tau = np.arange(0,2*np.pi,delTau)\n",
    "    k = np.linspace(0,20,kN)\n",
    "\n",
    "    # Define constants\n",
    "    omega = 7.2921159 * 10.0 ** (-5)\n",
    "    g = 9.80665\n",
    "\n",
    "    # Define parameters\n",
    "    xi0 = 0.2\n",
    "    latitude = 5.0\n",
    "    h = 1500\n",
    "    delTheta = 6.0 # Daily change in potential temperature\n",
    "    theta0 = 300.0\n",
    "    theta1 = 350.0\n",
    "    tropHeight = 12000.0\n",
    "\n",
    "    # Calculate nondimensional model parameters from inputs\n",
    "    f = 2.0*omega*np.sin(latitude * np.pi / 180.0)\n",
    "    N = np.sqrt((g/theta0)*(theta1-theta0)/tropHeight) # Brunt Vaisala Frequency\n",
    "    beta = omega**2/(N*np.sqrt(omega**2-f**2))\n",
    "    Atilde = .5*delTheta*(g/(np.pi*theta0))*h**(-1)*omega**(-3)/(12*60*60)\n",
    "    \n",
    "    psi, u, w = integrate_case_two(xi,zeta,tau,k,xi0,beta,Atilde)\n",
    "    \n",
    "    ds = xr.Dataset({'psi':(('tau','zeta','xi'),psi), \n",
    "                     'u':(('tau','zeta','xi'),u), \n",
    "                     'w':(('tau','zeta','xi'),w)},\n",
    "                    {'tau': tau, 'zeta':zeta, 'xi':xi},\n",
    "                    {'xi0':xi0, 'latitude':latitude, 'h':h, \n",
    "                     'delTheta':delTheta, 'theta0':theta0,\n",
    "                     'theta1':theta1, 'tropHeight':tropHeight})\n",
    "    \n",
    "    now = str(datetime.datetime.now())[0:-7]\n",
    "    now=now.replace('-', '').replace(':', '').replace(' ', '_')\n",
    "    ds.to_netcdf('../datasets/rotunno_case_2_{}.nc'.format(now))"
   ]
  },
  {
   "cell_type": "code",
   "execution_count": 67,
   "metadata": {
    "ExecuteTime": {
     "end_time": "2019-11-12T01:26:21.934884Z",
     "start_time": "2019-11-12T01:26:21.924485Z"
    }
   },
   "outputs": [],
   "source": [
    "@jit()\n",
    "def integrate_case_two(xi,zeta,tau,k,xi0,beta,Atilde):\n",
    "    psi = np.zeros((tau.size, zeta.size, xi.size))\n",
    "    u = np.zeros((tau.size, zeta.size, xi.size))\n",
    "    w = np.zeros((tau.size, zeta.size, xi.size))\n",
    "    psi_integrand = np.zeros(k.size)\n",
    "    u_integrand = np.zeros(k.size)\n",
    "    w_integrand = np.zeros(k.size)\n",
    "    # Perform numerical integration\n",
    "    for i in range(xi.size):\n",
    "        for j in range(zeta.size):\n",
    "            for l in range(tau.size):\n",
    "                for m in range(k.size):\n",
    "                    psi_integrand[m] = (np.cos(k[m]*xi[i])\n",
    "                                        *np.exp(-xi0*k[m])\n",
    "                                        *(np.sin(k[m]*zeta[j]+tau[l])\n",
    "                                          -np.exp(-zeta[j])*np.sin(tau[l]))\n",
    "                                        /(1+k[m]**2))\n",
    "                    u_integrand[m] = (k[m]*np.sin(k[m]*xi[i])\n",
    "                                      *np.exp(-xi0*k[m])\n",
    "                                      *(np.sin(k[m]*zeta[j]+tau[l])\n",
    "                                        -np.exp(-zeta[j])*np.sin(tau[l]))\n",
    "                                      /(1+k[m]**2))\n",
    "                    w_integrand[m] = (np.cos(k[m]*xi[i])\n",
    "                                      *np.exp(-xi0*k[m])\n",
    "                                      *(k[m]*np.cos(k[m]*zeta[j]+tau[l])\n",
    "                                        +np.exp(-zeta[j])*np.sin(tau[l]))\n",
    "                                      /(1+k[m]**2))\n",
    "                    \n",
    "                psi[l,j,i] = np.trapz(k,psi_integrand)\n",
    "                u[l,j,i] = np.trapz(k,u_integrand)\n",
    "                w[l,j,i] = np.trapz(k,w_integrand)\n",
    "    # Scale\n",
    "    psi = -beta * Atilde * psi\n",
    "    u = -beta * Atilde * u\n",
    "    w = -beta * Atilde * w\n",
    "    return psi, u, w"
   ]
  }
 ],
 "metadata": {
  "kernelspec": {
   "display_name": "Python 3",
   "language": "python",
   "name": "python3"
  },
  "language_info": {
   "codemirror_mode": {
    "name": "ipython",
    "version": 3
   },
   "file_extension": ".py",
   "mimetype": "text/x-python",
   "name": "python",
   "nbconvert_exporter": "python",
   "pygments_lexer": "ipython3",
   "version": "3.6.5"
  },
  "toc": {
   "base_numbering": 1,
   "nav_menu": {},
   "number_sections": true,
   "sideBar": true,
   "skip_h1_title": false,
   "title_cell": "Table of Contents",
   "title_sidebar": "Contents",
   "toc_cell": false,
   "toc_position": {},
   "toc_section_display": true,
   "toc_window_display": false
  }
 },
 "nbformat": 4,
 "nbformat_minor": 2
}
