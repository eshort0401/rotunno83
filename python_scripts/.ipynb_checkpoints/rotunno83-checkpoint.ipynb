{
 "cells": [
  {
   "cell_type": "code",
   "execution_count": 299,
   "metadata": {
    "ExecuteTime": {
     "end_time": "2019-11-20T02:10:41.060104Z",
     "start_time": "2019-11-20T02:10:40.883085Z"
    }
   },
   "outputs": [],
   "source": [
    "import datetime\n",
    "\n",
    "from numba import jit, njit, prange\n",
    "from numba import int32\n",
    "\n",
    "import numpy as np\n",
    "import xarray as xr\n",
    "\n",
    "import sys, pdb, traceback\n",
    "\n",
    "import matplotlib.pyplot as plt\n",
    "\n",
    "import rotunno as rt\n",
    "\n",
    "from scipy.special import exp1"
   ]
  },
  {
   "cell_type": "code",
   "execution_count": 308,
   "metadata": {
    "ExecuteTime": {
     "end_time": "2019-11-20T02:13:18.446740Z",
     "start_time": "2019-11-20T02:13:18.438688Z"
    }
   },
   "outputs": [
    {
     "name": "stdout",
     "output_type": "stream",
     "text": [
      "The autoreload extension is already loaded. To reload it, use:\n",
      "  %reload_ext autoreload\n"
     ]
    }
   ],
   "source": [
    "# Convenience functions\n",
    "%load_ext autoreload\n",
    "%autoreload 1\n",
    "%aimport rotunno"
   ]
  },
  {
   "cell_type": "code",
   "execution_count": 430,
   "metadata": {
    "ExecuteTime": {
     "end_time": "2019-11-20T07:37:58.546057Z",
     "start_time": "2019-11-20T07:37:58.539846Z"
    }
   },
   "outputs": [
    {
     "data": {
      "text/plain": [
       "(114.55203898480076-1.5707963267948966j)"
      ]
     },
     "execution_count": 430,
     "metadata": {},
     "output_type": "execute_result"
    }
   ],
   "source": []
  },
  {
   "cell_type": "code",
   "execution_count": 547,
   "metadata": {
    "ExecuteTime": {
     "end_time": "2019-11-20T08:54:27.470156Z",
     "start_time": "2019-11-20T08:54:27.455788Z"
    }
   },
   "outputs": [],
   "source": [
    "def solve_qian(xiN=241,zetaN=121,tauN=32,sN=2000,alpha=3,U=0.625,L=0.1):\n",
    "\n",
    "    print('Initialising')\n",
    "\n",
    "    # Time interval\n",
    "    delTau = 2*np.pi/tauN\n",
    "    delS = 1/sN\n",
    "    delZeta = 10/zetaN\n",
    "    \n",
    "    # Initialise solution arrays\n",
    "    psi = np.zeros((xiN,zetaN,tauN), dtype=np.complex64)\n",
    "    u = np.zeros((xiN,zetaN,tauN), dtype=np.complex64)\n",
    "    w = np.zeros((xiN,zetaN,tauN), dtype=np.complex64)\n",
    "\n",
    "    # Initialise domains\n",
    "    xi = np.linspace(-6,6,xiN, dtype=np.float64)\n",
    "    # Dont start at zero as exponential integral not defined there\n",
    "    zeta = np.arange(0,10+delZeta,delZeta, dtype=np.float64)\n",
    "    tau = np.arange(0,2*np.pi,delTau, dtype=np.float64)\n",
    "    s = np.arange(delS,1,delS, dtype=np.float64)\n",
    "\n",
    "    print('Integrating')\n",
    "    psi, u, w = integrate_qian(xi,zeta,tau,s,alpha,U,L)\n",
    "\n",
    "    ds = xr.Dataset({'psi':(('mode','tau','zeta','xi'),psi),\n",
    "                     'u':(('mode','tau','zeta','xi'),u),\n",
    "                     'w':(('mode','tau','zeta','xi'),w)},\n",
    "                    {'mode': np.arange(1,4), 'tau': tau, 'zeta':zeta, 'xi':xi})\n",
    "\n",
    "    print('Saving')\n",
    "    now = str(datetime.datetime.now())[0:-7]\n",
    "    now=now.replace('-', '').replace(':', '').replace(' ', '_')\n",
    "    ds.attrs['U'] = U\n",
    "    ds.attrs['L'] = L\n",
    "    ds.to_netcdf('../datasets/qian_{}.nc'.format(now),\n",
    "                 encoding={'psi':{'zlib':True, 'complevel':9},\n",
    "                           'u':{'zlib':True, 'complevel':9},\n",
    "                           'w':{'zlib':True, 'complevel':9}})\n",
    "    \n",
    "    for var in ['psi', 'u', 'w', 'xi', 'zeta', 'tau']:\n",
    "        ds[var].attrs['units'] = '-'\n",
    "    \n",
    "    return ds\n"
   ]
  },
  {
   "cell_type": "code",
   "execution_count": 524,
   "metadata": {
    "ExecuteTime": {
     "end_time": "2019-11-20T08:34:08.745328Z",
     "start_time": "2019-11-20T08:34:08.729361Z"
    }
   },
   "outputs": [
    {
     "ename": "TypeError",
     "evalue": "too many arguments: expected 6, got 7",
     "output_type": "error",
     "traceback": [
      "\u001b[0;31m---------------------------------------------------------------------------\u001b[0m",
      "\u001b[0;31mTypeError\u001b[0m                                 Traceback (most recent call last)",
      "\u001b[0;32m<ipython-input-524-0b269e155a18>\u001b[0m in \u001b[0;36m<module>\u001b[0;34m()\u001b[0m\n\u001b[1;32m      7\u001b[0m \u001b[0mk0\u001b[0m \u001b[0;34m=\u001b[0m \u001b[0mcalc_k_2\u001b[0m\u001b[0;34m(\u001b[0m\u001b[0;36m0\u001b[0m\u001b[0;34m,\u001b[0m \u001b[0mU\u001b[0m\u001b[0;34m=\u001b[0m\u001b[0;36m0.625\u001b[0m\u001b[0;34m)\u001b[0m\u001b[0;34m\u001b[0m\u001b[0m\n\u001b[1;32m      8\u001b[0m \u001b[0;31m# plt.plot(calc_C2(-1,1,k,0.625,0.1)*(1/np.sin(theta)))\u001b[0m\u001b[0;34m\u001b[0m\u001b[0;34m\u001b[0m\u001b[0m\n\u001b[0;32m----> 9\u001b[0;31m \u001b[0mnp\u001b[0m\u001b[0;34m.\u001b[0m\u001b[0mtrapz\u001b[0m\u001b[0;34m(\u001b[0m\u001b[0mcalc_u2a\u001b[0m\u001b[0;34m(\u001b[0m\u001b[0;36m1\u001b[0m\u001b[0;34m,\u001b[0m\u001b[0;36m0\u001b[0m\u001b[0;34m,\u001b[0m\u001b[0;36m1\u001b[0m\u001b[0;34m,\u001b[0m\u001b[0ms\u001b[0m\u001b[0;34m,\u001b[0m\u001b[0malpha\u001b[0m\u001b[0;34m,\u001b[0m\u001b[0mU\u001b[0m\u001b[0;34m,\u001b[0m\u001b[0mL\u001b[0m\u001b[0;34m)\u001b[0m\u001b[0;34m+\u001b[0m\u001b[0mcalc_u2b_z0\u001b[0m\u001b[0;34m(\u001b[0m\u001b[0;36m1\u001b[0m\u001b[0;34m,\u001b[0m\u001b[0;36m0\u001b[0m\u001b[0;34m,\u001b[0m\u001b[0;36m1\u001b[0m\u001b[0;34m,\u001b[0m\u001b[0ms\u001b[0m\u001b[0;34m,\u001b[0m\u001b[0malpha\u001b[0m\u001b[0;34m,\u001b[0m\u001b[0mU\u001b[0m\u001b[0;34m,\u001b[0m\u001b[0mL\u001b[0m\u001b[0;34m)\u001b[0m\u001b[0;34m,\u001b[0m\u001b[0ms\u001b[0m\u001b[0;34m)\u001b[0m\u001b[0;34m\u001b[0m\u001b[0m\n\u001b[0m",
      "\u001b[0;31mTypeError\u001b[0m: too many arguments: expected 6, got 7"
     ]
    }
   ],
   "source": [
    "alpha=3\n",
    "U=0.625\n",
    "L=0.1\n",
    "s=np.arange(1/10000,1,1/10000)\n",
    "theta = calc_theta(s,alpha=3)\n",
    "k = calc_k_2(theta, U=0.625)\n",
    "k0 = calc_k_2(0, U=0.625)\n",
    "# plt.plot(calc_C2(-1,1,k,0.625,0.1)*(1/np.sin(theta)))\n",
    "np.trapz(calc_u2a(1,0,1,s,alpha,U,L)+calc_u2b_z0(1,0,1,s,alpha,U,L),s)"
   ]
  },
  {
   "cell_type": "code",
   "execution_count": null,
   "metadata": {},
   "outputs": [],
   "source": []
  },
  {
   "cell_type": "code",
   "execution_count": 548,
   "metadata": {
    "ExecuteTime": {
     "end_time": "2019-11-20T08:54:32.181899Z",
     "start_time": "2019-11-20T08:54:32.141454Z"
    }
   },
   "outputs": [],
   "source": [
    "# psi functions\n",
    "@jit(parallel=True)\n",
    "def calc_psi1(xi,zeta,tau,k,U,L):\n",
    "    m=k/(1+k*U)\n",
    "    psi1 = (-(1/2)*np.exp(-k*L)/(k**2+(1+k*U)**2)\n",
    "            *(np.exp(1j*m*zeta)-np.exp(-zeta))\n",
    "            *np.exp(1j*(k*xi+tau)))\n",
    "    return psi1\n",
    "\n",
    "@jit(parallel=True)\n",
    "def calc_psi2a(xi,zeta,tau,s,alpha,U,L):\n",
    "    theta = calc_theta(s,alpha)\n",
    "    k = calc_k_2(theta,U)\n",
    "    # Note only difference between u2a is sign\n",
    "    psi2a = (1/(2*U)*calc_C2(xi,tau,k,U,L)*np.exp(-zeta)*np.cos(theta)\n",
    "             *alpha*s**(alpha-1)*np.pi/2)\n",
    "    return psi2a\n",
    "\n",
    "@jit(parallel=True)\n",
    "def calc_psi2b(xi,zeta,tau,s,alpha,U,L):\n",
    "    theta = calc_theta(s, alpha=alpha)\n",
    "    k = calc_k_2(theta,U)\n",
    "    k0 = calc_k_2(0,U)\n",
    "    psi2b = (-1/(2*U)*np.exp(1j*zeta/U)\n",
    "             *(calc_C2(xi,tau,k,U,L)-calc_C2(xi,tau,k0,U,L))\n",
    "             *np.exp(-1j*zeta/(U*np.sin(theta)))*np.cos(theta)\n",
    "             *alpha*s**(alpha-1)*np.pi/2)\n",
    "    return psi2b\n",
    "\n",
    "@jit(parallel=True)\n",
    "def calc_psi3a(xi,zeta,tau,s,alpha,U,L):\n",
    "    theta = calc_theta(s, alpha)\n",
    "    k = calc_k_3(theta,U)\n",
    "    psi3a = (U/2*calc_C3(xi,tau,k,U,L)*np.exp(-zeta)*np.cos(theta)\n",
    "             *alpha*s**(alpha-1)*np.pi/2)\n",
    "    return psi3a\n",
    "\n",
    "@jit(parallel=True)\n",
    "def calc_psi3b(xi,zeta,tau,s,alpha,U,L):\n",
    "    theta = calc_theta(s, alpha=alpha)\n",
    "    k = calc_k_3(theta,U)\n",
    "    k0 = calc_k_3(0,U)\n",
    "    psi3b = (-U/2*(calc_C3(xi,tau,k,U,L)-calc_C3(xi,tau,k0,U,L))\n",
    "             *np.exp(1j*zeta/(U*np.sin(theta)))*np.cos(theta)\n",
    "             *alpha*s**(alpha-1)*np.pi/2)\n",
    "    return psi3b\n",
    "\n",
    "# w functions\n",
    "@jit(parallel=True)\n",
    "def calc_w2b(xi,zeta,tau,s,alpha,U,L):\n",
    "    theta = calc_theta(s, alpha=alpha)\n",
    "    k = calc_k_2(theta,U)\n",
    "    k0 = calc_k_2(0,U)\n",
    "    w2b = (-1/(2*U)*np.exp(1j*zeta/U)\n",
    "             *(calc_C2x(xi,tau,k,U,L)-calc_C2x(xi,tau,k0,U,L))\n",
    "             *np.exp(-1j*zeta/(U*np.sin(theta)))*np.cos(theta)\n",
    "             *alpha*s**(alpha-1)*np.pi/2)\n",
    "    return w2b\n",
    "\n",
    "@jit(parallel=True)\n",
    "def calc_w3b(xi,zeta,tau,s,alpha,U,L):\n",
    "    theta = calc_theta(s, alpha=alpha)\n",
    "    k = calc_k_3(theta,U)\n",
    "    k0 = calc_k_3(0,U)\n",
    "    w3b = (-U/2*(calc_C3x(xi,tau,k,U,L)-calc_C3x(xi,tau,k0,U,L))\n",
    "             *np.exp(1j*zeta/(U*np.sin(theta)))*np.cos(theta)\n",
    "             *alpha*s**(alpha-1)*np.pi/2)\n",
    "    return w3b\n",
    "    \n",
    "# u functions    \n",
    "@jit(parallel=True)\n",
    "def calc_u1(xi,zeta,tau,k,U,L):\n",
    "    m=k/(1+k*U)\n",
    "    u1 = (-(1/2)*np.exp(-k*L)/(k**2+(1+k*U)**2)\n",
    "          *(1j*m*np.exp(1j*m*zeta)+np.exp(-zeta))\n",
    "          *np.exp(1j*(k*xi+tau)))\n",
    "    return u1\n",
    "    \n",
    "@jit(parallel=True)\n",
    "def calc_u2a(xi,zeta,tau,s,alpha,U,L):\n",
    "    theta = calc_theta(s,alpha=alpha)\n",
    "    k = calc_k_2(theta,U)\n",
    "    u2a = (-1/(2*U)*calc_C2(xi,tau,k,U,L)*np.exp(-zeta)*np.cos(theta)\n",
    "           *alpha*s**(alpha-1)*np.pi/2)\n",
    "    return u2a\n",
    "\n",
    "@jit(parallel=True)\n",
    "def calc_u2b(xi,zeta,tau,s,alpha,U,L):\n",
    "    theta = calc_theta(s, alpha=alpha)\n",
    "    k = calc_k_2(theta,U)\n",
    "    k_0 = calc_k_2(0,U)\n",
    "    u2b = (-1j/(2*U**2)*np.exp(1j*zeta/U)\n",
    "           *(calc_C2(xi,tau,k,U,L)-calc_C2(xi,tau,k_0,U,L))\n",
    "           *np.exp(-1j*zeta/(np.sin(theta)*U))*np.cos(theta)\n",
    "           *alpha*s**(alpha-1)*np.pi/2\n",
    "           +1j/(2*U**2)*np.exp(1j*zeta/U)\n",
    "           *(calc_C2(xi,tau,k,U,L)-calc_C2(xi,tau,k_0,U,L))\n",
    "           *np.exp(-1j*zeta/(np.sin(theta)*U))*np.cos(theta)/np.sin(theta)\n",
    "           *alpha*s**(alpha-1)*np.pi/2)\n",
    "    return u2b\n",
    "\n",
    "@jit(parallel=True)\n",
    "def calc_u2b_z0(xi,tau,s,alpha,U,L):\n",
    "    theta = calc_theta(s, alpha=alpha)\n",
    "    k = calc_k_2(theta,U)\n",
    "    k_0 = calc_k_2(0,U)\n",
    "    (-1j/(2*U**2)*calc_C2(xi,tau,k,U,L)*np.cos(theta)\n",
    "     *alpha*s**(alpha-1)*np.pi/2\n",
    "     +1j/(2*U**2)*calc_C2(xi,tau,k,U,L)*np.cos(theta)/np.sin(theta)\n",
    "     *alpha*s**(alpha-1)*np.pi/2)\n",
    "\n",
    "@jit(parallel=True)\n",
    "def calc_u3a(xi,zeta,tau,s,alpha,U,L):\n",
    "    theta = calc_theta(s, alpha)\n",
    "    k = calc_k_3(theta,U)\n",
    "    u3a = (-U/2*calc_C3(xi,tau,k,U,L)\n",
    "           *np.exp(-zeta)*np.cos(theta)*alpha*s**(alpha-1)*np.pi/2)\n",
    "    return u3a\n",
    "\n",
    "@jit(parallel=True)\n",
    "def calc_u3b(xi,zeta,tau,s,alpha,U,L):\n",
    "    theta = calc_theta(s, alpha=alpha)\n",
    "    k = calc_k_3(theta,U)\n",
    "    k_0 = calc_k_3(0,U)\n",
    "    u3b = (-1j/2*(calc_C3(xi,tau,k,U,L)-calc_C3(xi,tau,k_0,U,L))\n",
    "           *np.exp(1j*zeta/(U*np.sin(theta)))/np.tan(theta)\n",
    "           *alpha*s**(alpha-1)*np.pi/2)\n",
    "    return u3b   \n",
    "    \n",
    "# Miscellaneous functions\n",
    "@jit(parallel=True)\n",
    "def calc_C2(xi,tau,k,U,L):\n",
    "    C2 = np.exp(-k*L)*np.exp(1j*(k*xi-tau))/(k**2+(U*k-1)**2)\n",
    "    return C2\n",
    "\n",
    "@jit(parallel=True)\n",
    "def calc_C3(xi,tau,k,U,L):\n",
    "    C3 = k**2*np.exp(-k*L)*np.exp(1j*(k*xi-tau))/(k**2+(U*k-1)**2)\n",
    "    return C3\n",
    "\n",
    "@jit(parallel=True)\n",
    "def calc_C2x(xi,tau,k,U,L):\n",
    "    C2x = 1j*k*np.exp(-k*L)*np.exp(1j*(k*xi-tau))/(k**2+(U*k-1)**2)\n",
    "    return C2x\n",
    "\n",
    "@jit(parallel=True)\n",
    "def calc_C2_z0(xi,tau,k,U,L):\n",
    "    C2x = 1j*k*np.exp(-k*L)*np.exp(1j*(k*xi-tau))/(k**2+(U*k-1)**2)\n",
    "    return C2_z0\n",
    "\n",
    "@jit(parallel=True)\n",
    "def calc_C3x(xi,tau,k,U,L):\n",
    "    C3x = 1j*k**3*np.exp(-k*L)*np.exp(1j*(k*xi-tau))/(k**2+(U*k-1)**2)\n",
    "    return C3x\n",
    "\n",
    "@jit(parallel=True)\n",
    "def calc_theta(s,alpha=3):\n",
    "    theta = (np.pi/2)*s**alpha\n",
    "    return theta\n",
    "    \n",
    "@jit(parallel=True)\n",
    "def calc_k_3(theta,U):\n",
    "    k = 1/(U*(1-np.sin(theta)))\n",
    "    return k\n",
    "\n",
    "@jit(parallel=True)\n",
    "def calc_k_2(theta,U):\n",
    "    k = (1-np.sin(theta))/U\n",
    "    return k\n",
    "\n",
    "@jit(parallel=True)\n",
    "def calc_exp1(z,n=100):\n",
    "#     s = np.float64(0)\n",
    "#     for i in np.arange(1,n):\n",
    "#         i_f = np.float64(i)\n",
    "#         s += (-z)**i_f/(i_f*np.math.factorial(i_f)) \n",
    "#     return -np.euler_gamma-np.log(z)-s\n",
    "    return exp1(z)\n",
    "\n",
    "@jit(parallel=True)\n",
    "def calc_ep0(z):\n",
    "    # Note this formula only applies if Re(z)>=0!\n",
    "    return np.exp(z) + z*calc_exp1(-z)\n",
    "\n",
    "@jit(parallel=True)\n",
    "def calc_ep1(z):\n",
    "    return (np.exp(z) + z*calc_ep0(z))/2"
   ]
  },
  {
   "cell_type": "code",
   "execution_count": 546,
   "metadata": {
    "ExecuteTime": {
     "end_time": "2019-11-20T08:47:01.632821Z",
     "start_time": "2019-11-20T08:47:01.595420Z"
    }
   },
   "outputs": [],
   "source": [
    "@jit(parallel=True)\n",
    "def integrate_qian(xi,zeta,tau,s,alpha,U,L):\n",
    "    \n",
    "    psi = np.zeros((3, tau.size, zeta.size, xi.size), dtype=np.complex64) \n",
    "    u = np.zeros((3, tau.size, zeta.size, xi.size), dtype=np.complex64) \n",
    "    w = np.zeros((3, tau.size, zeta.size, xi.size), dtype=np.complex64)\n",
    "    \n",
    "    # Define alternative domains\n",
    "    theta = calc_theta(s,alpha=alpha)\n",
    "    \n",
    "    k_3 = calc_k_3(theta,U)\n",
    "    k0_3 = calc_k_3(0,U)\n",
    "    \n",
    "    k_2 = calc_k_2(theta,U)\n",
    "    k0_2 = calc_k_2(0,U)\n",
    "    \n",
    "    k_1=np.concatenate([k_2[-1::-1], np.array([1/U]), k_3])\n",
    "        \n",
    "    # Note psi and w are zero \n",
    "        \n",
    "    # Perform numerical integration zeta>0\n",
    "    for j in prange(1,zeta.size):\n",
    "        for i in range(xi.size):\n",
    "            for l in range(tau.size):\n",
    "                                                \n",
    "                # Calc psi1\n",
    "                psi1_ig = calc_psi1(xi[i],zeta[j],tau[l],k_1,U,L)\n",
    "                psi[0][l,j,i] = np.trapz(psi1_ig, k_1)\n",
    "                \n",
    "                # Calc psi2\n",
    "                psi2a_ig = calc_psi2a(xi[i],zeta[j],tau[l],s,alpha,U,L)\n",
    "                psi2b_ig = calc_psi2b(xi[i],zeta[j],tau[l],s,alpha,U,L)\n",
    "                \n",
    "                psi2ab = np.trapz(psi2a_ig+psi2b_ig, s)                \n",
    "                \n",
    "                psi2c = (-1/(2*U)*np.exp(1j*zeta[j]/U)\n",
    "                         *calc_C2(xi[i],tau[l],k0_2,U,L)\n",
    "                         *calc_ep0(-1j*zeta[j]/U))\n",
    "                         \n",
    "                psi[1][l,j,i] = psi2ab+psi2c\n",
    "                \n",
    "                # Calc psi3\n",
    "                psi3a_ig = calc_psi3a(xi[i],zeta[j],tau[l],s,alpha,U,L)\n",
    "                psi3b_ig = calc_psi3b(xi[i],zeta[j],tau[l],s,alpha,U,L)\n",
    "                \n",
    "                psi3ab = np.trapz(psi3a_ig+psi3b_ig, s)\n",
    "\n",
    "                psi3c = -U/2*calc_C3(xi[i],tau[l],k0_3,U,L)\n",
    "                psi3c = (-U/2*calc_C3(xi[i],tau[l],k0_3,U,L)\n",
    "                         *calc_ep0(1j*zeta[j]/U))\n",
    "                \n",
    "                psi[2][l,j,i] = psi3ab+psi3c\n",
    "                \n",
    "                # Calc u1\n",
    "                u1_ig = calc_u1(xi[i],zeta[j],tau[l],k_1,U,L)\n",
    "                u[0][l,j,i] = np.trapz(u1_ig, k_1)\n",
    "                    \n",
    "                # Calc u2\n",
    "                u2a_ig = calc_u2a(xi[i],zeta[j],tau[l],s,alpha,U,L)\n",
    "                u2b_ig = calc_u2b(xi[i],zeta[j],tau[l],s,alpha,U,L)\n",
    "                \n",
    "                u2ab = np.trapz(u2a_ig+u2b_ig, s)\n",
    "\n",
    "                u2b_ig = calc_u2b(xi[i],zeta[j],tau[l],s,alpha,U,L)\n",
    "                u2c = (1j*np.exp(1j*zeta[j]/U)/(2*U**2)\n",
    "                       *calc_C2(xi[i],tau[l],k0_2,U,L)\n",
    "                       *(-calc_ep0(-1j*zeta[j]/U)\n",
    "                         +calc_exp1(1j*zeta[j]/U)))              \n",
    "\n",
    "                u[1][l,j,i] = u2ab+u2c\n",
    "                \n",
    "                # Calc u3\n",
    "                u3a_ig = calc_u3a(xi[i],zeta[j],tau[l],s,alpha,U,L)\n",
    "                u3b_ig = calc_u3b(xi[i],zeta[j],tau[l],s,alpha,U,L)\n",
    "                \n",
    "                u3ab = np.trapz(u3a_ig+u3b_ig, s)\n",
    "                \n",
    "                u3c = (-1j/2*calc_C3(xi[i],tau[l],k0_3,U,L)\n",
    "                       *calc_exp1(-1j*zeta[j]/U))              \n",
    "\n",
    "                u[2][l,j,i] = u3ab+u3c\n",
    "                                \n",
    "                # Calc w1\n",
    "                w1_ig = psi1_ig*1j*k_1\n",
    "                w[0][l,j,i] = np.trapz(w1_ig,k_1)\n",
    "   \n",
    "                # Calc w2\n",
    "                w2b_ig = calc_w2b(xi[i],zeta[j],tau[l],s,alpha,U,L)\n",
    "                w2ab = np.trapz(1j*k_2*psi2a_ig+w2b_ig,s)\n",
    "                \n",
    "                w2c = (-1/(2*U)*np.exp(1j*zeta[j]/U)\n",
    "                         *calc_C2x(xi[i],tau[l],k0_2,U,L)\n",
    "                         *calc_ep0(-1j*zeta[j]/U))\n",
    "                \n",
    "                w[1][l,j,i] = w2ab+w2c\n",
    "                \n",
    "                # Calc w3                \n",
    "                w3b_ig = calc_w3b(xi[i],zeta[j],tau[l],s,alpha,U,L)\n",
    "                w3ab = np.trapz(1j*k_3*psi3a_ig+w3b_ig,s)\n",
    "\n",
    "                w3c = (-U/2*calc_C3x(xi[i],tau[l],k0_3,U,L)\n",
    "                       *calc_ep0(1j*zeta[j]/U))\n",
    "                \n",
    "                w[2][l,j,i] = w3ab+w3c\n",
    "\n",
    "    # Use a finite difference to get u at z=0.\n",
    "    u[:,:,0,:] = psi[:,:,1,:]/(zeta[1]-zeta[0])\n",
    "                \n",
    "    psi = (1/np.pi)*np.real(psi)\n",
    "    u = (1/np.pi)*np.real(u)\n",
    "    w = -(1/np.pi)*np.real(w)\n",
    "    return psi, u, w"
   ]
  },
  {
   "cell_type": "code",
   "execution_count": 529,
   "metadata": {
    "ExecuteTime": {
     "end_time": "2019-11-20T08:37:30.438151Z",
     "start_time": "2019-11-20T08:37:07.183489Z"
    },
    "scrolled": true
   },
   "outputs": [
    {
     "name": "stdout",
     "output_type": "stream",
     "text": [
      "Initialising\n",
      "Integrating\n"
     ]
    },
    {
     "ename": "KeyboardInterrupt",
     "evalue": "",
     "output_type": "error",
     "traceback": [
      "\u001b[0;31m---------------------------------------------------------------------------\u001b[0m",
      "\u001b[0;31mKeyboardInterrupt\u001b[0m                         Traceback (most recent call last)",
      "\u001b[0;32m_ctypes/callbacks.c\u001b[0m in \u001b[0;36m'calling callback function'\u001b[0;34m()\u001b[0m\n",
      "\u001b[0;32m~/anaconda3/lib/python3.6/site-packages/llvmlite/binding/executionengine.py\u001b[0m in \u001b[0;36m_raw_object_cache_notify\u001b[0;34m(self, data)\u001b[0m\n\u001b[1;32m    157\u001b[0m         \u001b[0mffi\u001b[0m\u001b[0;34m.\u001b[0m\u001b[0mlib\u001b[0m\u001b[0;34m.\u001b[0m\u001b[0mLLVMPY_SetObjectCache\u001b[0m\u001b[0;34m(\u001b[0m\u001b[0mself\u001b[0m\u001b[0;34m,\u001b[0m \u001b[0mself\u001b[0m\u001b[0;34m.\u001b[0m\u001b[0m_object_cache\u001b[0m\u001b[0;34m)\u001b[0m\u001b[0;34m\u001b[0m\u001b[0m\n\u001b[1;32m    158\u001b[0m \u001b[0;34m\u001b[0m\u001b[0m\n\u001b[0;32m--> 159\u001b[0;31m     \u001b[0;32mdef\u001b[0m \u001b[0m_raw_object_cache_notify\u001b[0m\u001b[0;34m(\u001b[0m\u001b[0mself\u001b[0m\u001b[0;34m,\u001b[0m \u001b[0mdata\u001b[0m\u001b[0;34m)\u001b[0m\u001b[0;34m:\u001b[0m\u001b[0;34m\u001b[0m\u001b[0m\n\u001b[0m\u001b[1;32m    160\u001b[0m         \"\"\"\n\u001b[1;32m    161\u001b[0m         \u001b[0mLow\u001b[0m\u001b[0;34m-\u001b[0m\u001b[0mlevel\u001b[0m \u001b[0mnotify\u001b[0m \u001b[0mhook\u001b[0m\u001b[0;34m.\u001b[0m\u001b[0;34m\u001b[0m\u001b[0m\n",
      "\u001b[0;31mKeyboardInterrupt\u001b[0m: "
     ]
    },
    {
     "ename": "KeyboardInterrupt",
     "evalue": "",
     "output_type": "error",
     "traceback": [
      "\u001b[0;31m---------------------------------------------------------------------------\u001b[0m",
      "\u001b[0;31mKeyboardInterrupt\u001b[0m                         Traceback (most recent call last)",
      "\u001b[0;32m<ipython-input-529-b288bc8b2a59>\u001b[0m in \u001b[0;36m<module>\u001b[0;34m()\u001b[0m\n\u001b[0;32m----> 1\u001b[0;31m \u001b[0mds\u001b[0m \u001b[0;34m=\u001b[0m \u001b[0msolve_qian\u001b[0m\u001b[0;34m(\u001b[0m\u001b[0mxiN\u001b[0m\u001b[0;34m=\u001b[0m\u001b[0;36m41\u001b[0m\u001b[0;34m,\u001b[0m \u001b[0mzetaN\u001b[0m\u001b[0;34m=\u001b[0m\u001b[0;36m81\u001b[0m\u001b[0;34m,\u001b[0m \u001b[0mtauN\u001b[0m\u001b[0;34m=\u001b[0m\u001b[0;36m4\u001b[0m\u001b[0;34m,\u001b[0m \u001b[0msN\u001b[0m\u001b[0;34m=\u001b[0m\u001b[0;36m1000\u001b[0m\u001b[0;34m,\u001b[0m \u001b[0mU\u001b[0m\u001b[0;34m=\u001b[0m\u001b[0;36m.625\u001b[0m\u001b[0;34m,\u001b[0m \u001b[0mL\u001b[0m\u001b[0;34m=\u001b[0m\u001b[0;36m0.1\u001b[0m\u001b[0;34m,\u001b[0m \u001b[0malpha\u001b[0m\u001b[0;34m=\u001b[0m\u001b[0;36m3\u001b[0m\u001b[0;34m)\u001b[0m\u001b[0;34m\u001b[0m\u001b[0m\n\u001b[0m",
      "\u001b[0;32m<ipython-input-523-e03d3ac119e6>\u001b[0m in \u001b[0;36msolve_qian\u001b[0;34m(xiN, zetaN, tauN, sN, alpha, U, L)\u001b[0m\n\u001b[1;32m     21\u001b[0m \u001b[0;34m\u001b[0m\u001b[0m\n\u001b[1;32m     22\u001b[0m     \u001b[0mprint\u001b[0m\u001b[0;34m(\u001b[0m\u001b[0;34m'Integrating'\u001b[0m\u001b[0;34m)\u001b[0m\u001b[0;34m\u001b[0m\u001b[0m\n\u001b[0;32m---> 23\u001b[0;31m     \u001b[0mpsi\u001b[0m\u001b[0;34m,\u001b[0m \u001b[0mu\u001b[0m\u001b[0;34m,\u001b[0m \u001b[0mw\u001b[0m \u001b[0;34m=\u001b[0m \u001b[0mintegrate_qian\u001b[0m\u001b[0;34m(\u001b[0m\u001b[0mxi\u001b[0m\u001b[0;34m,\u001b[0m\u001b[0mzeta\u001b[0m\u001b[0;34m,\u001b[0m\u001b[0mtau\u001b[0m\u001b[0;34m,\u001b[0m\u001b[0ms\u001b[0m\u001b[0;34m,\u001b[0m\u001b[0malpha\u001b[0m\u001b[0;34m,\u001b[0m\u001b[0mU\u001b[0m\u001b[0;34m,\u001b[0m\u001b[0mL\u001b[0m\u001b[0;34m)\u001b[0m\u001b[0;34m\u001b[0m\u001b[0m\n\u001b[0m\u001b[1;32m     24\u001b[0m \u001b[0;34m\u001b[0m\u001b[0m\n\u001b[1;32m     25\u001b[0m     ds = xr.Dataset({'psi':(('mode','tau','zeta','xi'),psi),\n",
      "\u001b[0;32m~/anaconda3/lib/python3.6/site-packages/numpy/lib/function_base.py\u001b[0m in \u001b[0;36mtrapz\u001b[0;34m(y, x, dx, axis)\u001b[0m\n\u001b[1;32m   4440\u001b[0m \u001b[0;34m\u001b[0m\u001b[0m\n\u001b[1;32m   4441\u001b[0m \u001b[0;34m\u001b[0m\u001b[0m\n\u001b[0;32m-> 4442\u001b[0;31m \u001b[0;32mdef\u001b[0m \u001b[0mtrapz\u001b[0m\u001b[0;34m(\u001b[0m\u001b[0my\u001b[0m\u001b[0;34m,\u001b[0m \u001b[0mx\u001b[0m\u001b[0;34m=\u001b[0m\u001b[0;32mNone\u001b[0m\u001b[0;34m,\u001b[0m \u001b[0mdx\u001b[0m\u001b[0;34m=\u001b[0m\u001b[0;36m1.0\u001b[0m\u001b[0;34m,\u001b[0m \u001b[0maxis\u001b[0m\u001b[0;34m=\u001b[0m\u001b[0;34m-\u001b[0m\u001b[0;36m1\u001b[0m\u001b[0;34m)\u001b[0m\u001b[0;34m:\u001b[0m\u001b[0;34m\u001b[0m\u001b[0m\n\u001b[0m\u001b[1;32m   4443\u001b[0m     \"\"\"\n\u001b[1;32m   4444\u001b[0m     \u001b[0mIntegrate\u001b[0m \u001b[0malong\u001b[0m \u001b[0mthe\u001b[0m \u001b[0mgiven\u001b[0m \u001b[0maxis\u001b[0m \u001b[0musing\u001b[0m \u001b[0mthe\u001b[0m \u001b[0mcomposite\u001b[0m \u001b[0mtrapezoidal\u001b[0m \u001b[0mrule\u001b[0m\u001b[0;34m.\u001b[0m\u001b[0;34m\u001b[0m\u001b[0m\n",
      "\u001b[0;31mKeyboardInterrupt\u001b[0m: "
     ]
    }
   ],
   "source": [
    "ds = solve_qian(xiN=41, zetaN=81, tauN=4, sN=1000, U=.625, L=0.1, alpha=3)"
   ]
  },
  {
   "cell_type": "code",
   "execution_count": 530,
   "metadata": {
    "ExecuteTime": {
     "end_time": "2019-11-20T08:37:33.845808Z",
     "start_time": "2019-11-20T08:37:33.836851Z"
    }
   },
   "outputs": [
    {
     "data": {
      "text/plain": [
       "<xarray.DataArray 'zeta' (zeta: 81)>\n",
       "array([2.323057e-07, 3.716892e-06, 1.881676e-05, 5.947027e-05, 1.451911e-04,\n",
       "       3.010682e-04, 5.577661e-04, 9.515243e-04, 1.524158e-03, 2.323057e-03,\n",
       "       3.401188e-03, 4.817092e-03, 6.634884e-03, 8.924257e-03, 1.176048e-02,\n",
       "       1.522439e-02, 1.940241e-02, 2.438653e-02, 3.027432e-02, 3.716892e-02,\n",
       "       4.517905e-02, 5.441901e-02, 6.500867e-02, 7.707347e-02, 9.074443e-02,\n",
       "       1.061581e-01, 1.234568e-01, 1.427881e-01, 1.643054e-01, 1.881676e-01,\n",
       "       2.145392e-01, 2.435902e-01, 2.754962e-01, 3.104385e-01, 3.486038e-01,\n",
       "       3.901844e-01, 4.353783e-01, 4.843890e-01, 5.374256e-01, 5.947027e-01,\n",
       "       6.564405e-01, 7.228648e-01, 7.942071e-01, 8.707042e-01, 9.525987e-01,\n",
       "       1.040139e+00, 1.133578e+00, 1.233175e+00, 1.339196e+00, 1.451911e+00,\n",
       "       1.571595e+00, 1.698530e+00, 1.833004e+00, 1.975309e+00, 2.125743e+00,\n",
       "       2.284610e+00, 2.452220e+00, 2.628887e+00, 2.814932e+00, 3.010682e+00,\n",
       "       3.216468e+00, 3.432628e+00, 3.659503e+00, 3.897443e+00, 4.146802e+00,\n",
       "       4.407940e+00, 4.681221e+00, 4.967016e+00, 5.265702e+00, 5.577661e+00,\n",
       "       5.903279e+00, 6.242951e+00, 6.597074e+00, 6.966053e+00, 7.350299e+00,\n",
       "       7.750225e+00, 8.166253e+00, 8.598810e+00, 9.048327e+00, 9.515243e+00,\n",
       "       1.000000e+01])\n",
       "Coordinates:\n",
       "  * zeta     (zeta) float64 2.323e-07 3.717e-06 1.882e-05 ... 9.048 9.515 10.0\n",
       "Attributes:\n",
       "    units:    -"
      ]
     },
     "execution_count": 530,
     "metadata": {},
     "output_type": "execute_result"
    }
   ],
   "source": [
    "ds.zeta"
   ]
  },
  {
   "cell_type": "code",
   "execution_count": 545,
   "metadata": {
    "ExecuteTime": {
     "end_time": "2019-11-20T08:42:48.897893Z",
     "start_time": "2019-11-20T08:42:48.887889Z"
    }
   },
   "outputs": [
    {
     "data": {
      "text/plain": [
       "<xarray.DataArray 'w' ()>\n",
       "array(4.167059e-08)\n",
       "Coordinates:\n",
       "    mode     int64 1\n",
       "    tau      float64 4.712\n",
       "    zeta     float64 2.323e-07"
      ]
     },
     "execution_count": 545,
     "metadata": {},
     "output_type": "execute_result"
    }
   ],
   "source": [
    "ds.w.isel(zeta=0).isel(tau=3).isel(mode=0).max()"
   ]
  },
  {
   "cell_type": "code",
   "execution_count": 532,
   "metadata": {
    "ExecuteTime": {
     "end_time": "2019-11-20T08:38:12.785313Z",
     "start_time": "2019-11-20T08:38:12.586620Z"
    }
   },
   "outputs": [
    {
     "data": {
      "text/plain": [
       "<matplotlib.colorbar.Colorbar at 0x7f7724655ba8>"
      ]
     },
     "execution_count": 532,
     "metadata": {},
     "output_type": "execute_result"
    },
    {
     "data": {
      "image/png": "[encoded data removed]",
      "text/plain": [
       "<Figure size 1008x720 with 2 Axes>"
      ]
     },
     "metadata": {},
     "output_type": "display_data"
    }
   ],
   "source": [
    "plt.figure(figsize=(14,10))\n",
    "plt.contourf(ds.xi, ds.zeta, ds.u.sel(mode=1)[1], levels=np.arange(-.4,.4+0.02,0.04), cmap='RdBu_r')\n",
    "# plt.clim([-1.5,1.5])\n",
    "plt.colorbar()"
   ]
  },
  {
   "cell_type": "code",
   "execution_count": 533,
   "metadata": {
    "ExecuteTime": {
     "end_time": "2019-11-20T08:38:18.087758Z",
     "start_time": "2019-11-20T08:38:17.888951Z"
    }
   },
   "outputs": [
    {
     "data": {
      "text/plain": [
       "<matplotlib.colorbar.Colorbar at 0x7f77204b17b8>"
      ]
     },
     "execution_count": 533,
     "metadata": {},
     "output_type": "execute_result"
    },
    {
     "data": {
      "image/png": "[encoded data removed]",
      "text/plain": [
       "<Figure size 1008x720 with 2 Axes>"
      ]
     },
     "metadata": {},
     "output_type": "display_data"
    }
   ],
   "source": [
    "plt.figure(figsize=(14,10))\n",
    "plt.contourf(ds.xi, ds.zeta, ds.u.sel(mode=1)[1], levels=np.arange(-.4,.4+0.02,0.04), cmap='RdBu_r')\n",
    "# plt.clim([-1.5,1.5])\n",
    "plt.colorbar()"
   ]
  },
  {
   "cell_type": "code",
   "execution_count": 375,
   "metadata": {
    "ExecuteTime": {
     "end_time": "2019-11-20T04:18:33.170384Z",
     "start_time": "2019-11-20T04:18:32.442975Z"
    }
   },
   "outputs": [
    {
     "name": "stdout",
     "output_type": "stream",
     "text": [
      "Animating stream function.\n",
      "timestep 0\n",
      "timestep 0\n",
      "timestep 1\n",
      "timestep 2\n",
      "timestep 3\n"
     ]
    }
   ],
   "source": [
    "rt.animatePsi(ds.sum(dim='mode', keep_attrs=True).squeeze())\n",
    "# rt.animatePsi(ds.sel(mode=1).squeeze())"
   ]
  },
  {
   "cell_type": "code",
   "execution_count": 376,
   "metadata": {
    "ExecuteTime": {
     "end_time": "2019-11-20T04:18:34.079851Z",
     "start_time": "2019-11-20T04:18:33.326766Z"
    }
   },
   "outputs": [
    {
     "name": "stdout",
     "output_type": "stream",
     "text": [
      "Animating velocity field.\n",
      "timestep 0\n",
      "timestep 0\n",
      "timestep 1\n",
      "timestep 2\n",
      "timestep 3\n"
     ]
    }
   ],
   "source": [
    "rt.animateVelocity(ds.sum(dim='mode', keep_attrs=True).squeeze())\n",
    "# rt.animateVelocity(ds.sel(mode=3).squeeze())"
   ]
  },
  {
   "cell_type": "code",
   "execution_count": null,
   "metadata": {},
   "outputs": [],
   "source": []
  }
 ],
 "metadata": {
  "kernelspec": {
   "display_name": "Python 3",
   "language": "python",
   "name": "python3"
  },
  "language_info": {
   "codemirror_mode": {
    "name": "ipython",
    "version": 3
   },
   "file_extension": ".py",
   "mimetype": "text/x-python",
   "name": "python",
   "nbconvert_exporter": "python",
   "pygments_lexer": "ipython3",
   "version": "3.6.5"
  },
  "toc": {
   "base_numbering": 1,
   "nav_menu": {},
   "number_sections": true,
   "sideBar": true,
   "skip_h1_title": false,
   "title_cell": "Table of Contents",
   "title_sidebar": "Contents",
   "toc_cell": false,
   "toc_position": {},
   "toc_section_display": true,
   "toc_window_display": false
  }
 },
 "nbformat": 4,
 "nbformat_minor": 2
}
