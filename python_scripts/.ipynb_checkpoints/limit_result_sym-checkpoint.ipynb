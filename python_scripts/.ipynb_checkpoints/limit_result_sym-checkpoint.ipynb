{
 "cells": [
  {
   "cell_type": "code",
   "execution_count": 1,
   "id": "76bf955a",
   "metadata": {
    "ExecuteTime": {
     "end_time": "2023-01-02T04:16:05.725836Z",
     "start_time": "2023-01-02T04:16:05.418559Z"
    }
   },
   "outputs": [],
   "source": [
    "from sympy import *"
   ]
  },
  {
   "cell_type": "code",
   "execution_count": 8,
   "id": "a779b94e",
   "metadata": {
    "ExecuteTime": {
     "end_time": "2023-01-02T04:36:30.979819Z",
     "start_time": "2023-01-02T04:36:30.976705Z"
    }
   },
   "outputs": [],
   "source": [
    "A, m, z, del_N, del_H = symbols('A m z {\\delta}N {\\delta}H', real=True)"
   ]
  },
  {
   "cell_type": "code",
   "execution_count": 9,
   "id": "cfc9903a",
   "metadata": {
    "ExecuteTime": {
     "end_time": "2023-01-02T04:36:40.071004Z",
     "start_time": "2023-01-02T04:36:40.065867Z"
    }
   },
   "outputs": [],
   "source": [
    "# Number of N discontinuities\n",
    "n = 4\n",
    "\n",
    "# # Therefore n+1 values of N\n",
    "# N_sym_str = ['N_{}'.format(i) for i in range(n+1)]\n",
    "# N_sym_str = ' '.join(N_sym_str)\n",
    "# N = symbols(N_sym_str, real=True)\n",
    "\n",
    "# # And n values of H\n",
    "# H_sym_str = ['H_{}'.format(i) for i in range(n)]\n",
    "# H_sym_str = ' '.join(H_sym_str)\n",
    "# H = symbols(H_sym_str, real=True)\n",
    "\n",
    "# Alternatively\n",
    "H_0, N_0 = symbols('H_0 N_0', real=True)\n",
    "H = [H_0 + j*del_H for j in range(n)]\n",
    "N = [N_0 + j*del_N for j in range(n+1)]\n",
    "\n",
    "# And n+1 expressions for psi\n",
    "# Initialise these as None\n",
    "psi = [None for i in range(n+1)]\n",
    "\n",
    "# n expressions for the Ak and Bk coefficients\n",
    "Ak = [None for i in range(n+1)]\n",
    "Bk = [None for i in range(n+1)]"
   ]
  },
  {
   "cell_type": "code",
   "execution_count": 10,
   "id": "2bef1170",
   "metadata": {
    "ExecuteTime": {
     "end_time": "2023-01-02T04:37:08.638146Z",
     "start_time": "2023-01-02T04:37:08.627455Z"
    }
   },
   "outputs": [],
   "source": [
    "Ak[n] = A\n",
    "Bk[n] = 0\n",
    "psi[n] = Ak[n]*exp(I*m*N[n]*(z-H[n-1]))\n",
    "\n",
    "Ak[n-1] = A*(N[n-1]+N[n])/(2*N[n-1])\n",
    "Bk[n-1] = A*(N[n-1]-N[n])/(2*N[n-1])\n",
    "psi[n-1] = Ak[n-1]*exp(I*m*N[n-1]*(z-H[n-1])) + Bk[n-1]*exp(-I*m*N[n-1]*(z-H[n-1]))"
   ]
  },
  {
   "cell_type": "code",
   "execution_count": 11,
   "id": "a3463ec2",
   "metadata": {
    "ExecuteTime": {
     "end_time": "2023-01-02T04:37:09.246207Z",
     "start_time": "2023-01-02T04:37:09.219444Z"
    }
   },
   "outputs": [],
   "source": [
    "for j in range(n-1, 0, -1):\n",
    "    Ak[j-1] = (\n",
    "        Ak[j]*(N[j]+N[j-1])/(2*N[j-1])*exp(-I*m*N[j]*del_H)\n",
    "        + Bk[j]*(N[j-1]-N[j])/(2*N[j-1])*exp(I*m*N[j]*del_H))\n",
    "    Bk[j-1] = (\n",
    "        Ak[j]*(-N[j]+N[j-1])/(2*N[j-1])*exp(-I*m*N[j]*del_H)\n",
    "        + Bk[j]*(N[j-1]+N[j])/(2*N[j-1])*exp(I*m*N[j]*del_H))\n",
    "    psi[j-1] = Ak[j-1]*exp(I*m*N[j-1]*(z-H[j-1])) + Bk[j-1]*exp(-I*m*N[j-1]*(z-H[j-1]))"
   ]
  },
  {
   "cell_type": "code",
   "execution_count": 7,
   "id": "c8ab4677",
   "metadata": {
    "ExecuteTime": {
     "end_time": "2023-01-02T04:16:53.975265Z",
     "start_time": "2023-01-02T04:16:53.885447Z"
    }
   },
   "outputs": [
    {
     "data": {
      "text/latex": [
       "$\\displaystyle \\sqrt{\\frac{16 A^{2} N_{0}^{2} {\\delta}N^{2} \\cos^{2}{\\left(N_{0} m {\\delta}H + 3 m {\\delta}H {\\delta}N \\right)}}{\\left(4 N_{0}^{2} + 20 N_{0} {\\delta}N + 24 {\\delta}N^{2}\\right)^{2}} + \\frac{96 A^{2} N_{0} {\\delta}N^{3} \\cos^{2}{\\left(N_{0} m {\\delta}H + 3 m {\\delta}H {\\delta}N \\right)}}{\\left(4 N_{0}^{2} + 20 N_{0} {\\delta}N + 24 {\\delta}N^{2}\\right)^{2}} + \\frac{4 A^{2} {\\delta}N^{4} \\sin^{2}{\\left(N_{0} m {\\delta}H + 3 m {\\delta}H {\\delta}N \\right)}}{\\left(4 N_{0}^{2} + 20 N_{0} {\\delta}N + 24 {\\delta}N^{2}\\right)^{2}} + \\frac{144 A^{2} {\\delta}N^{4} \\cos^{2}{\\left(N_{0} m {\\delta}H + 3 m {\\delta}H {\\delta}N \\right)}}{\\left(4 N_{0}^{2} + 20 N_{0} {\\delta}N + 24 {\\delta}N^{2}\\right)^{2}}}$"
      ],
      "text/plain": [
       "sqrt(16*A**2*N_0**2*{\\delta}N**2*cos(N_0*m*{\\delta}H + 3*m*{\\delta}H*{\\delta}N)**2/(4*N_0**2 + 20*N_0*{\\delta}N + 24*{\\delta}N**2)**2 + 96*A**2*N_0*{\\delta}N**3*cos(N_0*m*{\\delta}H + 3*m*{\\delta}H*{\\delta}N)**2/(4*N_0**2 + 20*N_0*{\\delta}N + 24*{\\delta}N**2)**2 + 4*A**2*{\\delta}N**4*sin(N_0*m*{\\delta}H + 3*m*{\\delta}H*{\\delta}N)**2/(4*N_0**2 + 20*N_0*{\\delta}N + 24*{\\delta}N**2)**2 + 144*A**2*{\\delta}N**4*cos(N_0*m*{\\delta}H + 3*m*{\\delta}H*{\\delta}N)**2/(4*N_0**2 + 20*N_0*{\\delta}N + 24*{\\delta}N**2)**2)"
      ]
     },
     "execution_count": 7,
     "metadata": {},
     "output_type": "execute_result"
    }
   ],
   "source": [
    "abs(Bk[2].expand(complex=True))"
   ]
  },
  {
   "cell_type": "code",
   "execution_count": 14,
   "id": "eed4bea0",
   "metadata": {
    "ExecuteTime": {
     "end_time": "2023-01-02T04:40:02.712615Z",
     "start_time": "2023-01-02T04:40:02.698598Z"
    }
   },
   "outputs": [
    {
     "data": {
      "text/latex": [
       "$\\displaystyle A$"
      ],
      "text/plain": [
       "A"
      ]
     },
     "execution_count": 14,
     "metadata": {},
     "output_type": "execute_result"
    }
   ],
   "source": [
    "Ak[-1]"
   ]
  },
  {
   "cell_type": "code",
   "execution_count": null,
   "id": "59b15c2e",
   "metadata": {},
   "outputs": [],
   "source": [
    "A_num = 1\n",
    "N_num = 3\n",
    "N0_num = .01\n",
    "del_N_num = .02/n\n",
    "del_H_num = 1/n\n",
    "\n"
   ]
  }
 ],
 "metadata": {
  "kernelspec": {
   "display_name": "Python 3 (ipykernel)",
   "language": "python",
   "name": "python3"
  },
  "language_info": {
   "codemirror_mode": {
    "name": "ipython",
    "version": 3
   },
   "file_extension": ".py",
   "mimetype": "text/x-python",
   "name": "python",
   "nbconvert_exporter": "python",
   "pygments_lexer": "ipython3",
   "version": "3.8.10"
  },
  "latex_envs": {
   "LaTeX_envs_menu_present": true,
   "autoclose": false,
   "autocomplete": true,
   "bibliofile": "biblio.bib",
   "cite_by": "apalike",
   "current_citInitial": 1,
   "eqLabelWithNumbers": true,
   "eqNumInitial": 1,
   "hotkeys": {
    "equation": "Ctrl-E",
    "itemize": "Ctrl-I"
   },
   "labels_anchors": false,
   "latex_user_defs": false,
   "report_style_numbering": false,
   "user_envs_cfg": false
  },
  "toc": {
   "base_numbering": 1,
   "nav_menu": {},
   "number_sections": true,
   "sideBar": true,
   "skip_h1_title": false,
   "title_cell": "Table of Contents",
   "title_sidebar": "Contents",
   "toc_cell": false,
   "toc_position": {},
   "toc_section_display": true,
   "toc_window_display": false
  }
 },
 "nbformat": 4,
 "nbformat_minor": 5
}
