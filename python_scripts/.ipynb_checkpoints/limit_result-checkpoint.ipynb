{
 "cells": [
  {
   "cell_type": "code",
   "execution_count": 1,
   "metadata": {
    "ExecuteTime": {
     "end_time": "2022-09-02T04:18:30.877564Z",
     "start_time": "2022-09-02T04:18:30.817051Z"
    }
   },
   "outputs": [],
   "source": [
    "from sympy import *"
   ]
  },
  {
   "cell_type": "code",
   "execution_count": 2,
   "metadata": {},
   "outputs": [],
   "source": [
    "A, m, z, del_N, del_H = symbols('A m z {\\delta}N {\\delta}H', real=True)"
   ]
  },
  {
   "cell_type": "code",
   "execution_count": 16,
   "metadata": {},
   "outputs": [],
   "source": [
    "# Number of N discontinuities\n",
    "n = 4\n",
    "\n",
    "# # Therefore n+1 values of N\n",
    "# N_sym_str = ['N_{}'.format(i) for i in range(n+1)]\n",
    "# N_sym_str = ' '.join(N_sym_str)\n",
    "# N = symbols(N_sym_str, real=True)\n",
    "\n",
    "# # And n values of H\n",
    "# H_sym_str = ['H_{}'.format(i) for i in range(n)]\n",
    "# H_sym_str = ' '.join(H_sym_str)\n",
    "# H = symbols(H_sym_str, real=True)\n",
    "\n",
    "# Alternatively\n",
    "H_0, N_0 = symbols('H_0 N_0', real=True)\n",
    "H = [H_0 + j*del_H for j in range(n)]\n",
    "N = [N_0 + j*del_N for j in range(n+1)]\n",
    "\n",
    "# And n+1 expressions for psi\n",
    "# Initialise these as None\n",
    "psi = [None for i in range(n+1)]\n",
    "\n",
    "# n expressions for the Ak and Bk coefficients\n",
    "Ak = [None for i in range(n+1)]\n",
    "Bk = [None for i in range(n+1)]"
   ]
  },
  {
   "cell_type": "code",
   "execution_count": 17,
   "metadata": {},
   "outputs": [],
   "source": [
    "Ak[n] = A\n",
    "Bk[n] = 0\n",
    "psi[n] = Ak[n]*exp(I*m*N[n]*(z-H[n-1]))\n",
    "\n",
    "Ak[n-1] = A*(N[n-1]+N[n])/(2*N[n-1])\n",
    "Bk[n-1] = A*(N[n-1]-N[n])/(2*N[n-1])\n",
    "psi[n-1] = Ak[n-1]*exp(I*m*N[n-1]*(z-H[n-1])) + Bk[n-1]*exp(-I*m*N[n-1]*(z-H[n-1]))"
   ]
  },
  {
   "cell_type": "code",
   "execution_count": 18,
   "metadata": {},
   "outputs": [],
   "source": [
    "for j in range(n-1, 0, -1):\n",
    "    Ak[j-1] = (\n",
    "        Ak[j]*(N[j]+N[j-1])/(2*N[j-1])*exp(-I*m*N[j]*del_H)\n",
    "        + Bk[j]*(N[j-1]-N[j])/(2*N[j-1])*exp(I*m*N[j]*del_H))\n",
    "    Bk[j-1] = (\n",
    "        Ak[j]*(-N[j]+N[j-1])/(2*N[j-1])*exp(-I*m*N[j]*del_H)\n",
    "        + Bk[j]*(N[j-1]+N[j])/(2*N[j-1])*exp(I*m*N[j]*del_H))\n",
    "    psi[j-1] = Ak[j-1]*exp(I*m*N[j-1]*(z-H[j-1])) + Bk[j-1]*exp(-I*m*N[j-1]*(z-H[j-1]))"
   ]
  },
  {
   "cell_type": "code",
   "execution_count": 34,
   "metadata": {},
   "outputs": [
    {
     "data": {
      "text/latex": [
       "$\\displaystyle \\left(- \\frac{{\\delta}N \\left(\\frac{A {\\delta}N^{2} e^{i m {\\delta}H \\left(N_{0} + 3 {\\delta}N\\right)}}{\\left(2 N_{0} + 4 {\\delta}N\\right) \\left(2 N_{0} + 6 {\\delta}N\\right)} + \\frac{A \\left(2 N_{0} + 5 {\\delta}N\\right) \\left(2 N_{0} + 7 {\\delta}N\\right) e^{- i m {\\delta}H \\left(N_{0} + 3 {\\delta}N\\right)}}{\\left(2 N_{0} + 4 {\\delta}N\\right) \\left(2 N_{0} + 6 {\\delta}N\\right)}\\right) e^{- i m {\\delta}H \\left(N_{0} + 2 {\\delta}N\\right)}}{2 N_{0} + 2 {\\delta}N} + \\frac{\\left(2 N_{0} + 3 {\\delta}N\\right) \\left(- \\frac{A {\\delta}N \\left(2 N_{0} + 5 {\\delta}N\\right) e^{i m {\\delta}H \\left(N_{0} + 3 {\\delta}N\\right)}}{\\left(2 N_{0} + 4 {\\delta}N\\right) \\left(2 N_{0} + 6 {\\delta}N\\right)} - \\frac{A {\\delta}N \\left(2 N_{0} + 7 {\\delta}N\\right) e^{- i m {\\delta}H \\left(N_{0} + 3 {\\delta}N\\right)}}{\\left(2 N_{0} + 4 {\\delta}N\\right) \\left(2 N_{0} + 6 {\\delta}N\\right)}\\right) e^{i m {\\delta}H \\left(N_{0} + 2 {\\delta}N\\right)}}{2 N_{0} + 2 {\\delta}N}\\right) e^{- i m \\left(N_{0} + {\\delta}N\\right) \\left(- H_{0} + z - {\\delta}H\\right)} + \\left(- \\frac{{\\delta}N \\left(- \\frac{A {\\delta}N \\left(2 N_{0} + 5 {\\delta}N\\right) e^{i m {\\delta}H \\left(N_{0} + 3 {\\delta}N\\right)}}{\\left(2 N_{0} + 4 {\\delta}N\\right) \\left(2 N_{0} + 6 {\\delta}N\\right)} - \\frac{A {\\delta}N \\left(2 N_{0} + 7 {\\delta}N\\right) e^{- i m {\\delta}H \\left(N_{0} + 3 {\\delta}N\\right)}}{\\left(2 N_{0} + 4 {\\delta}N\\right) \\left(2 N_{0} + 6 {\\delta}N\\right)}\\right) e^{i m {\\delta}H \\left(N_{0} + 2 {\\delta}N\\right)}}{2 N_{0} + 2 {\\delta}N} + \\frac{\\left(2 N_{0} + 3 {\\delta}N\\right) \\left(\\frac{A {\\delta}N^{2} e^{i m {\\delta}H \\left(N_{0} + 3 {\\delta}N\\right)}}{\\left(2 N_{0} + 4 {\\delta}N\\right) \\left(2 N_{0} + 6 {\\delta}N\\right)} + \\frac{A \\left(2 N_{0} + 5 {\\delta}N\\right) \\left(2 N_{0} + 7 {\\delta}N\\right) e^{- i m {\\delta}H \\left(N_{0} + 3 {\\delta}N\\right)}}{\\left(2 N_{0} + 4 {\\delta}N\\right) \\left(2 N_{0} + 6 {\\delta}N\\right)}\\right) e^{- i m {\\delta}H \\left(N_{0} + 2 {\\delta}N\\right)}}{2 N_{0} + 2 {\\delta}N}\\right) e^{i m \\left(N_{0} + {\\delta}N\\right) \\left(- H_{0} + z - {\\delta}H\\right)}$"
      ],
      "text/plain": [
       "(-{\\delta}N*(A*{\\delta}N**2*exp(I*m*{\\delta}H*(N_0 + 3*{\\delta}N))/((2*N_0 + 4*{\\delta}N)*(2*N_0 + 6*{\\delta}N)) + A*(2*N_0 + 5*{\\delta}N)*(2*N_0 + 7*{\\delta}N)*exp(-I*m*{\\delta}H*(N_0 + 3*{\\delta}N))/((2*N_0 + 4*{\\delta}N)*(2*N_0 + 6*{\\delta}N)))*exp(-I*m*{\\delta}H*(N_0 + 2*{\\delta}N))/(2*N_0 + 2*{\\delta}N) + (2*N_0 + 3*{\\delta}N)*(-A*{\\delta}N*(2*N_0 + 5*{\\delta}N)*exp(I*m*{\\delta}H*(N_0 + 3*{\\delta}N))/((2*N_0 + 4*{\\delta}N)*(2*N_0 + 6*{\\delta}N)) - A*{\\delta}N*(2*N_0 + 7*{\\delta}N)*exp(-I*m*{\\delta}H*(N_0 + 3*{\\delta}N))/((2*N_0 + 4*{\\delta}N)*(2*N_0 + 6*{\\delta}N)))*exp(I*m*{\\delta}H*(N_0 + 2*{\\delta}N))/(2*N_0 + 2*{\\delta}N))*exp(-I*m*(N_0 + {\\delta}N)*(-H_0 + z - {\\delta}H)) + (-{\\delta}N*(-A*{\\delta}N*(2*N_0 + 5*{\\delta}N)*exp(I*m*{\\delta}H*(N_0 + 3*{\\delta}N))/((2*N_0 + 4*{\\delta}N)*(2*N_0 + 6*{\\delta}N)) - A*{\\delta}N*(2*N_0 + 7*{\\delta}N)*exp(-I*m*{\\delta}H*(N_0 + 3*{\\delta}N))/((2*N_0 + 4*{\\delta}N)*(2*N_0 + 6*{\\delta}N)))*exp(I*m*{\\delta}H*(N_0 + 2*{\\delta}N))/(2*N_0 + 2*{\\delta}N) + (2*N_0 + 3*{\\delta}N)*(A*{\\delta}N**2*exp(I*m*{\\delta}H*(N_0 + 3*{\\delta}N))/((2*N_0 + 4*{\\delta}N)*(2*N_0 + 6*{\\delta}N)) + A*(2*N_0 + 5*{\\delta}N)*(2*N_0 + 7*{\\delta}N)*exp(-I*m*{\\delta}H*(N_0 + 3*{\\delta}N))/((2*N_0 + 4*{\\delta}N)*(2*N_0 + 6*{\\delta}N)))*exp(-I*m*{\\delta}H*(N_0 + 2*{\\delta}N))/(2*N_0 + 2*{\\delta}N))*exp(I*m*(N_0 + {\\delta}N)*(-H_0 + z - {\\delta}H))"
      ]
     },
     "execution_count": 34,
     "metadata": {},
     "output_type": "execute_result"
    }
   ],
   "source": [
    "psi[1]\n",
    "# Thus there is a clear pattern/structure to these solutions\n",
    "# Will perhaps be possible to state using summation/permutation etc notation "
   ]
  },
  {
   "cell_type": "code",
   "execution_count": 35,
   "metadata": {},
   "outputs": [
    {
     "data": {
      "text/latex": [
       "$\\displaystyle \\sqrt{\\frac{16 A^{2} N_{0}^{2} {\\delta}N^{2} \\cos^{2}{\\left(N_{0} m {\\delta}H + 3 m {\\delta}H {\\delta}N \\right)}}{\\left(4 N_{0}^{2} + 20 N_{0} {\\delta}N + 24 {\\delta}N^{2}\\right)^{2}} + \\frac{96 A^{2} N_{0} {\\delta}N^{3} \\cos^{2}{\\left(N_{0} m {\\delta}H + 3 m {\\delta}H {\\delta}N \\right)}}{\\left(4 N_{0}^{2} + 20 N_{0} {\\delta}N + 24 {\\delta}N^{2}\\right)^{2}} + \\frac{4 A^{2} {\\delta}N^{4} \\sin^{2}{\\left(N_{0} m {\\delta}H + 3 m {\\delta}H {\\delta}N \\right)}}{\\left(4 N_{0}^{2} + 20 N_{0} {\\delta}N + 24 {\\delta}N^{2}\\right)^{2}} + \\frac{144 A^{2} {\\delta}N^{4} \\cos^{2}{\\left(N_{0} m {\\delta}H + 3 m {\\delta}H {\\delta}N \\right)}}{\\left(4 N_{0}^{2} + 20 N_{0} {\\delta}N + 24 {\\delta}N^{2}\\right)^{2}}}$"
      ],
      "text/plain": [
       "sqrt(16*A**2*N_0**2*{\\delta}N**2*cos(N_0*m*{\\delta}H + 3*m*{\\delta}H*{\\delta}N)**2/(4*N_0**2 + 20*N_0*{\\delta}N + 24*{\\delta}N**2)**2 + 96*A**2*N_0*{\\delta}N**3*cos(N_0*m*{\\delta}H + 3*m*{\\delta}H*{\\delta}N)**2/(4*N_0**2 + 20*N_0*{\\delta}N + 24*{\\delta}N**2)**2 + 4*A**2*{\\delta}N**4*sin(N_0*m*{\\delta}H + 3*m*{\\delta}H*{\\delta}N)**2/(4*N_0**2 + 20*N_0*{\\delta}N + 24*{\\delta}N**2)**2 + 144*A**2*{\\delta}N**4*cos(N_0*m*{\\delta}H + 3*m*{\\delta}H*{\\delta}N)**2/(4*N_0**2 + 20*N_0*{\\delta}N + 24*{\\delta}N**2)**2)"
      ]
     },
     "execution_count": 35,
     "metadata": {},
     "output_type": "execute_result"
    }
   ],
   "source": [
    "abs(Bk[2].expand(complex=True))"
   ]
  },
  {
   "cell_type": "code",
   "execution_count": null,
   "metadata": {},
   "outputs": [],
   "source": []
  }
 ],
 "metadata": {
  "kernelspec": {
   "display_name": "Python 3",
   "language": "python",
   "name": "python3"
  },
  "language_info": {
   "codemirror_mode": {
    "name": "ipython",
    "version": 3
   },
   "file_extension": ".py",
   "mimetype": "text/x-python",
   "name": "python",
   "nbconvert_exporter": "python",
   "pygments_lexer": "ipython3",
   "version": "3.8.5"
  },
  "latex_envs": {
   "LaTeX_envs_menu_present": true,
   "autoclose": false,
   "autocomplete": true,
   "bibliofile": "biblio.bib",
   "cite_by": "apalike",
   "current_citInitial": 1,
   "eqLabelWithNumbers": true,
   "eqNumInitial": 1,
   "hotkeys": {
    "equation": "Ctrl-E",
    "itemize": "Ctrl-I"
   },
   "labels_anchors": false,
   "latex_user_defs": false,
   "report_style_numbering": false,
   "user_envs_cfg": false
  },
  "toc": {
   "base_numbering": 1,
   "nav_menu": {},
   "number_sections": true,
   "sideBar": true,
   "skip_h1_title": false,
   "title_cell": "Table of Contents",
   "title_sidebar": "Contents",
   "toc_cell": false,
   "toc_position": {},
   "toc_section_display": true,
   "toc_window_display": false
  }
 },
 "nbformat": 4,
 "nbformat_minor": 5
}
