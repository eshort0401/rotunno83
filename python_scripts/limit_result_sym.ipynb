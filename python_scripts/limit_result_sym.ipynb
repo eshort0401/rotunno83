{
 "cells": [
  {
   "cell_type": "code",
   "execution_count": 188,
   "id": "76bf955a",
   "metadata": {
    "ExecuteTime": {
     "end_time": "2023-01-02T06:19:37.170115Z",
     "start_time": "2023-01-02T06:19:36.908851Z"
    }
   },
   "outputs": [],
   "source": [
    "from sympy import *\n",
    "import numpy as np\n",
    "import matplotlib.pyplot as plt"
   ]
  },
  {
   "cell_type": "code",
   "execution_count": 223,
   "id": "a779b94e",
   "metadata": {
    "ExecuteTime": {
     "end_time": "2023-01-02T06:32:33.146588Z",
     "start_time": "2023-01-02T06:32:33.138498Z"
    }
   },
   "outputs": [],
   "source": [
    "A, m, z, del_N, del_H = symbols('A m z {\\delta}N {\\delta}H', real=True)"
   ]
  },
  {
   "cell_type": "code",
   "execution_count": 310,
   "id": "cfc9903a",
   "metadata": {
    "ExecuteTime": {
     "end_time": "2023-01-02T22:06:47.462911Z",
     "start_time": "2023-01-02T22:06:47.448797Z"
    }
   },
   "outputs": [],
   "source": [
    "# Number of N discontinuities\n",
    "n = 4\n",
    "\n",
    "# # Therefore n+1 values of N\n",
    "# N_sym_str = ['N_{}'.format(i) for i in range(n+1)]\n",
    "# N_sym_str = ' '.join(N_sym_str)\n",
    "# N = symbols(N_sym_str, real=True)\n",
    "\n",
    "# # And n values of H\n",
    "# H_sym_str = ['H_{}'.format(i) for i in range(n)]\n",
    "# H_sym_str = ' '.join(H_sym_str)\n",
    "# H = symbols(H_sym_str, real=True)\n",
    "\n",
    "# Alternatively\n",
    "H_0, N_0 = symbols('H_0 N_0', real=True)\n",
    "H = [H_0 + j*del_H for j in range(n)]\n",
    "N = [N_0 + j*del_N for j in range(n+1)]\n",
    "\n",
    "# And n+1 expressions for psi\n",
    "# Initialise these as None\n",
    "psi = [None for i in range(n+1)]\n",
    "\n",
    "# n expressions for the Ak and Bk coefficients\n",
    "Ak = [None for i in range(n+1)]\n",
    "Bk = [None for i in range(n+1)]"
   ]
  },
  {
   "cell_type": "code",
   "execution_count": 311,
   "id": "2bef1170",
   "metadata": {
    "ExecuteTime": {
     "end_time": "2023-01-02T22:06:47.914910Z",
     "start_time": "2023-01-02T22:06:47.883597Z"
    }
   },
   "outputs": [],
   "source": [
    "Ak[n] = A\n",
    "Bk[n] = 0\n",
    "psi[n] = Ak[n]*exp(I*m*N[n]*(z-H[n-1]))\n",
    "\n",
    "Ak[n-1] = A*(N[n-1]+N[n])/(2*N[n-1])\n",
    "Bk[n-1] = A*(N[n-1]-N[n])/(2*N[n-1])\n",
    "psi[n-1] = Ak[n-1]*exp(I*m*N[n-1]*(z-H[n-1])) + Bk[n-1]*exp(-I*m*N[n-1]*(z-H[n-1]))"
   ]
  },
  {
   "cell_type": "code",
   "execution_count": 312,
   "id": "a3463ec2",
   "metadata": {
    "ExecuteTime": {
     "end_time": "2023-01-02T22:06:48.307680Z",
     "start_time": "2023-01-02T22:06:48.261013Z"
    }
   },
   "outputs": [],
   "source": [
    "for j in range(n-1, 0, -1):\n",
    "    Ak[j-1] = (\n",
    "        Ak[j]*(N[j]+N[j-1])/(2*N[j-1])*exp(-I*m*N[j]*del_H)\n",
    "        + Bk[j]*(N[j-1]-N[j])/(2*N[j-1])*exp(I*m*N[j]*del_H))\n",
    "    Bk[j-1] = (\n",
    "        Ak[j]*(-N[j]+N[j-1])/(2*N[j-1])*exp(-I*m*N[j]*del_H)\n",
    "        + Bk[j]*(N[j-1]+N[j])/(2*N[j-1])*exp(I*m*N[j]*del_H))\n",
    "    psi[j-1] = Ak[j-1]*exp(I*m*N[j-1]*(z-H[j-1])) + Bk[j-1]*exp(-I*m*N[j-1]*(z-H[j-1]))"
   ]
  },
  {
   "cell_type": "code",
   "execution_count": 313,
   "id": "66592317",
   "metadata": {
    "ExecuteTime": {
     "end_time": "2023-01-02T22:06:48.874050Z",
     "start_time": "2023-01-02T22:06:48.773775Z"
    }
   },
   "outputs": [],
   "source": [
    "A_num = 1\n",
    "N0_num = 1\n",
    "del_N_num = 2/n\n",
    "del_H_num = 1/n\n",
    "m_num = 1\n",
    "H0_num = 1\n",
    "\n",
    "# Incident\n",
    "A_inc = np.abs(\n",
    "    Ak[0].subs(A, A_num).subs(N_0, N0_num).subs(\n",
    "        del_N, del_N_num).subs(del_H, del_H_num).subs(m, m_num).evalf())\n",
    "\n",
    "# Reflected\n",
    "A_ref = np.abs(\n",
    "    Bk[0].subs(A, A_num).subs(N_0, N0_num).subs(\n",
    "        del_N, del_N_num).subs(del_H, del_H_num).subs(m, m_num).evalf())"
   ]
  },
  {
   "cell_type": "code",
   "execution_count": 314,
   "id": "498ff158",
   "metadata": {
    "ExecuteTime": {
     "end_time": "2023-01-02T22:06:49.337293Z",
     "start_time": "2023-01-02T22:06:49.325082Z"
    }
   },
   "outputs": [
    {
     "data": {
      "text/latex": [
       "$\\displaystyle 0.297894192510142$"
      ],
      "text/plain": [
       "0.297894192510142"
      ]
     },
     "execution_count": 314,
     "metadata": {},
     "output_type": "execute_result"
    }
   ],
   "source": [
    "A_ref/A_inc"
   ]
  },
  {
   "cell_type": "code",
   "execution_count": 315,
   "id": "0b58d5fb",
   "metadata": {
    "ExecuteTime": {
     "end_time": "2023-01-02T22:06:50.240848Z",
     "start_time": "2023-01-02T22:06:50.227348Z"
    }
   },
   "outputs": [
    {
     "data": {
      "text/latex": [
       "$\\displaystyle 0.551137928915782$"
      ],
      "text/plain": [
       "0.551137928915782"
      ]
     },
     "execution_count": 315,
     "metadata": {},
     "output_type": "execute_result"
    }
   ],
   "source": [
    "A_num/A_inc"
   ]
  },
  {
   "cell_type": "code",
   "execution_count": 297,
   "id": "795ae6dc",
   "metadata": {
    "ExecuteTime": {
     "end_time": "2023-01-02T22:05:47.922204Z",
     "start_time": "2023-01-02T22:05:47.909904Z"
    }
   },
   "outputs": [
    {
     "data": {
      "text/plain": [
       "0.5773502691896258"
      ]
     },
     "execution_count": 297,
     "metadata": {},
     "output_type": "execute_result"
    }
   ],
   "source": [
    "1/np.sqrt(3)"
   ]
  },
  {
   "cell_type": "code",
   "execution_count": 222,
   "id": "81949955",
   "metadata": {
    "ExecuteTime": {
     "end_time": "2023-01-02T06:26:00.807723Z",
     "start_time": "2023-01-02T06:26:00.672233Z"
    }
   },
   "outputs": [
    {
     "data": {
      "text/plain": [
       "[<matplotlib.lines.Line2D at 0x7f501bc28880>]"
      ]
     },
     "execution_count": 222,
     "metadata": {},
     "output_type": "execute_result"
    },
    {
     "data": {
      "image/png": "[encoded data removed]",
      "text/plain": [
       "<Figure size 432x288 with 1 Axes>"
      ]
     },
     "metadata": {
      "needs_background": "light"
     },
     "output_type": "display_data"
    }
   ],
   "source": [
    "plt.plot([h.subs(H_0,H0_num).subs(del_H,del_H_num) for h in H])"
   ]
  },
  {
   "cell_type": "code",
   "execution_count": 275,
   "id": "eae792a6",
   "metadata": {
    "ExecuteTime": {
     "end_time": "2023-01-02T06:40:09.085495Z",
     "start_time": "2023-01-02T06:40:09.033570Z"
    }
   },
   "outputs": [
    {
     "ename": "AttributeError",
     "evalue": "'int' object has no attribute 'subs'",
     "output_type": "error",
     "traceback": [
      "\u001b[0;31m---------------------------------------------------------------------------\u001b[0m",
      "\u001b[0;31mAttributeError\u001b[0m                            Traceback (most recent call last)",
      "\u001b[0;32m/tmp/ipykernel_9288/1909994911.py\u001b[0m in \u001b[0;36m<module>\u001b[0;34m\u001b[0m\n\u001b[0;32m----> 1\u001b[0;31m \u001b[0mplt\u001b[0m\u001b[0;34m.\u001b[0m\u001b[0mplot\u001b[0m\u001b[0;34m(\u001b[0m\u001b[0;34m[\u001b[0m\u001b[0mbk\u001b[0m\u001b[0;34m.\u001b[0m\u001b[0msubs\u001b[0m\u001b[0;34m(\u001b[0m\u001b[0mH_0\u001b[0m\u001b[0;34m,\u001b[0m\u001b[0mH0_num\u001b[0m\u001b[0;34m)\u001b[0m\u001b[0;34m.\u001b[0m\u001b[0msubs\u001b[0m\u001b[0;34m(\u001b[0m\u001b[0mdel_H\u001b[0m\u001b[0;34m,\u001b[0m\u001b[0mdel_H_num\u001b[0m\u001b[0;34m)\u001b[0m \u001b[0;32mfor\u001b[0m \u001b[0mbk\u001b[0m \u001b[0;32min\u001b[0m \u001b[0mBk\u001b[0m\u001b[0;34m]\u001b[0m\u001b[0;34m)\u001b[0m\u001b[0;34m\u001b[0m\u001b[0;34m\u001b[0m\u001b[0m\n\u001b[0m\u001b[1;32m      2\u001b[0m \u001b[0mplt\u001b[0m\u001b[0;34m.\u001b[0m\u001b[0mplot\u001b[0m\u001b[0;34m(\u001b[0m\u001b[0;34m[\u001b[0m\u001b[0mak\u001b[0m\u001b[0;34m.\u001b[0m\u001b[0msubs\u001b[0m\u001b[0;34m(\u001b[0m\u001b[0mH_0\u001b[0m\u001b[0;34m,\u001b[0m\u001b[0mH0_num\u001b[0m\u001b[0;34m)\u001b[0m\u001b[0;34m.\u001b[0m\u001b[0msubs\u001b[0m\u001b[0;34m(\u001b[0m\u001b[0mdel_H\u001b[0m\u001b[0;34m,\u001b[0m\u001b[0mdel_H_num\u001b[0m\u001b[0;34m)\u001b[0m \u001b[0;32mfor\u001b[0m \u001b[0mak\u001b[0m \u001b[0;32min\u001b[0m \u001b[0mAk\u001b[0m\u001b[0;34m]\u001b[0m\u001b[0;34m)\u001b[0m\u001b[0;34m\u001b[0m\u001b[0;34m\u001b[0m\u001b[0m\n",
      "\u001b[0;32m/tmp/ipykernel_9288/1909994911.py\u001b[0m in \u001b[0;36m<listcomp>\u001b[0;34m(.0)\u001b[0m\n\u001b[0;32m----> 1\u001b[0;31m \u001b[0mplt\u001b[0m\u001b[0;34m.\u001b[0m\u001b[0mplot\u001b[0m\u001b[0;34m(\u001b[0m\u001b[0;34m[\u001b[0m\u001b[0mbk\u001b[0m\u001b[0;34m.\u001b[0m\u001b[0msubs\u001b[0m\u001b[0;34m(\u001b[0m\u001b[0mH_0\u001b[0m\u001b[0;34m,\u001b[0m\u001b[0mH0_num\u001b[0m\u001b[0;34m)\u001b[0m\u001b[0;34m.\u001b[0m\u001b[0msubs\u001b[0m\u001b[0;34m(\u001b[0m\u001b[0mdel_H\u001b[0m\u001b[0;34m,\u001b[0m\u001b[0mdel_H_num\u001b[0m\u001b[0;34m)\u001b[0m \u001b[0;32mfor\u001b[0m \u001b[0mbk\u001b[0m \u001b[0;32min\u001b[0m \u001b[0mBk\u001b[0m\u001b[0;34m]\u001b[0m\u001b[0;34m)\u001b[0m\u001b[0;34m\u001b[0m\u001b[0;34m\u001b[0m\u001b[0m\n\u001b[0m\u001b[1;32m      2\u001b[0m \u001b[0mplt\u001b[0m\u001b[0;34m.\u001b[0m\u001b[0mplot\u001b[0m\u001b[0;34m(\u001b[0m\u001b[0;34m[\u001b[0m\u001b[0mak\u001b[0m\u001b[0;34m.\u001b[0m\u001b[0msubs\u001b[0m\u001b[0;34m(\u001b[0m\u001b[0mH_0\u001b[0m\u001b[0;34m,\u001b[0m\u001b[0mH0_num\u001b[0m\u001b[0;34m)\u001b[0m\u001b[0;34m.\u001b[0m\u001b[0msubs\u001b[0m\u001b[0;34m(\u001b[0m\u001b[0mdel_H\u001b[0m\u001b[0;34m,\u001b[0m\u001b[0mdel_H_num\u001b[0m\u001b[0;34m)\u001b[0m \u001b[0;32mfor\u001b[0m \u001b[0mak\u001b[0m \u001b[0;32min\u001b[0m \u001b[0mAk\u001b[0m\u001b[0;34m]\u001b[0m\u001b[0;34m)\u001b[0m\u001b[0;34m\u001b[0m\u001b[0;34m\u001b[0m\u001b[0m\n",
      "\u001b[0;31mAttributeError\u001b[0m: 'int' object has no attribute 'subs'"
     ]
    }
   ],
   "source": [
    "plt.plot([bk.subs(H_0,H0_num).subs(del_H,del_H_num) for bk in Bk])\n",
    "plt.plot([ak.subs(H_0,H0_num).subs(del_H,del_H_num) for ak in Ak])"
   ]
  },
  {
   "cell_type": "code",
   "execution_count": 277,
   "id": "ac5a02c5",
   "metadata": {
    "ExecuteTime": {
     "end_time": "2023-01-02T06:40:41.617747Z",
     "start_time": "2023-01-02T06:40:41.575596Z"
    }
   },
   "outputs": [
    {
     "data": {
      "text/plain": [
       "[-{\\delta}N*(-A*{\\delta}N*(2*N_0 + 3*{\\delta}N)*exp(I*m*{\\delta}H*(N_0 + 2*{\\delta}N))/((2*N_0 + 2*{\\delta}N)*(2*N_0 + 4*{\\delta}N)) - A*{\\delta}N*(2*N_0 + 5*{\\delta}N)*exp(-I*m*{\\delta}H*(N_0 + 2*{\\delta}N))/((2*N_0 + 2*{\\delta}N)*(2*N_0 + 4*{\\delta}N)))*exp(I*m*{\\delta}H*(N_0 + {\\delta}N))/(2*N_0) + (2*N_0 + {\\delta}N)*(A*{\\delta}N**2*exp(I*m*{\\delta}H*(N_0 + 2*{\\delta}N))/((2*N_0 + 2*{\\delta}N)*(2*N_0 + 4*{\\delta}N)) + A*(2*N_0 + 3*{\\delta}N)*(2*N_0 + 5*{\\delta}N)*exp(-I*m*{\\delta}H*(N_0 + 2*{\\delta}N))/((2*N_0 + 2*{\\delta}N)*(2*N_0 + 4*{\\delta}N)))*exp(-I*m*{\\delta}H*(N_0 + {\\delta}N))/(2*N_0),\n",
       " A*{\\delta}N**2*exp(I*m*{\\delta}H*(N_0 + 2*{\\delta}N))/((2*N_0 + 2*{\\delta}N)*(2*N_0 + 4*{\\delta}N)) + A*(2*N_0 + 3*{\\delta}N)*(2*N_0 + 5*{\\delta}N)*exp(-I*m*{\\delta}H*(N_0 + 2*{\\delta}N))/((2*N_0 + 2*{\\delta}N)*(2*N_0 + 4*{\\delta}N)),\n",
       " A*(2*N_0 + 5*{\\delta}N)/(2*N_0 + 4*{\\delta}N),\n",
       " A]"
      ]
     },
     "execution_count": 277,
     "metadata": {},
     "output_type": "execute_result"
    }
   ],
   "source": [
    "Ak"
   ]
  }
 ],
 "metadata": {
  "kernelspec": {
   "display_name": "Python 3 (ipykernel)",
   "language": "python",
   "name": "python3"
  },
  "language_info": {
   "codemirror_mode": {
    "name": "ipython",
    "version": 3
   },
   "file_extension": ".py",
   "mimetype": "text/x-python",
   "name": "python",
   "nbconvert_exporter": "python",
   "pygments_lexer": "ipython3",
   "version": "3.8.10"
  },
  "latex_envs": {
   "LaTeX_envs_menu_present": true,
   "autoclose": false,
   "autocomplete": true,
   "bibliofile": "biblio.bib",
   "cite_by": "apalike",
   "current_citInitial": 1,
   "eqLabelWithNumbers": true,
   "eqNumInitial": 1,
   "hotkeys": {
    "equation": "Ctrl-E",
    "itemize": "Ctrl-I"
   },
   "labels_anchors": false,
   "latex_user_defs": false,
   "report_style_numbering": false,
   "user_envs_cfg": false
  },
  "toc": {
   "base_numbering": 1,
   "nav_menu": {},
   "number_sections": true,
   "sideBar": true,
   "skip_h1_title": false,
   "title_cell": "Table of Contents",
   "title_sidebar": "Contents",
   "toc_cell": false,
   "toc_position": {},
   "toc_section_display": true,
   "toc_window_display": false
  }
 },
 "nbformat": 4,
 "nbformat_minor": 5
}
