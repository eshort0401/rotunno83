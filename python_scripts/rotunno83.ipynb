{
 "cells": [
  {
   "cell_type": "code",
   "execution_count": 247,
   "metadata": {
    "ExecuteTime": {
     "end_time": "2019-11-21T18:54:17.511560Z",
     "start_time": "2019-11-21T18:54:17.488677Z"
    }
   },
   "outputs": [],
   "source": [
    "import copy\n",
    "\n",
    "import numpy as np\n",
    "import xarray as xr\n",
    "\n",
    "import sys, pdb, traceback\n",
    "\n",
    "import matplotlib.pyplot as plt\n",
    "\n",
    "import rotunno as rt"
   ]
  },
  {
   "cell_type": "code",
   "execution_count": 248,
   "metadata": {
    "ExecuteTime": {
     "end_time": "2019-11-21T18:54:18.677419Z",
     "start_time": "2019-11-21T18:54:18.673076Z"
    }
   },
   "outputs": [
    {
     "name": "stdout",
     "output_type": "stream",
     "text": [
      "The autoreload extension is already loaded. To reload it, use:\n",
      "  %reload_ext autoreload\n"
     ]
    }
   ],
   "source": [
    "# Convenience functions\n",
    "%load_ext autoreload\n",
    "%autoreload 1\n",
    "%aimport rotunno, qian_helpers, rotunno_helpers"
   ]
  },
  {
   "cell_type": "code",
   "execution_count": 272,
   "metadata": {
    "ExecuteTime": {
     "end_time": "2019-11-21T19:09:06.894647Z",
     "start_time": "2019-11-21T19:07:02.273514Z"
    }
   },
   "outputs": [
    {
     "name": "stdout",
     "output_type": "stream",
     "text": [
      "Initialising\n",
      "Integrating\n",
      "100%|██████████| 40/40 [01:20<00:00,  2.02s/it]\n",
      "Saving\n",
      "Initialising\n",
      "Integrating\n",
      "100%|██████████| 81/81 [00:42<00:00,  1.89it/s]\n",
      "Saving\n"
     ]
    }
   ],
   "source": [
    "ds_qian = rt.solve_qian(xiN=81, zetaN=41, tauN=32, sN=1000, U=0, L=0.2, alpha=3, save=False)\n",
    "ds_rotunno = rt.solve_rotunno_case_two(xiN=81, zetaN=41, tauN=32, kN=1000, \n",
    "                                       xi0=0.2, beta=0.007195175718401071)"
   ]
  },
  {
   "cell_type": "code",
   "execution_count": 99,
   "metadata": {
    "ExecuteTime": {
     "end_time": "2019-11-21T15:32:05.099009Z",
     "start_time": "2019-11-21T15:32:05.080968Z"
    }
   },
   "outputs": [
    {
     "data": {
      "text/plain": [
       "<xarray.Dataset>\n",
       "Dimensions:  (tau: 16, xi: 41, zeta: 21)\n",
       "Coordinates:\n",
       "  * tau      (tau) float64 0.0 0.3927 0.7854 1.178 ... 4.712 5.105 5.498 5.89\n",
       "  * zeta     (zeta) float64 0.0 0.2 0.4 0.6 0.8 1.0 ... 3.0 3.2 3.4 3.6 3.8 4.0\n",
       "  * xi       (xi) float64 -2.0 -1.9 -1.8 -1.7 -1.6 -1.5 ... 1.6 1.7 1.8 1.9 2.0\n",
       "Data variables:\n",
       "    psi      (tau, zeta, xi) float64 -0.0 -0.0 -0.0 -0.0 ... -1.829 -1.831 -1.83\n",
       "    u        (tau, zeta, xi) float64 0.8228 0.8022 0.7703 ... 0.2367 0.2021\n",
       "    w        (tau, zeta, xi) float64 -0.0 -0.0 -0.0 ... 0.02243 0.002184 -0.0238\n",
       "Attributes:\n",
       "    xi0:      0.2\n",
       "    beta:     0.007195\n",
       "    Atilde:   1000"
      ]
     },
     "execution_count": 99,
     "metadata": {},
     "output_type": "execute_result"
    }
   ],
   "source": [
    "# ds_qian\n",
    "ds_rotunno"
   ]
  },
  {
   "cell_type": "code",
   "execution_count": 263,
   "metadata": {
    "ExecuteTime": {
     "end_time": "2019-11-21T19:00:18.844125Z",
     "start_time": "2019-11-21T19:00:18.839762Z"
    }
   },
   "outputs": [],
   "source": [
    "beta, Atilde, f, h = rt.calc_rotunno_parameters(latitude=0)"
   ]
  },
  {
   "cell_type": "code",
   "execution_count": 264,
   "metadata": {
    "ExecuteTime": {
     "end_time": "2019-11-21T19:00:24.405950Z",
     "start_time": "2019-11-21T19:00:24.387732Z"
    }
   },
   "outputs": [
    {
     "data": {
      "text/plain": [
       "0.007195175718401071"
      ]
     },
     "execution_count": 264,
     "metadata": {},
     "output_type": "execute_result"
    }
   ],
   "source": [
    "beta"
   ]
  },
  {
   "cell_type": "code",
   "execution_count": 185,
   "metadata": {
    "ExecuteTime": {
     "end_time": "2019-11-21T16:25:27.207318Z",
     "start_time": "2019-11-21T16:25:27.201276Z"
    }
   },
   "outputs": [
    {
     "data": {
      "text/plain": [
       "2406422.7395494576"
      ]
     },
     "execution_count": 185,
     "metadata": {},
     "output_type": "execute_result"
    }
   ],
   "source": [
    "500*0.35/omega"
   ]
  },
  {
   "cell_type": "code",
   "execution_count": 86,
   "metadata": {
    "ExecuteTime": {
     "end_time": "2019-11-21T15:20:47.503699Z",
     "start_time": "2019-11-21T15:20:47.498877Z"
    }
   },
   "outputs": [
    {
     "name": "stdout",
     "output_type": "stream",
     "text": [
      "2.270138888888889e-06\n",
      "1.812339305420153e-08\n"
     ]
    }
   ],
   "source": [
    "omega = 2*np.pi/(24*3600)\n",
    "print(9.807*(3/300)/(12*3600))\n",
    "print(10*3*500*np.pi*omega**3)"
   ]
  },
  {
   "cell_type": "code",
   "execution_count": 266,
   "metadata": {
    "ExecuteTime": {
     "end_time": "2019-11-21T19:01:44.183046Z",
     "start_time": "2019-11-21T19:01:44.151066Z"
    }
   },
   "outputs": [],
   "source": [
    "ds_rotunno_dim = rt.redimensionalise_rotunno(copy.deepcopy(ds_rotunno), h=500, f=0, N=0.035)\n",
    "ds_qian_dim = rt.redimensionalise_qian(copy.deepcopy(ds_qian), h=500, N=0.035, Q0=10**3*omega**3*500*np.pi**2)"
   ]
  },
  {
   "cell_type": "code",
   "execution_count": 204,
   "metadata": {
    "ExecuteTime": {
     "end_time": "2019-11-21T17:54:34.896742Z",
     "start_time": "2019-11-21T17:54:34.887960Z"
    }
   },
   "outputs": [
    {
     "data": {
      "text/plain": [
       "2.25e-06"
      ]
     },
     "execution_count": 204,
     "metadata": {},
     "output_type": "execute_result"
    }
   ],
   "source": [
    "10**(-6)*2.25"
   ]
  },
  {
   "cell_type": "code",
   "execution_count": 209,
   "metadata": {
    "ExecuteTime": {
     "end_time": "2019-11-21T17:55:58.001399Z",
     "start_time": "2019-11-21T17:55:57.994771Z"
    }
   },
   "outputs": [
    {
     "data": {
      "text/plain": [
       "6.041131018067176e-07"
      ]
     },
     "execution_count": 209,
     "metadata": {},
     "output_type": "execute_result"
    }
   ],
   "source": [
    "10**3*omega**3*500*np.pi"
   ]
  },
  {
   "cell_type": "code",
   "execution_count": 193,
   "metadata": {
    "ExecuteTime": {
     "end_time": "2019-11-21T16:34:21.722571Z",
     "start_time": "2019-11-21T16:34:21.717033Z"
    }
   },
   "outputs": [
    {
     "data": {
      "text/plain": [
       "2.25e-06"
      ]
     },
     "execution_count": 193,
     "metadata": {},
     "output_type": "execute_result"
    }
   ],
   "source": [
    "10**(-6)*2.25"
   ]
  },
  {
   "cell_type": "code",
   "execution_count": 191,
   "metadata": {
    "ExecuteTime": {
     "end_time": "2019-11-21T16:31:21.734631Z",
     "start_time": "2019-11-21T16:31:21.728855Z"
    }
   },
   "outputs": [
    {
     "data": {
      "text/plain": [
       "481.28454790989156"
      ]
     },
     "execution_count": 191,
     "metadata": {},
     "output_type": "execute_result"
    }
   ],
   "source": [
    "0.035/omega"
   ]
  },
  {
   "cell_type": "code",
   "execution_count": 201,
   "metadata": {
    "ExecuteTime": {
     "end_time": "2019-11-21T16:37:42.286341Z",
     "start_time": "2019-11-21T16:37:42.277143Z"
    }
   },
   "outputs": [
    {
     "data": {
      "text/plain": [
       "28.57142857142857"
      ]
     },
     "execution_count": 201,
     "metadata": {},
     "output_type": "execute_result"
    }
   ],
   "source": [
    "1/0.035"
   ]
  },
  {
   "cell_type": "code",
   "execution_count": 211,
   "metadata": {
    "ExecuteTime": {
     "end_time": "2019-11-21T17:56:33.228248Z",
     "start_time": "2019-11-21T17:56:33.214845Z"
    }
   },
   "outputs": [
    {
     "data": {
      "text/plain": [
       "<xarray.Dataset>\n",
       "Dimensions:  (tau: 16, xi: 41, zeta: 21)\n",
       "Coordinates:\n",
       "  * tau      (tau) float64 0.0 5.4e+03 1.08e+04 ... 7.02e+04 7.56e+04 8.1e+04\n",
       "  * zeta     (zeta) float64 0.0 100.0 200.0 300.0 ... 1.8e+03 1.9e+03 2e+03\n",
       "  * xi       (xi) float64 -4.813e+05 -4.572e+05 ... 4.572e+05 4.813e+05\n",
       "Data variables:\n",
       "    psi      (tau, zeta, xi) float64 -0.0 -0.0 -0.0 ... -33.33 -33.35 -33.33\n",
       "    u        (tau, zeta, xi) float64 0.02988 0.02913 ... 0.008575 0.007315\n",
       "    w        (tau, zeta, xi) float64 -0.0 -0.0 -0.0 ... 1.664e-07 -1.799e-06\n",
       "Attributes:\n",
       "    xi0:      0.2\n",
       "    beta:     0.007195\n",
       "    Atilde:   1000\n",
       "    h:        500\n",
       "    f:        0\n",
       "    N:        0.035"
      ]
     },
     "execution_count": 211,
     "metadata": {},
     "output_type": "execute_result"
    }
   ],
   "source": [
    "ds_rotunno_dim"
   ]
  },
  {
   "cell_type": "code",
   "execution_count": 212,
   "metadata": {
    "ExecuteTime": {
     "end_time": "2019-11-21T17:56:33.725579Z",
     "start_time": "2019-11-21T17:56:33.698982Z"
    }
   },
   "outputs": [
    {
     "data": {
      "text/plain": [
       "<xarray.Dataset>\n",
       "Dimensions:  (tau: 16, xi: 41, zeta: 21)\n",
       "Coordinates:\n",
       "  * tau      (tau) float64 0.0 5.4e+03 1.08e+04 ... 7.02e+04 7.56e+04 8.1e+04\n",
       "  * zeta     (zeta) float64 0.0 100.0 200.0 300.0 ... 1.8e+03 1.9e+03 2e+03\n",
       "  * xi       (xi) float64 -4.813e+05 -4.572e+05 ... 4.572e+05 4.813e+05\n",
       "Data variables:\n",
       "    psi      (tau, zeta, xi) float32 0.0 0.0 0.0 ... -8.501268 -8.91638\n",
       "    u        (tau, zeta, xi) float32 -0.01782561 -0.01947051 ... 0.009436299\n",
       "    w        (tau, zeta, xi) float32 0.0 0.0 0.0 ... 1.6609867e-05 1.7903543e-05"
      ]
     },
     "execution_count": 212,
     "metadata": {},
     "output_type": "execute_result"
    }
   ],
   "source": [
    "ds_qian_dim.sum(dim='mode')"
   ]
  },
  {
   "cell_type": "code",
   "execution_count": 267,
   "metadata": {
    "ExecuteTime": {
     "end_time": "2019-11-21T19:01:50.015415Z",
     "start_time": "2019-11-21T19:01:49.983406Z"
    }
   },
   "outputs": [
    {
     "name": "stdout",
     "output_type": "stream",
     "text": [
      "<xarray.Dataset>\n",
      "Dimensions:  ()\n",
      "Data variables:\n",
      "    psi      float64 1.534e+03\n",
      "    u        float64 0.004617\n",
      "    w        float64 1.44e-08\n",
      "<xarray.Dataset>\n",
      "Dimensions:  ()\n",
      "Data variables:\n",
      "    psi      float32 1262.6056\n",
      "    u        float32 0.003752243\n",
      "    w        float32 1.1849193e-08\n",
      "<xarray.Dataset>\n",
      "Dimensions:  ()\n",
      "Data variables:\n",
      "    psi      float64 4.641\n",
      "    u        float64 3.492\n",
      "    w        float64 2.522\n",
      "<xarray.Dataset>\n",
      "Dimensions:  ()\n",
      "Data variables:\n",
      "    psi      float32 0.009083639\n",
      "    u        float32 0.0067487457\n",
      "    w        float32 0.004936563\n",
      "<xarray.DataArray 'xi' (xi: 81)>\n",
      "array([-481284.54791 , -469252.434212, -457220.320514, -445188.206817,\n",
      "       -433156.093119, -421123.979421, -409091.865723, -397059.752026,\n",
      "       -385027.638328, -372995.52463 , -360963.410932, -348931.297235,\n",
      "       -336899.183537, -324867.069839, -312834.956141, -300802.842444,\n",
      "       -288770.728746, -276738.615048, -264706.50135 , -252674.387653,\n",
      "       -240642.273955, -228610.160257, -216578.046559, -204545.932862,\n",
      "       -192513.819164, -180481.705466, -168449.591768, -156417.478071,\n",
      "       -144385.364373, -132353.250675, -120321.136977, -108289.02328 ,\n",
      "        -96256.909582,  -84224.795884,  -72192.682186,  -60160.568489,\n",
      "        -48128.454791,  -36096.341093,  -24064.227395,  -12032.113698,\n",
      "             0.      ,   12032.113698,   24064.227395,   36096.341093,\n",
      "         48128.454791,   60160.568489,   72192.682186,   84224.795884,\n",
      "         96256.909582,  108289.02328 ,  120321.136977,  132353.250675,\n",
      "        144385.364373,  156417.478071,  168449.591768,  180481.705466,\n",
      "        192513.819164,  204545.932862,  216578.046559,  228610.160257,\n",
      "        240642.273955,  252674.387653,  264706.50135 ,  276738.615048,\n",
      "        288770.728746,  300802.842444,  312834.956141,  324867.069839,\n",
      "        336899.183537,  348931.297235,  360963.410932,  372995.52463 ,\n",
      "        385027.638328,  397059.752026,  409091.865723,  421123.979421,\n",
      "        433156.093119,  445188.206817,  457220.320514,  469252.434212,\n",
      "        481284.54791 ])\n",
      "Coordinates:\n",
      "  * xi       (xi) float64 -4.813e+05 -4.693e+05 ... 4.693e+05 4.813e+05\n",
      "Attributes:\n",
      "    units:    m\n",
      "<xarray.DataArray 'xi' (xi: 81)>\n",
      "array([-481284.54791 , -469252.434212, -457220.320514, -445188.206817,\n",
      "       -433156.093119, -421123.979421, -409091.865723, -397059.752026,\n",
      "       -385027.638328, -372995.52463 , -360963.410932, -348931.297235,\n",
      "       -336899.183537, -324867.069839, -312834.956141, -300802.842444,\n",
      "       -288770.728746, -276738.615048, -264706.50135 , -252674.387653,\n",
      "       -240642.273955, -228610.160257, -216578.046559, -204545.932862,\n",
      "       -192513.819164, -180481.705466, -168449.591768, -156417.478071,\n",
      "       -144385.364373, -132353.250675, -120321.136977, -108289.02328 ,\n",
      "        -96256.909582,  -84224.795884,  -72192.682186,  -60160.568489,\n",
      "        -48128.454791,  -36096.341093,  -24064.227395,  -12032.113698,\n",
      "             0.      ,   12032.113698,   24064.227395,   36096.341093,\n",
      "         48128.454791,   60160.568489,   72192.682186,   84224.795884,\n",
      "         96256.909582,  108289.02328 ,  120321.136977,  132353.250675,\n",
      "        144385.364373,  156417.478071,  168449.591768,  180481.705466,\n",
      "        192513.819164,  204545.932862,  216578.046559,  228610.160257,\n",
      "        240642.273955,  252674.387653,  264706.50135 ,  276738.615048,\n",
      "        288770.728746,  300802.842444,  312834.956141,  324867.069839,\n",
      "        336899.183537,  348931.297235,  360963.410932,  372995.52463 ,\n",
      "        385027.638328,  397059.752026,  409091.865723,  421123.979421,\n",
      "        433156.093119,  445188.206817,  457220.320514,  469252.434212,\n",
      "        481284.54791 ])\n",
      "Coordinates:\n",
      "  * xi       (xi) float64 -4.813e+05 -4.693e+05 ... 4.693e+05 4.813e+05\n",
      "Attributes:\n",
      "    units:    m\n"
     ]
    }
   ],
   "source": [
    "print((ds_rotunno_dim**2).mean())\n",
    "print((ds_qian_dim.sum(dim='mode')**2).mean())\n",
    "print((ds_rotunno**2).mean())\n",
    "print((ds_qian.sum(dim='mode')**2).mean())\n",
    "\n",
    "print(ds_rotunno_dim.xi)\n",
    "print(ds_qian_dim.xi)"
   ]
  },
  {
   "cell_type": "code",
   "execution_count": 57,
   "metadata": {
    "ExecuteTime": {
     "end_time": "2019-11-21T15:00:36.469122Z",
     "start_time": "2019-11-21T15:00:36.463032Z"
    }
   },
   "outputs": [
    {
     "data": {
      "text/plain": [
       "<xarray.DataArray 'w' ()>\n",
       "array(0.186199)"
      ]
     },
     "execution_count": 57,
     "metadata": {},
     "output_type": "execute_result"
    }
   ],
   "source": [
    "ds_dim.w.max()"
   ]
  },
  {
   "cell_type": "code",
   "execution_count": 277,
   "metadata": {
    "ExecuteTime": {
     "end_time": "2019-11-21T05:24:37.015517Z",
     "start_time": "2019-11-21T05:24:36.993084Z"
    }
   },
   "outputs": [],
   "source": [
    "ds = xr.open_dataset('/home/student.unimelb.edu.au/shorte1/Documents/rotunno83/datasets/qian_20191121_081203.nc')"
   ]
  },
  {
   "cell_type": "code",
   "execution_count": 274,
   "metadata": {
    "ExecuteTime": {
     "end_time": "2019-11-21T19:12:10.313218Z",
     "start_time": "2019-11-21T19:12:05.422345Z"
    }
   },
   "outputs": [
    {
     "name": "stdout",
     "output_type": "stream",
     "text": [
      "Plotting velocity.\n",
      "Timestep 0\n",
      "Timestep 0\n",
      "Timestep 1\n",
      "Timestep 2\n",
      "Timestep 3\n",
      "Timestep 4\n",
      "Timestep 5\n",
      "Timestep 6\n",
      "Timestep 7\n",
      "Timestep 8\n",
      "Timestep 9\n",
      "Timestep 10\n",
      "Timestep 11\n",
      "Timestep 12\n",
      "Timestep 13\n",
      "Timestep 14\n",
      "Timestep 15\n",
      "Timestep 16\n",
      "Timestep 17\n",
      "Timestep 18\n",
      "Timestep 19\n",
      "Timestep 20\n",
      "Timestep 21\n",
      "Timestep 22\n",
      "Timestep 23\n",
      "Timestep 24\n",
      "Timestep 25\n",
      "Timestep 26\n",
      "Timestep 27\n",
      "Timestep 28\n",
      "Timestep 29\n",
      "Timestep 30\n",
      "Timestep 31\n"
     ]
    }
   ],
   "source": [
    "# rt.animateVelocity(ds.sum(dim='mode', keep_attrs=True).squeeze())\n",
    "# rt.animateVelocity(ds_rotunno_dim)\n",
    "rt.animateVelocity(ds_qian_dim.sum(dim='mode', keep_attrs=True).squeeze())"
   ]
  },
  {
   "cell_type": "code",
   "execution_count": 43,
   "metadata": {
    "ExecuteTime": {
     "end_time": "2019-11-21T14:42:41.609108Z",
     "start_time": "2019-11-21T14:42:38.278204Z"
    }
   },
   "outputs": [
    {
     "name": "stdout",
     "output_type": "stream",
     "text": [
      "Plotting stream function.\n",
      "Timestep 0\n",
      "Timestep 0\n",
      "Timestep 1\n",
      "Timestep 2\n",
      "Timestep 3\n",
      "Timestep 4\n",
      "Timestep 5\n",
      "Timestep 6\n",
      "Timestep 7\n",
      "Timestep 8\n",
      "Timestep 9\n",
      "Timestep 10\n",
      "Timestep 11\n",
      "Timestep 12\n",
      "Timestep 13\n",
      "Timestep 14\n",
      "Timestep 15\n"
     ]
    }
   ],
   "source": [
    "# rt.animatePsi(ds_dim.sum(dim='mode', keep_attrs=True).squeeze())\n",
    "# rt.animatePsi(ds_dim.sel(mode=2).squeeze())\n",
    "rt.animatePsi(ds_dim)"
   ]
  },
  {
   "cell_type": "code",
   "execution_count": 231,
   "metadata": {
    "ExecuteTime": {
     "end_time": "2019-11-21T18:08:11.918275Z",
     "start_time": "2019-11-21T18:08:11.910176Z"
    }
   },
   "outputs": [
    {
     "data": {
      "text/plain": [
       "0.01225"
      ]
     },
     "execution_count": 231,
     "metadata": {},
     "output_type": "execute_result"
    }
   ],
   "source": [
    "0.35*0.035"
   ]
  },
  {
   "cell_type": "code",
   "execution_count": 232,
   "metadata": {
    "ExecuteTime": {
     "end_time": "2019-11-21T18:09:19.987894Z",
     "start_time": "2019-11-21T18:09:19.978962Z"
    }
   },
   "outputs": [
    {
     "data": {
      "text/plain": [
       "0.11140846016432673"
      ]
     },
     "execution_count": 232,
     "metadata": {},
     "output_type": "execute_result"
    }
   ],
   "source": [
    "0.35/np.pi"
   ]
  },
  {
   "cell_type": "code",
   "execution_count": 259,
   "metadata": {
    "ExecuteTime": {
     "end_time": "2019-11-21T18:55:46.536075Z",
     "start_time": "2019-11-21T18:55:46.381129Z"
    },
    "scrolled": false
   },
   "outputs": [
    {
     "name": "stdout",
     "output_type": "stream",
     "text": [
      "Plotting velocity.\n"
     ]
    },
    {
     "data": {
      "image/png": "[encoded data removed]",
      "text/plain": [
       "<Figure size 432x288 with 2 Axes>"
      ]
     },
     "metadata": {},
     "output_type": "display_data"
    }
   ],
   "source": [
    "rt.plotVelocity(ds_rotunno_dim, t=9); plt.show()"
   ]
  },
  {
   "cell_type": "code",
   "execution_count": 256,
   "metadata": {
    "ExecuteTime": {
     "end_time": "2019-11-21T18:55:28.277127Z",
     "start_time": "2019-11-21T18:55:28.116572Z"
    }
   },
   "outputs": [
    {
     "name": "stdout",
     "output_type": "stream",
     "text": [
      "Plotting velocity.\n"
     ]
    },
    {
     "data": {
      "image/png": "[encoded data removed]",
      "text/plain": [
       "<Figure size 432x288 with 2 Axes>"
      ]
     },
     "metadata": {},
     "output_type": "display_data"
    }
   ],
   "source": [
    "rt.plotVelocity(ds_qian_dim.sum(dim='mode', keep_attrs=True).squeeze(), t=5); plt.show()"
   ]
  },
  {
   "cell_type": "code",
   "execution_count": 40,
   "metadata": {
    "ExecuteTime": {
     "end_time": "2019-11-21T10:50:58.498102Z",
     "start_time": "2019-11-21T10:50:58.479284Z"
    }
   },
   "outputs": [
    {
     "name": "stdout",
     "output_type": "stream",
     "text": [
      "<xarray.DataArray 'u' ()>\n",
      "array(-13.749331)\n",
      "<xarray.DataArray 'w' ()>\n",
      "array(-5.635027)\n",
      "<xarray.DataArray 'u' ()>\n",
      "array(-1.499819)\n",
      "<xarray.DataArray 'w' ()>\n",
      "array(-0.614686)\n"
     ]
    }
   ],
   "source": [
    "print(ds.u.min())\n",
    "print(ds.w.min())\n",
    "print(ds_dim.u.min())\n",
    "print(ds_dim.w.min())"
   ]
  },
  {
   "cell_type": "code",
   "execution_count": null,
   "metadata": {},
   "outputs": [],
   "source": []
  }
 ],
 "metadata": {
  "kernelspec": {
   "display_name": "Python 3",
   "language": "python",
   "name": "python3"
  },
  "language_info": {
   "codemirror_mode": {
    "name": "ipython",
    "version": 3
   },
   "file_extension": ".py",
   "mimetype": "text/x-python",
   "name": "python",
   "nbconvert_exporter": "python",
   "pygments_lexer": "ipython3",
   "version": "3.6.5"
  },
  "toc": {
   "base_numbering": 1,
   "nav_menu": {},
   "number_sections": true,
   "sideBar": true,
   "skip_h1_title": false,
   "title_cell": "Table of Contents",
   "title_sidebar": "Contents",
   "toc_cell": false,
   "toc_position": {},
   "toc_section_display": true,
   "toc_window_display": false
  }
 },
 "nbformat": 4,
 "nbformat_minor": 2
}
