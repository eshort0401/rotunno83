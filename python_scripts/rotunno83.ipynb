{
 "cells": [
  {
   "cell_type": "code",
   "execution_count": 1,
   "metadata": {
    "ExecuteTime": {
     "end_time": "2019-11-21T20:14:02.254838Z",
     "start_time": "2019-11-21T20:14:01.590801Z"
    }
   },
   "outputs": [],
   "source": [
    "import copy\n",
    "\n",
    "import numpy as np\n",
    "import xarray as xr\n",
    "\n",
    "import sys, pdb, traceback\n",
    "\n",
    "import matplotlib.pyplot as plt\n",
    "\n",
    "import rotunno as rt"
   ]
  },
  {
   "cell_type": "code",
   "execution_count": 2,
   "metadata": {
    "ExecuteTime": {
     "end_time": "2019-11-21T20:14:03.709205Z",
     "start_time": "2019-11-21T20:14:03.688403Z"
    }
   },
   "outputs": [],
   "source": [
    "# Convenience functions\n",
    "%load_ext autoreload\n",
    "%autoreload 1\n",
    "%aimport rotunno, qian_helpers, rotunno_helpers"
   ]
  },
  {
   "cell_type": "code",
   "execution_count": null,
   "metadata": {
    "ExecuteTime": {
     "start_time": "2019-11-21T20:14:04.521Z"
    }
   },
   "outputs": [
    {
     "name": "stdout",
     "output_type": "stream",
     "text": [
      "Initialising\n",
      "Integrating\n",
      " 44%|████▍     | 18/41 [01:21<01:49,  4.76s/it]"
     ]
    }
   ],
   "source": [
    "ds_qian = rt.solve_qian(xiN=81, zetaN=41, tauN=32, sN=3000, U=0, L=0.2, alpha=3, save=False)\n",
    "ds_rotunno = rt.solve_rotunno_case_two(xiN=81, zetaN=41, tauN=32, kN=3000, \n",
    "                                       xi0=0.2, beta=0.007195175718401071)"
   ]
  },
  {
   "cell_type": "code",
   "execution_count": 67,
   "metadata": {
    "ExecuteTime": {
     "end_time": "2019-11-21T20:05:40.234778Z",
     "start_time": "2019-11-21T20:05:40.210056Z"
    }
   },
   "outputs": [],
   "source": [
    "omega = 2*np.pi/(24*3600)\n",
    "ds_rotunno_dim = rt.redimensionalise_rotunno(copy.deepcopy(ds_rotunno), h=5000, f=0, N=0.035)\n",
    "ds_qian_dim = rt.redimensionalise_qian(copy.deepcopy(ds_qian), h=5000, N=0.035, Q0=10**3*omega**3*5000*np.pi)"
   ]
  },
  {
   "cell_type": "code",
   "execution_count": 277,
   "metadata": {
    "ExecuteTime": {
     "end_time": "2019-11-21T05:24:37.015517Z",
     "start_time": "2019-11-21T05:24:36.993084Z"
    }
   },
   "outputs": [],
   "source": [
    "ds = xr.open_dataset('/home/student.unimelb.edu.au/shorte1/Documents/rotunno83/datasets/qian_20191121_081203.nc')"
   ]
  },
  {
   "cell_type": "code",
   "execution_count": 70,
   "metadata": {
    "ExecuteTime": {
     "end_time": "2019-11-21T20:06:18.579181Z",
     "start_time": "2019-11-21T20:06:08.230554Z"
    }
   },
   "outputs": [
    {
     "name": "stdout",
     "output_type": "stream",
     "text": [
      "Plotting velocity.\n",
      "Timestep 0\n",
      "Timestep 0\n",
      "Timestep 1\n",
      "Timestep 2\n",
      "Timestep 3\n",
      "Timestep 4\n",
      "Timestep 5\n",
      "Timestep 6\n",
      "Timestep 7\n",
      "Timestep 8\n",
      "Timestep 9\n",
      "Timestep 10\n",
      "Timestep 11\n",
      "Timestep 12\n",
      "Timestep 13\n",
      "Timestep 14\n",
      "Timestep 15\n",
      "Timestep 16\n",
      "Timestep 17\n",
      "Timestep 18\n",
      "Timestep 19\n",
      "Timestep 20\n",
      "Timestep 21\n",
      "Timestep 22\n",
      "Timestep 23\n",
      "Timestep 24\n",
      "Timestep 25\n",
      "Timestep 26\n",
      "Timestep 27\n",
      "Timestep 28\n",
      "Timestep 29\n",
      "Timestep 30\n",
      "Timestep 31\n",
      "Plotting velocity.\n",
      "Timestep 0\n",
      "Timestep 0\n",
      "Timestep 1\n",
      "Timestep 2\n",
      "Timestep 3\n",
      "Timestep 4\n",
      "Timestep 5\n",
      "Timestep 6\n",
      "Timestep 7\n",
      "Timestep 8\n",
      "Timestep 9\n",
      "Timestep 10\n",
      "Timestep 11\n",
      "Timestep 12\n",
      "Timestep 13\n",
      "Timestep 14\n",
      "Timestep 15\n",
      "Timestep 16\n",
      "Timestep 17\n",
      "Timestep 18\n",
      "Timestep 19\n",
      "Timestep 20\n",
      "Timestep 21\n",
      "Timestep 22\n",
      "Timestep 23\n",
      "Timestep 24\n",
      "Timestep 25\n",
      "Timestep 26\n",
      "Timestep 27\n",
      "Timestep 28\n",
      "Timestep 29\n",
      "Timestep 30\n",
      "Timestep 31\n"
     ]
    }
   ],
   "source": [
    "# rt.animateVelocity(ds.sum(dim='mode', keep_attrs=True).squeeze())\n",
    "rt.animateVelocity(ds_rotunno_dim)\n",
    "rt.animateVelocity(ds_qian_dim.sum(dim='mode', keep_attrs=True).squeeze())"
   ]
  },
  {
   "cell_type": "code",
   "execution_count": 43,
   "metadata": {
    "ExecuteTime": {
     "end_time": "2019-11-21T14:42:41.609108Z",
     "start_time": "2019-11-21T14:42:38.278204Z"
    }
   },
   "outputs": [
    {
     "name": "stdout",
     "output_type": "stream",
     "text": [
      "Plotting stream function.\n",
      "Timestep 0\n",
      "Timestep 0\n",
      "Timestep 1\n",
      "Timestep 2\n",
      "Timestep 3\n",
      "Timestep 4\n",
      "Timestep 5\n",
      "Timestep 6\n",
      "Timestep 7\n",
      "Timestep 8\n",
      "Timestep 9\n",
      "Timestep 10\n",
      "Timestep 11\n",
      "Timestep 12\n",
      "Timestep 13\n",
      "Timestep 14\n",
      "Timestep 15\n"
     ]
    }
   ],
   "source": [
    "# rt.animatePsi(ds_dim.sum(dim='mode', keep_attrs=True).squeeze())\n",
    "# rt.animatePsi(ds_dim.sel(mode=2).squeeze())\n",
    "rt.animatePsi(ds_dim)"
   ]
  },
  {
   "cell_type": "code",
   "execution_count": 231,
   "metadata": {
    "ExecuteTime": {
     "end_time": "2019-11-21T18:08:11.918275Z",
     "start_time": "2019-11-21T18:08:11.910176Z"
    }
   },
   "outputs": [
    {
     "data": {
      "text/plain": [
       "0.01225"
      ]
     },
     "execution_count": 231,
     "metadata": {},
     "output_type": "execute_result"
    }
   ],
   "source": [
    "0.35*0.035"
   ]
  },
  {
   "cell_type": "code",
   "execution_count": 232,
   "metadata": {
    "ExecuteTime": {
     "end_time": "2019-11-21T18:09:19.987894Z",
     "start_time": "2019-11-21T18:09:19.978962Z"
    }
   },
   "outputs": [
    {
     "data": {
      "text/plain": [
       "0.11140846016432673"
      ]
     },
     "execution_count": 232,
     "metadata": {},
     "output_type": "execute_result"
    }
   ],
   "source": [
    "0.35/np.pi"
   ]
  },
  {
   "cell_type": "code",
   "execution_count": 68,
   "metadata": {
    "ExecuteTime": {
     "end_time": "2019-11-21T20:05:45.169997Z",
     "start_time": "2019-11-21T20:05:45.013929Z"
    },
    "scrolled": false
   },
   "outputs": [
    {
     "name": "stdout",
     "output_type": "stream",
     "text": [
      "Plotting velocity.\n"
     ]
    },
    {
     "data": {
      "image/png": "[encoded data removed]",
      "text/plain": [
       "<Figure size 432x288 with 2 Axes>"
      ]
     },
     "metadata": {},
     "output_type": "display_data"
    }
   ],
   "source": [
    "rt.plotVelocity(ds_rotunno_dim, t=0); plt.show()"
   ]
  },
  {
   "cell_type": "code",
   "execution_count": 69,
   "metadata": {
    "ExecuteTime": {
     "end_time": "2019-11-21T20:05:45.777016Z",
     "start_time": "2019-11-21T20:05:45.604545Z"
    }
   },
   "outputs": [
    {
     "name": "stdout",
     "output_type": "stream",
     "text": [
      "Plotting velocity.\n"
     ]
    },
    {
     "data": {
      "image/png": "[encoded data removed]",
      "text/plain": [
       "<Figure size 432x288 with 2 Axes>"
      ]
     },
     "metadata": {},
     "output_type": "display_data"
    }
   ],
   "source": [
    "rt.plotVelocity(ds_qian_dim.sum(dim='mode', keep_attrs=True).squeeze(), t=8); plt.show()"
   ]
  },
  {
   "cell_type": "code",
   "execution_count": 20,
   "metadata": {
    "ExecuteTime": {
     "end_time": "2019-11-21T19:46:32.922760Z",
     "start_time": "2019-11-21T19:46:32.914521Z"
    }
   },
   "outputs": [
    {
     "data": {
      "text/plain": [
       "<xarray.DataArray 'tau' (tau: 32)>\n",
       "array([    0.,  2700.,  5400.,  8100., 10800., 13500., 16200., 18900., 21600.,\n",
       "       24300., 27000., 29700., 32400., 35100., 37800., 40500., 43200., 45900.,\n",
       "       48600., 51300., 54000., 56700., 59400., 62100., 64800., 67500., 70200.,\n",
       "       72900., 75600., 78300., 81000., 83700.])\n",
       "Coordinates:\n",
       "  * tau      (tau) float64 0.0 2.7e+03 5.4e+03 ... 7.83e+04 8.1e+04 8.37e+04\n",
       "Attributes:\n",
       "    units:    s"
      ]
     },
     "execution_count": 20,
     "metadata": {},
     "output_type": "execute_result"
    }
   ],
   "source": [
    "ds_rotunno_dim.tau"
   ]
  },
  {
   "cell_type": "code",
   "execution_count": 40,
   "metadata": {
    "ExecuteTime": {
     "end_time": "2019-11-21T10:50:58.498102Z",
     "start_time": "2019-11-21T10:50:58.479284Z"
    }
   },
   "outputs": [
    {
     "name": "stdout",
     "output_type": "stream",
     "text": [
      "<xarray.DataArray 'u' ()>\n",
      "array(-13.749331)\n",
      "<xarray.DataArray 'w' ()>\n",
      "array(-5.635027)\n",
      "<xarray.DataArray 'u' ()>\n",
      "array(-1.499819)\n",
      "<xarray.DataArray 'w' ()>\n",
      "array(-0.614686)\n"
     ]
    }
   ],
   "source": [
    "print(ds.u.min())\n",
    "print(ds.w.min())\n",
    "print(ds_dim.u.min())\n",
    "print(ds_dim.w.min())"
   ]
  },
  {
   "cell_type": "code",
   "execution_count": null,
   "metadata": {},
   "outputs": [],
   "source": []
  }
 ],
 "metadata": {
  "kernelspec": {
   "display_name": "Python 3",
   "language": "python",
   "name": "python3"
  },
  "language_info": {
   "codemirror_mode": {
    "name": "ipython",
    "version": 3
   },
   "file_extension": ".py",
   "mimetype": "text/x-python",
   "name": "python",
   "nbconvert_exporter": "python",
   "pygments_lexer": "ipython3",
   "version": "3.6.5"
  },
  "toc": {
   "base_numbering": 1,
   "nav_menu": {},
   "number_sections": true,
   "sideBar": true,
   "skip_h1_title": false,
   "title_cell": "Table of Contents",
   "title_sidebar": "Contents",
   "toc_cell": false,
   "toc_position": {},
   "toc_section_display": true,
   "toc_window_display": false
  }
 },
 "nbformat": 4,
 "nbformat_minor": 2
}
