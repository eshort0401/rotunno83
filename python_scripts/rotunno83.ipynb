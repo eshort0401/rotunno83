{
 "cells": [
  {
   "cell_type": "code",
   "execution_count": 38,
   "metadata": {
    "ExecuteTime": {
     "end_time": "2019-11-16T03:08:00.708100Z",
     "start_time": "2019-11-16T03:08:00.586727Z"
    }
   },
   "outputs": [],
   "source": [
    "import datetime\n",
    "\n",
    "from numba import jit, njit, prange\n",
    "from numba import int32\n",
    "\n",
    "import numpy as np\n",
    "import xarray as xr\n",
    "\n",
    "from scipy.special import exp1\n",
    "\n",
    "import matplotlib.pyplot as plt"
   ]
  },
  {
   "cell_type": "code",
   "execution_count": 110,
   "metadata": {
    "ExecuteTime": {
     "end_time": "2019-11-16T04:24:25.231317Z",
     "start_time": "2019-11-16T04:24:25.212398Z"
    }
   },
   "outputs": [],
   "source": [
    "def solve_qian(xiN=161,zetaN=80,tauN=32,sN=1999,alpha=3,U=1,L=1):\n",
    "\n",
    "    print('Initialising')\n",
    "\n",
    "    # Time interval\n",
    "    delTau = 2*np.pi/tauN\n",
    "    delS = 1/sN\n",
    "    delZeta = 4/zetaN\n",
    "    \n",
    "    # Initialise solution arrays\n",
    "    psi = np.zeros((xiN,zetaN,tauN), dtype=np.complex64)\n",
    "    u = np.zeros((xiN,zetaN,tauN), dtype=np.complex64)\n",
    "    w = np.zeros((xiN,zetaN,tauN), dtype=np.complex64)\n",
    "\n",
    "    # Initialise domains\n",
    "    xi = np.linspace(-2,2,xiN, dtype=np.float64)\n",
    "    # Dont start at zero as exponential integral not defined there\n",
    "    zeta = np.arange(delZeta,4+delZeta,delZeta, dtype=np.float64)\n",
    "    tau = np.arange(0,2*np.pi,delTau, dtype=np.float64)\n",
    "    s = np.arange(delS,1,delS, dtype=np.float64)  \n",
    "\n",
    "    print('Integrating')\n",
    "    psi, u, w = integrate_qian(xi,zeta,tau,s,alpha,U,L)\n",
    "\n",
    "#     ds = xr.Dataset({'psi':(('tau','zeta','xi'),psi),\n",
    "#                      'u':(('tau','zeta','xi'),u),\n",
    "#                      'w':(('tau','zeta','xi'),w)},\n",
    "#                     {'tau': tau, 'zeta':zeta, 'xi':xi})\n",
    "\n",
    "#     print('Saving')\n",
    "#     now = str(datetime.datetime.now())[0:-7]\n",
    "#     now=now.replace('-', '').replace(':', '').replace(' ', '_')\n",
    "#     ds.to_netcdf('../datasets/rotunno_case_2_{}.nc'.format(now),\n",
    "#                  encoding={'psi':{'zlib':True, 'complevel':9},\n",
    "#                            'u':{'zlib':True, 'complevel':9},\n",
    "#                            'w':{'zlib':True, 'complevel':9}})\n",
    "    return psi, u, w\n",
    "\n",
    "# @jit(parallel=True)\n",
    "def integrate_qian(xi,zeta,tau,s,alpha,U,L):\n",
    "    psi = [np.zeros((tau.size, zeta.size, xi.size), dtype=np.complex64) \n",
    "           for i in range(3)]\n",
    "    u = [np.zeros((tau.size, zeta.size, xi.size), dtype=np.complex64) \n",
    "         for i in range(3)]\n",
    "    w = [np.zeros((tau.size, zeta.size, xi.size), dtype=np.complex64) \n",
    "         for i in range(3)]\n",
    "            \n",
    "    u3a_ig = np.zeros(s.size, dtype=np.complex64)\n",
    "    u3b_ig = np.zeros(s.size, dtype=np.complex64)\n",
    "    \n",
    "    # Define alternative domains\n",
    "    theta = calc_theta(s,alpha=3)\n",
    "    k = calc_k(theta,U)\n",
    "    \n",
    "    # Perform numerical integration\n",
    "    for i in prange(xi.size):\n",
    "        for j in range(zeta.size):\n",
    "            for l in range(tau.size):\n",
    "                \n",
    "                # Calc psi1\n",
    "                \n",
    "                # Calc psi2\n",
    "                \n",
    "                # Calc psi3\n",
    "                \n",
    "                # Calc u1\n",
    "                \n",
    "                # Calc u2\n",
    "                \n",
    "                # Calc u3\n",
    "                u3a_ig = calc_u3a(xi[i],zeta[j],tau[l],theta,U,L)\n",
    "                u3b_ig = calc_u3b(xi[i],zeta[j],tau[l],s,alpha,U,L)\n",
    "                \n",
    "#                 import pdb \n",
    "#                 pdb.set_trace()\n",
    "            \n",
    "#                 u3a_ig = u3a_ig[~np.isnan(u3a_ig)]\n",
    "#                 theta_u3a_ig = theta[~np.isnan(u3a_ig)]\n",
    "                \n",
    "#                 u3b_ig = u3b_ig[~np.isnan(u3a_ig)]\n",
    "#                 s_u3b_ig = s[~np.isnan(u3b_ig)]\n",
    "                \n",
    "#                 u3a = np.trapz(theta_u3a_ig,u3a_ig)\n",
    "#                 u3b = np.trapz(s_u3b_ig,u3b_ig)\n",
    "\n",
    "                u3a = np.trapz(theta,u3a_ig)\n",
    "                u3b = np.trapz(s,u3b_ig)\n",
    "\n",
    "                u3c = (-1j/(2*np.pi)\n",
    "                       *calc_C3(xi[i],tau[l],calc_k(0,U),U,L)\n",
    "                       *exp1(-1j*zeta[j]/U))              \n",
    "\n",
    "                \n",
    "                u[2][l,j,i] = u3a+u3b+u3c\n",
    "                \n",
    "\n",
    "                \n",
    "                # Calc w1\n",
    "                \n",
    "                # Calc w2\n",
    "                \n",
    "                # Calc w3\n",
    "                \n",
    "\n",
    "    return psi, u, w\n",
    "\n",
    "@jit(parallel=True)\n",
    "def calc_u3a(xi,zeta,tau,theta,U,L):\n",
    "    u3a = (-U/(2*np.pi)*calc_C3(xi,tau,calc_k(theta,U),U,L)\n",
    "           *np.exp(-zeta)*np.cos(theta))\n",
    "    return u3a\n",
    "\n",
    "@jit(parallel=True)\n",
    "def calc_u3b(xi,zeta,tau,s,alpha,U,L):\n",
    "    k = calc_k(calc_theta(s,alpha=alpha),U)\n",
    "    k_0 = calc_k(0,U)\n",
    "    theta = calc_theta(s, alpha=alpha)\n",
    "    u3b = (-1j/(2*np.pi)*(calc_C3(xi,tau,k,U,L)-calc_C3(xi,tau,k_0,U,L))\n",
    "           *np.exp(1j*zeta/(U*np.sin(theta)))*(1/np.tan(theta))\n",
    "           *alpha*s**(alpha-1)*np.pi/2)\n",
    "    return u3b          \n",
    "    \n",
    "@jit(parallel=True)\n",
    "def calc_C3(xi,tau,k,U,L):\n",
    "    C3 = k**2*np.exp(-k*L)*np.exp(1j*(k*xi-tau))/(k**2+(U*k-1)**2)\n",
    "    return C3\n",
    "\n",
    "@jit(parallel=True)\n",
    "def calc_theta(s,alpha=3):\n",
    "    theta = (np.pi/2)*s**alpha\n",
    "    return theta\n",
    "    \n",
    "@jit(parallel=True)\n",
    "def calc_k(theta,U):\n",
    "    k = U/(1-np.sin(theta))\n",
    "    return k"
   ]
  },
  {
   "cell_type": "code",
   "execution_count": 155,
   "metadata": {
    "ExecuteTime": {
     "end_time": "2019-11-16T05:57:53.998147Z",
     "start_time": "2019-11-16T05:57:47.822317Z"
    }
   },
   "outputs": [
    {
     "name": "stdout",
     "output_type": "stream",
     "text": [
      "Initialising\n",
      "Integrating\n"
     ]
    }
   ],
   "source": [
    "tp, tu, tw = solve_qian(xiN=41, zetaN=21, tauN=16, sN=2000, U=3)"
   ]
  },
  {
   "cell_type": "code",
   "execution_count": 165,
   "metadata": {
    "ExecuteTime": {
     "end_time": "2019-11-16T05:58:37.532188Z",
     "start_time": "2019-11-16T05:58:37.324822Z"
    }
   },
   "outputs": [
    {
     "name": "stderr",
     "output_type": "stream",
     "text": [
      "/home/student.unimelb.edu.au/shorte1/anaconda3/lib/python3.6/site-packages/numpy/ma/core.py:2784: ComplexWarning: Casting complex values to real discards the imaginary part\n",
      "  order=order, subok=True, ndmin=ndmin)\n"
     ]
    },
    {
     "data": {
      "text/plain": [
       "<matplotlib.colorbar.Colorbar at 0x7f7aa4dd5588>"
      ]
     },
     "execution_count": 165,
     "metadata": {},
     "output_type": "execute_result"
    },
    {
     "data": {
      "image/png": "[encoded data removed]",
      "text/plain": [
       "<Figure size 432x288 with 2 Axes>"
      ]
     },
     "metadata": {},
     "output_type": "display_data"
    }
   ],
   "source": [
    "plt.contourf(tu[2][0])\n",
    "plt.colorbar()"
   ]
  },
  {
   "cell_type": "code",
   "execution_count": null,
   "metadata": {},
   "outputs": [],
   "source": []
  }
 ],
 "metadata": {
  "kernelspec": {
   "display_name": "Python 3",
   "language": "python",
   "name": "python3"
  },
  "language_info": {
   "codemirror_mode": {
    "name": "ipython",
    "version": 3
   },
   "file_extension": ".py",
   "mimetype": "text/x-python",
   "name": "python",
   "nbconvert_exporter": "python",
   "pygments_lexer": "ipython3",
   "version": "3.6.5"
  },
  "toc": {
   "base_numbering": 1,
   "nav_menu": {},
   "number_sections": true,
   "sideBar": true,
   "skip_h1_title": false,
   "title_cell": "Table of Contents",
   "title_sidebar": "Contents",
   "toc_cell": false,
   "toc_position": {},
   "toc_section_display": true,
   "toc_window_display": false
  }
 },
 "nbformat": 4,
 "nbformat_minor": 2
}
