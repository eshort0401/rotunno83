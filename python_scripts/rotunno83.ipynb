{
 "cells": [
  {
   "cell_type": "code",
   "execution_count": 299,
   "metadata": {
    "ExecuteTime": {
     "end_time": "2019-11-20T02:10:41.060104Z",
     "start_time": "2019-11-20T02:10:40.883085Z"
    }
   },
   "outputs": [],
   "source": [
    "import datetime\n",
    "\n",
    "from numba import jit, njit, prange\n",
    "from numba import int32\n",
    "\n",
    "import numpy as np\n",
    "import xarray as xr\n",
    "\n",
    "import sys, pdb, traceback\n",
    "\n",
    "import matplotlib.pyplot as plt\n",
    "\n",
    "import rotunno as rt\n",
    "\n",
    "from scipy.special import exp1"
   ]
  },
  {
   "cell_type": "code",
   "execution_count": 308,
   "metadata": {
    "ExecuteTime": {
     "end_time": "2019-11-20T02:13:18.446740Z",
     "start_time": "2019-11-20T02:13:18.438688Z"
    }
   },
   "outputs": [
    {
     "name": "stdout",
     "output_type": "stream",
     "text": [
      "The autoreload extension is already loaded. To reload it, use:\n",
      "  %reload_ext autoreload\n"
     ]
    }
   ],
   "source": [
    "# Convenience functions\n",
    "%load_ext autoreload\n",
    "%autoreload 1\n",
    "%aimport rotunno"
   ]
  },
  {
   "cell_type": "code",
   "execution_count": 301,
   "metadata": {
    "ExecuteTime": {
     "end_time": "2019-11-20T02:10:42.186628Z",
     "start_time": "2019-11-20T02:10:42.175060Z"
    }
   },
   "outputs": [],
   "source": [
    "def solve_qian(xiN=241,zetaN=200,tauN=32,sN=1999,alpha=3,U=0.625,L=0.1):\n",
    "\n",
    "    print('Initialising')\n",
    "\n",
    "    # Time interval\n",
    "    delTau = 2*np.pi/tauN\n",
    "    delS = 1/sN\n",
    "    delZeta = 10/zetaN\n",
    "    \n",
    "    # Initialise solution arrays\n",
    "    psi = np.zeros((xiN,zetaN,tauN), dtype=np.complex64)\n",
    "    u = np.zeros((xiN,zetaN,tauN), dtype=np.complex64)\n",
    "    w = np.zeros((xiN,zetaN,tauN), dtype=np.complex64)\n",
    "\n",
    "    # Initialise domains\n",
    "    xi = np.linspace(-6,6,xiN, dtype=np.float64)\n",
    "    # Dont start at zero as exponential integral not defined there\n",
    "    zeta = np.arange(delZeta,10+delZeta,delZeta, dtype=np.float64)\n",
    "    tau = np.arange(0,2*np.pi,delTau, dtype=np.float64)\n",
    "    s = np.arange(delS,1,delS, dtype=np.float64)\n",
    "\n",
    "    print('Integrating')\n",
    "    psi, u, w = integrate_qian(xi,zeta,tau,s,alpha,U,L)\n",
    "\n",
    "    ds = xr.Dataset({'psi':(('mode','tau','zeta','xi'),psi),\n",
    "                     'u':(('mode','tau','zeta','xi'),u),\n",
    "                     'w':(('mode','tau','zeta','xi'),w)},\n",
    "                    {'mode': np.arange(1,4), 'tau': tau, 'zeta':zeta, 'xi':xi})\n",
    "\n",
    "    print('Saving')\n",
    "    now = str(datetime.datetime.now())[0:-7]\n",
    "    now=now.replace('-', '').replace(':', '').replace(' ', '_')\n",
    "    ds.attrs['U'] = U\n",
    "    ds.attrs['L'] = L\n",
    "    ds.to_netcdf('../datasets/qian_{}.nc'.format(now),\n",
    "                 encoding={'psi':{'zlib':True, 'complevel':9},\n",
    "                           'u':{'zlib':True, 'complevel':9},\n",
    "                           'w':{'zlib':True, 'complevel':9}})\n",
    "    \n",
    "    for var in ['psi', 'u', 'w', 'xi', 'zeta', 'tau']:\n",
    "        ds[var].attrs['units'] = '-'\n",
    "    \n",
    "    return ds\n"
   ]
  },
  {
   "cell_type": "code",
   "execution_count": 302,
   "metadata": {
    "ExecuteTime": {
     "end_time": "2019-11-20T02:10:44.003525Z",
     "start_time": "2019-11-20T02:10:43.961768Z"
    }
   },
   "outputs": [],
   "source": [
    "@jit(parallel=True)\n",
    "def calc_exp1(z,n=100):\n",
    "#     s = np.float64(0)\n",
    "#     for i in np.arange(1,n):\n",
    "#         i_f = np.float64(i)\n",
    "#         s += (-z)**i_f/(i_f*np.math.factorial(i_f)) \n",
    "#     return -np.euler_gamma-np.log(z)-s\n",
    "    return exp1(z)\n",
    "\n",
    "# @jit(parallel=True)\n",
    "# def calc_exp1_alt(z,n=100):\n",
    "#     s = np.float64(0)\n",
    "#     for i in np.arange(0,n):\n",
    "#         i_f = np.float64(i)\n",
    "#         s += np.exp(-z)/z*np.math.factorial(i_f)/(-z)**i_f\n",
    "#     return s\n",
    "\n",
    "@jit(parallel=True)\n",
    "def calc_ep0(z):\n",
    "    # Note this formula only applies if Re(z)>=0!\n",
    "    return np.exp(z) + z*calc_exp1(-z)\n",
    "\n",
    "@jit(parallel=True)\n",
    "def calc_ep1(z):\n",
    "    return (np.exp(z) + z*calc_ep0(z))/2\n",
    "                           \n",
    "@jit(parallel=True)\n",
    "def calc_psi1(xi,zeta,tau,k,U,L):\n",
    "    m=k/(1+k*U)\n",
    "    psi1 = (-(1/2)*np.exp(-k*L)/(k**2+(1+k*U)**2)\n",
    "            *(np.exp(1j*m*zeta)-np.exp(-zeta))\n",
    "            *np.exp(1j*(k*xi+tau)))\n",
    "    return psi1\n",
    "\n",
    "@jit(parallel=True)\n",
    "def calc_psi2a(xi,zeta,tau,s,alpha,U,L):\n",
    "    theta = calc_theta(s,alpha)\n",
    "    k = calc_k_2(theta,U)\n",
    "    # Note only difference between u2a is sign\n",
    "    psi2a = (1/(2*U)*calc_C2(xi,tau,k,U,L)*np.exp(-zeta)*np.cos(theta)\n",
    "             *alpha*s**(alpha-1)*np.pi/2)\n",
    "    return psi2a\n",
    "\n",
    "@jit(parallel=True)\n",
    "def calc_psi2b(xi,zeta,tau,s,alpha,U,L):\n",
    "    theta = calc_theta(s, alpha=alpha)\n",
    "    k = calc_k_2(theta,U)\n",
    "    k0 = calc_k_2(0,U)\n",
    "    psi2b = (-1/(2*U)*np.exp(1j*zeta/U)\n",
    "             *(calc_C2(xi,tau,k,U,L)-calc_C2(xi,tau,k0,U,L))\n",
    "             *np.exp(-1j*zeta/(U*np.sin(theta)))*np.cos(theta)\n",
    "             *alpha*s**(alpha-1)*np.pi/2)\n",
    "    return psi2b\n",
    "\n",
    "@jit(parallel=True)\n",
    "def calc_psi3a(xi,zeta,tau,s,alpha,U,L):\n",
    "    theta = calc_theta(s, alpha)\n",
    "    k = calc_k_3(theta,U)\n",
    "    psi3a = (U/2*calc_C3(xi,tau,k,U,L)*np.exp(-zeta)*np.cos(theta)\n",
    "             *alpha*s**(alpha-1)*np.pi/2)\n",
    "    return psi3a\n",
    "\n",
    "@jit(parallel=True)\n",
    "def calc_psi3b(xi,zeta,tau,s,alpha,U,L):\n",
    "    theta = calc_theta(s, alpha=alpha)\n",
    "    k = calc_k_3(theta,U)\n",
    "    k0 = calc_k_3(0,U)\n",
    "    psi3b = (-U/2*(calc_C3(xi,tau,k,U,L)-calc_C3(xi,tau,k0,U,L))\n",
    "             *np.exp(1j*zeta/(U*np.sin(theta)))*np.cos(theta)\n",
    "             *alpha*s**(alpha-1)*np.pi/2)\n",
    "    return psi3b\n",
    "\n",
    "@jit(parallel=True)\n",
    "def calc_w2b(xi,zeta,tau,s,alpha,U,L):\n",
    "    theta = calc_theta(s, alpha=alpha)\n",
    "    k = calc_k_2(theta,U)\n",
    "    k0 = calc_k_2(0,U)\n",
    "    psi2b = (-1/(2*U)*np.exp(1j*zeta/U)\n",
    "             *(calc_C2x(xi,tau,k,U,L)-calc_C2x(xi,tau,k0,U,L))\n",
    "             *np.exp(-1j*zeta/(U*np.sin(theta)))*np.cos(theta)\n",
    "             *alpha*s**(alpha-1)*np.pi/2)\n",
    "    return psi2b\n",
    "\n",
    "@jit(parallel=True)\n",
    "def calc_w3b(xi,zeta,tau,s,alpha,U,L):\n",
    "    theta = calc_theta(s, alpha=alpha)\n",
    "    k = calc_k_3(theta,U)\n",
    "    k0 = calc_k_3(0,U)\n",
    "    w3b = (-U/2*(calc_C3x(xi,tau,k,U,L)-calc_C3x(xi,tau,k0,U,L))\n",
    "             *np.exp(1j*zeta/(U*np.sin(theta)))*np.cos(theta)\n",
    "             *alpha*s**(alpha-1)*np.pi/2)\n",
    "    return w3b\n",
    "    \n",
    "@jit(parallel=True)\n",
    "def calc_u1(xi,zeta,tau,k,U,L):\n",
    "    m=k/(1+k*U)\n",
    "    u1 = (-(1/2)*np.exp(-k*L)/(k**2+(1+k*U)**2)\n",
    "          *(1j*m*np.exp(1j*m*zeta)+np.exp(-zeta))\n",
    "          *np.exp(1j*(k*xi+tau)))\n",
    "    return u1\n",
    "    \n",
    "@jit(parallel=True)\n",
    "def calc_u2a(xi,zeta,tau,s,alpha,U,L):\n",
    "    theta = calc_theta(s,alpha=alpha)\n",
    "    k = calc_k_2(theta,U)\n",
    "    u2a = (-1/(2*U)*calc_C2(xi,tau,k,U,L)*np.exp(-zeta)*np.cos(theta)\n",
    "           *alpha*s**(alpha-1)*np.pi/2)\n",
    "    return u2a\n",
    "\n",
    "@jit(parallel=True)\n",
    "def calc_u2b(xi,zeta,tau,s,alpha,U,L):\n",
    "    theta = calc_theta(s, alpha=alpha)\n",
    "    k = calc_k_2(theta,U)\n",
    "    k_0 = calc_k_2(0,U)\n",
    "    u2b = (-1j/(2*U**2)*np.exp(1j*zeta/U)\n",
    "           *(calc_C2(xi,tau,k,U,L)-calc_C2(xi,tau,k_0,U,L))\n",
    "           *np.exp(-1j*zeta/(np.sin(theta)*U))*np.cos(theta)\n",
    "           *alpha*s**(alpha-1)*np.pi/2\n",
    "           +1j/(2*U**2)*np.exp(1j*zeta/U)\n",
    "           *(calc_C2(xi,tau,k,U,L)-calc_C2(xi,tau,k_0,U,L))\n",
    "           *np.exp(-1j*zeta/(np.sin(theta)*U))*np.cos(theta)/np.sin(theta)\n",
    "           *alpha*s**(alpha-1)*np.pi/2)\n",
    "    return u2b\n",
    "    \n",
    "@jit(parallel=True)\n",
    "def calc_u3a(xi,zeta,tau,s,alpha,U,L):\n",
    "    theta = calc_theta(s, alpha)\n",
    "    k = calc_k_3(theta,U)\n",
    "    u3a = (-U/2*calc_C3(xi,tau,k,U,L)\n",
    "           *np.exp(-zeta)*np.cos(theta)*alpha*s**(alpha-1)*np.pi/2)\n",
    "    return u3a\n",
    "\n",
    "@jit(parallel=True)\n",
    "def calc_u3b(xi,zeta,tau,s,alpha,U,L):\n",
    "    theta = calc_theta(s, alpha=alpha)\n",
    "    k = calc_k_3(theta,U)\n",
    "    k_0 = calc_k_3(0,U)\n",
    "    u3b = (-1j/2*(calc_C3(xi,tau,k,U,L)-calc_C3(xi,tau,k_0,U,L))\n",
    "           *np.exp(1j*zeta/(U*np.sin(theta)))/np.tan(theta)\n",
    "           *alpha*s**(alpha-1)*np.pi/2)\n",
    "    return u3b         \n",
    "    \n",
    "@jit(parallel=True)\n",
    "def calc_C2(xi,tau,k,U,L):\n",
    "    C2 = np.exp(-k*L)*np.exp(1j*(k*xi-tau))/(k**2+(U*k-1)**2)\n",
    "    return C2\n",
    "\n",
    "@jit(parallel=True)\n",
    "def calc_C3(xi,tau,k,U,L):\n",
    "    C3 = k**2*np.exp(-k*L)*np.exp(1j*(k*xi-tau))/(k**2+(U*k-1)**2)\n",
    "    return C3\n",
    "\n",
    "@jit(parallel=True)\n",
    "def calc_C2x(xi,tau,k,U,L):\n",
    "    C2x = 1j*k*np.exp(-k*L)*np.exp(1j*(k*xi-tau))/(k**2+(U*k-1)**2)\n",
    "    return C2x\n",
    "\n",
    "@jit(parallel=True)\n",
    "def calc_C3x(xi,tau,k,U,L):\n",
    "    C3x = 1j*k**3*np.exp(-k*L)*np.exp(1j*(k*xi-tau))/(k**2+(U*k-1)**2)\n",
    "    return C3x\n",
    "\n",
    "@jit(parallel=True)\n",
    "def calc_theta(s,alpha=3):\n",
    "    theta = (np.pi/2)*s**alpha\n",
    "    return theta\n",
    "    \n",
    "@jit(parallel=True)    # Don't need to worry about waves 2*pi/0.05 > 125 or < 0.005\n",
    "def calc_k_3(theta,U):\n",
    "    k = 1/(U*(1-np.sin(theta)))\n",
    "    return k\n",
    "\n",
    "@jit(parallel=True)\n",
    "def calc_k_2(theta,U):\n",
    "    k = (1-np.sin(theta))/U\n",
    "    return k"
   ]
  },
  {
   "cell_type": "code",
   "execution_count": 347,
   "metadata": {
    "ExecuteTime": {
     "end_time": "2019-11-20T03:50:49.740622Z",
     "start_time": "2019-11-20T03:50:49.704244Z"
    }
   },
   "outputs": [],
   "source": [
    "# @jit(parallel=True)\n",
    "def integrate_qian(xi,zeta,tau,s,alpha,U,L):\n",
    "    \n",
    "    psi = np.zeros((3, tau.size, zeta.size, xi.size), dtype=np.complex64) \n",
    "    u = np.zeros((3, tau.size, zeta.size, xi.size), dtype=np.complex64) \n",
    "    w = np.zeros((3, tau.size, zeta.size, xi.size), dtype=np.complex64)\n",
    "    \n",
    "    # Define alternative domains\n",
    "    theta = calc_theta(s,alpha=alpha)\n",
    "    \n",
    "    k_3 = calc_k_3(theta,U)\n",
    "    k0_3 = calc_k_3(0,U)\n",
    "    \n",
    "    k_2 = calc_k_2(theta,U)\n",
    "    k0_2 = calc_k_2(0,U)\n",
    "    \n",
    "    k_1=np.concatenate([k_2[-1::-1], np.array([1/U]), k_3])\n",
    "    \n",
    "    # Perform numerical integration\n",
    "    for i in prange(xi.size):\n",
    "        for j in range(zeta.size):\n",
    "            for l in range(tau.size):\n",
    "                                                \n",
    "                # Calc psi1\n",
    "                psi1_ig = calc_psi1(xi[i],zeta[j],tau[l],k_1,U,L)\n",
    "                psi[0][l,j,i] = -np.trapz(k_1,psi1_ig)\n",
    "                \n",
    "                import pdb\n",
    "                pdb.set_trace()\n",
    "                                \n",
    "                # Calc psi2\n",
    "                psi2a_ig = calc_psi2a(xi[i],zeta[j],tau[l],s,alpha,U,L)\n",
    "                psi2b_ig = calc_psi2b(xi[i],zeta[j],tau[l],s,alpha,U,L)\n",
    "                \n",
    "                psi2a = np.trapz(s, psi2a_ig)\n",
    "                psi2b = np.trapz(s, psi2b_ig)\n",
    "                \n",
    "                psi2c = (-1/(2*U)*np.exp(1j*zeta[j]/U)\n",
    "                         *calc_C2(xi[i],tau[l],k0_2,U,L)\n",
    "                         *calc_ep0(-1j*zeta[j]/U))\n",
    "                         \n",
    "                psi[1][l,j,i] = -psi2a-psi2b+psi2c\n",
    "                \n",
    "                # Calc psi3\n",
    "                psi3a_ig = calc_psi3a(xi[i],zeta[j],tau[l],s,alpha,U,L)\n",
    "                psi3b_ig = calc_psi3b(xi[i],zeta[j],tau[l],s,alpha,U,L)\n",
    "                \n",
    "                psi3a = np.trapz(s, psi3a_ig)\n",
    "                psi3b = np.trapz(s, psi3b_ig)\n",
    "                \n",
    "                psi3c = (-U/2*calc_C3(xi[i],tau[l],k0_3,U,L)\n",
    "                         *calc_ep0(1j*zeta[j]/U))\n",
    "                \n",
    "                psi[2][l,j,i] = -psi3a-psi3b+psi3c\n",
    "                \n",
    "                # Calc u1\n",
    "                u1_ig = calc_u1(xi[i],zeta[j],tau[l],k_1,U,L)\n",
    "                u[0][l,j,i] = -np.trapz(k_1,u1_ig)\n",
    "                    \n",
    "                # Calc u2\n",
    "                u2a_ig = calc_u2a(xi[i],zeta[j],tau[l],s,alpha,U,L)\n",
    "                u2b_ig = calc_u2b(xi[i],zeta[j],tau[l],s,alpha,U,L)\n",
    "                \n",
    "                u2a = np.trapz(s,u2a_ig)\n",
    "                u2b = np.trapz(s,u2b_ig)\n",
    "                \n",
    "                u2c = (1j*np.exp(1j*zeta[j]/U)/(2*U**2)\n",
    "                       *calc_C2(xi[i],tau[l],k0_2,U,L)\n",
    "                       *(-calc_ep0(-1j*zeta[j]/U)\n",
    "                         +calc_exp1(1j*zeta[j]/U)))\n",
    "                       \n",
    "                u[1][l,j,i] = -u2a-u2b+u2c\n",
    "                \n",
    "                # Calc u3\n",
    "                u3a_ig = calc_u3a(xi[i],zeta[j],tau[l],s,alpha,U,L)\n",
    "                u3b_ig = calc_u3b(xi[i],zeta[j],tau[l],s,alpha,U,L)\n",
    "                \n",
    "                u3a = np.trapz(s,u3a_ig)\n",
    "                u3b = np.trapz(s,u3b_ig)\n",
    "\n",
    "                u3c = (-1j/2*calc_C3(xi[i],tau[l],k0_3,U,L)\n",
    "                       *calc_exp1(-1j*zeta[j]/U))              \n",
    "\n",
    "                u[2][l,j,i] = -u3a-u3b+u3c\n",
    "                                \n",
    "                # Calc w1\n",
    "                w1_ig = psi1_ig*1j*k_1\n",
    "                w[0][l,j,i] = -np.trapz(k_1,w1_ig)\n",
    "   \n",
    "                # Calc w2\n",
    "                w2a = np.trapz(s, 1j*k_2*psi2a_ig)\n",
    "                \n",
    "                w2b_ig = calc_w2b(xi[i],zeta[j],tau[l],s,alpha,U,L)\n",
    "                w2b = np.trapz(s, w2b_ig)\n",
    "                \n",
    "                w2c = (-1/(2*U)*np.exp(1j*zeta[j]/U)\n",
    "                         *calc_C2x(xi[i],tau[l],k0_2,U,L)\n",
    "                         *calc_ep0(-1j*zeta[j]/U))\n",
    "                \n",
    "                w[1][l,j,i] = -w2a-w2b+w2c\n",
    "                \n",
    "                # Calc w3\n",
    "                w3a = np.trapz(s, 1j*k_3*psi3a_ig)\n",
    "                \n",
    "                w3b_ig = calc_w3b(xi[i],zeta[j],tau[l],s,alpha,U,L)\n",
    "                w3b = np.trapz(s, w3b_ig)\n",
    "\n",
    "                w3c = (-U/2*calc_C3x(xi[i],tau[l],k0_3,U,L)\n",
    "                       *calc_ep0(1j*zeta[j]/U))\n",
    "                \n",
    "                w[2][l,j,i] = -w3a-w3b+w3c\n",
    "\n",
    "    psi = (1/np.pi)*np.real(psi)\n",
    "    u = (1/np.pi)*np.real(u)\n",
    "    w = -(1/np.pi)*np.real(w)\n",
    "    return psi, u, w"
   ]
  },
  {
   "cell_type": "code",
   "execution_count": 348,
   "metadata": {
    "ExecuteTime": {
     "end_time": "2019-11-20T03:55:26.300609Z",
     "start_time": "2019-11-20T03:50:50.375336Z"
    },
    "scrolled": true
   },
   "outputs": [
    {
     "name": "stdout",
     "output_type": "stream",
     "text": [
      "Initialising\n",
      "Integrating\n",
      "> <ipython-input-347-ef0c875cdc14>(32)integrate_qian()\n",
      "-> psi2a_ig = calc_psi2a(xi[i],zeta[j],tau[l],s,alpha,U,L)\n",
      "(Pdb) k_1\n",
      "array([1.77297542e-05, 7.07768586e-05, 1.58928030e-04, ...,\n",
      "       1.61079200e+04, 3.61700145e+04, 1.44390045e+05])\n",
      "(Pdb) plt.plot(k_1).show()\n",
      "*** AttributeError: 'list' object has no attribute 'show'\n",
      "(Pdb) plt.plot(k_1); plt.show()\n",
      "[<matplotlib.lines.Line2D object at 0x7f7720981518>]\n"
     ]
    },
    {
     "data": {
      "image/png": "[encoded data removed]",
      "text/plain": [
       "<Figure size 432x288 with 1 Axes>"
      ]
     },
     "metadata": {},
     "output_type": "display_data"
    },
    {
     "name": "stdout",
     "output_type": "stream",
     "text": [
      "(Pdb) plt.plot(k_1[:-50]); plt.show()\n",
      "[<matplotlib.lines.Line2D object at 0x7f7722ff6828>]\n"
     ]
    },
    {
     "data": {
      "image/png": "[encoded data removed]",
      "text/plain": [
       "<Figure size 432x288 with 1 Axes>"
      ]
     },
     "metadata": {},
     "output_type": "display_data"
    },
    {
     "name": "stdout",
     "output_type": "stream",
     "text": [
      "(Pdb) plt.plot(k_1[:-100]); plt.show()\n",
      "[<matplotlib.lines.Line2D object at 0x7f77210c6dd8>]\n"
     ]
    },
    {
     "data": {
      "image/png": "[encoded data removed]",
      "text/plain": [
       "<Figure size 432x288 with 1 Axes>"
      ]
     },
     "metadata": {},
     "output_type": "display_data"
    },
    {
     "name": "stdout",
     "output_type": "stream",
     "text": [
      "(Pdb) plt.plot(k_1[:-400]); plt.show()\n",
      "[<matplotlib.lines.Line2D object at 0x7f7720a47518>]\n"
     ]
    },
    {
     "data": {
      "image/png": "[encoded data removed]",
      "text/plain": [
       "<Figure size 432x288 with 1 Axes>"
      ]
     },
     "metadata": {},
     "output_type": "display_data"
    },
    {
     "name": "stdout",
     "output_type": "stream",
     "text": [
      "(Pdb) plt.plot(k_1[:-300]); plt.show()\n",
      "[<matplotlib.lines.Line2D object at 0x7f77247a3710>]\n"
     ]
    },
    {
     "data": {
      "image/png": "[encoded data removed]",
      "text/plain": [
       "<Figure size 432x288 with 1 Axes>"
      ]
     },
     "metadata": {},
     "output_type": "display_data"
    },
    {
     "name": "stdout",
     "output_type": "stream",
     "text": [
      "(Pdb) plt.plot(k_1[:-250],'.'); plt.show()\n",
      "[<matplotlib.lines.Line2D object at 0x7f77246fb828>]\n"
     ]
    },
    {
     "data": {
      "image/png": "[encoded data removed]",
      "text/plain": [
       "<Figure size 432x288 with 1 Axes>"
      ]
     },
     "metadata": {},
     "output_type": "display_data"
    },
    {
     "name": "stdout",
     "output_type": "stream",
     "text": [
      "(Pdb) plt.plot(k_1[:-250]); plt.show()\n",
      "[<matplotlib.lines.Line2D object at 0x7f77246cdd30>]\n"
     ]
    },
    {
     "data": {
      "image/png": "[encoded data removed]",
      "text/plain": [
       "<Figure size 432x288 with 1 Axes>"
      ]
     },
     "metadata": {},
     "output_type": "display_data"
    },
    {
     "name": "stdout",
     "output_type": "stream",
     "text": [
      "(Pdb) plt.plot(k_1[:-100]); plt.show()\n",
      "[<matplotlib.lines.Line2D object at 0x7f77246a61d0>]\n"
     ]
    },
    {
     "data": {
      "image/png": "[encoded data removed]",
      "text/plain": [
       "<Figure size 432x288 with 1 Axes>"
      ]
     },
     "metadata": {},
     "output_type": "display_data"
    },
    {
     "name": "stdout",
     "output_type": "stream",
     "text": [
      "(Pdb) test = np.ones(k_1.size)\n",
      "(Pdb) test\n",
      "array([1., 1., 1., ..., 1., 1., 1.])\n",
      "(Pdb) np.trapz(k_1,test)\n",
      "0.0\n",
      "(Pdb) np.trapz(test,k_1)\n",
      "144390.04460960178\n",
      "(Pdb) k_1\n",
      "array([1.77297542e-05, 7.07768586e-05, 1.58928030e-04, ...,\n",
      "       1.61079200e+04, 3.61700145e+04, 1.44390045e+05])\n",
      "(Pdb) q\n"
     ]
    },
    {
     "ename": "BdbQuit",
     "evalue": "",
     "output_type": "error",
     "traceback": [
      "\u001b[0;31m---------------------------------------------------------------------------\u001b[0m",
      "\u001b[0;31mBdbQuit\u001b[0m                                   Traceback (most recent call last)",
      "\u001b[0;32m<ipython-input-348-f02d3a10f08c>\u001b[0m in \u001b[0;36m<module>\u001b[0;34m()\u001b[0m\n\u001b[0;32m----> 1\u001b[0;31m \u001b[0mds\u001b[0m \u001b[0;34m=\u001b[0m \u001b[0msolve_qian\u001b[0m\u001b[0;34m(\u001b[0m\u001b[0mxiN\u001b[0m\u001b[0;34m=\u001b[0m\u001b[0;36m41\u001b[0m\u001b[0;34m,\u001b[0m \u001b[0mzetaN\u001b[0m\u001b[0;34m=\u001b[0m\u001b[0;36m21\u001b[0m\u001b[0;34m,\u001b[0m \u001b[0mtauN\u001b[0m\u001b[0;34m=\u001b[0m\u001b[0;36m4\u001b[0m\u001b[0;34m,\u001b[0m \u001b[0msN\u001b[0m\u001b[0;34m=\u001b[0m\u001b[0;36m1000\u001b[0m\u001b[0;34m,\u001b[0m \u001b[0mU\u001b[0m\u001b[0;34m=\u001b[0m\u001b[0;36m.625\u001b[0m\u001b[0;34m,\u001b[0m \u001b[0mL\u001b[0m\u001b[0;34m=\u001b[0m\u001b[0;36m0.1\u001b[0m\u001b[0;34m,\u001b[0m \u001b[0malpha\u001b[0m\u001b[0;34m=\u001b[0m\u001b[0;36m3\u001b[0m\u001b[0;34m)\u001b[0m\u001b[0;34m\u001b[0m\u001b[0m\n\u001b[0m",
      "\u001b[0;32m<ipython-input-301-2a07967db085>\u001b[0m in \u001b[0;36msolve_qian\u001b[0;34m(xiN, zetaN, tauN, sN, alpha, U, L)\u001b[0m\n\u001b[1;32m     21\u001b[0m \u001b[0;34m\u001b[0m\u001b[0m\n\u001b[1;32m     22\u001b[0m     \u001b[0mprint\u001b[0m\u001b[0;34m(\u001b[0m\u001b[0;34m'Integrating'\u001b[0m\u001b[0;34m)\u001b[0m\u001b[0;34m\u001b[0m\u001b[0m\n\u001b[0;32m---> 23\u001b[0;31m     \u001b[0mpsi\u001b[0m\u001b[0;34m,\u001b[0m \u001b[0mu\u001b[0m\u001b[0;34m,\u001b[0m \u001b[0mw\u001b[0m \u001b[0;34m=\u001b[0m \u001b[0mintegrate_qian\u001b[0m\u001b[0;34m(\u001b[0m\u001b[0mxi\u001b[0m\u001b[0;34m,\u001b[0m\u001b[0mzeta\u001b[0m\u001b[0;34m,\u001b[0m\u001b[0mtau\u001b[0m\u001b[0;34m,\u001b[0m\u001b[0ms\u001b[0m\u001b[0;34m,\u001b[0m\u001b[0malpha\u001b[0m\u001b[0;34m,\u001b[0m\u001b[0mU\u001b[0m\u001b[0;34m,\u001b[0m\u001b[0mL\u001b[0m\u001b[0;34m)\u001b[0m\u001b[0;34m\u001b[0m\u001b[0m\n\u001b[0m\u001b[1;32m     24\u001b[0m \u001b[0;34m\u001b[0m\u001b[0m\n\u001b[1;32m     25\u001b[0m     ds = xr.Dataset({'psi':(('mode','tau','zeta','xi'),psi),\n",
      "\u001b[0;32m<ipython-input-347-ef0c875cdc14>\u001b[0m in \u001b[0;36mintegrate_qian\u001b[0;34m(xi, zeta, tau, s, alpha, U, L)\u001b[0m\n\u001b[1;32m     30\u001b[0m \u001b[0;34m\u001b[0m\u001b[0m\n\u001b[1;32m     31\u001b[0m                 \u001b[0;31m# Calc psi2\u001b[0m\u001b[0;34m\u001b[0m\u001b[0;34m\u001b[0m\u001b[0m\n\u001b[0;32m---> 32\u001b[0;31m                 \u001b[0mpsi2a_ig\u001b[0m \u001b[0;34m=\u001b[0m \u001b[0mcalc_psi2a\u001b[0m\u001b[0;34m(\u001b[0m\u001b[0mxi\u001b[0m\u001b[0;34m[\u001b[0m\u001b[0mi\u001b[0m\u001b[0;34m]\u001b[0m\u001b[0;34m,\u001b[0m\u001b[0mzeta\u001b[0m\u001b[0;34m[\u001b[0m\u001b[0mj\u001b[0m\u001b[0;34m]\u001b[0m\u001b[0;34m,\u001b[0m\u001b[0mtau\u001b[0m\u001b[0;34m[\u001b[0m\u001b[0ml\u001b[0m\u001b[0;34m]\u001b[0m\u001b[0;34m,\u001b[0m\u001b[0ms\u001b[0m\u001b[0;34m,\u001b[0m\u001b[0malpha\u001b[0m\u001b[0;34m,\u001b[0m\u001b[0mU\u001b[0m\u001b[0;34m,\u001b[0m\u001b[0mL\u001b[0m\u001b[0;34m)\u001b[0m\u001b[0;34m\u001b[0m\u001b[0m\n\u001b[0m\u001b[1;32m     33\u001b[0m                 \u001b[0mpsi2b_ig\u001b[0m \u001b[0;34m=\u001b[0m \u001b[0mcalc_psi2b\u001b[0m\u001b[0;34m(\u001b[0m\u001b[0mxi\u001b[0m\u001b[0;34m[\u001b[0m\u001b[0mi\u001b[0m\u001b[0;34m]\u001b[0m\u001b[0;34m,\u001b[0m\u001b[0mzeta\u001b[0m\u001b[0;34m[\u001b[0m\u001b[0mj\u001b[0m\u001b[0;34m]\u001b[0m\u001b[0;34m,\u001b[0m\u001b[0mtau\u001b[0m\u001b[0;34m[\u001b[0m\u001b[0ml\u001b[0m\u001b[0;34m]\u001b[0m\u001b[0;34m,\u001b[0m\u001b[0ms\u001b[0m\u001b[0;34m,\u001b[0m\u001b[0malpha\u001b[0m\u001b[0;34m,\u001b[0m\u001b[0mU\u001b[0m\u001b[0;34m,\u001b[0m\u001b[0mL\u001b[0m\u001b[0;34m)\u001b[0m\u001b[0;34m\u001b[0m\u001b[0m\n\u001b[1;32m     34\u001b[0m \u001b[0;34m\u001b[0m\u001b[0m\n",
      "\u001b[0;32m<ipython-input-347-ef0c875cdc14>\u001b[0m in \u001b[0;36mintegrate_qian\u001b[0;34m(xi, zeta, tau, s, alpha, U, L)\u001b[0m\n\u001b[1;32m     30\u001b[0m \u001b[0;34m\u001b[0m\u001b[0m\n\u001b[1;32m     31\u001b[0m                 \u001b[0;31m# Calc psi2\u001b[0m\u001b[0;34m\u001b[0m\u001b[0;34m\u001b[0m\u001b[0m\n\u001b[0;32m---> 32\u001b[0;31m                 \u001b[0mpsi2a_ig\u001b[0m \u001b[0;34m=\u001b[0m \u001b[0mcalc_psi2a\u001b[0m\u001b[0;34m(\u001b[0m\u001b[0mxi\u001b[0m\u001b[0;34m[\u001b[0m\u001b[0mi\u001b[0m\u001b[0;34m]\u001b[0m\u001b[0;34m,\u001b[0m\u001b[0mzeta\u001b[0m\u001b[0;34m[\u001b[0m\u001b[0mj\u001b[0m\u001b[0;34m]\u001b[0m\u001b[0;34m,\u001b[0m\u001b[0mtau\u001b[0m\u001b[0;34m[\u001b[0m\u001b[0ml\u001b[0m\u001b[0;34m]\u001b[0m\u001b[0;34m,\u001b[0m\u001b[0ms\u001b[0m\u001b[0;34m,\u001b[0m\u001b[0malpha\u001b[0m\u001b[0;34m,\u001b[0m\u001b[0mU\u001b[0m\u001b[0;34m,\u001b[0m\u001b[0mL\u001b[0m\u001b[0;34m)\u001b[0m\u001b[0;34m\u001b[0m\u001b[0m\n\u001b[0m\u001b[1;32m     33\u001b[0m                 \u001b[0mpsi2b_ig\u001b[0m \u001b[0;34m=\u001b[0m \u001b[0mcalc_psi2b\u001b[0m\u001b[0;34m(\u001b[0m\u001b[0mxi\u001b[0m\u001b[0;34m[\u001b[0m\u001b[0mi\u001b[0m\u001b[0;34m]\u001b[0m\u001b[0;34m,\u001b[0m\u001b[0mzeta\u001b[0m\u001b[0;34m[\u001b[0m\u001b[0mj\u001b[0m\u001b[0;34m]\u001b[0m\u001b[0;34m,\u001b[0m\u001b[0mtau\u001b[0m\u001b[0;34m[\u001b[0m\u001b[0ml\u001b[0m\u001b[0;34m]\u001b[0m\u001b[0;34m,\u001b[0m\u001b[0ms\u001b[0m\u001b[0;34m,\u001b[0m\u001b[0malpha\u001b[0m\u001b[0;34m,\u001b[0m\u001b[0mU\u001b[0m\u001b[0;34m,\u001b[0m\u001b[0mL\u001b[0m\u001b[0;34m)\u001b[0m\u001b[0;34m\u001b[0m\u001b[0m\n\u001b[1;32m     34\u001b[0m \u001b[0;34m\u001b[0m\u001b[0m\n",
      "\u001b[0;32m~/anaconda3/lib/python3.6/bdb.py\u001b[0m in \u001b[0;36mtrace_dispatch\u001b[0;34m(self, frame, event, arg)\u001b[0m\n\u001b[1;32m     49\u001b[0m             \u001b[0;32mreturn\u001b[0m \u001b[0;31m# None\u001b[0m\u001b[0;34m\u001b[0m\u001b[0m\n\u001b[1;32m     50\u001b[0m         \u001b[0;32mif\u001b[0m \u001b[0mevent\u001b[0m \u001b[0;34m==\u001b[0m \u001b[0;34m'line'\u001b[0m\u001b[0;34m:\u001b[0m\u001b[0;34m\u001b[0m\u001b[0m\n\u001b[0;32m---> 51\u001b[0;31m             \u001b[0;32mreturn\u001b[0m \u001b[0mself\u001b[0m\u001b[0;34m.\u001b[0m\u001b[0mdispatch_line\u001b[0m\u001b[0;34m(\u001b[0m\u001b[0mframe\u001b[0m\u001b[0;34m)\u001b[0m\u001b[0;34m\u001b[0m\u001b[0m\n\u001b[0m\u001b[1;32m     52\u001b[0m         \u001b[0;32mif\u001b[0m \u001b[0mevent\u001b[0m \u001b[0;34m==\u001b[0m \u001b[0;34m'call'\u001b[0m\u001b[0;34m:\u001b[0m\u001b[0;34m\u001b[0m\u001b[0m\n\u001b[1;32m     53\u001b[0m             \u001b[0;32mreturn\u001b[0m \u001b[0mself\u001b[0m\u001b[0;34m.\u001b[0m\u001b[0mdispatch_call\u001b[0m\u001b[0;34m(\u001b[0m\u001b[0mframe\u001b[0m\u001b[0;34m,\u001b[0m \u001b[0marg\u001b[0m\u001b[0;34m)\u001b[0m\u001b[0;34m\u001b[0m\u001b[0m\n",
      "\u001b[0;32m~/anaconda3/lib/python3.6/bdb.py\u001b[0m in \u001b[0;36mdispatch_line\u001b[0;34m(self, frame)\u001b[0m\n\u001b[1;32m     68\u001b[0m         \u001b[0;32mif\u001b[0m \u001b[0mself\u001b[0m\u001b[0;34m.\u001b[0m\u001b[0mstop_here\u001b[0m\u001b[0;34m(\u001b[0m\u001b[0mframe\u001b[0m\u001b[0;34m)\u001b[0m \u001b[0;32mor\u001b[0m \u001b[0mself\u001b[0m\u001b[0;34m.\u001b[0m\u001b[0mbreak_here\u001b[0m\u001b[0;34m(\u001b[0m\u001b[0mframe\u001b[0m\u001b[0;34m)\u001b[0m\u001b[0;34m:\u001b[0m\u001b[0;34m\u001b[0m\u001b[0m\n\u001b[1;32m     69\u001b[0m             \u001b[0mself\u001b[0m\u001b[0;34m.\u001b[0m\u001b[0muser_line\u001b[0m\u001b[0;34m(\u001b[0m\u001b[0mframe\u001b[0m\u001b[0;34m)\u001b[0m\u001b[0;34m\u001b[0m\u001b[0m\n\u001b[0;32m---> 70\u001b[0;31m             \u001b[0;32mif\u001b[0m \u001b[0mself\u001b[0m\u001b[0;34m.\u001b[0m\u001b[0mquitting\u001b[0m\u001b[0;34m:\u001b[0m \u001b[0;32mraise\u001b[0m \u001b[0mBdbQuit\u001b[0m\u001b[0;34m\u001b[0m\u001b[0m\n\u001b[0m\u001b[1;32m     71\u001b[0m         \u001b[0;32mreturn\u001b[0m \u001b[0mself\u001b[0m\u001b[0;34m.\u001b[0m\u001b[0mtrace_dispatch\u001b[0m\u001b[0;34m\u001b[0m\u001b[0m\n\u001b[1;32m     72\u001b[0m \u001b[0;34m\u001b[0m\u001b[0m\n",
      "\u001b[0;31mBdbQuit\u001b[0m: "
     ]
    }
   ],
   "source": [
    "ds = solve_qian(xiN=41, zetaN=21, tauN=4, sN=1000, U=.625, L=0.1, alpha=3)"
   ]
  },
  {
   "cell_type": "code",
   "execution_count": 342,
   "metadata": {
    "ExecuteTime": {
     "end_time": "2019-11-20T03:45:06.243938Z",
     "start_time": "2019-11-20T03:45:06.060447Z"
    }
   },
   "outputs": [
    {
     "data": {
      "text/plain": [
       "<matplotlib.colorbar.Colorbar at 0x7f771ff24588>"
      ]
     },
     "execution_count": 342,
     "metadata": {},
     "output_type": "execute_result"
    },
    {
     "data": {
      "image/png": "[encoded data removed]",
      "text/plain": [
       "<Figure size 1008x720 with 2 Axes>"
      ]
     },
     "metadata": {},
     "output_type": "display_data"
    }
   ],
   "source": [
    "plt.figure(figsize=(14,10))\n",
    "plt.contourf(ds.xi, ds.zeta, ds.psi.sel(mode=1)[1], levels=np.arange(-.4,.4+0.02,0.04), cmap='RdBu_r')\n",
    "# plt.clim([-1.5,1.5])\n",
    "plt.colorbar()"
   ]
  },
  {
   "cell_type": "code",
   "execution_count": 343,
   "metadata": {
    "ExecuteTime": {
     "end_time": "2019-11-20T03:45:06.846893Z",
     "start_time": "2019-11-20T03:45:06.652623Z"
    }
   },
   "outputs": [
    {
     "data": {
      "text/plain": [
       "<matplotlib.colorbar.Colorbar at 0x7f77208bda20>"
      ]
     },
     "execution_count": 343,
     "metadata": {},
     "output_type": "execute_result"
    },
    {
     "data": {
      "image/png": "[encoded data removed]",
      "text/plain": [
       "<Figure size 1008x720 with 2 Axes>"
      ]
     },
     "metadata": {},
     "output_type": "display_data"
    }
   ],
   "source": [
    "plt.figure(figsize=(14,10))\n",
    "plt.contourf(ds.xi, ds.zeta, ds.u.sel(mode=1)[1], levels=np.arange(-.4,.4+0.02,0.04), cmap='RdBu_r')\n",
    "# plt.clim([-1.5,1.5])\n",
    "plt.colorbar()"
   ]
  },
  {
   "cell_type": "code",
   "execution_count": 338,
   "metadata": {
    "ExecuteTime": {
     "end_time": "2019-11-20T03:40:42.228603Z",
     "start_time": "2019-11-20T03:40:33.453469Z"
    }
   },
   "outputs": [
    {
     "name": "stdout",
     "output_type": "stream",
     "text": [
      "Animating stream function.\n",
      "timestep 0\n",
      "timestep 0\n",
      "timestep 1\n",
      "timestep 2\n",
      "timestep 3\n",
      "timestep 4\n",
      "timestep 5\n",
      "timestep 6\n",
      "timestep 7\n",
      "timestep 8\n",
      "timestep 9\n",
      "timestep 10\n",
      "timestep 11\n",
      "timestep 12\n",
      "timestep 13\n",
      "timestep 14\n",
      "timestep 15\n",
      "timestep 16\n",
      "timestep 17\n",
      "timestep 18\n",
      "timestep 19\n",
      "timestep 20\n",
      "timestep 21\n",
      "timestep 22\n",
      "timestep 23\n",
      "timestep 24\n",
      "timestep 25\n",
      "timestep 26\n",
      "timestep 27\n",
      "timestep 28\n",
      "timestep 29\n",
      "timestep 30\n",
      "timestep 31\n"
     ]
    }
   ],
   "source": [
    "rt.animatePsi(ds.sum(dim='mode', keep_attrs=True).squeeze())\n",
    "# rt.animatePsi(ds.sel(mode=1).squeeze())"
   ]
  },
  {
   "cell_type": "code",
   "execution_count": 336,
   "metadata": {
    "ExecuteTime": {
     "end_time": "2019-11-20T03:40:26.516022Z",
     "start_time": "2019-11-20T03:40:21.882053Z"
    }
   },
   "outputs": [
    {
     "name": "stdout",
     "output_type": "stream",
     "text": [
      "Animating velocity field.\n",
      "timestep 0\n",
      "timestep 0\n",
      "timestep 1\n",
      "timestep 2\n",
      "timestep 3\n",
      "timestep 4\n",
      "timestep 5\n",
      "timestep 6\n",
      "timestep 7\n",
      "timestep 8\n",
      "timestep 9\n",
      "timestep 10\n",
      "timestep 11\n",
      "timestep 12\n",
      "timestep 13\n",
      "timestep 14\n",
      "timestep 15\n",
      "timestep 16\n",
      "timestep 17\n",
      "timestep 18\n",
      "timestep 19\n",
      "timestep 20\n",
      "timestep 21\n",
      "timestep 22\n",
      "timestep 23\n",
      "timestep 24\n",
      "timestep 25\n",
      "timestep 26\n",
      "timestep 27\n",
      "timestep 28\n",
      "timestep 29\n",
      "timestep 30\n",
      "timestep 31\n"
     ]
    }
   ],
   "source": [
    "rt.animateVelocity(ds.sum(dim='mode', keep_attrs=True).squeeze())\n",
    "# rt.animateVelocity(ds.sel(mode=3).squeeze())"
   ]
  },
  {
   "cell_type": "code",
   "execution_count": null,
   "metadata": {},
   "outputs": [],
   "source": []
  }
 ],
 "metadata": {
  "kernelspec": {
   "display_name": "Python 3",
   "language": "python",
   "name": "python3"
  },
  "language_info": {
   "codemirror_mode": {
    "name": "ipython",
    "version": 3
   },
   "file_extension": ".py",
   "mimetype": "text/x-python",
   "name": "python",
   "nbconvert_exporter": "python",
   "pygments_lexer": "ipython3",
   "version": "3.6.5"
  },
  "toc": {
   "base_numbering": 1,
   "nav_menu": {},
   "number_sections": true,
   "sideBar": true,
   "skip_h1_title": false,
   "title_cell": "Table of Contents",
   "title_sidebar": "Contents",
   "toc_cell": false,
   "toc_position": {},
   "toc_section_display": true,
   "toc_window_display": false
  }
 },
 "nbformat": 4,
 "nbformat_minor": 2
}
