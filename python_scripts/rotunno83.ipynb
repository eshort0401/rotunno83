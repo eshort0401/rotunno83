{
 "cells": [
  {
   "cell_type": "code",
   "execution_count": 1,
   "metadata": {
    "ExecuteTime": {
     "end_time": "2019-11-27T16:34:47.279789Z",
     "start_time": "2019-11-27T16:34:46.512306Z"
    }
   },
   "outputs": [],
   "source": [
    "import copy\n",
    "import warnings\n",
    "\n",
    "import numpy as np\n",
    "import xarray as xr\n",
    "\n",
    "import sys, pdb, traceback\n",
    "\n",
    "import matplotlib.pyplot as plt\n",
    "\n",
    "import rotunno as rt\n",
    "import qian_helpers\n",
    "import rotunno_helpers"
   ]
  },
  {
   "cell_type": "code",
   "execution_count": 2,
   "metadata": {
    "ExecuteTime": {
     "end_time": "2019-11-27T16:34:49.892678Z",
     "start_time": "2019-11-27T16:34:49.875798Z"
    }
   },
   "outputs": [],
   "source": [
    "# Convenience functions\n",
    "%load_ext autoreload\n",
    "%autoreload 1\n",
    "%aimport rotunno "
   ]
  },
  {
   "cell_type": "code",
   "execution_count": 3,
   "metadata": {
    "ExecuteTime": {
     "end_time": "2019-11-27T16:34:50.249047Z",
     "start_time": "2019-11-27T16:34:50.244161Z"
    }
   },
   "outputs": [],
   "source": [
    "theta0=300\n",
    "N=0.01\n",
    "h=1500\n",
    "delTheta=8\n",
    "latitude=-40\n",
    "beta, Atilde, f, h = rt.calc_rotunno_parameters(N=N,theta0=theta0,delTheta=delTheta,latitude=latitude)"
   ]
  },
  {
   "cell_type": "code",
   "execution_count": 45,
   "metadata": {
    "ExecuteTime": {
     "end_time": "2019-11-26T05:29:16.905412Z",
     "start_time": "2019-11-26T05:29:16.892359Z"
    }
   },
   "outputs": [],
   "source": [
    "ds_qian = xr.open_dataset('/home/student.unimelb.edu.au/shorte1/Documents/rotunno83/datasets/nice_weak_bg_wind_example.nc')"
   ]
  },
  {
   "cell_type": "code",
   "execution_count": 5,
   "metadata": {
    "ExecuteTime": {
     "end_time": "2019-11-27T16:36:40.938434Z",
     "start_time": "2019-11-27T16:36:40.923789Z"
    },
    "scrolled": false
   },
   "outputs": [
    {
     "name": "stdout",
     "output_type": "stream",
     "text": [
      "Initialising\n",
      "Integrating\n",
      "  0%|          | 0/41 [00:00<?, ?it/s]\n"
     ]
    },
    {
     "ename": "UnboundLocalError",
     "evalue": "local variable 'u_intgd_dxp_dzp' referenced before assignment",
     "output_type": "error",
     "traceback": [
      "\u001b[0;31m---------------------------------------------------------------------------\u001b[0m",
      "\u001b[0;31mUnboundLocalError\u001b[0m                         Traceback (most recent call last)",
      "\u001b[0;32m<ipython-input-5-77b9e529e4a2>\u001b[0m in \u001b[0;36m<module>\u001b[0;34m()\u001b[0m\n\u001b[1;32m      4\u001b[0m \u001b[0;34m\u001b[0m\u001b[0m\n\u001b[1;32m      5\u001b[0m ds_rotunno = rt.solve_rotunno_case_one(xiN=41, zetaN=41, tauN=32, xipN=500, zetapN=500,\n\u001b[0;32m----> 6\u001b[0;31m                                        xi0=0.1, beta=beta, Atilde=Atilde)\n\u001b[0m",
      "\u001b[0;32m~/Documents/rotunno83/python_scripts/rotunno.py\u001b[0m in \u001b[0;36msolve_rotunno_case_one\u001b[0;34m(xiN, zetaN, tauN, xipN, zetapN, xi0, beta, Atilde)\u001b[0m\n\u001b[1;32m     60\u001b[0m \u001b[0;34m\u001b[0m\u001b[0m\n\u001b[1;32m     61\u001b[0m     \u001b[0mprint\u001b[0m\u001b[0;34m(\u001b[0m\u001b[0;34m'Integrating'\u001b[0m\u001b[0;34m)\u001b[0m\u001b[0;34m\u001b[0m\u001b[0m\n\u001b[0;32m---> 62\u001b[0;31m     \u001b[0mpsi\u001b[0m\u001b[0;34m,\u001b[0m \u001b[0mu\u001b[0m\u001b[0;34m,\u001b[0m \u001b[0mw\u001b[0m \u001b[0;34m=\u001b[0m \u001b[0mintegrate_case_one\u001b[0m\u001b[0;34m(\u001b[0m\u001b[0mxi\u001b[0m\u001b[0;34m,\u001b[0m\u001b[0mzeta\u001b[0m\u001b[0;34m,\u001b[0m\u001b[0mtau\u001b[0m\u001b[0;34m,\u001b[0m\u001b[0mxip\u001b[0m\u001b[0;34m,\u001b[0m\u001b[0mzetap\u001b[0m\u001b[0;34m,\u001b[0m\u001b[0mxi0\u001b[0m\u001b[0;34m,\u001b[0m\u001b[0mbeta\u001b[0m\u001b[0;34m,\u001b[0m\u001b[0mAtilde\u001b[0m\u001b[0;34m)\u001b[0m\u001b[0;34m\u001b[0m\u001b[0m\n\u001b[0m\u001b[1;32m     63\u001b[0m \u001b[0;34m\u001b[0m\u001b[0m\n\u001b[1;32m     64\u001b[0m     ds = xr.Dataset({'psi':(('tau','zeta','xi'),psi),\n",
      "\u001b[0;32m~/Documents/rotunno83/python_scripts/rotunno_helpers.py\u001b[0m in \u001b[0;36mintegrate_case_one\u001b[0;34m(xi, zeta, tau, xip, zetap, xi0, beta, Atilde)\u001b[0m\n\u001b[1;32m     49\u001b[0m                 \u001b[0mcond_psi\u001b[0m \u001b[0;34m=\u001b[0m \u001b[0;34m(\u001b[0m\u001b[0mcond_1\u001b[0m\u001b[0;34m+\u001b[0m\u001b[0mcond_2\u001b[0m\u001b[0;34m+\u001b[0m\u001b[0mcond_3\u001b[0m\u001b[0;34m)\u001b[0m\u001b[0;34m.\u001b[0m\u001b[0mastype\u001b[0m\u001b[0;34m(\u001b[0m\u001b[0mnp\u001b[0m\u001b[0;34m.\u001b[0m\u001b[0mbool\u001b[0m\u001b[0;34m)\u001b[0m\u001b[0;34m\u001b[0m\u001b[0m\n\u001b[1;32m     50\u001b[0m                 \u001b[0mcond_uw\u001b[0m \u001b[0;34m=\u001b[0m \u001b[0;34m(\u001b[0m\u001b[0mcond_xi_xip\u001b[0m\u001b[0;34m+\u001b[0m\u001b[0mcond_3\u001b[0m\u001b[0;34m)\u001b[0m\u001b[0;34m.\u001b[0m\u001b[0mastype\u001b[0m\u001b[0;34m(\u001b[0m\u001b[0mnp\u001b[0m\u001b[0;34m.\u001b[0m\u001b[0mbool\u001b[0m\u001b[0;34m)\u001b[0m\u001b[0;34m\u001b[0m\u001b[0m\n\u001b[0;32m---> 51\u001b[0;31m \u001b[0;34m\u001b[0m\u001b[0m\n\u001b[0m\u001b[1;32m     52\u001b[0m                 psi_intgd_dxp_dzp[cond_psi] = calc_psi_ig(xi[i],xip[k],\n\u001b[1;32m     53\u001b[0m                                                           \u001b[0mzeta\u001b[0m\u001b[0;34m[\u001b[0m\u001b[0mj\u001b[0m\u001b[0;34m]\u001b[0m\u001b[0;34m,\u001b[0m\u001b[0;34m\u001b[0m\u001b[0m\n",
      "\u001b[0;31mUnboundLocalError\u001b[0m: local variable 'u_intgd_dxp_dzp' referenced before assignment"
     ]
    }
   ],
   "source": [
    "# ds_qian = rt.solve_qian(xiN=41, zetaN=41, tauN=32, sN=1000, U=0.4, L=0.1, alpha=3, save=False)\n",
    "# ds_rotunno = rt.solve_rotunno_case_two(xiN=41, zetaN=41, tauN=32, kN=1000,\n",
    "#                                        xi0=0.1, beta=beta, Atilde=Atilde)\n",
    "\n",
    "ds_rotunno = rt.solve_rotunno_case_one(xiN=41, zetaN=41, tauN=32, xipN=500, zetapN=500,\n",
    "                                       xi0=0.1, beta=beta, Atilde=Atilde)"
   ]
  },
  {
   "cell_type": "code",
   "execution_count": 5,
   "metadata": {
    "ExecuteTime": {
     "end_time": "2019-11-26T00:56:23.992284Z",
     "start_time": "2019-11-26T00:56:23.939053Z"
    }
   },
   "outputs": [],
   "source": [
    "ds_qian.to_netcdf('/home/student.unimelb.edu.au/shorte1/Documents/rotunno83/datasets/qian.nc')\n",
    "ds_rotunno.to_netcdf('/home/student.unimelb.edu.au/shorte1/Documents/rotunno83/datasets/rotunno.nc')"
   ]
  },
  {
   "cell_type": "code",
   "execution_count": 7,
   "metadata": {
    "ExecuteTime": {
     "end_time": "2019-11-26T00:57:12.338097Z",
     "start_time": "2019-11-26T00:57:12.312544Z"
    }
   },
   "outputs": [],
   "source": [
    "ds_qian = xr.open_dataset('/home/student.unimelb.edu.au/shorte1/Documents/rotunno83/datasets/qian.nc')\n",
    "ds_rotunno = xr.open_dataset('/home/student.unimelb.edu.au/shorte1/Documents/rotunno83/datasets/rotunno.nc')"
   ]
  },
  {
   "cell_type": "code",
   "execution_count": 118,
   "metadata": {
    "ExecuteTime": {
     "end_time": "2019-11-26T08:57:51.130235Z",
     "start_time": "2019-11-26T08:57:51.089929Z"
    }
   },
   "outputs": [],
   "source": [
    "omega = 2*np.pi/(24*3600)\n",
    "# ds_rotunno_dim = rt.redimensionalise_rotunno(copy.deepcopy(ds_rotunno), h=h, f=f, N=N)\n",
    "ds_qian_dim = rt.redimensionalise_qian(copy.deepcopy(ds_qian), h=h, N=N, Q0=Atilde*omega**3*h*np.pi)"
   ]
  },
  {
   "cell_type": "code",
   "execution_count": 119,
   "metadata": {
    "ExecuteTime": {
     "end_time": "2019-11-26T08:57:54.983833Z",
     "start_time": "2019-11-26T08:57:54.960430Z"
    }
   },
   "outputs": [],
   "source": [
    "g=9.807\n",
    "ds_qian_dim['theta_q'] = (ds_qian_dim.bq)*theta0/g\n",
    "ds_qian_dim['theta_w'] = (ds_qian_dim.bw)*theta0/g\n",
    "ds_qian_dim['theta_q'].attrs['units'] = 'K'\n",
    "ds_qian_dim['theta_w'].attrs['units'] = 'K'"
   ]
  },
  {
   "cell_type": "code",
   "execution_count": 123,
   "metadata": {
    "ExecuteTime": {
     "end_time": "2019-11-26T08:58:18.744344Z",
     "start_time": "2019-11-26T08:58:18.575452Z"
    }
   },
   "outputs": [
    {
     "name": "stdout",
     "output_type": "stream",
     "text": [
      "Plotting theta_w.\n"
     ]
    },
    {
     "data": {
      "image/png": "[encoded data removed]",
      "text/plain": [
       "<Figure size 432x288 with 2 Axes>"
      ]
     },
     "metadata": {},
     "output_type": "display_data"
    }
   ],
   "source": [
    "# rt.plotCont(ds_rotunno_dim, var='u',t=16); plt.show()\n",
    "rt.plotCont(ds_qian_dim.sel(mode=[1]).sum(dim='mode', keep_attrs=True).squeeze(), var='theta_w',t=4); plt.show()"
   ]
  },
  {
   "cell_type": "code",
   "execution_count": 111,
   "metadata": {
    "ExecuteTime": {
     "end_time": "2019-11-26T08:56:28.657538Z",
     "start_time": "2019-11-26T08:56:19.083668Z"
    }
   },
   "outputs": [
    {
     "name": "stdout",
     "output_type": "stream",
     "text": [
      "Plotting theta_w.\n",
      "Timestep 0\n",
      "Timestep 0\n",
      "Timestep 1\n",
      "Timestep 2\n",
      "Timestep 3\n",
      "Timestep 4\n",
      "Timestep 5\n",
      "Timestep 6\n",
      "Timestep 7\n",
      "Timestep 8\n",
      "Timestep 9\n",
      "Timestep 10\n",
      "Timestep 11\n",
      "Timestep 12\n",
      "Timestep 13\n",
      "Timestep 14\n",
      "Timestep 15\n",
      "Timestep 16\n",
      "Timestep 17\n",
      "Timestep 18\n",
      "Timestep 19\n",
      "Timestep 20\n",
      "Timestep 21\n",
      "Timestep 22\n",
      "Timestep 23\n",
      "Timestep 24\n",
      "Timestep 25\n",
      "Timestep 26\n",
      "Timestep 27\n",
      "Timestep 28\n",
      "Timestep 29\n",
      "Timestep 30\n",
      "Timestep 31\n"
     ]
    },
    {
     "data": {
      "image/png": "[encoded data removed]",
      "text/plain": [
       "<Figure size 432x288 with 2 Axes>"
      ]
     },
     "metadata": {},
     "output_type": "display_data"
    }
   ],
   "source": [
    "# rt.animateCont(ds_qian_dim.sum(dim='mode', keep_attrs=True).squeeze(),var='psi')\n",
    "# rt.animatePsi(ds_dim.sel(mode=2).squeeze())\n",
    "rt.animateCont(ds_qian_dim.sel(mode=[1]).sum(dim='mode', keep_attrs=True).squeeze(),  var='theta_w')\n",
    "\n",
    "# rt.animateCont(ds_qian_dim.sum(dim='mode', keep_attrs=True).squeeze(),  var='theta_w')\n",
    "# rt.animateCont(ds_qian_dim.sel(mode=[2]).sum(dim='mode', keep_attrs=True).squeeze(),  var='psi')\n",
    "# for i in np.arange(1,7):\n",
    "#     rt.animateCont(ds_qian_dim.sel(submode=i),  var='bw')\n",
    "# rt.animateCont(ds_qian_dim.sel(submode=[2,3,4,5,6]).sum(dim='submode', keep_attrs=True).squeeze(),'bw')\n",
    "# rt.animateCont(ds_qian_dim.sel(mode=2).squeeze(),  var='psi')"
   ]
  },
  {
   "cell_type": "code",
   "execution_count": null,
   "metadata": {
    "ExecuteTime": {
     "end_time": "2019-11-23T15:20:17.192662Z",
     "start_time": "2019-11-23T15:20:17.186957Z"
    }
   },
   "outputs": [],
   "source": [
    "ds_qian_dim['theta_pert'] = ds_qian_dim.bw*300/9.807\n",
    "ds_qian_dim.theta_pert.attrs['units'] = 'K'"
   ]
  },
  {
   "cell_type": "code",
   "execution_count": 52,
   "metadata": {
    "ExecuteTime": {
     "end_time": "2019-11-26T08:05:32.268611Z",
     "start_time": "2019-11-26T08:05:29.955328Z"
    }
   },
   "outputs": [
    {
     "name": "stdout",
     "output_type": "stream",
     "text": [
      "Plotting velocity.\n",
      "Timestep 0\n",
      "Timestep 0\n",
      "Timestep 1\n",
      "Timestep 2\n",
      "Timestep 3\n",
      "Timestep 4\n",
      "Timestep 5\n",
      "Timestep 6\n",
      "Timestep 7\n",
      "Timestep 8\n",
      "Timestep 9\n",
      "Timestep 10\n",
      "Timestep 11\n",
      "Timestep 12\n",
      "Timestep 13\n",
      "Timestep 14\n",
      "Timestep 15\n"
     ]
    }
   ],
   "source": [
    "rt.animateVelocity(ds_qian_dim.sum(dim='mode', keep_attrs=True).squeeze()); plt.show()"
   ]
  },
  {
   "cell_type": "markdown",
   "metadata": {
    "heading_collapsed": true
   },
   "source": [
    "## Rotunno Case One Dev"
   ]
  },
  {
   "cell_type": "code",
   "execution_count": 93,
   "metadata": {
    "ExecuteTime": {
     "end_time": "2019-11-27T14:46:00.798781Z",
     "start_time": "2019-11-27T14:46:00.792770Z"
    },
    "hidden": true
   },
   "outputs": [],
   "source": [
    "xi, xip, zeta, zetap, xi0, epsilon_1, epsilon_2 = symbols('xi xi_p zeta zeta_p xi0 \\epsilon_1 \\epsilon_2')"
   ]
  },
  {
   "cell_type": "code",
   "execution_count": 94,
   "metadata": {
    "ExecuteTime": {
     "end_time": "2019-11-27T14:46:03.939212Z",
     "start_time": "2019-11-27T14:46:03.622240Z"
    },
    "hidden": true
   },
   "outputs": [
    {
     "data": {
      "image/png": "[encoded data removed]",
      "text/latex": [
       "$$\\log{\\left (\\frac{\\left(\\xi - \\xi_{p}\\right)^{2} + \\left(\\zeta - \\zeta_{p}\\right)^{2}}{\\left(\\xi - \\xi_{p}\\right)^{2} + \\left(\\zeta + \\zeta_{p}\\right)^{2}} \\right )}$$"
      ],
      "text/plain": [
       "   ⎛        2           2⎞\n",
       "   ⎜(ξ - ξₚ)  + (ζ - ζₚ) ⎟\n",
       "log⎜─────────────────────⎟\n",
       "   ⎜        2           2⎟\n",
       "   ⎝(ξ - ξₚ)  + (ζ + ζₚ) ⎠"
      ]
     },
     "execution_count": 94,
     "metadata": {},
     "output_type": "execute_result"
    }
   ],
   "source": [
    "fn = log(((xi-xip)**2+(zeta-zetap)**2)/((xi-xip)**2+(zeta+zetap)**2))\n",
    "fn"
   ]
  },
  {
   "cell_type": "code",
   "execution_count": 46,
   "metadata": {
    "ExecuteTime": {
     "end_time": "2019-11-27T14:03:44.849824Z",
     "start_time": "2019-11-27T14:03:44.477871Z"
    },
    "hidden": true
   },
   "outputs": [
    {
     "data": {
      "image/png": "[encoded data removed]",
      "text/latex": [
       "$$\\frac{\\left(\\zeta - \\zeta_{p}\\right)^{2}}{\\left(\\zeta + \\zeta_{p}\\right)^{2}}$$"
      ],
      "text/plain": [
       "        2\n",
       "(ζ - ζₚ) \n",
       "─────────\n",
       "        2\n",
       "(ζ + ζₚ) "
      ]
     },
     "execution_count": 46,
     "metadata": {},
     "output_type": "execute_result"
    }
   ],
   "source": [
    "fn_2 = ((xi-xip)**2+(zeta-zetap)**2)/((xi-xip)**2+(zeta+zetap)**2)\n",
    "fn_2\n",
    "fn_2.subs(xi,xip)"
   ]
  },
  {
   "cell_type": "code",
   "execution_count": 140,
   "metadata": {
    "ExecuteTime": {
     "end_time": "2019-11-27T16:18:45.101530Z",
     "start_time": "2019-11-27T16:18:45.085372Z"
    },
    "hidden": true
   },
   "outputs": [
    {
     "data": {
      "text/plain": [
       "array([0, 0, 0, 0, 0, 0])"
      ]
     },
     "execution_count": 140,
     "metadata": {},
     "output_type": "execute_result"
    }
   ],
   "source": [
    "x=np.arange(1,7)\n",
    "test=np.argwhere((np.logical_or(x==2,x==3))).squeeze()\n",
    "ind=(x*(1==1)*np.ones(x.size)*x**2*1+1).astype(np.bool)\n",
    "x[ind]=0\n",
    "x"
   ]
  },
  {
   "cell_type": "code",
   "execution_count": 32,
   "metadata": {
    "ExecuteTime": {
     "end_time": "2019-11-27T13:55:55.499950Z",
     "start_time": "2019-11-27T13:55:55.497804Z"
    },
    "hidden": true
   },
   "outputs": [],
   "source": [
    "init_printing()"
   ]
  },
  {
   "cell_type": "code",
   "execution_count": 7,
   "metadata": {
    "ExecuteTime": {
     "end_time": "2019-11-27T13:45:58.891539Z",
     "start_time": "2019-11-27T13:45:58.538701Z"
    },
    "hidden": true
   },
   "outputs": [
    {
     "data": {
      "image/png": "[encoded data removed]",
      "text/latex": [
       "$$\\left ( 6, \\quad 2, \\quad 3\\right )$$"
      ],
      "text/plain": [
       "(6, 2, 3)"
      ]
     },
     "execution_count": 7,
     "metadata": {},
     "output_type": "execute_result"
    }
   ],
   "source": [
    "test=np.ones((1,2,3))\n",
    "test2=np.zeros((6,1,1))\n",
    "test3=test*test2\n",
    "test3.shape"
   ]
  },
  {
   "cell_type": "code",
   "execution_count": 101,
   "metadata": {
    "ExecuteTime": {
     "end_time": "2019-11-27T14:54:51.207293Z",
     "start_time": "2019-11-27T14:54:41.931209Z"
    },
    "hidden": true
   },
   "outputs": [
    {
     "data": {
      "image/png": "[encoded data removed]",
      "text/latex": [
       "$$0$$"
      ],
      "text/plain": [
       "0"
      ]
     },
     "execution_count": 101,
     "metadata": {},
     "output_type": "execute_result"
    }
   ],
   "source": [
    "simplify(integrate(integrate(fn, (xip, -oo, oo)), (zetap, 0, oo)))"
   ]
  },
  {
   "cell_type": "code",
   "execution_count": 39,
   "metadata": {
    "ExecuteTime": {
     "end_time": "2019-11-27T13:58:16.284452Z",
     "start_time": "2019-11-27T13:58:15.769024Z"
    },
    "hidden": true
   },
   "outputs": [
    {
     "data": {
      "image/png": "[encoded data removed]",
      "text/latex": [
       "$$- \\frac{2 \\left(\\xi - \\xi_{p}\\right) \\left(- \\left(\\zeta - \\zeta_{p}\\right)^{2} + \\left(\\zeta + \\zeta_{p}\\right)^{2}\\right)}{\\left(\\left(\\xi - \\xi_{p}\\right)^{2} + \\left(\\zeta - \\zeta_{p}\\right)^{2}\\right) \\left(\\left(\\xi - \\xi_{p}\\right)^{2} + \\left(\\zeta + \\zeta_{p}\\right)^{2}\\right)}$$"
      ],
      "text/plain": [
       "                 ⎛          2           2⎞     \n",
       "     -2⋅(ξ - ξₚ)⋅⎝- (ζ - ζₚ)  + (ζ + ζₚ) ⎠     \n",
       "───────────────────────────────────────────────\n",
       "⎛        2           2⎞ ⎛        2           2⎞\n",
       "⎝(ξ - ξₚ)  + (ζ - ζₚ) ⎠⋅⎝(ξ - ξₚ)  + (ζ + ζₚ) ⎠"
      ]
     },
     "execution_count": 39,
     "metadata": {},
     "output_type": "execute_result"
    }
   ],
   "source": [
    "w=-simplify(diff(fn,xi))\n",
    "w"
   ]
  },
  {
   "cell_type": "code",
   "execution_count": 103,
   "metadata": {
    "ExecuteTime": {
     "end_time": "2019-11-27T15:00:38.836225Z",
     "start_time": "2019-11-27T15:00:29.963657Z"
    },
    "hidden": true
   },
   "outputs": [
    {
     "data": {
      "image/png": "[encoded data removed]",
      "text/latex": [
       "$$0$$"
      ],
      "text/plain": [
       "0"
      ]
     },
     "execution_count": 103,
     "metadata": {},
     "output_type": "execute_result"
    }
   ],
   "source": [
    "limit(limit(fn,zeta,0),zetap,0)"
   ]
  },
  {
   "cell_type": "code",
   "execution_count": 53,
   "metadata": {
    "ExecuteTime": {
     "end_time": "2019-11-27T13:29:03.235140Z",
     "start_time": "2019-11-27T13:29:02.986473Z"
    },
    "hidden": true
   },
   "outputs": [
    {
     "data": {
      "image/png": "[encoded data removed]",
      "text/latex": [
       "$$\\xi \\log{\\left (\\frac{1}{\\xi^{2}} \\right )} + 2 \\xi$$"
      ],
      "text/plain": [
       "     ⎛1 ⎞      \n",
       "ξ⋅log⎜──⎟ + 2⋅ξ\n",
       "     ⎜ 2⎟      \n",
       "     ⎝ξ ⎠      "
      ]
     },
     "execution_count": 53,
     "metadata": {},
     "output_type": "execute_result"
    }
   ],
   "source": [
    "integrate(log(1/xi**2))"
   ]
  },
  {
   "cell_type": "code",
   "execution_count": 44,
   "metadata": {
    "ExecuteTime": {
     "end_time": "2019-11-27T14:00:20.735295Z",
     "start_time": "2019-11-27T14:00:20.216984Z"
    },
    "hidden": true
   },
   "outputs": [
    {
     "data": {
      "image/png": "[encoded data removed]",
      "text/latex": [
       "$$\\frac{2 \\left(\\left(\\zeta - \\zeta_{p}\\right) \\left(\\left(\\xi - \\xi_{p}\\right)^{2} + \\left(\\zeta + \\zeta_{p}\\right)^{2}\\right) - \\left(\\zeta + \\zeta_{p}\\right) \\left(\\left(\\xi - \\xi_{p}\\right)^{2} + \\left(\\zeta - \\zeta_{p}\\right)^{2}\\right)\\right)}{\\left(\\left(\\xi - \\xi_{p}\\right)^{2} + \\left(\\zeta - \\zeta_{p}\\right)^{2}\\right) \\left(\\left(\\xi - \\xi_{p}\\right)^{2} + \\left(\\zeta + \\zeta_{p}\\right)^{2}\\right)}$$"
      ],
      "text/plain": [
       "  ⎛         ⎛        2           2⎞            ⎛        2           2⎞⎞\n",
       "2⋅⎝(ζ - ζₚ)⋅⎝(ξ - ξₚ)  + (ζ + ζₚ) ⎠ - (ζ + ζₚ)⋅⎝(ξ - ξₚ)  + (ζ - ζₚ) ⎠⎠\n",
       "───────────────────────────────────────────────────────────────────────\n",
       "            ⎛        2           2⎞ ⎛        2           2⎞            \n",
       "            ⎝(ξ - ξₚ)  + (ζ - ζₚ) ⎠⋅⎝(ξ - ξₚ)  + (ζ + ζₚ) ⎠            "
      ]
     },
     "execution_count": 44,
     "metadata": {},
     "output_type": "execute_result"
    }
   ],
   "source": [
    "u=simplify(diff(fn,zeta))\n",
    "u"
   ]
  },
  {
   "cell_type": "code",
   "execution_count": 83,
   "metadata": {
    "ExecuteTime": {
     "end_time": "2019-11-27T14:29:37.452043Z",
     "start_time": "2019-11-27T14:29:37.129614Z"
    },
    "hidden": true
   },
   "outputs": [
    {
     "data": {
      "text/plain": [
       "<matplotlib.colorbar.Colorbar at 0x7f7f822e5278>"
      ]
     },
     "execution_count": 83,
     "metadata": {},
     "output_type": "execute_result"
    },
    {
     "data": {
      "image/png": "[encoded data removed]",
      "text/plain": [
       "<Figure size 432x288 with 2 Axes>"
      ]
     },
     "metadata": {},
     "output_type": "display_data"
    }
   ],
   "source": [
    "xip=np.linspace(-10,10,1001)\n",
    "zetap=np.linspace(0.01,10,1001)\n",
    "XIP, ZETAP = np.meshgrid(xip,zetap)\n",
    "xi=2\n",
    "zeta=2\n",
    "xi0=1\n",
    "fn = np.log(((xi-XIP)**2+(zeta-ZETAP)**2)/((xi-XIP)**2+(zeta+ZETAP)**2))#*np.exp(-ZETAP)/(XIP**2+xi0**2)\n",
    "plt.contourf(XIP,ZETAP,fn)\n",
    "plt.colorbar()"
   ]
  },
  {
   "cell_type": "code",
   "execution_count": 85,
   "metadata": {
    "ExecuteTime": {
     "end_time": "2019-11-27T14:38:45.765340Z",
     "start_time": "2019-11-27T14:38:45.654356Z"
    },
    "hidden": true
   },
   "outputs": [
    {
     "name": "stderr",
     "output_type": "stream",
     "text": [
      "/home/student.unimelb.edu.au/shorte1/anaconda3/lib/python3.6/site-packages/ipykernel_launcher.py:3: RuntimeWarning: divide by zero encountered in log\n",
      "  This is separate from the ipykernel package so we can avoid doing imports until\n",
      "/home/student.unimelb.edu.au/shorte1/anaconda3/lib/python3.6/site-packages/ipykernel_launcher.py:3: RuntimeWarning: invalid value encountered in multiply\n",
      "  This is separate from the ipykernel package so we can avoid doing imports until\n"
     ]
    },
    {
     "data": {
      "text/plain": [
       "[<matplotlib.lines.Line2D at 0x7f7f822385f8>]"
      ]
     },
     "execution_count": 85,
     "metadata": {},
     "output_type": "execute_result"
    },
    {
     "data": {
      "image/png": "[encoded data removed]",
      "text/plain": [
       "<Figure size 432x288 with 1 Axes>"
      ]
     },
     "metadata": {},
     "output_type": "display_data"
    }
   ],
   "source": [
    "x=np.linspace(0,2,1001)\n",
    "# y=np.log((x-1)**2/(x+1)**2)[]\n",
    "y=(np.exp(-x)-np.exp(-1))*np.log((x-1)**2/(x+1)**2)\n",
    "plt.plot(x,y)"
   ]
  },
  {
   "cell_type": "code",
   "execution_count": 72,
   "metadata": {
    "ExecuteTime": {
     "end_time": "2019-11-27T14:17:59.497106Z",
     "start_time": "2019-11-27T14:17:59.489501Z"
    },
    "hidden": true
   },
   "outputs": [
    {
     "data": {
      "text/plain": [
       "False"
      ]
     },
     "execution_count": 72,
     "metadata": {},
     "output_type": "execute_result"
    }
   ],
   "source": [
    "np.any(np.isinf(fn))"
   ]
  },
  {
   "cell_type": "code",
   "execution_count": 64,
   "metadata": {
    "ExecuteTime": {
     "end_time": "2019-11-27T14:14:28.104887Z",
     "start_time": "2019-11-27T14:14:27.939406Z"
    },
    "hidden": true
   },
   "outputs": [
    {
     "data": {
      "text/plain": [
       "array([0.9 , 0.91, 0.92, 0.93, 0.94, 0.95, 0.96, 0.97, 0.98, 0.99, 1.  ,\n",
       "       1.01, 1.02, 1.03, 1.04, 1.05, 1.06, 1.07, 1.08, 1.09])"
      ]
     },
     "execution_count": 64,
     "metadata": {},
     "output_type": "execute_result"
    },
    {
     "data": {
      "image/png": "[encoded data removed]",
      "text/plain": [
       "<Figure size 432x288 with 2 Axes>"
      ]
     },
     "metadata": {},
     "output_type": "display_data"
    }
   ],
   "source": [
    "plt.imshow(fn[540:560,90:110])\n",
    "plt.colorbar()\n",
    "# xip[540:560]\n",
    "zetap[90:110]"
   ]
  },
  {
   "cell_type": "code",
   "execution_count": 22,
   "metadata": {
    "ExecuteTime": {
     "end_time": "2019-11-27T13:50:35.882724Z",
     "start_time": "2019-11-27T13:50:35.597497Z"
    },
    "hidden": true,
    "scrolled": true
   },
   "outputs": [
    {
     "data": {
      "text/plain": [
       "<function matplotlib.pyplot.show(*args, **kw)>"
      ]
     },
     "execution_count": 22,
     "metadata": {},
     "output_type": "execute_result"
    },
    {
     "data": {
      "image/png": "[encoded data removed]",
      "text/plain": [
       "<Figure size 432x288 with 1 Axes>"
      ]
     },
     "metadata": {},
     "output_type": "display_data"
    }
   ],
   "source": [
    "xx  = np.arange(1/100000,3,1/100000)\n",
    "plt.plot(xx,xx*np.log(xx**2));plt.show"
   ]
  },
  {
   "cell_type": "markdown",
   "metadata": {
    "heading_collapsed": true
   },
   "source": [
    "## Buoyancy debug"
   ]
  },
  {
   "cell_type": "code",
   "execution_count": null,
   "metadata": {
    "ExecuteTime": {
     "end_time": "2019-11-25T14:54:48.367234Z",
     "start_time": "2019-11-25T14:54:48.362563Z"
    },
    "hidden": true
   },
   "outputs": [],
   "source": [
    "from sympy import *"
   ]
  },
  {
   "cell_type": "code",
   "execution_count": null,
   "metadata": {
    "ExecuteTime": {
     "end_time": "2019-11-25T14:54:49.269226Z",
     "start_time": "2019-11-25T14:54:49.264596Z"
    },
    "hidden": true
   },
   "outputs": [],
   "source": [
    "kappa, U, x, tau, L =symbols('kappa U x tau L')\n",
    "kappaU = 1/U"
   ]
  },
  {
   "cell_type": "code",
   "execution_count": null,
   "metadata": {
    "ExecuteTime": {
     "end_time": "2019-11-25T14:54:49.835238Z",
     "start_time": "2019-11-25T14:54:49.797941Z"
    },
    "hidden": true
   },
   "outputs": [],
   "source": [
    "expression = (kappa/(kappa*U-1))/(kappa**2+(U*kappa-1)**2)*exp(-kappa*L)*exp(I*(kappa*x-tau))-(2*kappaU-kappa)/(kappa*U-1)/((2*kappaU-kappa)**2+(kappa*U-1)**2)*exp(-1*(2*kappaU-kappa)*L)*exp(I*((2*kappaU-kappa)*x-tau))"
   ]
  },
  {
   "cell_type": "code",
   "execution_count": null,
   "metadata": {
    "ExecuteTime": {
     "end_time": "2019-11-25T15:17:40.455559Z",
     "start_time": "2019-11-25T15:17:39.397462Z"
    },
    "hidden": true
   },
   "outputs": [],
   "source": [
    "simplify(expression)"
   ]
  },
  {
   "cell_type": "code",
   "execution_count": null,
   "metadata": {
    "ExecuteTime": {
     "end_time": "2019-11-25T14:54:57.482561Z",
     "start_time": "2019-11-25T14:54:57.202301Z"
    },
    "hidden": true,
    "scrolled": true
   },
   "outputs": [],
   "source": [
    "init_printing()\n",
    "expression"
   ]
  },
  {
   "cell_type": "code",
   "execution_count": null,
   "metadata": {
    "ExecuteTime": {
     "end_time": "2019-11-25T14:55:44.392346Z",
     "start_time": "2019-11-25T14:55:42.970501Z"
    },
    "hidden": true
   },
   "outputs": [],
   "source": [
    "limit(expression,kappa,kappaU)"
   ]
  },
  {
   "cell_type": "code",
   "execution_count": null,
   "metadata": {
    "ExecuteTime": {
     "end_time": "2019-11-25T14:43:33.853442Z",
     "start_time": "2019-11-25T14:43:33.449783Z"
    },
    "hidden": true
   },
   "outputs": [],
   "source": [
    "simplify(cancel(factor(cancel(expand(exp)))))"
   ]
  },
  {
   "cell_type": "code",
   "execution_count": null,
   "metadata": {
    "ExecuteTime": {
     "end_time": "2019-11-25T01:31:25.686833Z",
     "start_time": "2019-11-25T01:31:25.682924Z"
    },
    "hidden": true
   },
   "outputs": [],
   "source": [
    "theta_alt = ((1-cos(s*pi))/(2))**(alpha)*pi/2"
   ]
  },
  {
   "cell_type": "code",
   "execution_count": null,
   "metadata": {
    "ExecuteTime": {
     "end_time": "2019-11-25T01:31:33.847464Z",
     "start_time": "2019-11-25T01:31:33.586243Z"
    },
    "hidden": true,
    "scrolled": true
   },
   "outputs": [],
   "source": [
    "theta_alt.subs(alpha,5)"
   ]
  },
  {
   "cell_type": "code",
   "execution_count": null,
   "metadata": {
    "ExecuteTime": {
     "end_time": "2019-11-25T01:32:45.433724Z",
     "start_time": "2019-11-25T01:32:45.183309Z"
    },
    "hidden": true
   },
   "outputs": [],
   "source": [
    "diff(theta_alt.subs(alpha,2),s)"
   ]
  },
  {
   "cell_type": "code",
   "execution_count": null,
   "metadata": {
    "ExecuteTime": {
     "end_time": "2019-11-25T01:19:47.614491Z",
     "start_time": "2019-11-25T01:19:47.363554Z"
    },
    "hidden": true
   },
   "outputs": [],
   "source": [
    "init_printing()"
   ]
  },
  {
   "cell_type": "code",
   "execution_count": null,
   "metadata": {
    "hidden": true
   },
   "outputs": [],
   "source": []
  },
  {
   "cell_type": "code",
   "execution_count": null,
   "metadata": {
    "ExecuteTime": {
     "end_time": "2019-11-25T23:35:28.306179Z",
     "start_time": "2019-11-25T23:35:26.815921Z"
    },
    "hidden": true,
    "scrolled": false
   },
   "outputs": [],
   "source": [
    "plt.close('all')\n",
    "power=6\n",
    "tau=np.pi/2\n",
    "zeta=0.001\n",
    "alpha=3\n",
    "U=1.5\n",
    "L=0.1\n",
    "sN=1000\n",
    "dS=1/sN\n",
    "\n",
    "s=np.arange(dS,1,dS, dtype=np.float32)\n",
    "xi=np.linspace(-20,20,1000, dtype=np.float32)\n",
    "theta=qian_helpers.calc_theta(s,alpha)\n",
    "\n",
    "k2 = qian_helpers.calc_k_2(theta,U)\n",
    "k3 = qian_helpers.calc_k_3(theta,U)\n",
    "k0_2 = qian_helpers.calc_k_2(0,U)\n",
    "k0_3 = qian_helpers.calc_k_3(0,U)\n",
    "bw23=np.zeros(xi.size)\n",
    "bw23_alt=np.zeros(xi.size)\n",
    "bw23a=np.zeros(xi.size)\n",
    "bw23b=np.zeros(xi.size)\n",
    "bw2b=np.zeros(xi.size)\n",
    "bw2ba=np.zeros(xi.size)\n",
    "bw2c=np.zeros(xi.size)\n",
    "bw3b=np.zeros(xi.size)\n",
    "bw3c=np.zeros(xi.size)\n",
    "\n",
    "# def calc_k_2()\n",
    "\n",
    "def calc_test(xi,zeta,tau,theta,U,L):\n",
    "    test_exp = (\n",
    "        U**2*(-(U**2 + (U**2*(-np.sin(theta) + 1) - 1)**2)\n",
    "              *np.exp((-L*(np.sin(theta) - 1)**2 + 1j*(U*tau*(-np.sin(theta) + 1) - xi))/(U*(-np.sin(theta) + 1)))\n",
    "              +(U**2*(np.sin(theta) - 1)**2 + (U**2 + np.sin(theta) - 1)**2)\n",
    "              *np.exp((L + 1j*(np.sin(theta) - 1)*(U*tau + xi*np.sin(theta) - xi))/(U*(np.sin(theta) - 1))))\n",
    "        *np.exp(1j*(-U*tau*(-np.sin(theta) + 1) + xi - (-np.sin(theta) + 1)*(U*tau + xi*np.sin(theta) - xi))/(U*(-np.sin(theta) + 1)))\n",
    "        /((U**2 + (U**2*(-np.sin(theta) + 1) - 1)**2)\n",
    "          *(U**2*(np.sin(theta) - 1)**2 + (U**2 + np.sin(theta) - 1)**2)\n",
    "          *np.tan(theta))\n",
    "    )\n",
    "    return test_exp\n",
    "\n",
    "for i in range(xi.size):\n",
    "    bw23a_ig = (1/np.tan(theta)\n",
    "               *(\n",
    "                 -qian_helpers.calc_C2(xi[i],tau,k2,U,L)/U**2\n",
    "#                  +qian_helpers.calc_C3(xi[i],tau,k3,U,L)\n",
    "                )\n",
    "               *alpha*s**(alpha-1)*np.pi/2)\n",
    "    bw23b_ig = (1/np.tan(theta)\n",
    "               *(\n",
    "#                  -qian_helpers.calc_C2(xi[i],tau,k2,U,L)/U**2\n",
    "                 +qian_helpers.calc_C3(xi[i],tau,k3,U,L)\n",
    "                )\n",
    "               *alpha*s**(alpha-1)*np.pi/2)\n",
    "    bw23_ig = ((-qian_helpers.calc_C2(xi[i],tau,k2,U,L)/U**2/np.tan(theta)\n",
    "                +qian_helpers.calc_C3(xi[i],tau,k3,U,L)/np.tan(theta))\n",
    "               *alpha*s**(alpha-1)*np.pi/2)\n",
    "    \n",
    "    s_app=np.concatenate(([0],s,[1]))\n",
    "    bw23_ig_app=np.concatenate(([0],bw23_ig,[0]))\n",
    "    \n",
    "#     bw23_ig_alt = calc_test(xi[i],zeta,tau,theta,U,L)*alpha*s**(alpha-1)*np.pi/2\n",
    "    \n",
    "    bw23a[i] = np.trapz(bw23a_ig,s)*1/2*np.exp(-zeta)\n",
    "    bw23b[i] = np.trapz(bw23b_ig,s)*1/2*np.exp(-zeta)\n",
    "    bw23[i] = np.trapz(bw23_ig_app,s_app)*1/2*np.exp(-zeta)\n",
    "#     bw23_alt[i] = np.trapz(bw23_ig_alt,s)*1/2*np.exp(-zeta)\n",
    "    bw2c[i] = (1/(2*U**2)*np.exp(1j*zeta/U)\n",
    "               *qian_helpers.calc_C2(xi[i],tau,k0_2,U,L)\n",
    "               *qian_helpers.calc_exp1(1j*zeta/U))\n",
    "    bw2b[i] = np.trapz(qian_helpers.calc_bw2b(xi[i],zeta,tau,s,alpha,U,L),s)\n",
    "    bw3b[i] = np.trapz(qian_helpers.calc_bw3b(xi[i],zeta,tau,s,alpha,U,L),s)\n",
    "    bw3c[i] = (-1/2*qian_helpers.calc_C3(xi[i],tau,k0_3,U,L)\n",
    "                        *qian_helpers.calc_exp1(-1j*zeta/U))\n",
    "    \n",
    "    # Calc psi2\n",
    "    psi2a_ig = qian_helpers.calc_psi2a(xi[i],zeta,tau,s,alpha,U,L)\n",
    "    psi2b_ig = qian_helpers.calc_psi2b(xi[i],zeta,tau,s,alpha,U,L)\n",
    "    \n",
    "    psi2c = (-1/(2*U)*np.exp(1j*zeta/U)\n",
    "             *qian_helpers.calc_C2(xi[i],tau,k0_2,U,L)\n",
    "             *qian_helpers.calc_ep0(-1j*zeta/U))\n",
    "\n",
    "    psi2ab = np.trapz(psi2a_ig+psi2b_ig, s)\n",
    "    bw2ba[i] = (psi2ab+psi2c)/U\n",
    "        \n",
    "# plt.figure(figsize=(12,8))\n",
    "# plt.plot(xi,bw23a,label='bw23a')\n",
    "# plt.plot(xi,bw23b,label='bw23b')\n",
    "# plt.plot(xi,bw23_alt,label='bw23')\n",
    "# plt.plot(xi,np.zeros(xi.size),'--k')\n",
    "# plt.plot(xi,bw2b,label='bw2b')\n",
    "# plt.plot(xi,bw2c,label='bw2c')\n",
    "# plt.plot(xi,bw3b,label='bw3b')\n",
    "# plt.plot(xi,bw3c,label='bw3c')\n",
    "# plt.plot(s,k2,'.')\n",
    "# plt.plot(s[0:4000],k3[0:4000]-1.25,'.')\n",
    "\n",
    "# plt.figure(figsize=(12,8))\n",
    "# plt.plot(s[0:800],k3[0:800],'.')\n",
    "\n",
    "# plt.legend()\n",
    "# plt.show()\n",
    "plt.figure(figsize=(12,8))\n",
    "\n",
    "# plt.plot(xi,bw2ba,label='bw2ba')\n",
    "# plt.plot(xi,bw3b+bw3c+bw2b,label='bw3b+bw3c')\n",
    "plt.plot(xi,bw2b+bw2c+bw3b+bw3c,label='all')\n",
    "# plt.plot(xi,bw2c,label='bw2b+bw2c')\n",
    "# plt.plot(xi,bw23_alt,label='bw23_alt')\n",
    "# plt.plot(xi,bw23a,label='bw23a')\n",
    "# plt.plot(xi,bw23b,label='bw23b')\n",
    "# plt.plot(xi,bw23,label='bw23')\n",
    "# plt.plot(xi,bw23+bw2ba,label='bw23')\n",
    "# plt.plot(xi,bw3b+bw3c+bw23+bw23+bw2c,label='all')\n",
    "# plt.plot(xi,bw23a+bw23b,label='bw23a+bw23b')\n",
    "# plt.plot(xi,bw23,label='bw23')\n",
    "plt.plot(xi,np.zeros(xi.size),'--k')\n",
    "plt.legend()\n",
    "plt.show()"
   ]
  },
  {
   "cell_type": "code",
   "execution_count": null,
   "metadata": {
    "hidden": true
   },
   "outputs": [],
   "source": []
  },
  {
   "cell_type": "code",
   "execution_count": null,
   "metadata": {
    "ExecuteTime": {
     "end_time": "2019-11-24T12:14:47.183582Z",
     "start_time": "2019-11-24T12:14:47.045584Z"
    },
    "hidden": true
   },
   "outputs": [],
   "source": [
    "plt.plot(k3_alt[0:4000])"
   ]
  },
  {
   "cell_type": "code",
   "execution_count": null,
   "metadata": {
    "ExecuteTime": {
     "end_time": "2019-11-25T13:38:14.590854Z",
     "start_time": "2019-11-25T13:38:14.547083Z"
    },
    "hidden": true
   },
   "outputs": [],
   "source": []
  },
  {
   "cell_type": "code",
   "execution_count": null,
   "metadata": {
    "ExecuteTime": {
     "end_time": "2019-11-24T12:12:03.554935Z",
     "start_time": "2019-11-24T12:12:03.549775Z"
    },
    "hidden": true
   },
   "outputs": [],
   "source": [
    "bw23_ig_app[np.isnan(bw23_ig_app)]=0"
   ]
  },
  {
   "cell_type": "code",
   "execution_count": null,
   "metadata": {
    "ExecuteTime": {
     "end_time": "2019-11-24T12:12:10.290196Z",
     "start_time": "2019-11-24T12:12:10.283997Z"
    },
    "hidden": true
   },
   "outputs": [],
   "source": [
    "bw23_ig_app"
   ]
  },
  {
   "cell_type": "code",
   "execution_count": null,
   "metadata": {
    "ExecuteTime": {
     "end_time": "2019-11-24T11:30:59.592361Z",
     "start_time": "2019-11-24T11:30:59.587237Z"
    },
    "hidden": true
   },
   "outputs": [],
   "source": [
    "print(bw23b_ig[-1])\n",
    "print(bw23a_ig[-1])\n",
    "print(bw23_ig[-1])\n",
    "\n",
    "print(bw23b_ig[0])\n",
    "print(bw23a_ig[0])\n",
    "print(bw23_ig[0])"
   ]
  },
  {
   "cell_type": "code",
   "execution_count": null,
   "metadata": {
    "ExecuteTime": {
     "end_time": "2019-11-24T14:49:58.012202Z",
     "start_time": "2019-11-24T14:49:57.901372Z"
    },
    "hidden": true
   },
   "outputs": [],
   "source": [
    "s_app=np.concatenate(([0],s,[1]))\n",
    "bw23_ig_app=np.concatenate(([0],bw23_ig,[0]))\n",
    "\n",
    "plt.plot(s_app,bw23_ig_app)\n",
    "plt.plot(s_app,np.zeros(s_app.size),'--k');\n",
    "plt.show()\n",
    "\n",
    "# plt.plot(s[200:],bw23a_ig[200:])\n",
    "# plt.plot(s[200:],bw23b_ig[200:])"
   ]
  },
  {
   "cell_type": "code",
   "execution_count": null,
   "metadata": {
    "ExecuteTime": {
     "end_time": "2019-11-24T11:34:31.046677Z",
     "start_time": "2019-11-24T11:34:30.947901Z"
    },
    "hidden": true
   },
   "outputs": [],
   "source": [
    "\n",
    "k2_app = np.concatenate((k2,[0]))\n",
    "plt.plot(k2_app[-10:],'.'); plt.show()"
   ]
  },
  {
   "cell_type": "code",
   "execution_count": null,
   "metadata": {
    "ExecuteTime": {
     "end_time": "2019-11-24T11:20:53.467326Z",
     "start_time": "2019-11-24T11:20:53.364099Z"
    },
    "hidden": true
   },
   "outputs": [],
   "source": [
    "plt.plot(bw23a_ig); plt.show()"
   ]
  },
  {
   "cell_type": "code",
   "execution_count": null,
   "metadata": {
    "ExecuteTime": {
     "end_time": "2019-11-24T11:02:43.779815Z",
     "start_time": "2019-11-24T11:02:43.513703Z"
    },
    "hidden": true
   },
   "outputs": [],
   "source": [
    "plt.plot(s[0:30000],k3[0:30000],'.')\n",
    "plt.plot(s,k2,'.')"
   ]
  },
  {
   "cell_type": "code",
   "execution_count": null,
   "metadata": {
    "ExecuteTime": {
     "end_time": "2019-11-25T02:13:01.202995Z",
     "start_time": "2019-11-25T02:13:01.188288Z"
    },
    "hidden": true
   },
   "outputs": [],
   "source": [
    "def calc_theta_alt(s,alpha=1):\n",
    "    theta_alt = ((1-np.cos(s*np.pi))/(2))**(alpha)*np.pi/2\n",
    "    return theta_alt\n",
    "\n",
    "def calc_dtheta_alt(s,alpha=1):\n",
    "    dtheta_alt = (np.pi/2*alpha*((1-np.cos(s*np.pi))/2)**(alpha-1)\n",
    "                  *np.sin(s*np.pi)*np.pi/2)\n",
    "    return dtheta_alt"
   ]
  },
  {
   "cell_type": "code",
   "execution_count": null,
   "metadata": {
    "ExecuteTime": {
     "end_time": "2019-11-25T02:59:52.146870Z",
     "start_time": "2019-11-25T02:59:51.891487Z"
    },
    "hidden": true
   },
   "outputs": [],
   "source": [
    "plt.figure(figsize=(20,20))\n",
    "plt.plot(s[200:2500],k3[200:2500],'.',size=0.1)"
   ]
  },
  {
   "cell_type": "code",
   "execution_count": null,
   "metadata": {
    "ExecuteTime": {
     "end_time": "2019-11-25T02:57:41.036884Z",
     "start_time": "2019-11-25T02:57:40.881168Z"
    },
    "hidden": true
   },
   "outputs": [],
   "source": [
    "plt.plot(s,k2,'.')"
   ]
  },
  {
   "cell_type": "code",
   "execution_count": null,
   "metadata": {
    "ExecuteTime": {
     "end_time": "2019-11-25T03:04:19.436999Z",
     "start_time": "2019-11-25T03:04:19.317309Z"
    },
    "hidden": true
   },
   "outputs": [],
   "source": [
    "# plt.plot(s,theta_alt)\n",
    "alpha=0.75\n",
    "theta_alt=calc_theta_alt(s,alpha)\n",
    "k2 = qian_helpers.calc_k_2(theta_alt,U)\n",
    "k3 = qian_helpers.calc_k_3(theta_alt,U)\n",
    "\n",
    "plt.plot(s,calc_theta_alt(s, alpha))\n",
    "# plt.plot(s,calc_theta_alt(s))\n",
    "# k2_alt = qian_helpers.calc_k_2(calc_theta_alt(s),U)\n",
    "# k3_alt = qian_helpers.calc_k_3(calc_theta_alt(s),U)\n",
    "# plt.plot(s[0:100],k3_alt[0:100],'.')\n",
    "plt.plot(s,calc_dtheta_alt(s,alpha=alpha))\n",
    "plt.plot(s,k2)\n",
    "plt.plot(s[:-3000],k3[:-3000])"
   ]
  },
  {
   "cell_type": "code",
   "execution_count": null,
   "metadata": {
    "ExecuteTime": {
     "end_time": "2019-11-25T02:52:48.626630Z",
     "start_time": "2019-11-25T02:52:48.466585Z"
    },
    "hidden": true
   },
   "outputs": [],
   "source": [
    "x=-20.10\n",
    "alpha=3\n",
    "U=0.6\n",
    "tau=3\n",
    "L=0.1\n",
    "sN=5000\n",
    "dS=1/sN\n",
    "\n",
    "s=np.arange(dS,1,dS,dtype=np.float128)\n",
    "theta=calc_theta_alt(s,alpha)\n",
    "\n",
    "k2 = qian_helpers.calc_k_2(theta,U)\n",
    "k3 = qian_helpers.calc_k_3(theta,U)\n",
    "k0_2 = qian_helpers.calc_k_2(0,U)\n",
    "k0_3 = qian_helpers.calc_k_3(0,U)\n",
    "\n",
    "# bw23a_ig = (1/np.tan(theta)\n",
    "#                *(\n",
    "#                  -qian_helpers.calc_C2(x,tau,k2,U,L)/U**2\n",
    "# #                  +qian_helpers.calc_C3(xi[i],tau,k3,U,L)\n",
    "#                 )\n",
    "#                *alpha*s**(alpha-1)*np.pi/2)\n",
    "# bw23b_ig = (1/np.tan(theta)\n",
    "#            *(\n",
    "# #                  -qian_helpers.calc_C2(xi[i],tau,k2,U,L)/U**2\n",
    "#              +qian_helpers.calc_C3(x,tau,k3,U,L)\n",
    "#             )\n",
    "#            *alpha*s**(alpha-1)*np.pi/2)\n",
    "\n",
    "bw23a_ig = (1/np.tan(theta)\n",
    "               *(\n",
    "                 -qian_helpers.calc_C2(x,tau,k2,U,L)/U**2\n",
    "#                  +qian_helpers.calc_C3(xi[i],tau,k3,U,L)\n",
    "                )\n",
    "#                *alpha*s**(alpha-1)*np.pi/2)*1/2*np.exp(-zeta)\n",
    "                *calc_dtheta_alt(s,alpha))\n",
    "bw23b_ig = (1/np.tan(theta)\n",
    "           *(\n",
    "#                  -qian_helpers.calc_C2(xi[i],tau,k2,U,L)/U**2\n",
    "             +qian_helpers.calc_C3(x,tau,k3,U,L)\n",
    "            )\n",
    "#            *alpha*s**(alpha-1)*np.pi/2)*1/2*np.exp(-zeta)\n",
    "            *calc_dtheta_alt(s,alpha))\n",
    "bw23_ig = (1/np.tan(theta)\n",
    "           *(\n",
    "             -qian_helpers.calc_C2(x,tau,k2,U,L)\n",
    "             +qian_helpers.calc_C3(x,tau,k3,U,L)*U**2\n",
    "            )\n",
    "#            *alpha*s**(alpha-1)*np.pi/2)*1/2*np.exp(-zeta)\n",
    "            *calc_dtheta_alt(s,alpha))\n",
    "\n",
    "where_nan = np.logical_or(np.isnan(bw23a_ig),np.isnan(bw23b_ig))\n",
    "bw23a_ig[where_nan]=0\n",
    "bw23b_ig[where_nan]=0\n",
    "bw23_ig[np.isnan(bw23_ig)]=0\n",
    "\n",
    "# plt.plot(theta[3:10],bw23a_ig[3:10],label='a')\n",
    "# plt.plot(theta[3:10],bw23b_ig[3:10],label='b')\n",
    "# plt.plot(theta,(bw23b_ig+bw23a_ig),label='a+b')\n",
    "plt.plot(theta,bw23_ig/U**2, label='a+b')\n",
    "plt.plot(theta, np.zeros(theta.size),'--k')\n",
    "plt.legend()\n",
    "\n",
    "# s_app = np.concatenate(([0],s,[1]))\n",
    "# bw\n",
    "\n",
    "print(np.trapz(bw23a_ig,s))\n",
    "print(np.trapz(bw23b_ig,s))\n",
    "print(np.trapz(bw23a_ig,s)+np.trapz(bw23b_ig,s))\n",
    "print(np.trapz(bw23a_ig+bw23b_ig,s))\n",
    "print(np.trapz(bw23_ig/U**2,s))\n"
   ]
  },
  {
   "cell_type": "code",
   "execution_count": null,
   "metadata": {
    "ExecuteTime": {
     "end_time": "2019-11-25T04:01:23.076895Z",
     "start_time": "2019-11-25T04:01:22.950971Z"
    },
    "hidden": true
   },
   "outputs": [],
   "source": [
    "plt.plot(np.tan(np.arange(0,np.pi/8,np.pi/(2*5000)))+1/U,'.')"
   ]
  },
  {
   "cell_type": "code",
   "execution_count": null,
   "metadata": {
    "hidden": true
   },
   "outputs": [],
   "source": []
  },
  {
   "cell_type": "code",
   "execution_count": null,
   "metadata": {
    "ExecuteTime": {
     "end_time": "2019-11-25T22:14:10.720748Z",
     "start_time": "2019-11-25T22:14:10.474882Z"
    },
    "hidden": true
   },
   "outputs": [],
   "source": [
    "# Alternative approach\n",
    "sN=2000\n",
    "dk = (1/U)/sN\n",
    "s=np.arange(1/sN,1,1/sN)\n",
    "U=0.5\n",
    "L=0.5\n",
    "alpha=1\n",
    "\n",
    "k2 = (1-s**alpha)/U\n",
    "\n",
    "k3 = np.tan((np.arange(0,1+1/sN,1/sN))*np.pi/2)+2/U\n",
    "x=10\n",
    "tau=0\n",
    "zeta=0.00001\n",
    "\n",
    "def calc_exp_terms(xi,tau,k,L):\n",
    "    return np.exp(-k*L)*np.exp(1j*(k*xi-tau)) \n",
    "\n",
    "# bw2a_ig = qian_helpers.calc_C2(x,tau,k2,U,L)*k2/(U*k2-1)*alpha*s**(alpha-1)\n",
    "bw2a_ig = qian_helpers.calc_C2(x,tau,k2,U,L)*k2*alpha*s**(alpha-1)\n",
    "# bw2a_ig_alt = qian_helpers.calc_C2(x,tau,k2,U,L)*alpha*s**(alpha-1)\n",
    "bw2a_ig[np.isinf(bw2a_ig)]=0\n",
    "\n",
    "k2P = -k2+2/U\n",
    "\n",
    "# bw3a1_ig = qian_helpers.calc_C2(x,tau,k2P,U,L)*k2P/(1-U*k2)*alpha*s**(alpha-1)\n",
    "bw3a1_ig = qian_helpers.calc_C2(x,tau,k2P,U,L)*k2P*alpha*s**(alpha-1)\n",
    "# bw3a1_ig_alt = qian_helpers.calc_C2(x,tau,k2P,U,L)*alpha*s**(alpha-1)\n",
    "bw3a1_ig[np.isinf(bw3a1_ig)]=0\n",
    "\n",
    "bw3a2_ig = qian_helpers.calc_C2(x,tau,k3,U,L)*k3/(U*k3-1)\n",
    "\n",
    "# plt.plot(k2[-10:],'o')\n",
    "# plt.plot(k3[:10],'o')\n",
    "# plt.plot(k3[:10]*0+2,'--')\n",
    "\n",
    "# *np.exp(-zeta)\n",
    "\n",
    "lb=0\n",
    "ub=100\n",
    "\n",
    "# plt.plot(s,bw2a_ig+bw3a1_ig)\n",
    "plt.plot(s,bw2a_ig,label='bw2a')\n",
    "plt.plot(s,bw3a1_ig, label='bw3a1')\n",
    "plt.plot(s,(-bw3a1_ig+bw2a_ig)/(k2*U-1), label='sum')\n",
    "plt.legend()\n",
    "print(np.trapz((-bw3a1_ig+bw2a_ig)/(k2*U-1),s))\n",
    "plt.plot()\n",
    "# plt.plot(k2,bw2a_ig)\n",
    "plt.figure()\n",
    "plt.plot(np.arange(0,1+1/sN,1/sN),bw3a2_ig)\n",
    "print(np.trapz(bw3a2_ig,k3))\n",
    "\n",
    "# plt.plot(np.concatenate((bw2a_ig,bw3a_ig)))\n",
    "# print(np.trapz(bw2a_ig[:100],k2[:100]))\n",
    "# print(np.trapz(bw3a_ig[100:],k3[100:]))\n",
    "# print(np.trapz(bw2a_ig[-100:],k2[-100:]))\n",
    "# print(np.trapz(bw3a_ig[0:100],k3[0:100]))"
   ]
  },
  {
   "cell_type": "code",
   "execution_count": null,
   "metadata": {
    "ExecuteTime": {
     "end_time": "2019-11-25T15:14:51.307647Z",
     "start_time": "2019-11-25T15:14:51.034692Z"
    },
    "hidden": true
   },
   "outputs": [],
   "source": [
    "-2*0.5*np.exp(-1)-2*0.5*np.exp(-1)"
   ]
  },
  {
   "cell_type": "code",
   "execution_count": null,
   "metadata": {
    "ExecuteTime": {
     "end_time": "2019-11-25T15:15:23.363160Z",
     "start_time": "2019-11-25T15:15:23.351314Z"
    },
    "hidden": true
   },
   "outputs": [],
   "source": [
    "((-bw3a1_ig+bw2a_ig)/(k2*U-1))[0]"
   ]
  },
  {
   "cell_type": "code",
   "execution_count": null,
   "metadata": {
    "ExecuteTime": {
     "end_time": "2019-11-25T12:52:43.001437Z",
     "start_time": "2019-11-25T12:52:42.994491Z"
    },
    "hidden": true
   },
   "outputs": [],
   "source": [
    "(-bw3a1_ig+bw2a_ig)"
   ]
  },
  {
   "cell_type": "code",
   "execution_count": null,
   "metadata": {
    "ExecuteTime": {
     "end_time": "2019-11-25T09:04:58.259514Z",
     "start_time": "2019-11-25T09:04:58.252565Z"
    },
    "hidden": true
   },
   "outputs": [],
   "source": [
    "print(bw2a_ig[0:5])\n",
    "print(bw3a1_ig[0:5])"
   ]
  },
  {
   "cell_type": "code",
   "execution_count": null,
   "metadata": {
    "ExecuteTime": {
     "end_time": "2019-11-25T09:16:24.190492Z",
     "start_time": "2019-11-25T09:16:24.054487Z"
    },
    "hidden": true
   },
   "outputs": [],
   "source": [
    "plt.plot(s,k2)"
   ]
  },
  {
   "cell_type": "code",
   "execution_count": null,
   "metadata": {
    "ExecuteTime": {
     "end_time": "2019-11-25T06:36:12.955486Z",
     "start_time": "2019-11-25T06:36:12.948139Z"
    },
    "hidden": true
   },
   "outputs": [],
   "source": [
    "(bw2a_ig)[:10]\n",
    "(bw3a1_ig)[:10]"
   ]
  },
  {
   "cell_type": "code",
   "execution_count": null,
   "metadata": {
    "ExecuteTime": {
     "end_time": "2019-11-25T06:19:02.231727Z",
     "start_time": "2019-11-25T06:19:02.225801Z"
    },
    "hidden": true
   },
   "outputs": [],
   "source": [
    "print(bw3a1_ig[[0,-1]])\n",
    "print(bw2a_ig[[0,-1]])"
   ]
  },
  {
   "cell_type": "code",
   "execution_count": null,
   "metadata": {
    "ExecuteTime": {
     "end_time": "2019-11-25T06:19:09.274022Z",
     "start_time": "2019-11-25T06:19:09.260054Z"
    },
    "hidden": true
   },
   "outputs": [],
   "source": [
    "(bw2a_ig+bw3a1_ig)[-1]"
   ]
  },
  {
   "cell_type": "code",
   "execution_count": null,
   "metadata": {
    "ExecuteTime": {
     "end_time": "2019-11-25T05:51:21.308547Z",
     "start_time": "2019-11-25T05:51:21.289493Z"
    },
    "hidden": true
   },
   "outputs": [],
   "source": [
    "(bw2a_ig+bw3a1_ig)[-10:]"
   ]
  },
  {
   "cell_type": "code",
   "execution_count": null,
   "metadata": {
    "ExecuteTime": {
     "end_time": "2019-11-25T06:23:02.846763Z",
     "start_time": "2019-11-25T06:23:02.722950Z"
    },
    "hidden": true
   },
   "outputs": [],
   "source": [
    "plt.plot(k2P)"
   ]
  },
  {
   "cell_type": "code",
   "execution_count": null,
   "metadata": {
    "ExecuteTime": {
     "end_time": "2019-11-25T06:25:22.429087Z",
     "start_time": "2019-11-25T06:25:22.409768Z"
    },
    "hidden": true
   },
   "outputs": [],
   "source": [
    "np.trapz(bw3a2_ig,s)"
   ]
  },
  {
   "cell_type": "code",
   "execution_count": null,
   "metadata": {
    "ExecuteTime": {
     "end_time": "2019-11-25T02:34:36.817139Z",
     "start_time": "2019-11-25T02:34:36.797677Z"
    },
    "hidden": true
   },
   "outputs": [],
   "source": [
    "lb=0\n",
    "ub=None\n",
    "print(np.trapz(bw23_ig[lb:ub],s[lb:ub]))\n",
    "print(theta[lb])\n",
    "print(theta[ub])\n",
    "print('k2 bounds')\n",
    "print(k2[lb])\n",
    "print(k2[ub])\n",
    "print('k3 bounds')\n",
    "print(k3[lb])\n",
    "print(k3[ub])"
   ]
  },
  {
   "cell_type": "code",
   "execution_count": null,
   "metadata": {
    "ExecuteTime": {
     "end_time": "2019-11-25T02:00:54.211090Z",
     "start_time": "2019-11-25T02:00:54.205585Z"
    },
    "hidden": true
   },
   "outputs": [],
   "source": [
    "bw23_ig.max()"
   ]
  },
  {
   "cell_type": "code",
   "execution_count": null,
   "metadata": {
    "ExecuteTime": {
     "end_time": "2019-11-25T01:51:57.500789Z",
     "start_time": "2019-11-25T01:51:57.376266Z"
    },
    "hidden": true
   },
   "outputs": [],
   "source": [
    "plt.plot(k3[0:800],'.')"
   ]
  },
  {
   "cell_type": "code",
   "execution_count": null,
   "metadata": {
    "ExecuteTime": {
     "end_time": "2019-11-25T01:39:04.267716Z",
     "start_time": "2019-11-25T01:39:04.016505Z"
    },
    "hidden": true
   },
   "outputs": [],
   "source": [
    "np.logical_or(np.isnan(bw23a_ig),np.isnan(bw23b_ig))\n",
    "\n",
    "# bw23b_ig[-10:]"
   ]
  },
  {
   "cell_type": "code",
   "execution_count": null,
   "metadata": {
    "ExecuteTime": {
     "end_time": "2019-11-24T15:15:25.985840Z",
     "start_time": "2019-11-24T15:15:25.850214Z"
    },
    "hidden": true
   },
   "outputs": [],
   "source": [
    "plt.plot(theta)"
   ]
  },
  {
   "cell_type": "code",
   "execution_count": null,
   "metadata": {
    "ExecuteTime": {
     "end_time": "2019-11-24T09:12:16.545041Z",
     "start_time": "2019-11-24T09:12:16.538840Z"
    },
    "hidden": true
   },
   "outputs": [],
   "source": [
    "ig=(bw23b_ig+bw23a_ig)\n",
    "ig[np.isnan(bw23b_ig+bw23a_ig)]=0\n",
    "np.trapz(ig,s)"
   ]
  },
  {
   "cell_type": "code",
   "execution_count": null,
   "metadata": {
    "ExecuteTime": {
     "end_time": "2019-11-24T06:47:31.122519Z",
     "start_time": "2019-11-24T06:47:30.909360Z"
    },
    "hidden": true
   },
   "outputs": [],
   "source": [
    "bw23_ig_alt_1 = calc_test(-10.00,zeta,6*2*np.pi/10,theta,U,L)*alpha*s**(alpha-1)*np.pi/2\n",
    "bw23_ig_alt_2 = calc_test(-10.20,zeta,6*2*np.pi/10,theta,U,L)*alpha*s**(alpha-1)*np.pi/2\n",
    "bw23_ig_alt_3 = calc_test(-10.40,zeta,6*2*np.pi/10,theta,U,L)*alpha*s**(alpha-1)*np.pi/2\n",
    "bw23_ig_alt_4 = calc_test(-10.60,zeta,6*2*np.pi/10,theta,U,L)*alpha*s**(alpha-1)*np.pi/2\n",
    "\n",
    "plt.plot(bw23_ig_alt_1)\n",
    "print(np.trapz(bw23_ig_alt_1,s)*1/2*np.exp(-zeta))\n",
    "plt.plot(bw23_ig_alt_2)\n",
    "print(np.trapz(bw23_ig_alt_2,s)*1/2*np.exp(-zeta))\n",
    "plt.plot(bw23_ig_alt_3)\n",
    "print(np.trapz(bw23_ig_alt_3,s)*1/2*np.exp(-zeta))\n",
    "plt.plot(bw23_ig_alt_4)\n",
    "print(np.trapz(bw23_ig_alt_4,s)*1/2*np.exp(-zeta))"
   ]
  },
  {
   "cell_type": "code",
   "execution_count": null,
   "metadata": {
    "ExecuteTime": {
     "end_time": "2019-11-24T06:33:40.513905Z",
     "start_time": "2019-11-24T06:33:40.506739Z"
    },
    "hidden": true
   },
   "outputs": [],
   "source": [
    "k3[8000]"
   ]
  },
  {
   "cell_type": "code",
   "execution_count": null,
   "metadata": {
    "ExecuteTime": {
     "end_time": "2019-11-24T06:30:47.560910Z",
     "start_time": "2019-11-24T06:30:47.555864Z"
    },
    "hidden": true
   },
   "outputs": [],
   "source": [
    "len(k2)"
   ]
  },
  {
   "cell_type": "code",
   "execution_count": null,
   "metadata": {
    "ExecuteTime": {
     "end_time": "2019-11-24T05:17:33.371241Z",
     "start_time": "2019-11-24T05:17:33.184961Z"
    },
    "hidden": true,
    "scrolled": true
   },
   "outputs": [],
   "source": [
    "plt.figure(figsize=(12,8))\n",
    "plt.plot(s[0:500],k3[0:500],'.')"
   ]
  }
 ],
 "metadata": {
  "kernelspec": {
   "display_name": "Python 3",
   "language": "python",
   "name": "python3"
  },
  "language_info": {
   "codemirror_mode": {
    "name": "ipython",
    "version": 3
   },
   "file_extension": ".py",
   "mimetype": "text/x-python",
   "name": "python",
   "nbconvert_exporter": "python",
   "pygments_lexer": "ipython3",
   "version": "3.6.5"
  },
  "toc": {
   "base_numbering": 1,
   "nav_menu": {},
   "number_sections": true,
   "sideBar": true,
   "skip_h1_title": false,
   "title_cell": "Table of Contents",
   "title_sidebar": "Contents",
   "toc_cell": false,
   "toc_position": {},
   "toc_section_display": true,
   "toc_window_display": false
  }
 },
 "nbformat": 4,
 "nbformat_minor": 2
}
