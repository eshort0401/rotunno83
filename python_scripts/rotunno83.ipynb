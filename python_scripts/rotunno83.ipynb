{
 "cells": [
  {
   "cell_type": "code",
   "execution_count": 1,
   "metadata": {
    "ExecuteTime": {
     "end_time": "2022-03-18T03:35:13.171356Z",
     "start_time": "2022-03-18T03:35:11.503750Z"
    }
   },
   "outputs": [],
   "source": [
    "import copy\n",
    "import warnings\n",
    "\n",
    "import numpy as np\n",
    "import xarray as xr\n",
    "\n",
    "import sys, pdb, traceback\n",
    "\n",
    "import matplotlib.pyplot as plt\n",
    "\n",
    "import rotunno as rt\n",
    "import qian_helpers\n",
    "import rotunno_helpers\n",
    "\n",
    "import scipy as sp"
   ]
  },
  {
   "cell_type": "code",
   "execution_count": 2,
   "metadata": {
    "ExecuteTime": {
     "end_time": "2022-03-18T03:35:13.196486Z",
     "start_time": "2022-03-18T03:35:13.173240Z"
    }
   },
   "outputs": [],
   "source": [
    "# Convenience functions\n",
    "%load_ext autoreload\n",
    "%autoreload 1\n",
    "%aimport rotunno, rotunno_helpers, channel_helpers, qian_helpers, piecewise_N_helpers, continuous_N_helpers"
   ]
  },
  {
   "cell_type": "code",
   "execution_count": 3,
   "metadata": {
    "ExecuteTime": {
     "end_time": "2022-03-18T00:21:28.107956Z",
     "start_time": "2022-03-18T00:21:24.568150Z"
    },
    "scrolled": true
   },
   "outputs": [
    {
     "name": "stdout",
     "output_type": "stream",
     "text": [
      "Initialising\n",
      "Pre-calculating Coefficients\n"
     ]
    },
    {
     "ename": "KeyboardInterrupt",
     "evalue": "",
     "output_type": "error",
     "traceback": [
      "\u001b[0;31m---------------------------------------------------------------------------\u001b[0m",
      "\u001b[0;31mKeyboardInterrupt\u001b[0m                         Traceback (most recent call last)",
      "\u001b[0;32m/tmp/ipykernel_15475/1342721761.py\u001b[0m in \u001b[0;36m<module>\u001b[0;34m\u001b[0m\n\u001b[1;32m     11\u001b[0m \u001b[0;31m#                                        xi0=0.1, beta=beta, Atilde=Atilde)\u001b[0m\u001b[0;34m\u001b[0m\u001b[0;34m\u001b[0m\u001b[0;34m\u001b[0m\u001b[0m\n\u001b[1;32m     12\u001b[0m \u001b[0;34m\u001b[0m\u001b[0m\n\u001b[0;32m---> 13\u001b[0;31m ds_cN = rt.solve_continuous_N(\n\u001b[0m\u001b[1;32m     14\u001b[0m     xN=161, zN=121, tN=16, sN=1000, L=.5, N=4, H1=1, H2=1.2, save=False, high_lim=False)\n",
      "\u001b[0;32m~/Documents/rotunno83/python_scripts/rotunno.py\u001b[0m in \u001b[0;36msolve_continuous_N\u001b[0;34m(xN, zN, tN, sN, alpha, L, N, H1, H2, A, heat_right, save, high_lim)\u001b[0m\n\u001b[1;32m    259\u001b[0m     \u001b[0ms\u001b[0m \u001b[0;34m=\u001b[0m \u001b[0mnp\u001b[0m\u001b[0;34m.\u001b[0m\u001b[0marange\u001b[0m\u001b[0;34m(\u001b[0m\u001b[0mdelS\u001b[0m\u001b[0;34m,\u001b[0m \u001b[0;36m1\u001b[0m\u001b[0;34m,\u001b[0m \u001b[0mdelS\u001b[0m\u001b[0;34m,\u001b[0m \u001b[0mdtype\u001b[0m\u001b[0;34m=\u001b[0m\u001b[0mnp\u001b[0m\u001b[0;34m.\u001b[0m\u001b[0mfloat64\u001b[0m\u001b[0;34m)\u001b[0m\u001b[0;34m\u001b[0m\u001b[0;34m\u001b[0m\u001b[0m\n\u001b[1;32m    260\u001b[0m \u001b[0;34m\u001b[0m\u001b[0m\n\u001b[0;32m--> 261\u001b[0;31m     psi, u, w = integrate_continuous_N(\n\u001b[0m\u001b[1;32m    262\u001b[0m         x, z, t, s, alpha, L, N, H1, H2, zN, zN_scaled, A, high_lim=high_lim)\n\u001b[1;32m    263\u001b[0m     \u001b[0mmodes\u001b[0m \u001b[0;34m=\u001b[0m \u001b[0;36m2\u001b[0m\u001b[0;34m\u001b[0m\u001b[0;34m\u001b[0m\u001b[0m\n",
      "\u001b[0;32m~/Documents/rotunno83/python_scripts/continuous_N_helpers.py\u001b[0m in \u001b[0;36mintegrate_continuous_N\u001b[0;34m(x, z, t, s, alpha, L, N, H1, H2, zN, zN_scaled, A0, high_lim)\u001b[0m\n\u001b[1;32m     37\u001b[0m     \u001b[0mG\u001b[0m \u001b[0;34m=\u001b[0m \u001b[0;34m(\u001b[0m\u001b[0mN\u001b[0m\u001b[0;34m-\u001b[0m\u001b[0;36m1\u001b[0m\u001b[0;34m)\u001b[0m\u001b[0;34m/\u001b[0m\u001b[0;34m(\u001b[0m\u001b[0mH2\u001b[0m\u001b[0;34m-\u001b[0m\u001b[0mH1\u001b[0m\u001b[0;34m)\u001b[0m\u001b[0;34m\u001b[0m\u001b[0;34m\u001b[0m\u001b[0m\n\u001b[1;32m     38\u001b[0m     \u001b[0mtheta_1\u001b[0m\u001b[0;34m,\u001b[0m \u001b[0mA_1\u001b[0m \u001b[0;34m=\u001b[0m \u001b[0mcalc_theta_A\u001b[0m\u001b[0;34m(\u001b[0m\u001b[0mH1\u001b[0m\u001b[0;34m,\u001b[0m \u001b[0mk\u001b[0m\u001b[0;34m,\u001b[0m \u001b[0mN\u001b[0m\u001b[0;34m,\u001b[0m \u001b[0mH1\u001b[0m\u001b[0;34m,\u001b[0m \u001b[0mG\u001b[0m\u001b[0;34m,\u001b[0m \u001b[0mA0\u001b[0m\u001b[0;34m)\u001b[0m\u001b[0;34m\u001b[0m\u001b[0;34m\u001b[0m\u001b[0m\n\u001b[0;32m---> 39\u001b[0;31m     \u001b[0mdA_1\u001b[0m \u001b[0;34m=\u001b[0m \u001b[0mcalc_dA\u001b[0m\u001b[0;34m(\u001b[0m\u001b[0mH1\u001b[0m\u001b[0;34m,\u001b[0m \u001b[0mk\u001b[0m\u001b[0;34m,\u001b[0m \u001b[0mN\u001b[0m\u001b[0;34m,\u001b[0m \u001b[0mH1\u001b[0m\u001b[0;34m,\u001b[0m \u001b[0mG\u001b[0m\u001b[0;34m,\u001b[0m \u001b[0mA0\u001b[0m\u001b[0;34m)\u001b[0m\u001b[0;34m\u001b[0m\u001b[0;34m\u001b[0m\u001b[0m\n\u001b[0m\u001b[1;32m     40\u001b[0m     \u001b[0malpha_1\u001b[0m \u001b[0;34m=\u001b[0m \u001b[0mcalc_alpha\u001b[0m\u001b[0;34m(\u001b[0m\u001b[0mH1\u001b[0m\u001b[0;34m,\u001b[0m \u001b[0mk\u001b[0m\u001b[0;34m,\u001b[0m \u001b[0mN\u001b[0m\u001b[0;34m,\u001b[0m \u001b[0mH1\u001b[0m\u001b[0;34m,\u001b[0m \u001b[0mG\u001b[0m\u001b[0;34m,\u001b[0m \u001b[0mA0\u001b[0m\u001b[0;34m)\u001b[0m\u001b[0;34m\u001b[0m\u001b[0;34m\u001b[0m\u001b[0m\n\u001b[1;32m     41\u001b[0m \u001b[0;34m\u001b[0m\u001b[0m\n",
      "\u001b[0;32m~/Documents/rotunno83/python_scripts/continuous_N_helpers.py\u001b[0m in \u001b[0;36mcalc_dA\u001b[0;34m(z, k, N, H1, G, A0)\u001b[0m\n\u001b[1;32m    306\u001b[0m \u001b[0;34m\u001b[0m\u001b[0m\n\u001b[1;32m    307\u001b[0m     \u001b[0mnum\u001b[0m \u001b[0;34m=\u001b[0m \u001b[0;34m-\u001b[0m\u001b[0mf\u001b[0m\u001b[0;34m**\u001b[0m\u001b[0;36m2\u001b[0m\u001b[0;34m*\u001b[0m\u001b[0mbesselj\u001b[0m\u001b[0;34m(\u001b[0m\u001b[0;34m-\u001b[0m\u001b[0;36m1\u001b[0m\u001b[0;34m/\u001b[0m\u001b[0;36m4\u001b[0m\u001b[0;34m,\u001b[0m \u001b[0mf\u001b[0m\u001b[0;34m**\u001b[0m\u001b[0;36m2\u001b[0m\u001b[0;34m/\u001b[0m\u001b[0;36m2\u001b[0m\u001b[0;34m)\u001b[0m\u001b[0;34m*\u001b[0m\u001b[0mbesselj\u001b[0m\u001b[0;34m(\u001b[0m\u001b[0;36m3\u001b[0m\u001b[0;34m/\u001b[0m\u001b[0;36m4\u001b[0m\u001b[0;34m,\u001b[0m \u001b[0mf\u001b[0m\u001b[0;34m**\u001b[0m\u001b[0;36m2\u001b[0m\u001b[0;34m/\u001b[0m\u001b[0;36m2\u001b[0m\u001b[0;34m)\u001b[0m\u001b[0;34m\u001b[0m\u001b[0;34m\u001b[0m\u001b[0m\n\u001b[0;32m--> 308\u001b[0;31m     \u001b[0mnum\u001b[0m \u001b[0;34m=\u001b[0m \u001b[0mnum\u001b[0m \u001b[0;34m+\u001b[0m \u001b[0;36m1\u001b[0m\u001b[0;34m/\u001b[0m\u001b[0;36m2\u001b[0m\u001b[0;34m*\u001b[0m\u001b[0mnp\u001b[0m\u001b[0;34m.\u001b[0m\u001b[0msqrt\u001b[0m\u001b[0;34m(\u001b[0m\u001b[0;36m2\u001b[0m\u001b[0;34m)\u001b[0m\u001b[0;34m*\u001b[0m\u001b[0mf\u001b[0m\u001b[0;34m**\u001b[0m\u001b[0;36m2\u001b[0m\u001b[0;34m*\u001b[0m\u001b[0mbesselj\u001b[0m\u001b[0;34m(\u001b[0m\u001b[0;34m-\u001b[0m\u001b[0;36m1\u001b[0m\u001b[0;34m/\u001b[0m\u001b[0;36m4\u001b[0m\u001b[0;34m,\u001b[0m \u001b[0mf\u001b[0m\u001b[0;34m**\u001b[0m\u001b[0;36m2\u001b[0m\u001b[0;34m/\u001b[0m\u001b[0;36m2\u001b[0m\u001b[0;34m)\u001b[0m\u001b[0;34m*\u001b[0m\u001b[0mbesselj\u001b[0m\u001b[0;34m(\u001b[0m\u001b[0;36m5\u001b[0m\u001b[0;34m/\u001b[0m\u001b[0;36m4\u001b[0m\u001b[0;34m,\u001b[0m \u001b[0mf\u001b[0m\u001b[0;34m**\u001b[0m\u001b[0;36m2\u001b[0m\u001b[0;34m/\u001b[0m\u001b[0;36m2\u001b[0m\u001b[0;34m)\u001b[0m\u001b[0;34m\u001b[0m\u001b[0;34m\u001b[0m\u001b[0m\n\u001b[0m\u001b[1;32m    309\u001b[0m     \u001b[0mnum\u001b[0m \u001b[0;34m=\u001b[0m \u001b[0mnum\u001b[0m \u001b[0;34m+\u001b[0m \u001b[0;36m1\u001b[0m\u001b[0;34m/\u001b[0m\u001b[0;36m2\u001b[0m\u001b[0;34m*\u001b[0m\u001b[0mnp\u001b[0m\u001b[0;34m.\u001b[0m\u001b[0msqrt\u001b[0m\u001b[0;34m(\u001b[0m\u001b[0;36m2\u001b[0m\u001b[0;34m)\u001b[0m\u001b[0;34m*\u001b[0m\u001b[0mf\u001b[0m\u001b[0;34m**\u001b[0m\u001b[0;36m2\u001b[0m\u001b[0;34m*\u001b[0m\u001b[0mbesselj\u001b[0m\u001b[0;34m(\u001b[0m\u001b[0;36m1\u001b[0m\u001b[0;34m/\u001b[0m\u001b[0;36m4\u001b[0m\u001b[0;34m,\u001b[0m \u001b[0mf\u001b[0m\u001b[0;34m**\u001b[0m\u001b[0;36m2\u001b[0m\u001b[0;34m/\u001b[0m\u001b[0;36m2\u001b[0m\u001b[0;34m)\u001b[0m\u001b[0;34m*\u001b[0m\u001b[0mbesselj\u001b[0m\u001b[0;34m(\u001b[0m\u001b[0;36m3\u001b[0m\u001b[0;34m/\u001b[0m\u001b[0;36m4\u001b[0m\u001b[0;34m,\u001b[0m \u001b[0mf\u001b[0m\u001b[0;34m**\u001b[0m\u001b[0;36m2\u001b[0m\u001b[0;34m/\u001b[0m\u001b[0;36m2\u001b[0m\u001b[0;34m)\u001b[0m\u001b[0;34m\u001b[0m\u001b[0;34m\u001b[0m\u001b[0m\n\u001b[1;32m    310\u001b[0m     \u001b[0mnum\u001b[0m \u001b[0;34m=\u001b[0m \u001b[0mnum\u001b[0m \u001b[0;34m-\u001b[0m \u001b[0mf\u001b[0m\u001b[0;34m**\u001b[0m\u001b[0;36m2\u001b[0m\u001b[0;34m*\u001b[0m\u001b[0mbesselj\u001b[0m\u001b[0;34m(\u001b[0m\u001b[0;36m1\u001b[0m\u001b[0;34m/\u001b[0m\u001b[0;36m4\u001b[0m\u001b[0;34m,\u001b[0m \u001b[0mf\u001b[0m\u001b[0;34m**\u001b[0m\u001b[0;36m2\u001b[0m\u001b[0;34m/\u001b[0m\u001b[0;36m2\u001b[0m\u001b[0;34m)\u001b[0m\u001b[0;34m*\u001b[0m\u001b[0mbesselj\u001b[0m\u001b[0;34m(\u001b[0m\u001b[0;36m5\u001b[0m\u001b[0;34m/\u001b[0m\u001b[0;36m4\u001b[0m\u001b[0;34m,\u001b[0m \u001b[0mf\u001b[0m\u001b[0;34m**\u001b[0m\u001b[0;36m2\u001b[0m\u001b[0;34m/\u001b[0m\u001b[0;36m2\u001b[0m\u001b[0;34m)\u001b[0m\u001b[0;34m\u001b[0m\u001b[0;34m\u001b[0m\u001b[0m\n",
      "\u001b[0;32m~/anaconda3/envs/CPOL_analysis/lib/python3.8/site-packages/mpmath/functions/bessel.py\u001b[0m in \u001b[0;36mbesselj\u001b[0;34m(ctx, n, z, derivative, **kwargs)\u001b[0m\n\u001b[1;32m     72\u001b[0m                     \u001b[0mr\u001b[0m \u001b[0;34m=\u001b[0m \u001b[0mctx\u001b[0m\u001b[0;34m.\u001b[0m\u001b[0mfneg\u001b[0m\u001b[0;34m(\u001b[0m\u001b[0mctx\u001b[0m\u001b[0;34m.\u001b[0m\u001b[0mfmul\u001b[0m\u001b[0;34m(\u001b[0m\u001b[0mw\u001b[0m\u001b[0;34m,\u001b[0m \u001b[0mw\u001b[0m\u001b[0;34m,\u001b[0m \u001b[0mprec\u001b[0m\u001b[0;34m=\u001b[0m\u001b[0mmax\u001b[0m\u001b[0;34m(\u001b[0m\u001b[0;36m0\u001b[0m\u001b[0;34m,\u001b[0m\u001b[0mctx\u001b[0m\u001b[0;34m.\u001b[0m\u001b[0mprec\u001b[0m\u001b[0;34m+\u001b[0m\u001b[0mM\u001b[0m\u001b[0;34m)\u001b[0m\u001b[0;34m)\u001b[0m\u001b[0;34m,\u001b[0m \u001b[0mexact\u001b[0m\u001b[0;34m=\u001b[0m\u001b[0;32mTrue\u001b[0m\u001b[0;34m)\u001b[0m\u001b[0;34m\u001b[0m\u001b[0;34m\u001b[0m\u001b[0m\n\u001b[1;32m     73\u001b[0m                     \u001b[0;32mreturn\u001b[0m \u001b[0;34m[\u001b[0m\u001b[0;34m(\u001b[0m\u001b[0;34m[\u001b[0m\u001b[0mw\u001b[0m\u001b[0;34m]\u001b[0m\u001b[0;34m,\u001b[0m \u001b[0;34m[\u001b[0m\u001b[0mn\u001b[0m\u001b[0;34m]\u001b[0m\u001b[0;34m,\u001b[0m \u001b[0;34m[\u001b[0m\u001b[0;34m]\u001b[0m\u001b[0;34m,\u001b[0m \u001b[0;34m[\u001b[0m\u001b[0mn\u001b[0m\u001b[0;34m+\u001b[0m\u001b[0;36m1\u001b[0m\u001b[0;34m]\u001b[0m\u001b[0;34m,\u001b[0m \u001b[0;34m[\u001b[0m\u001b[0;34m]\u001b[0m\u001b[0;34m,\u001b[0m \u001b[0;34m[\u001b[0m\u001b[0mn\u001b[0m\u001b[0;34m+\u001b[0m\u001b[0;36m1\u001b[0m\u001b[0;34m]\u001b[0m\u001b[0;34m,\u001b[0m \u001b[0mr\u001b[0m\u001b[0;34m)\u001b[0m\u001b[0;34m]\u001b[0m\u001b[0;34m\u001b[0m\u001b[0;34m\u001b[0m\u001b[0m\n\u001b[0;32m---> 74\u001b[0;31m                 \u001b[0mv\u001b[0m \u001b[0;34m=\u001b[0m \u001b[0mctx\u001b[0m\u001b[0;34m.\u001b[0m\u001b[0mhypercomb\u001b[0m\u001b[0;34m(\u001b[0m\u001b[0mh\u001b[0m\u001b[0;34m,\u001b[0m \u001b[0;34m[\u001b[0m\u001b[0mn\u001b[0m\u001b[0;34m]\u001b[0m\u001b[0;34m,\u001b[0m \u001b[0;34m**\u001b[0m\u001b[0mkwargs\u001b[0m\u001b[0;34m)\u001b[0m\u001b[0;34m\u001b[0m\u001b[0;34m\u001b[0m\u001b[0m\n\u001b[0m\u001b[1;32m     75\u001b[0m             \u001b[0;32mfinally\u001b[0m\u001b[0;34m:\u001b[0m\u001b[0;34m\u001b[0m\u001b[0;34m\u001b[0m\u001b[0m\n\u001b[1;32m     76\u001b[0m                 \u001b[0mctx\u001b[0m\u001b[0;34m.\u001b[0m\u001b[0mprec\u001b[0m \u001b[0;34m=\u001b[0m \u001b[0morig\u001b[0m\u001b[0;34m\u001b[0m\u001b[0;34m\u001b[0m\u001b[0m\n",
      "\u001b[0;32m~/anaconda3/envs/CPOL_analysis/lib/python3.8/site-packages/mpmath/functions/hypergeometric.py\u001b[0m in \u001b[0;36mhypercomb\u001b[0;34m(ctx, function, params, discard_known_zeros, **kwargs)\u001b[0m\n\u001b[1;32m    123\u001b[0m                 \u001b[0;31m#for b in beta_s: v *= ctx.rgamma(b)\u001b[0m\u001b[0;34m\u001b[0m\u001b[0;34m\u001b[0m\u001b[0;34m\u001b[0m\u001b[0m\n\u001b[1;32m    124\u001b[0m                 \u001b[0;31m#for w, c in zip(w_s, c_s): v *= ctx.power(w, c)\u001b[0m\u001b[0;34m\u001b[0m\u001b[0;34m\u001b[0m\u001b[0;34m\u001b[0m\u001b[0m\n\u001b[0;32m--> 125\u001b[0;31m                 v = ctx.fprod([ctx.hyper(a_s, b_s, z, **kwargs)] + \\\n\u001b[0m\u001b[1;32m    126\u001b[0m                     \u001b[0;34m[\u001b[0m\u001b[0mctx\u001b[0m\u001b[0;34m.\u001b[0m\u001b[0mgamma\u001b[0m\u001b[0;34m(\u001b[0m\u001b[0ma\u001b[0m\u001b[0;34m)\u001b[0m \u001b[0;32mfor\u001b[0m \u001b[0ma\u001b[0m \u001b[0;32min\u001b[0m \u001b[0malpha_s\u001b[0m\u001b[0;34m]\u001b[0m \u001b[0;34m+\u001b[0m\u001b[0;31m \u001b[0m\u001b[0;31m\\\u001b[0m\u001b[0;34m\u001b[0m\u001b[0;34m\u001b[0m\u001b[0m\n\u001b[1;32m    127\u001b[0m                     \u001b[0;34m[\u001b[0m\u001b[0mctx\u001b[0m\u001b[0;34m.\u001b[0m\u001b[0mrgamma\u001b[0m\u001b[0;34m(\u001b[0m\u001b[0mb\u001b[0m\u001b[0;34m)\u001b[0m \u001b[0;32mfor\u001b[0m \u001b[0mb\u001b[0m \u001b[0;32min\u001b[0m \u001b[0mbeta_s\u001b[0m\u001b[0;34m]\u001b[0m \u001b[0;34m+\u001b[0m\u001b[0;31m \u001b[0m\u001b[0;31m\\\u001b[0m\u001b[0;34m\u001b[0m\u001b[0;34m\u001b[0m\u001b[0m\n",
      "\u001b[0;32m~/anaconda3/envs/CPOL_analysis/lib/python3.8/site-packages/mpmath/functions/hypergeometric.py\u001b[0m in \u001b[0;36mhyper\u001b[0;34m(ctx, a_s, b_s, z, **kwargs)\u001b[0m\n\u001b[1;32m    217\u001b[0m     \u001b[0;31m# Handle special cases\u001b[0m\u001b[0;34m\u001b[0m\u001b[0;34m\u001b[0m\u001b[0;34m\u001b[0m\u001b[0m\n\u001b[1;32m    218\u001b[0m     \u001b[0;32mif\u001b[0m \u001b[0mp\u001b[0m \u001b[0;34m==\u001b[0m \u001b[0;36m0\u001b[0m\u001b[0;34m:\u001b[0m\u001b[0;34m\u001b[0m\u001b[0;34m\u001b[0m\u001b[0m\n\u001b[0;32m--> 219\u001b[0;31m         \u001b[0;32mif\u001b[0m   \u001b[0mq\u001b[0m \u001b[0;34m==\u001b[0m \u001b[0;36m1\u001b[0m\u001b[0;34m:\u001b[0m \u001b[0;32mreturn\u001b[0m \u001b[0mctx\u001b[0m\u001b[0;34m.\u001b[0m\u001b[0m_hyp0f1\u001b[0m\u001b[0;34m(\u001b[0m\u001b[0mb_s\u001b[0m\u001b[0;34m,\u001b[0m \u001b[0mz\u001b[0m\u001b[0;34m,\u001b[0m \u001b[0;34m**\u001b[0m\u001b[0mkwargs\u001b[0m\u001b[0;34m)\u001b[0m\u001b[0;34m\u001b[0m\u001b[0;34m\u001b[0m\u001b[0m\n\u001b[0m\u001b[1;32m    220\u001b[0m         \u001b[0;32melif\u001b[0m \u001b[0mq\u001b[0m \u001b[0;34m==\u001b[0m \u001b[0;36m0\u001b[0m\u001b[0;34m:\u001b[0m \u001b[0;32mreturn\u001b[0m \u001b[0mctx\u001b[0m\u001b[0;34m.\u001b[0m\u001b[0mexp\u001b[0m\u001b[0;34m(\u001b[0m\u001b[0mz\u001b[0m\u001b[0;34m)\u001b[0m\u001b[0;34m\u001b[0m\u001b[0;34m\u001b[0m\u001b[0m\n\u001b[1;32m    221\u001b[0m     \u001b[0;32melif\u001b[0m \u001b[0mp\u001b[0m \u001b[0;34m==\u001b[0m \u001b[0;36m1\u001b[0m\u001b[0;34m:\u001b[0m\u001b[0;34m\u001b[0m\u001b[0;34m\u001b[0m\u001b[0m\n",
      "\u001b[0;32m~/anaconda3/envs/CPOL_analysis/lib/python3.8/site-packages/mpmath/functions/hypergeometric.py\u001b[0m in \u001b[0;36m_hyp0f1\u001b[0;34m(ctx, b_s, z, **kwargs)\u001b[0m\n\u001b[1;32m    296\u001b[0m                     \u001b[0mT2\u001b[0m \u001b[0;34m=\u001b[0m \u001b[0;34m(\u001b[0m\u001b[0;34m[\u001b[0m\u001b[0mjw\u001b[0m\u001b[0;34m,\u001b[0m\u001b[0mE\u001b[0m\u001b[0;34m]\u001b[0m\u001b[0;34m,\u001b[0m \u001b[0;34m[\u001b[0m\u001b[0mc\u001b[0m\u001b[0;34m,\u001b[0m\u001b[0;36m1\u001b[0m\u001b[0;34m]\u001b[0m\u001b[0;34m,\u001b[0m \u001b[0;34m[\u001b[0m\u001b[0;34m]\u001b[0m\u001b[0;34m,\u001b[0m \u001b[0;34m[\u001b[0m\u001b[0;34m]\u001b[0m\u001b[0;34m,\u001b[0m \u001b[0;34m[\u001b[0m\u001b[0mb\u001b[0m\u001b[0;34m-\u001b[0m\u001b[0mctx\u001b[0m\u001b[0;34m.\u001b[0m\u001b[0mmpq_1_2\u001b[0m\u001b[0;34m,\u001b[0m \u001b[0mctx\u001b[0m\u001b[0;34m.\u001b[0m\u001b[0mmpq_3_2\u001b[0m\u001b[0;34m-\u001b[0m\u001b[0mb\u001b[0m\u001b[0;34m]\u001b[0m\u001b[0;34m,\u001b[0m \u001b[0;34m[\u001b[0m\u001b[0;34m]\u001b[0m\u001b[0;34m,\u001b[0m \u001b[0mu\u001b[0m\u001b[0;34m)\u001b[0m\u001b[0;34m\u001b[0m\u001b[0;34m\u001b[0m\u001b[0m\n\u001b[1;32m    297\u001b[0m                     \u001b[0;32mreturn\u001b[0m \u001b[0mT1\u001b[0m\u001b[0;34m,\u001b[0m \u001b[0mT2\u001b[0m\u001b[0;34m\u001b[0m\u001b[0;34m\u001b[0m\u001b[0m\n\u001b[0;32m--> 298\u001b[0;31m                 \u001b[0mv\u001b[0m \u001b[0;34m=\u001b[0m \u001b[0mctx\u001b[0m\u001b[0;34m.\u001b[0m\u001b[0mhypercomb\u001b[0m\u001b[0;34m(\u001b[0m\u001b[0mh\u001b[0m\u001b[0;34m,\u001b[0m \u001b[0;34m[\u001b[0m\u001b[0;34m]\u001b[0m\u001b[0;34m,\u001b[0m \u001b[0mforce_series\u001b[0m\u001b[0;34m=\u001b[0m\u001b[0;32mTrue\u001b[0m\u001b[0;34m)\u001b[0m\u001b[0;34m\u001b[0m\u001b[0;34m\u001b[0m\u001b[0m\n\u001b[0m\u001b[1;32m    299\u001b[0m                 \u001b[0mv\u001b[0m \u001b[0;34m=\u001b[0m \u001b[0mctx\u001b[0m\u001b[0;34m.\u001b[0m\u001b[0mgamma\u001b[0m\u001b[0;34m(\u001b[0m\u001b[0mb\u001b[0m\u001b[0;34m)\u001b[0m\u001b[0;34m/\u001b[0m\u001b[0;34m(\u001b[0m\u001b[0;36m2\u001b[0m\u001b[0;34m*\u001b[0m\u001b[0mctx\u001b[0m\u001b[0;34m.\u001b[0m\u001b[0msqrt\u001b[0m\u001b[0;34m(\u001b[0m\u001b[0mctx\u001b[0m\u001b[0;34m.\u001b[0m\u001b[0mpi\u001b[0m\u001b[0;34m)\u001b[0m\u001b[0;34m)\u001b[0m\u001b[0;34m*\u001b[0m\u001b[0mv\u001b[0m\u001b[0;34m\u001b[0m\u001b[0;34m\u001b[0m\u001b[0m\n\u001b[1;32m    300\u001b[0m             \u001b[0;32mfinally\u001b[0m\u001b[0;34m:\u001b[0m\u001b[0;34m\u001b[0m\u001b[0;34m\u001b[0m\u001b[0m\n",
      "\u001b[0;32m~/anaconda3/envs/CPOL_analysis/lib/python3.8/site-packages/mpmath/functions/hypergeometric.py\u001b[0m in \u001b[0;36mhypercomb\u001b[0;34m(ctx, function, params, discard_known_zeros, **kwargs)\u001b[0m\n\u001b[1;32m    126\u001b[0m                     \u001b[0;34m[\u001b[0m\u001b[0mctx\u001b[0m\u001b[0;34m.\u001b[0m\u001b[0mgamma\u001b[0m\u001b[0;34m(\u001b[0m\u001b[0ma\u001b[0m\u001b[0;34m)\u001b[0m \u001b[0;32mfor\u001b[0m \u001b[0ma\u001b[0m \u001b[0;32min\u001b[0m \u001b[0malpha_s\u001b[0m\u001b[0;34m]\u001b[0m \u001b[0;34m+\u001b[0m\u001b[0;31m \u001b[0m\u001b[0;31m\\\u001b[0m\u001b[0;34m\u001b[0m\u001b[0;34m\u001b[0m\u001b[0m\n\u001b[1;32m    127\u001b[0m                     \u001b[0;34m[\u001b[0m\u001b[0mctx\u001b[0m\u001b[0;34m.\u001b[0m\u001b[0mrgamma\u001b[0m\u001b[0;34m(\u001b[0m\u001b[0mb\u001b[0m\u001b[0;34m)\u001b[0m \u001b[0;32mfor\u001b[0m \u001b[0mb\u001b[0m \u001b[0;32min\u001b[0m \u001b[0mbeta_s\u001b[0m\u001b[0;34m]\u001b[0m \u001b[0;34m+\u001b[0m\u001b[0;31m \u001b[0m\u001b[0;31m\\\u001b[0m\u001b[0;34m\u001b[0m\u001b[0;34m\u001b[0m\u001b[0m\n\u001b[0;32m--> 128\u001b[0;31m                     [ctx.power(w,c) for (w,c) in zip(w_s,c_s)])\n\u001b[0m\u001b[1;32m    129\u001b[0m                 \u001b[0;32mif\u001b[0m \u001b[0mverbose\u001b[0m\u001b[0;34m:\u001b[0m\u001b[0;34m\u001b[0m\u001b[0;34m\u001b[0m\u001b[0m\n\u001b[1;32m    130\u001b[0m                     \u001b[0mprint\u001b[0m\u001b[0;34m(\u001b[0m\u001b[0;34m\"    Value:\"\u001b[0m\u001b[0;34m,\u001b[0m \u001b[0mv\u001b[0m\u001b[0;34m)\u001b[0m\u001b[0;34m\u001b[0m\u001b[0;34m\u001b[0m\u001b[0m\n",
      "\u001b[0;32m~/anaconda3/envs/CPOL_analysis/lib/python3.8/site-packages/mpmath/functions/hypergeometric.py\u001b[0m in \u001b[0;36m<listcomp>\u001b[0;34m(.0)\u001b[0m\n\u001b[1;32m    126\u001b[0m                     \u001b[0;34m[\u001b[0m\u001b[0mctx\u001b[0m\u001b[0;34m.\u001b[0m\u001b[0mgamma\u001b[0m\u001b[0;34m(\u001b[0m\u001b[0ma\u001b[0m\u001b[0;34m)\u001b[0m \u001b[0;32mfor\u001b[0m \u001b[0ma\u001b[0m \u001b[0;32min\u001b[0m \u001b[0malpha_s\u001b[0m\u001b[0;34m]\u001b[0m \u001b[0;34m+\u001b[0m\u001b[0;31m \u001b[0m\u001b[0;31m\\\u001b[0m\u001b[0;34m\u001b[0m\u001b[0;34m\u001b[0m\u001b[0m\n\u001b[1;32m    127\u001b[0m                     \u001b[0;34m[\u001b[0m\u001b[0mctx\u001b[0m\u001b[0;34m.\u001b[0m\u001b[0mrgamma\u001b[0m\u001b[0;34m(\u001b[0m\u001b[0mb\u001b[0m\u001b[0;34m)\u001b[0m \u001b[0;32mfor\u001b[0m \u001b[0mb\u001b[0m \u001b[0;32min\u001b[0m \u001b[0mbeta_s\u001b[0m\u001b[0;34m]\u001b[0m \u001b[0;34m+\u001b[0m\u001b[0;31m \u001b[0m\u001b[0;31m\\\u001b[0m\u001b[0;34m\u001b[0m\u001b[0;34m\u001b[0m\u001b[0m\n\u001b[0;32m--> 128\u001b[0;31m                     [ctx.power(w,c) for (w,c) in zip(w_s,c_s)])\n\u001b[0m\u001b[1;32m    129\u001b[0m                 \u001b[0;32mif\u001b[0m \u001b[0mverbose\u001b[0m\u001b[0;34m:\u001b[0m\u001b[0;34m\u001b[0m\u001b[0;34m\u001b[0m\u001b[0m\n\u001b[1;32m    130\u001b[0m                     \u001b[0mprint\u001b[0m\u001b[0;34m(\u001b[0m\u001b[0;34m\"    Value:\"\u001b[0m\u001b[0;34m,\u001b[0m \u001b[0mv\u001b[0m\u001b[0;34m)\u001b[0m\u001b[0;34m\u001b[0m\u001b[0;34m\u001b[0m\u001b[0m\n",
      "\u001b[0;32m~/anaconda3/envs/CPOL_analysis/lib/python3.8/site-packages/mpmath/ctx_base.py\u001b[0m in \u001b[0;36mpower\u001b[0;34m(ctx, x, y)\u001b[0m\n\u001b[1;32m    427\u001b[0m             \u001b[0;36m3.16470269330255923143453723949e+12978188\u001b[0m\u001b[0;34m\u001b[0m\u001b[0;34m\u001b[0m\u001b[0m\n\u001b[1;32m    428\u001b[0m         \"\"\"\n\u001b[0;32m--> 429\u001b[0;31m         \u001b[0;32mreturn\u001b[0m \u001b[0mctx\u001b[0m\u001b[0;34m.\u001b[0m\u001b[0mconvert\u001b[0m\u001b[0;34m(\u001b[0m\u001b[0mx\u001b[0m\u001b[0;34m)\u001b[0m \u001b[0;34m**\u001b[0m \u001b[0mctx\u001b[0m\u001b[0;34m.\u001b[0m\u001b[0mconvert\u001b[0m\u001b[0;34m(\u001b[0m\u001b[0my\u001b[0m\u001b[0;34m)\u001b[0m\u001b[0;34m\u001b[0m\u001b[0;34m\u001b[0m\u001b[0m\n\u001b[0m\u001b[1;32m    430\u001b[0m \u001b[0;34m\u001b[0m\u001b[0m\n\u001b[1;32m    431\u001b[0m     \u001b[0;32mdef\u001b[0m \u001b[0m_zeta_int\u001b[0m\u001b[0;34m(\u001b[0m\u001b[0mctx\u001b[0m\u001b[0;34m,\u001b[0m \u001b[0mn\u001b[0m\u001b[0;34m)\u001b[0m\u001b[0;34m:\u001b[0m\u001b[0;34m\u001b[0m\u001b[0;34m\u001b[0m\u001b[0m\n",
      "\u001b[0;32m~/anaconda3/envs/CPOL_analysis/lib/python3.8/site-packages/mpmath/ctx_mp_python.py\u001b[0m in \u001b[0;36m__pow__\u001b[0;34m(s, t)\u001b[0m\n\u001b[1;32m    533\u001b[0m         \u001b[0mv\u001b[0m \u001b[0;34m=\u001b[0m \u001b[0mnew\u001b[0m\u001b[0;34m(\u001b[0m\u001b[0mcls\u001b[0m\u001b[0;34m)\u001b[0m\u001b[0;34m\u001b[0m\u001b[0;34m\u001b[0m\u001b[0m\n\u001b[1;32m    534\u001b[0m         \u001b[0;32mif\u001b[0m \u001b[0mhasattr\u001b[0m\u001b[0;34m(\u001b[0m\u001b[0mt\u001b[0m\u001b[0;34m,\u001b[0m \u001b[0;34m'_mpf_'\u001b[0m\u001b[0;34m)\u001b[0m\u001b[0;34m:\u001b[0m\u001b[0;34m\u001b[0m\u001b[0;34m\u001b[0m\u001b[0m\n\u001b[0;32m--> 535\u001b[0;31m             \u001b[0mv\u001b[0m\u001b[0;34m.\u001b[0m\u001b[0m_mpc_\u001b[0m \u001b[0;34m=\u001b[0m \u001b[0mmpc_pow_mpf\u001b[0m\u001b[0;34m(\u001b[0m\u001b[0ms\u001b[0m\u001b[0;34m.\u001b[0m\u001b[0m_mpc_\u001b[0m\u001b[0;34m,\u001b[0m \u001b[0mt\u001b[0m\u001b[0;34m.\u001b[0m\u001b[0m_mpf_\u001b[0m\u001b[0;34m,\u001b[0m \u001b[0mprec\u001b[0m\u001b[0;34m,\u001b[0m \u001b[0mrounding\u001b[0m\u001b[0;34m)\u001b[0m\u001b[0;34m\u001b[0m\u001b[0;34m\u001b[0m\u001b[0m\n\u001b[0m\u001b[1;32m    536\u001b[0m         \u001b[0;32melse\u001b[0m\u001b[0;34m:\u001b[0m\u001b[0;34m\u001b[0m\u001b[0;34m\u001b[0m\u001b[0m\n\u001b[1;32m    537\u001b[0m             \u001b[0mv\u001b[0m\u001b[0;34m.\u001b[0m\u001b[0m_mpc_\u001b[0m \u001b[0;34m=\u001b[0m \u001b[0mmpc_pow\u001b[0m\u001b[0;34m(\u001b[0m\u001b[0ms\u001b[0m\u001b[0;34m.\u001b[0m\u001b[0m_mpc_\u001b[0m\u001b[0;34m,\u001b[0m \u001b[0mt\u001b[0m\u001b[0;34m.\u001b[0m\u001b[0m_mpc_\u001b[0m\u001b[0;34m,\u001b[0m \u001b[0mprec\u001b[0m\u001b[0;34m,\u001b[0m \u001b[0mrounding\u001b[0m\u001b[0;34m)\u001b[0m\u001b[0;34m\u001b[0m\u001b[0;34m\u001b[0m\u001b[0m\n",
      "\u001b[0;32m~/anaconda3/envs/CPOL_analysis/lib/python3.8/site-packages/mpmath/libmp/libmpc.py\u001b[0m in \u001b[0;36mmpc_pow_mpf\u001b[0;34m(z, p, prec, rnd)\u001b[0m\n\u001b[1;32m    247\u001b[0m     \u001b[0mpsign\u001b[0m\u001b[0;34m,\u001b[0m \u001b[0mpman\u001b[0m\u001b[0;34m,\u001b[0m \u001b[0mpexp\u001b[0m\u001b[0;34m,\u001b[0m \u001b[0mpbc\u001b[0m \u001b[0;34m=\u001b[0m \u001b[0mp\u001b[0m\u001b[0;34m\u001b[0m\u001b[0;34m\u001b[0m\u001b[0m\n\u001b[1;32m    248\u001b[0m     \u001b[0;32mif\u001b[0m \u001b[0mpexp\u001b[0m \u001b[0;34m>=\u001b[0m \u001b[0;36m0\u001b[0m\u001b[0;34m:\u001b[0m\u001b[0;34m\u001b[0m\u001b[0;34m\u001b[0m\u001b[0m\n\u001b[0;32m--> 249\u001b[0;31m         \u001b[0;32mreturn\u001b[0m \u001b[0mmpc_pow_int\u001b[0m\u001b[0;34m(\u001b[0m\u001b[0mz\u001b[0m\u001b[0;34m,\u001b[0m \u001b[0;34m(\u001b[0m\u001b[0;34m-\u001b[0m\u001b[0;36m1\u001b[0m\u001b[0;34m)\u001b[0m\u001b[0;34m**\u001b[0m\u001b[0mpsign\u001b[0m \u001b[0;34m*\u001b[0m \u001b[0;34m(\u001b[0m\u001b[0mpman\u001b[0m\u001b[0;34m<<\u001b[0m\u001b[0mpexp\u001b[0m\u001b[0;34m)\u001b[0m\u001b[0;34m,\u001b[0m \u001b[0mprec\u001b[0m\u001b[0;34m,\u001b[0m \u001b[0mrnd\u001b[0m\u001b[0;34m)\u001b[0m\u001b[0;34m\u001b[0m\u001b[0;34m\u001b[0m\u001b[0m\n\u001b[0m\u001b[1;32m    250\u001b[0m     \u001b[0;32mif\u001b[0m \u001b[0mpexp\u001b[0m \u001b[0;34m==\u001b[0m \u001b[0;34m-\u001b[0m\u001b[0;36m1\u001b[0m\u001b[0;34m:\u001b[0m\u001b[0;34m\u001b[0m\u001b[0;34m\u001b[0m\u001b[0m\n\u001b[1;32m    251\u001b[0m         \u001b[0msqrtz\u001b[0m \u001b[0;34m=\u001b[0m \u001b[0mmpc_sqrt\u001b[0m\u001b[0;34m(\u001b[0m\u001b[0mz\u001b[0m\u001b[0;34m,\u001b[0m \u001b[0mprec\u001b[0m\u001b[0;34m+\u001b[0m\u001b[0;36m10\u001b[0m\u001b[0;34m)\u001b[0m\u001b[0;34m\u001b[0m\u001b[0;34m\u001b[0m\u001b[0m\n",
      "\u001b[0;32m~/anaconda3/envs/CPOL_analysis/lib/python3.8/site-packages/mpmath/libmp/libmpc.py\u001b[0m in \u001b[0;36mmpc_pow_int\u001b[0;34m(z, n, prec, rnd)\u001b[0m\n\u001b[1;32m    271\u001b[0m     \u001b[0;32mif\u001b[0m \u001b[0mn\u001b[0m \u001b[0;34m==\u001b[0m \u001b[0;36m1\u001b[0m\u001b[0;34m:\u001b[0m \u001b[0;32mreturn\u001b[0m \u001b[0mmpc_pos\u001b[0m\u001b[0;34m(\u001b[0m\u001b[0mz\u001b[0m\u001b[0;34m,\u001b[0m \u001b[0mprec\u001b[0m\u001b[0;34m,\u001b[0m \u001b[0mrnd\u001b[0m\u001b[0;34m)\u001b[0m\u001b[0;34m\u001b[0m\u001b[0;34m\u001b[0m\u001b[0m\n\u001b[1;32m    272\u001b[0m     \u001b[0;32mif\u001b[0m \u001b[0mn\u001b[0m \u001b[0;34m==\u001b[0m \u001b[0;36m2\u001b[0m\u001b[0;34m:\u001b[0m \u001b[0;32mreturn\u001b[0m \u001b[0mmpc_square\u001b[0m\u001b[0;34m(\u001b[0m\u001b[0mz\u001b[0m\u001b[0;34m,\u001b[0m \u001b[0mprec\u001b[0m\u001b[0;34m,\u001b[0m \u001b[0mrnd\u001b[0m\u001b[0;34m)\u001b[0m\u001b[0;34m\u001b[0m\u001b[0;34m\u001b[0m\u001b[0m\n\u001b[0;32m--> 273\u001b[0;31m     \u001b[0;32mif\u001b[0m \u001b[0mn\u001b[0m \u001b[0;34m==\u001b[0m \u001b[0;34m-\u001b[0m\u001b[0;36m1\u001b[0m\u001b[0;34m:\u001b[0m \u001b[0;32mreturn\u001b[0m \u001b[0mmpc_reciprocal\u001b[0m\u001b[0;34m(\u001b[0m\u001b[0mz\u001b[0m\u001b[0;34m,\u001b[0m \u001b[0mprec\u001b[0m\u001b[0;34m,\u001b[0m \u001b[0mrnd\u001b[0m\u001b[0;34m)\u001b[0m\u001b[0;34m\u001b[0m\u001b[0;34m\u001b[0m\u001b[0m\n\u001b[0m\u001b[1;32m    274\u001b[0m     \u001b[0;32mif\u001b[0m \u001b[0mn\u001b[0m \u001b[0;34m<\u001b[0m \u001b[0;36m0\u001b[0m\u001b[0;34m:\u001b[0m \u001b[0;32mreturn\u001b[0m \u001b[0mmpc_reciprocal\u001b[0m\u001b[0;34m(\u001b[0m\u001b[0mmpc_pow_int\u001b[0m\u001b[0;34m(\u001b[0m\u001b[0mz\u001b[0m\u001b[0;34m,\u001b[0m \u001b[0;34m-\u001b[0m\u001b[0mn\u001b[0m\u001b[0;34m,\u001b[0m \u001b[0mprec\u001b[0m\u001b[0;34m+\u001b[0m\u001b[0;36m4\u001b[0m\u001b[0;34m)\u001b[0m\u001b[0;34m,\u001b[0m \u001b[0mprec\u001b[0m\u001b[0;34m,\u001b[0m \u001b[0mrnd\u001b[0m\u001b[0;34m)\u001b[0m\u001b[0;34m\u001b[0m\u001b[0;34m\u001b[0m\u001b[0m\n\u001b[1;32m    275\u001b[0m     \u001b[0masign\u001b[0m\u001b[0;34m,\u001b[0m \u001b[0maman\u001b[0m\u001b[0;34m,\u001b[0m \u001b[0maexp\u001b[0m\u001b[0;34m,\u001b[0m \u001b[0mabc\u001b[0m \u001b[0;34m=\u001b[0m \u001b[0ma\u001b[0m\u001b[0;34m\u001b[0m\u001b[0;34m\u001b[0m\u001b[0m\n",
      "\u001b[0;32m~/anaconda3/envs/CPOL_analysis/lib/python3.8/site-packages/mpmath/libmp/libmpc.py\u001b[0m in \u001b[0;36mmpc_reciprocal\u001b[0;34m(z, prec, rnd)\u001b[0m\n\u001b[1;32m    214\u001b[0m     \u001b[0ma\u001b[0m\u001b[0;34m,\u001b[0m \u001b[0mb\u001b[0m \u001b[0;34m=\u001b[0m \u001b[0mz\u001b[0m\u001b[0;34m\u001b[0m\u001b[0;34m\u001b[0m\u001b[0m\n\u001b[1;32m    215\u001b[0m     \u001b[0mm\u001b[0m \u001b[0;34m=\u001b[0m \u001b[0mmpf_add\u001b[0m\u001b[0;34m(\u001b[0m\u001b[0mmpf_mul\u001b[0m\u001b[0;34m(\u001b[0m\u001b[0ma\u001b[0m\u001b[0;34m,\u001b[0m\u001b[0ma\u001b[0m\u001b[0;34m)\u001b[0m\u001b[0;34m,\u001b[0m\u001b[0mmpf_mul\u001b[0m\u001b[0;34m(\u001b[0m\u001b[0mb\u001b[0m\u001b[0;34m,\u001b[0m\u001b[0mb\u001b[0m\u001b[0;34m)\u001b[0m\u001b[0;34m,\u001b[0m\u001b[0mprec\u001b[0m\u001b[0;34m+\u001b[0m\u001b[0;36m10\u001b[0m\u001b[0;34m)\u001b[0m\u001b[0;34m\u001b[0m\u001b[0;34m\u001b[0m\u001b[0m\n\u001b[0;32m--> 216\u001b[0;31m     \u001b[0mre\u001b[0m \u001b[0;34m=\u001b[0m \u001b[0mmpf_div\u001b[0m\u001b[0;34m(\u001b[0m\u001b[0ma\u001b[0m\u001b[0;34m,\u001b[0m \u001b[0mm\u001b[0m\u001b[0;34m,\u001b[0m \u001b[0mprec\u001b[0m\u001b[0;34m,\u001b[0m \u001b[0mrnd\u001b[0m\u001b[0;34m)\u001b[0m\u001b[0;34m\u001b[0m\u001b[0;34m\u001b[0m\u001b[0m\n\u001b[0m\u001b[1;32m    217\u001b[0m     \u001b[0mim\u001b[0m \u001b[0;34m=\u001b[0m \u001b[0mmpf_neg\u001b[0m\u001b[0;34m(\u001b[0m\u001b[0mmpf_div\u001b[0m\u001b[0;34m(\u001b[0m\u001b[0mb\u001b[0m\u001b[0;34m,\u001b[0m \u001b[0mm\u001b[0m\u001b[0;34m,\u001b[0m \u001b[0mprec\u001b[0m\u001b[0;34m,\u001b[0m \u001b[0mrnd\u001b[0m\u001b[0;34m)\u001b[0m\u001b[0;34m)\u001b[0m\u001b[0;34m\u001b[0m\u001b[0;34m\u001b[0m\u001b[0m\n\u001b[1;32m    218\u001b[0m     \u001b[0;32mreturn\u001b[0m \u001b[0mre\u001b[0m\u001b[0;34m,\u001b[0m \u001b[0mim\u001b[0m\u001b[0;34m\u001b[0m\u001b[0;34m\u001b[0m\u001b[0m\n",
      "\u001b[0;32m~/anaconda3/envs/CPOL_analysis/lib/python3.8/site-packages/mpmath/libmp/libmpf.py\u001b[0m in \u001b[0;36mmpf_div\u001b[0;34m(s, t, prec, rnd)\u001b[0m\n\u001b[1;32m    976\u001b[0m     \u001b[0;31m# the result a few bits outside the precision range before rounding\u001b[0m\u001b[0;34m\u001b[0m\u001b[0;34m\u001b[0m\u001b[0;34m\u001b[0m\u001b[0m\n\u001b[1;32m    977\u001b[0m     \u001b[0mextra\u001b[0m \u001b[0;34m=\u001b[0m \u001b[0mprec\u001b[0m \u001b[0;34m-\u001b[0m \u001b[0msbc\u001b[0m \u001b[0;34m+\u001b[0m \u001b[0mtbc\u001b[0m \u001b[0;34m+\u001b[0m \u001b[0;36m5\u001b[0m\u001b[0;34m\u001b[0m\u001b[0;34m\u001b[0m\u001b[0m\n\u001b[0;32m--> 978\u001b[0;31m     \u001b[0;32mif\u001b[0m \u001b[0mextra\u001b[0m \u001b[0;34m<\u001b[0m \u001b[0;36m5\u001b[0m\u001b[0;34m:\u001b[0m\u001b[0;34m\u001b[0m\u001b[0;34m\u001b[0m\u001b[0m\n\u001b[0m\u001b[1;32m    979\u001b[0m         \u001b[0mextra\u001b[0m \u001b[0;34m=\u001b[0m \u001b[0;36m5\u001b[0m\u001b[0;34m\u001b[0m\u001b[0;34m\u001b[0m\u001b[0m\n\u001b[1;32m    980\u001b[0m     \u001b[0mquot\u001b[0m\u001b[0;34m,\u001b[0m \u001b[0mrem\u001b[0m \u001b[0;34m=\u001b[0m \u001b[0mdivmod\u001b[0m\u001b[0;34m(\u001b[0m\u001b[0msman\u001b[0m\u001b[0;34m<<\u001b[0m\u001b[0mextra\u001b[0m\u001b[0;34m,\u001b[0m \u001b[0mtman\u001b[0m\u001b[0;34m)\u001b[0m\u001b[0;34m\u001b[0m\u001b[0;34m\u001b[0m\u001b[0m\n",
      "\u001b[0;31mKeyboardInterrupt\u001b[0m: "
     ]
    }
   ],
   "source": [
    "# ds_rotunno = rt.solve_rotunno_case_two(xiN=61, zetaN=31, tauN=32, kN=1000,\n",
    "#                                        xi0=0.1, beta=beta, Atilde=Atilde)\n",
    "# ds_qian = rt.solve_qian(xiN=61, zetaN=31, tauN=4, sN=1000, U=0.6, L=0.1, alpha=3)\n",
    "# ds_pwN = rt.solve_continuous_N(xiN=151, zetaN=41, tauN=16, sN=1000, L=1, R=0.4, \n",
    "#                                zetaT1=20, zetaT2=40, alpha=3, save=False)\n",
    "# ds_channel = rt.solve_channel(xiN=121, zetaN=61, tauN=32, sN=1000, U=0.625, \n",
    "#                               d=10, alpha=3, sigma=4, heat_island=False)\n",
    "\n",
    "\n",
    "# ds_rotunno = rt.solve_rotunno_case_one(xiN=41, zetaN=21, tauN=16, xipN=200, zetapN=200,\n",
    "#                                        xi0=0.1, beta=beta, Atilde=Atilde)\n",
    "\n",
    "ds_cN = rt.solve_continuous_N(\n",
    "    xN=161, zN=121, tN=16, sN=1000, L=.5, N=4, H1=1, H2=1.2, save=False, high_lim=False)"
   ]
  },
  {
   "cell_type": "code",
   "execution_count": null,
   "metadata": {
    "ExecuteTime": {
     "start_time": "2022-03-18T03:35:14.780Z"
    }
   },
   "outputs": [
    {
     "name": "stdout",
     "output_type": "stream",
     "text": [
      "Initialising.\n",
      "Beginning integration.\n",
      "Integrating lower sub-domain.\n",
      "Integrating upper sub-domain.\n"
     ]
    }
   ],
   "source": [
    "ds_pwN = rt.solve_piecewise_N(\n",
    "    xN=41, zN=21, tN=16, sN=1000, L=.5, N=4, H1=1.2, save=False)"
   ]
  },
  {
   "cell_type": "code",
   "execution_count": null,
   "metadata": {
    "ExecuteTime": {
     "start_time": "2022-03-18T03:35:17.199Z"
    }
   },
   "outputs": [],
   "source": [
    "theta0=300\n",
    "N=0.02\n",
    "h=10000\n",
    "delTheta=16\n",
    "latitude=0\n",
    "beta, Atilde, f, h = rt.calc_rotunno_parameters(\n",
    "    N=N, theta0=theta0, delTheta=delTheta, latitude=latitude, h=h)"
   ]
  },
  {
   "cell_type": "code",
   "execution_count": 6,
   "metadata": {
    "ExecuteTime": {
     "end_time": "2022-03-18T03:10:05.805988Z",
     "start_time": "2022-03-18T03:10:05.779064Z"
    }
   },
   "outputs": [
    {
     "name": "stderr",
     "output_type": "stream",
     "text": [
      "/home/student.unimelb.edu.au/shorte1/Documents/rotunno83/python_scripts/rotunno.py:353: UserWarning: Buoyancy not present.\n",
      "  warnings.warn('Buoyancy not present.')\n"
     ]
    }
   ],
   "source": [
    "omega = 2*np.pi/(24*3600)\n",
    "# ds_rotunno_dim = rt.redimensionalise_rotunno(copy.deepcopy(ds_rotunno), h=h, f=f, N=N)\n",
    "# ds_channel_dim = rt.redimensionalise_channel(copy.deepcopy(ds_channel), h=h, N=N, Q0=Atilde*omega**3*h*np.pi)\n",
    "# ds_qian_dim = rt.redimensionalise_qian(copy.deepcopy(ds_qian), h=h, N=N, Q0=Atilde*omega**3*h*np.pi)\n",
    "# ds_pwN_dim = rt.redimensionalise_qian(copy.deepcopy(ds_pwN), h=h, N=N, Q0=Atilde*omega**3*h*np.pi)\n",
    "# ds_cN_dim = rt.redimensionalise_qian(copy.deepcopy(ds_cN), h=h, N=N, Q0=Atilde*omega**3*h*np.pi)\n",
    "ds_pwN_dim = rt.redimensionalise_qian(copy.deepcopy(ds_pwN), h=h, N=N, Q0=1*7.5e-6)\n",
    "# ds_cN_dim = rt.redimensionalise_qian(copy.deepcopy(ds_cN), h=h, N=N, Q0=1*7.5e-6)"
   ]
  },
  {
   "cell_type": "code",
   "execution_count": 19,
   "metadata": {
    "ExecuteTime": {
     "end_time": "2022-03-18T03:11:35.299998Z",
     "start_time": "2022-03-18T03:11:35.294145Z"
    }
   },
   "outputs": [],
   "source": [
    "t=6"
   ]
  },
  {
   "cell_type": "code",
   "execution_count": 23,
   "metadata": {
    "ExecuteTime": {
     "end_time": "2022-03-18T03:12:29.967411Z",
     "start_time": "2022-03-18T03:12:29.376549Z"
    }
   },
   "outputs": [
    {
     "name": "stdout",
     "output_type": "stream",
     "text": [
      "Plotting psi.\n"
     ]
    },
    {
     "data": {
      "image/png": "[encoded data removed]",
      "text/plain": [
       "<Figure size 432x288 with 2 Axes>"
      ]
     },
     "metadata": {},
     "output_type": "display_data"
    }
   ],
   "source": [
    "test = ds_pwN_dim.sum(dim='mode', keep_attrs=True).sum(dim='forcing', keep_attrs=True)\n",
    "# test = ds_pwN_dim.isel(mode=1).isel(forcing=1)\n",
    "# test = ds_pwN_dim.isel(mode=0)\n",
    "var='psi'\n",
    "# t=4\n",
    "fig = rt.plotCont(test, var=var, t=t)[0]\n",
    "\n",
    "plt.savefig('/home/student.unimelb.edu.au/shorte1/Documents/phd/confirmation/soln_{}_{}.png'.format(var, t), \n",
    "            dpi=200, bbox_inches='tight', facecolor='white')"
   ]
  },
  {
   "cell_type": "code",
   "execution_count": 34,
   "metadata": {
    "ExecuteTime": {
     "end_time": "2022-03-17T22:50:33.395932Z",
     "start_time": "2022-03-17T22:50:33.019859Z"
    }
   },
   "outputs": [
    {
     "name": "stdout",
     "output_type": "stream",
     "text": [
      "Plotting psi.\n"
     ]
    },
    {
     "data": {
      "image/png": "[encoded data removed]",
      "text/plain": [
       "<Figure size 432x288 with 2 Axes>"
      ]
     },
     "metadata": {},
     "output_type": "display_data"
    }
   ],
   "source": [
    "# test = ds_cN_dim.sum(dim='mode', keep_attrs=True)\n",
    "test = ds_cN_dim.isel(mode=0)\n",
    "var='psi'\n",
    "# t=4\n",
    "fig = rt.plotCont(test, var=var, t=t)[0]\n",
    "\n",
    "plt.savefig('/home/student.unimelb.edu.au/shorte1/Documents/phd/confirmation/soln_{}_{}.png'.format(var, t), \n",
    "            dpi=200, bbox_inches='tight', facecolor='white')"
   ]
  },
  {
   "cell_type": "code",
   "execution_count": 35,
   "metadata": {
    "ExecuteTime": {
     "end_time": "2022-03-17T22:51:05.252954Z",
     "start_time": "2022-03-17T22:50:56.342615Z"
    }
   },
   "outputs": [
    {
     "name": "stdout",
     "output_type": "stream",
     "text": [
      "Plotting psi.\n",
      "Timestep 0\n",
      "Timestep 0\n",
      "Timestep 1\n",
      "Timestep 2\n",
      "Timestep 3\n",
      "Timestep 4\n",
      "Timestep 5\n",
      "Timestep 6\n",
      "Timestep 7\n",
      "Timestep 8\n",
      "Timestep 9\n",
      "Timestep 10\n",
      "Timestep 11\n",
      "Timestep 12\n",
      "Timestep 13\n",
      "Timestep 14\n",
      "Timestep 15\n"
     ]
    },
    {
     "data": {
      "image/png": "[encoded data removed]",
      "text/plain": [
       "<Figure size 432x288 with 2 Axes>"
      ]
     },
     "metadata": {},
     "output_type": "display_data"
    }
   ],
   "source": [
    "# rt.animateCont(ds_channel_dim.sel(mode=[1,2,3]).sum(dim='mode', keep_attrs=True).squeeze(),var='theta_q')\n",
    "# rt.animateCont(ds_rotunno_dim, var='psi')\n",
    "\n",
    "rt.animateCont(ds_cN_dim.sel(mode=[1]).sum(dim='mode', keep_attrs=True).squeeze(), var='psi')\n",
    "# rt.animateCont(ds_qian_dim.sel(mode=[1]).sum(dim='mode', keep_attrs=True).squeeze(),  var='theta_w')\n",
    "\n",
    "# rt.animateCont(ds_qian_dim.sum(dim='mode', keep_attrs=True).squeeze(),  var='theta_w')\n",
    "# rt.animateCont(ds_qian_dim.sel(mode=[2]).sum(dim='mode', keep_attrs=True).squeeze(),  var='psi')\n",
    "# for i in np.arange(1,7):\n",
    "#     rt.animateCont(ds_qian_dim.sel(submode=i),  var='bw')\n",
    "# rt.animateCont(ds_qian_dim.sel(submode=[2,3,4,5,6]).sum(dim='submode', keep_attrs=True).squeeze(),'bw')\n",
    "# rt.animateCont(ds_qian_dim.sel(mode=2).squeeze(),  var='psi')"
   ]
  },
  {
   "cell_type": "code",
   "execution_count": 29,
   "metadata": {
    "ExecuteTime": {
     "end_time": "2022-03-14T02:43:48.009599Z",
     "start_time": "2022-03-14T02:43:40.339327Z"
    },
    "scrolled": true
   },
   "outputs": [
    {
     "name": "stdout",
     "output_type": "stream",
     "text": [
      "Plotting velocity.\n",
      "Timestep 0\n",
      "Timestep 0\n",
      "Timestep 1\n",
      "Timestep 2\n",
      "Timestep 3\n",
      "Timestep 4\n",
      "Timestep 5\n",
      "Timestep 6\n",
      "Timestep 7\n",
      "Timestep 8\n",
      "Timestep 9\n",
      "Timestep 10\n",
      "Timestep 11\n",
      "Timestep 12\n",
      "Timestep 13\n",
      "Timestep 14\n",
      "Timestep 15\n"
     ]
    }
   ],
   "source": [
    "# rt.animateVelocity(ds_qian_dim.sum(dim='mode', keep_attrs=True).squeeze()); plt.show()\n",
    "rt.animateVelocity(ds_pwN_dim.sum(dim='mode', keep_attrs=True).squeeze()); "
   ]
  },
  {
   "cell_type": "code",
   "execution_count": 20,
   "metadata": {
    "ExecuteTime": {
     "end_time": "2022-03-14T02:40:19.706170Z",
     "start_time": "2022-03-14T02:40:19.342097Z"
    }
   },
   "outputs": [
    {
     "name": "stdout",
     "output_type": "stream",
     "text": [
      "Plotting u.\n"
     ]
    },
    {
     "data": {
      "image/png": "[encoded data removed]",
      "text/plain": [
       "<Figure size 432x288 with 2 Axes>"
      ]
     },
     "metadata": {},
     "output_type": "display_data"
    }
   ],
   "source": [
    "test = ds_pwN_dim.sum(dim='mode', keep_attrs=True)\n",
    "# test = ds_cN.isel(mode=0)\n",
    "var='u'\n",
    "t=1\n",
    "fig = rt.plotCont(test, var=var, t=t)[0]\n",
    "\n",
    "plt.savefig('/home/student.unimelb.edu.au/shorte1/Documents/phd/confirmation/soln_{}_{}.png'.format(var, t), \n",
    "            dpi=200, bbox_inches='tight', facecolor='white')"
   ]
  },
  {
   "cell_type": "code",
   "execution_count": 179,
   "metadata": {
    "ExecuteTime": {
     "end_time": "2022-03-11T01:11:14.087276Z",
     "start_time": "2022-03-11T01:11:13.679131Z"
    }
   },
   "outputs": [
    {
     "name": "stdout",
     "output_type": "stream",
     "text": [
      "Plotting velocity.\n"
     ]
    },
    {
     "data": {
      "image/png": "[encoded data removed]",
      "text/plain": [
       "<Figure size 432x288 with 2 Axes>"
      ]
     },
     "metadata": {},
     "output_type": "display_data"
    }
   ],
   "source": [
    "test = ds_pwN_dim.sum(dim='mode', keep_attrs=True)\n",
    "# test = ds_pwN.isel(mode=0)\n",
    "# test[var].attrs['units'] = '-'\n",
    "t=5\n",
    "fig = rt.plotVelocity(test, t=t)[0]\n",
    "\n",
    "plt.savefig('/home/student.unimelb.edu.au/shorte1/Documents/phd/confirmation/soln_{}_{}.png'.format('vel', t), \n",
    "            dpi=200, bbox_inches='tight', facecolor='white')\n",
    "# rt.plotCont(ds_rotunno, var='u',t=8); plt.show()\n",
    "# rt.plotCont(ds_test.sum(dim='mode', keep_attrs=True).squeeze(), var='u',t=0); plt.show()\n",
    "# rt.plotCont(ds_pwN_dim.sel(mode=[1,2]).sum(dim='mode', keep_attrs=True).squeeze(), var='psi',t=1); plt.show()\n",
    "# rt.plotVelocity(ds_rotunno_dim,t=8); plt.show() "
   ]
  },
  {
   "cell_type": "code",
   "execution_count": 29,
   "metadata": {
    "ExecuteTime": {
     "end_time": "2022-03-17T00:58:40.679209Z",
     "start_time": "2022-03-17T00:58:40.653413Z"
    }
   },
   "outputs": [],
   "source": [
    "def plot_hov(ds, x=1000e3, var='u', signed=True, cmap='RdBu_r'):\n",
    "    ds_cs = ds[var].sum(dim='mode', keep_attrs=True).squeeze()\n",
    "    ds_cs = ds_cs.sel(x=x, method='nearest')\n",
    "    \n",
    "    fig, ax = plt.subplots()\n",
    "\n",
    "    varMin = np.min(ds_cs)\n",
    "    varMax = np.max(ds_cs)\n",
    "\n",
    "    abs_max = np.max([np.abs(varMin), np.abs(varMax)])\n",
    "\n",
    "    if signed:\n",
    "        varInc = abs_max/10\n",
    "        levels = np.arange(-abs_max, abs_max+varInc, varInc)\n",
    "    else:\n",
    "        varInc = (varMax-varMin)/10\n",
    "        levels = np.arange(varMin, varMax+varInc, varInc)\n",
    "\n",
    "    try:\n",
    "        if ds_cs.z.attrs['units'] == 'm':\n",
    "            z = ds.z/1000\n",
    "            t = ds.t/3600\n",
    "            plt.xlabel('Time [hour]')\n",
    "            plt.ylabel('Height [km]')\n",
    "        else:\n",
    "            z = ds.z\n",
    "            t = ds.t\n",
    "            plt.xlabel('Time [' + ds.t.attrs['units'] + ']')\n",
    "            plt.ylabel('Height [' + ds.z.attrs['units'] + ']')\n",
    "    except:\n",
    "        for var in ds_cs.keys():\n",
    "            ds_cs[var].attrs['units'] = '?'\n",
    "\n",
    "    contourPlot = plt.contourf(\n",
    "        np.concatenate([t,t+24,[48]]), z, \n",
    "        np.concatenate([\n",
    "            ds_cs.values.T, \n",
    "            ds_cs.values.T, \n",
    "            ds_cs.values.T[:,[0]]], axis=1),\n",
    "        levels=levels, cmap=cmap)\n",
    "\n",
    "    cbar = plt.colorbar(contourPlot)\n",
    "    cbar.set_label('[' + ds[var].attrs['units'] + ']')\n",
    "    plt.title(var + ' [' + ds[var].attrs['units'] + ']')\n",
    "    dt = 6\n",
    "    plt.xticks(np.arange(0,48+dt,dt))\n",
    "    fig.patch.set_facecolor('white')"
   ]
  },
  {
   "cell_type": "code",
   "execution_count": 41,
   "metadata": {
    "ExecuteTime": {
     "end_time": "2022-03-17T01:00:45.948407Z",
     "start_time": "2022-03-17T01:00:45.608663Z"
    }
   },
   "outputs": [
    {
     "data": {
      "image/png": "[encoded data removed]",
      "text/plain": [
       "<Figure size 432x288 with 2 Axes>"
      ]
     },
     "metadata": {},
     "output_type": "display_data"
    }
   ],
   "source": [
    "plot_hov(ds_cN_dim, x=-2500e3, var='u')\n",
    "plt.savefig(\n",
    "    './hov.png'.format(var, t), \n",
    "    dpi=200, bbox_inches='tight', facecolor='white')"
   ]
  },
  {
   "cell_type": "code",
   "execution_count": 9,
   "metadata": {
    "ExecuteTime": {
     "end_time": "2020-08-13T07:27:57.952541Z",
     "start_time": "2020-08-13T07:27:57.940014Z"
    }
   },
   "outputs": [
    {
     "ename": "NameError",
     "evalue": "name 'ds_pwN_dim' is not defined",
     "output_type": "error",
     "traceback": [
      "\u001b[0;31m---------------------------------------------------------------------------\u001b[0m",
      "\u001b[0;31mNameError\u001b[0m                                 Traceback (most recent call last)",
      "\u001b[0;32m<ipython-input-9-8e77e2284946>\u001b[0m in \u001b[0;36m<module>\u001b[0;34m\u001b[0m\n\u001b[1;32m      1\u001b[0m \u001b[0mg\u001b[0m\u001b[0;34m=\u001b[0m\u001b[0;36m9.807\u001b[0m\u001b[0;34m\u001b[0m\u001b[0;34m\u001b[0m\u001b[0m\n\u001b[0;32m----> 2\u001b[0;31m \u001b[0mds_pwN_dim\u001b[0m\u001b[0;34m[\u001b[0m\u001b[0;34m'theta_q'\u001b[0m\u001b[0;34m]\u001b[0m \u001b[0;34m=\u001b[0m \u001b[0;34m(\u001b[0m\u001b[0mds_pwN_dim\u001b[0m\u001b[0;34m.\u001b[0m\u001b[0mbq\u001b[0m\u001b[0;34m)\u001b[0m\u001b[0;34m*\u001b[0m\u001b[0mtheta0\u001b[0m\u001b[0;34m/\u001b[0m\u001b[0mg\u001b[0m\u001b[0;34m\u001b[0m\u001b[0;34m\u001b[0m\u001b[0m\n\u001b[0m\u001b[1;32m      3\u001b[0m \u001b[0mds_pwN_dim\u001b[0m\u001b[0;34m[\u001b[0m\u001b[0;34m'theta_w'\u001b[0m\u001b[0;34m]\u001b[0m \u001b[0;34m=\u001b[0m \u001b[0;34m(\u001b[0m\u001b[0mds_pwN_dim\u001b[0m\u001b[0;34m.\u001b[0m\u001b[0mbw\u001b[0m\u001b[0;34m)\u001b[0m\u001b[0;34m*\u001b[0m\u001b[0mtheta0\u001b[0m\u001b[0;34m/\u001b[0m\u001b[0mg\u001b[0m\u001b[0;34m\u001b[0m\u001b[0;34m\u001b[0m\u001b[0m\n\u001b[1;32m      4\u001b[0m \u001b[0mds_pwN_dim\u001b[0m\u001b[0;34m[\u001b[0m\u001b[0;34m'theta_q'\u001b[0m\u001b[0;34m]\u001b[0m\u001b[0;34m.\u001b[0m\u001b[0mattrs\u001b[0m\u001b[0;34m[\u001b[0m\u001b[0;34m'units'\u001b[0m\u001b[0;34m]\u001b[0m \u001b[0;34m=\u001b[0m \u001b[0;34m'K'\u001b[0m\u001b[0;34m\u001b[0m\u001b[0;34m\u001b[0m\u001b[0m\n\u001b[1;32m      5\u001b[0m \u001b[0mds_pwN_dim\u001b[0m\u001b[0;34m[\u001b[0m\u001b[0;34m'theta_w'\u001b[0m\u001b[0;34m]\u001b[0m\u001b[0;34m.\u001b[0m\u001b[0mattrs\u001b[0m\u001b[0;34m[\u001b[0m\u001b[0;34m'units'\u001b[0m\u001b[0;34m]\u001b[0m \u001b[0;34m=\u001b[0m \u001b[0;34m'K'\u001b[0m\u001b[0;34m\u001b[0m\u001b[0;34m\u001b[0m\u001b[0m\n",
      "\u001b[0;31mNameError\u001b[0m: name 'ds_pwN_dim' is not defined"
     ]
    }
   ],
   "source": [
    "g=9.807\n",
    "ds_pwN_dim['theta_q'] = (ds_pwN_dim.bq)*theta0/g\n",
    "ds_pwN_dim['theta_w'] = (ds_pwN_dim.bw)*theta0/g\n",
    "ds_pwN_dim['theta_q'].attrs['units'] = 'K'\n",
    "ds_pwN_dim['theta_w'].attrs['units'] = 'K'"
   ]
  },
  {
   "cell_type": "code",
   "execution_count": 30,
   "metadata": {
    "ExecuteTime": {
     "end_time": "2022-03-09T09:06:11.619697Z",
     "start_time": "2022-03-09T09:06:10.373738Z"
    }
   },
   "outputs": [],
   "source": [
    "H1 = 4\n",
    "# H2 = 10\n",
    "N = 4\n",
    "k = 4\n",
    "A0 = 1\n",
    "m = k/A0\n",
    "delta = 0.01\n",
    "H2 = np.arange(H1+delta,H1+1, delta)\n",
    "X, Y = continuous_N_helpers.calc_coefficients(k,N,H1,H2,1)[:2]\n",
    "P = (X-Y)*np.exp(-1j*m*H1)+(X+Y)*np.exp(1j*m*H1)\n",
    "B1 = (X-Y)*np.exp(-1j*m*H1)/P\n",
    "B2 = (X+Y)*np.exp(1j*m*H1)/P\n",
    "\n",
    "f1 = (N+1)*np.exp(-1j*m*H1)\n",
    "f2 = (1-N)*np.exp(1j*m*H1)\n",
    "P = f1+f2\n",
    "F1 = f1/P\n",
    "F2 = f2/P"
   ]
  },
  {
   "cell_type": "code",
   "execution_count": 31,
   "metadata": {
    "ExecuteTime": {
     "end_time": "2022-03-09T09:06:13.905498Z",
     "start_time": "2022-03-09T09:06:13.722499Z"
    }
   },
   "outputs": [
    {
     "data": {
      "text/plain": [
       "<matplotlib.legend.Legend at 0x7f83644b8340>"
      ]
     },
     "execution_count": 31,
     "metadata": {},
     "output_type": "execute_result"
    },
    {
     "data": {
      "image/png": "[encoded data removed]",
      "text/plain": [
       "<Figure size 432x288 with 1 Axes>"
      ]
     },
     "metadata": {
      "needs_background": "light"
     },
     "output_type": "display_data"
    }
   ],
   "source": [
    "plt.plot(H2, np.real(B1), label='re B1')\n",
    "plt.plot(H2, np.imag(B1), label='im B1')\n",
    "plt.plot(H2, [np.real(F1)]*len(H2), label='re F1')\n",
    "plt.plot(H2, [np.imag(F1)]*len(H2), label='im F1')\n",
    "plt.legend()"
   ]
  },
  {
   "cell_type": "code",
   "execution_count": null,
   "metadata": {},
   "outputs": [],
   "source": []
  },
  {
   "cell_type": "code",
   "execution_count": 147,
   "metadata": {
    "ExecuteTime": {
     "end_time": "2019-11-28T06:29:22.345854Z",
     "start_time": "2019-11-28T06:29:22.341330Z"
    }
   },
   "outputs": [],
   "source": [
    "ds_qian_dim['theta_pert_q'] = ds_qian_dim.bq*300/9.807\n",
    "ds_qian_dim.theta_pert_q.attrs['units'] = 'K'\n",
    "# ds_rotunno_dim['theta_pert_w'] = ds_rotunno_dim.bw*300/9.807\n",
    "# ds_rotunno_dim.theta_pert_w.attrs['units'] = 'K'"
   ]
  },
  {
   "cell_type": "markdown",
   "metadata": {},
   "source": [
    "## Piecewise N Derivation"
   ]
  },
  {
   "cell_type": "code",
   "execution_count": 5,
   "metadata": {
    "ExecuteTime": {
     "end_time": "2020-01-07T05:28:45.958270Z",
     "start_time": "2020-01-07T05:28:45.938670Z"
    }
   },
   "outputs": [
    {
     "ename": "TypeError",
     "evalue": "ufunc 'pbdv' not supported for the input types, and the inputs could not be safely coerced to any supported types according to the casting rule ''safe''",
     "output_type": "error",
     "traceback": [
      "\u001b[0;31m---------------------------------------------------------------------------\u001b[0m",
      "\u001b[0;31mTypeError\u001b[0m                                 Traceback (most recent call last)",
      "\u001b[0;32m<ipython-input-5-bf2c08063bc4>\u001b[0m in \u001b[0;36m<module>\u001b[0;34m\u001b[0m\n\u001b[1;32m      1\u001b[0m \u001b[0mx\u001b[0m\u001b[0;34m=\u001b[0m\u001b[0mnp\u001b[0m\u001b[0;34m.\u001b[0m\u001b[0mlinspace\u001b[0m\u001b[0;34m(\u001b[0m\u001b[0;36m0.0001\u001b[0m\u001b[0;34m,\u001b[0m\u001b[0;36m10\u001b[0m\u001b[0;34m,\u001b[0m\u001b[0;36m1000\u001b[0m\u001b[0;34m)\u001b[0m\u001b[0;34m*\u001b[0m\u001b[0;36m1j\u001b[0m\u001b[0;34m\u001b[0m\u001b[0;34m\u001b[0m\u001b[0m\n\u001b[0;32m----> 2\u001b[0;31m \u001b[0my\u001b[0m \u001b[0;34m=\u001b[0m \u001b[0msp\u001b[0m\u001b[0;34m.\u001b[0m\u001b[0mspecial\u001b[0m\u001b[0;34m.\u001b[0m\u001b[0mpbdv\u001b[0m\u001b[0;34m(\u001b[0m\u001b[0;34m-\u001b[0m\u001b[0;36m1\u001b[0m\u001b[0;34m/\u001b[0m\u001b[0;36m2\u001b[0m\u001b[0;34m,\u001b[0m \u001b[0mx\u001b[0m\u001b[0;34m)\u001b[0m\u001b[0;34m[\u001b[0m\u001b[0;36m0\u001b[0m\u001b[0;34m]\u001b[0m\u001b[0;34m\u001b[0m\u001b[0;34m\u001b[0m\u001b[0m\n\u001b[0m\u001b[1;32m      3\u001b[0m \u001b[0mplt\u001b[0m\u001b[0;34m.\u001b[0m\u001b[0mplot\u001b[0m\u001b[0;34m(\u001b[0m\u001b[0mx\u001b[0m\u001b[0;34m,\u001b[0m\u001b[0my\u001b[0m\u001b[0;34m)\u001b[0m\u001b[0;34m\u001b[0m\u001b[0;34m\u001b[0m\u001b[0m\n",
      "\u001b[0;31mTypeError\u001b[0m: ufunc 'pbdv' not supported for the input types, and the inputs could not be safely coerced to any supported types according to the casting rule ''safe''"
     ]
    }
   ],
   "source": []
  },
  {
   "cell_type": "code",
   "execution_count": 47,
   "metadata": {
    "ExecuteTime": {
     "end_time": "2020-01-07T05:51:19.427034Z",
     "start_time": "2020-01-07T05:51:18.738029Z"
    }
   },
   "outputs": [
    {
     "data": {
      "text/plain": [
       "[<matplotlib.lines.Line2D at 0x7fc26fd49be0>]"
      ]
     },
     "execution_count": 47,
     "metadata": {},
     "output_type": "execute_result"
    },
    {
     "data": {
      "image/png": "[encoded data removed]",
      "text/plain": [
       "<Figure size 432x288 with 1 Axes>"
      ]
     },
     "metadata": {
      "needs_background": "light"
     },
     "output_type": "display_data"
    }
   ],
   "source": [
    "import mpmath\n",
    "x=np.linspace(0.0001,5,1000)\n",
    "pcfd_vec = np.frompyfunc(mpmath.pcfd,2,1)\n",
    "y = pcfd_vec(-1/2,x).astype(np.complex64)\n",
    "# y2 = sp.special.pbdv(-1/2,x)[0]\n",
    "plt.plot(x,y)"
   ]
  },
  {
   "cell_type": "code",
   "execution_count": 36,
   "metadata": {
    "ExecuteTime": {
     "end_time": "2019-12-15T04:14:13.712411Z",
     "start_time": "2019-12-15T04:14:13.708260Z"
    }
   },
   "outputs": [],
   "source": [
    "def calc_theta(s,alpha=3):\n",
    "    theta = (np.pi/2)*s**alpha\n",
    "    return theta\n",
    "\n",
    "def calc_k_3(theta,U):\n",
    "    k = 1/(U*(1-np.sin(theta)))\n",
    "    return k\n",
    "\n",
    "def calc_k_2(theta,U):\n",
    "    k = (1-np.sin(theta))/U\n",
    "    return k"
   ]
  },
  {
   "cell_type": "code",
   "execution_count": 119,
   "metadata": {
    "ExecuteTime": {
     "end_time": "2019-12-15T04:37:23.758779Z",
     "start_time": "2019-12-15T04:37:23.602646Z"
    }
   },
   "outputs": [
    {
     "name": "stderr",
     "output_type": "stream",
     "text": [
      "/home/student.unimelb.edu.au/shorte1/anaconda3/lib/python3.6/site-packages/numpy/core/numeric.py:492: ComplexWarning: Casting complex values to real discards the imaginary part\n",
      "  return array(a, dtype, copy=False, order=order)\n"
     ]
    },
    {
     "data": {
      "text/plain": [
       "(-1.963414600811998e-05-2.9551497637216226e-06j)"
      ]
     },
     "execution_count": 119,
     "metadata": {},
     "output_type": "execute_result"
    },
    {
     "data": {
      "image/png": "[encoded data removed]",
      "text/plain": [
       "<Figure size 432x288 with 1 Axes>"
      ]
     },
     "metadata": {},
     "output_type": "display_data"
    }
   ],
   "source": [
    "zet=11\n",
    "zetaT=10\n",
    "R=0.5\n",
    "sN=5000\n",
    "s=np.arange(1/sN,1,1/sN)\n",
    "theta=calc_theta(s,alpha=1)\n",
    "k2=calc_k_2(theta,2*np.pi)\n",
    "k3=calc_k_3(theta,2*np.pi)\n",
    "k=10*np.tan(theta)\n",
    "# plt.plot(s,k2)\n",
    "# plt.plot(s[0:790],10*np.tan(theta)[0:790],'.')\n",
    "test=np.exp((1j*k-1)*zet)/k/(k**2+1)*(-np.sin(k*zet)*np.exp(1j*k/R*(zet-zetaT))+np.sin(k*zetaT)*np.exp(1j*k/R*(zetaT-zet)))\n",
    "plt.plot(theta,test)\n",
    "np.trapz(k,test)"
   ]
  },
  {
   "cell_type": "code",
   "execution_count": 23,
   "metadata": {
    "ExecuteTime": {
     "end_time": "2019-12-15T07:31:47.913931Z",
     "start_time": "2019-12-15T07:31:47.664076Z"
    }
   },
   "outputs": [],
   "source": [
    "from sympy import *"
   ]
  },
  {
   "cell_type": "code",
   "execution_count": 29,
   "metadata": {
    "ExecuteTime": {
     "end_time": "2019-12-15T07:34:45.016220Z",
     "start_time": "2019-12-15T07:34:45.004087Z"
    }
   },
   "outputs": [],
   "source": [
    "zet, zetap, L, zetaT, N1, N2, k, R, x = symbols('zeta zetap L zetaT N1 N2 k R x', real=True)\n",
    "test = -1/k/(k**2+1)*exp(-L*k)/2*((-exp(-zet)*(sin(k*zet)+k*cos(k*zet))+k)*exp(-1j*k/R*zet)*exp(-1j*zetaT*(k-k/R)) - (1j*k-1)*exp((-1j*k-1)*zet)*sin(k*zetaT)*exp(-1j*k/R*zetaT)*exp(+1j*k/R*zet))"
   ]
  },
  {
   "cell_type": "code",
   "execution_count": 31,
   "metadata": {
    "ExecuteTime": {
     "end_time": "2019-12-15T07:34:57.912360Z",
     "start_time": "2019-12-15T07:34:57.680018Z"
    }
   },
   "outputs": [],
   "source": [
    "init_printing()"
   ]
  },
  {
   "cell_type": "code",
   "execution_count": 33,
   "metadata": {
    "ExecuteTime": {
     "end_time": "2019-12-15T07:35:15.741545Z",
     "start_time": "2019-12-15T07:35:13.177436Z"
    }
   },
   "outputs": [
    {
     "data": {
      "image/png": "[encoded data removed]",
      "text/latex": [
       "$$\\frac{1}{2 R k \\left(k^{2} + 1\\right)} \\left(- R \\left(k^{2} + 1\\right) e^{\\frac{1}{R} \\left(2 R \\zeta \\left(1.0 i k + 1\\right) + R \\zeta + 1.0 i k \\zeta + 1.0 i k zetaT \\left(R - 1\\right) + 2.0 i k zetaT\\right)} \\sin{\\left (k \\zeta \\right )} - R \\left(1.0 i k - 1\\right) \\left(1.0 i k + 1\\right) e^{\\frac{1}{R} \\left(R \\zeta \\left(1.0 i k + 1\\right) + 2 R \\zeta + 3.0 i k \\zeta + 2.0 i k zetaT \\left(R - 1\\right) + 1.0 i k zetaT\\right)} \\sin{\\left (k zetaT \\right )} + i k \\left(1.0 i k - 1\\right) e^{\\frac{1}{R} \\left(R \\zeta \\left(1.0 i k + 1\\right) + 2 R \\zeta + 3.0 i k \\zeta + 2.0 i k zetaT \\left(R - 1\\right) + 1.0 i k zetaT\\right)} \\sin{\\left (k zetaT \\right )} + i k \\left(k e^{\\zeta} - k \\cos{\\left (k \\zeta \\right )} - \\sin{\\left (k \\zeta \\right )}\\right) e^{\\frac{1}{R} \\left(2 R \\zeta \\left(1.0 i k + 1\\right) + R \\zeta + 1.0 i k \\zeta + 1.0 i k zetaT \\left(R - 1\\right) + 2.0 i k zetaT\\right)}\\right) e^{\\frac{1}{R} \\left(- L R k - 2 R \\zeta \\left(1.0 i k + 1\\right) - 2 R \\zeta - 2.0 i k \\zeta - 2.0 i k zetaT \\left(R - 1\\right) - 2.0 i k zetaT\\right)}$$"
      ],
      "text/plain": [
       "⎛              2⋅R⋅ζ⋅(1.0⋅ⅈ⋅k + 1) + R⋅ζ + 1.0⋅ⅈ⋅k⋅ζ + 1.0⋅ⅈ⋅k⋅zetaT⋅(R - 1) +\n",
       "⎜              ───────────────────────────────────────────────────────────────\n",
       "⎜    ⎛ 2    ⎞                                        R                        \n",
       "⎝- R⋅⎝k  + 1⎠⋅ℯ                                                               \n",
       "──────────────────────────────────────────────────────────────────────────────\n",
       "                                                                              \n",
       "                                                                              \n",
       "\n",
       " 2.0⋅ⅈ⋅k⋅zetaT                                           R⋅ζ⋅(1.0⋅ⅈ⋅k + 1) + 2\n",
       "──────────────                                           ─────────────────────\n",
       "                                                                              \n",
       "              ⋅sin(k⋅ζ) - R⋅(1.0⋅ⅈ⋅k - 1)⋅(1.0⋅ⅈ⋅k + 1)⋅ℯ                     \n",
       "──────────────────────────────────────────────────────────────────────────────\n",
       "                                                                              \n",
       "                                                                              \n",
       "\n",
       "⋅R⋅ζ + 3.0⋅ⅈ⋅k⋅ζ + 2.0⋅ⅈ⋅k⋅zetaT⋅(R - 1) + 1.0⋅ⅈ⋅k⋅zetaT                      \n",
       "────────────────────────────────────────────────────────                      \n",
       "                 R                                                            \n",
       "                                                        ⋅sin(k⋅zetaT) + ⅈ⋅k⋅(1\n",
       "──────────────────────────────────────────────────────────────────────────────\n",
       "                                                                              \n",
       "                                                                              \n",
       "\n",
       "             R⋅ζ⋅(1.0⋅ⅈ⋅k + 1) + 2⋅R⋅ζ + 3.0⋅ⅈ⋅k⋅ζ + 2.0⋅ⅈ⋅k⋅zetaT⋅(R - 1) + 1\n",
       "             ─────────────────────────────────────────────────────────────────\n",
       "                                                   R                          \n",
       ".0⋅ⅈ⋅k - 1)⋅ℯ                                                                 \n",
       "──────────────────────────────────────────────────────────────────────────────\n",
       "                                     ⎛ 2    ⎞                                 \n",
       "                               2⋅R⋅k⋅⎝k  + 1⎠                                 \n",
       "\n",
       ".0⋅ⅈ⋅k⋅zetaT                                                    2⋅R⋅ζ⋅(1.0⋅ⅈ⋅k\n",
       "────────────                                                    ──────────────\n",
       "                                ⎛   ζ                        ⎞                \n",
       "            ⋅sin(k⋅zetaT) + ⅈ⋅k⋅⎝k⋅ℯ  - k⋅cos(k⋅ζ) - sin(k⋅ζ)⎠⋅ℯ              \n",
       "──────────────────────────────────────────────────────────────────────────────\n",
       "                                                                              \n",
       "                                                                              \n",
       "\n",
       " + 1) + R⋅ζ + 1.0⋅ⅈ⋅k⋅ζ + 1.0⋅ⅈ⋅k⋅zetaT⋅(R - 1) + 2.0⋅ⅈ⋅k⋅zetaT⎞  -L⋅R⋅k - 2⋅R\n",
       "───────────────────────────────────────────────────────────────⎟  ────────────\n",
       "                        R                                      ⎟              \n",
       "                                                               ⎠⋅ℯ            \n",
       "──────────────────────────────────────────────────────────────────────────────\n",
       "                                                                              \n",
       "                                                                              \n",
       "\n",
       "⋅ζ⋅(1.0⋅ⅈ⋅k + 1) - 2⋅R⋅ζ - 2.0⋅ⅈ⋅k⋅ζ - 2.0⋅ⅈ⋅k⋅zetaT⋅(R - 1) - 2.0⋅ⅈ⋅k⋅zetaT\n",
       "────────────────────────────────────────────────────────────────────────────\n",
       "                               R                                            \n",
       "                                                                            \n",
       "────────────────────────────────────────────────────────────────────────────\n",
       "                                                                            \n",
       "                                                                            "
      ]
     },
     "execution_count": 33,
     "metadata": {},
     "output_type": "execute_result"
    }
   ],
   "source": [
    "simplify(diff(test,zet))"
   ]
  },
  {
   "cell_type": "code",
   "execution_count": 32,
   "metadata": {
    "ExecuteTime": {
     "end_time": "2019-12-15T07:35:00.998882Z",
     "start_time": "2019-12-15T07:34:58.582944Z"
    }
   },
   "outputs": [
    {
     "data": {
      "text/plain": [
       "'(-R*(k**2 + 1)*np.exp((2*R*zeta*(1.0*1j*k + 1) + R*zeta + 1.0*1j*k*zeta + 1.0*1j*k*zetaT*(R - 1) + 2.0*1j*k*zetaT)/R)*np.sin(k*zeta) - R*(1.0*1j*k - 1)*(1.0*1j*k + 1)*np.exp((R*zeta*(1.0*1j*k + 1) + 2*R*zeta + 3.0*1j*k*zeta + 2.0*1j*k*zetaT*(R - 1) + 1.0*1j*k*zetaT)/R)*np.sin(k*zetaT) + 1j*k*(1.0*1j*k - 1)*np.exp((R*zeta*(1.0*1j*k + 1) + 2*R*zeta + 3.0*1j*k*zeta + 2.0*1j*k*zetaT*(R - 1) + 1.0*1j*k*zetaT)/R)*np.sin(k*zetaT) + 1j*k*(k*np.exp(zeta) - k*np.cos(k*zeta) - np.sin(k*zeta))*np.exp((2*R*zeta*(1.0*1j*k + 1) + R*zeta + 1.0*1j*k*zeta + 1.0*1j*k*zetaT*(R - 1) + 2.0*1j*k*zetaT)/R))*np.exp((-L*R*k - 2*R*zeta*(1.0*1j*k + 1) - 2*R*zeta - 2.0*1j*k*zeta - 2.0*1j*k*zetaT*(R - 1) - 2.0*1j*k*zetaT)/R)/(2*R*k*(k**2 + 1))'"
      ]
     },
     "execution_count": 32,
     "metadata": {},
     "output_type": "execute_result"
    }
   ],
   "source": [
    "str(simplify(diff(test,zet))).replace('I','1j').replace('exp','np.exp').replace('sin','np.sin').replace('cos','np.cos')"
   ]
  },
  {
   "cell_type": "code",
   "execution_count": 41,
   "metadata": {
    "ExecuteTime": {
     "end_time": "2019-12-13T10:39:23.165433Z",
     "start_time": "2019-12-13T10:39:23.148227Z"
    }
   },
   "outputs": [],
   "source": [
    "import numpy as np\n",
    "zet=20 \n",
    "L=0.1\n",
    "R=0.4\n",
    "k = np.arange(1/2000, 30, 1/2000)\n",
    "test = 1j*R/(2*k)*(1/2)*np.exp(-L*k)*(1j*k/R-1)/((k/R)**2+1)*np.exp(1j*k/R*zet)"
   ]
  },
  {
   "cell_type": "code",
   "execution_count": 42,
   "metadata": {
    "ExecuteTime": {
     "end_time": "2019-12-13T10:39:23.585125Z",
     "start_time": "2019-12-13T10:39:23.576595Z"
    }
   },
   "outputs": [
    {
     "data": {
      "text/plain": [
       "(-0.15686023413330158+0.42422161081643533j)"
      ]
     },
     "execution_count": 42,
     "metadata": {},
     "output_type": "execute_result"
    }
   ],
   "source": [
    "np.trapz(k, test)"
   ]
  },
  {
   "cell_type": "markdown",
   "metadata": {
    "heading_collapsed": true
   },
   "source": [
    "## Channel Testing"
   ]
  },
  {
   "cell_type": "code",
   "execution_count": 88,
   "metadata": {
    "ExecuteTime": {
     "end_time": "2019-12-03T01:16:03.021708Z",
     "start_time": "2019-12-03T01:16:03.011343Z"
    },
    "hidden": true
   },
   "outputs": [],
   "source": [
    "alpha=3\n",
    "d=4\n",
    "zeta=0\n",
    "xi = np.linspace(-3,3,1000)\n",
    "H = (1-1/(2**alpha)*(1-np.cos(2*np.pi*xi/d))**alpha)*np.heaviside(d/2-xi,0)*np.heaviside(d/2+xi,0)\n",
    "\n",
    "dH = -np.pi*np.heaviside(d/2+xi,0)*np.sin(2*np.pi*xi/d)*np.heaviside(d/2-xi,0)/d\n",
    "dH_alt = np.diff(H)/np.diff(xi)\n",
    "\n",
    "dH2 = dH*(np.cos(2*np.pi*xi/d)-1)**2*3/4"
   ]
  },
  {
   "cell_type": "code",
   "execution_count": 160,
   "metadata": {
    "ExecuteTime": {
     "end_time": "2019-12-03T03:10:48.081323Z",
     "start_time": "2019-12-03T03:10:48.075736Z"
    },
    "hidden": true
   },
   "outputs": [],
   "source": [
    "def calc_psi1(xi,zeta,tau,k,U,d,sigma,r):\n",
    "    m=k/(1+k*U)\n",
    "    psi1 = (-4*np.pi*1j*sigma/2*np.sin(d*k/2)/(k**2+1)\n",
    "            *(np.exp(1j*m*zeta)-np.exp(-zeta))\n",
    "            *np.exp(1j*(k*xi+tau))*r(k,d))\n",
    "    return psi1\n",
    "\n",
    "def r3(k,d):\n",
    "    r3 = (3*(d**4*k**4-40*np.pi**2*d**2*k**2+264*np.pi**4)\n",
    "          /((2*np.pi-d*k)*(2*np.pi+d*k)\n",
    "            *(4*np.pi-d*k)*(4*np.pi+d*k)\n",
    "            *(6*np.pi-d*k)*(6*np.pi+d*k)))\n",
    "    return r3"
   ]
  },
  {
   "cell_type": "code",
   "execution_count": 208,
   "metadata": {
    "ExecuteTime": {
     "end_time": "2019-12-03T05:10:39.334218Z",
     "start_time": "2019-12-03T05:10:39.323560Z"
    },
    "hidden": true
   },
   "outputs": [],
   "source": [
    "xi=np.linspace(-5,5,1000)\n",
    "L=.01\n",
    "d=4\n",
    "H1 = 1/np.pi*(np.pi/2+np.arctan((xi+d/2)/L))\n",
    "H2 = 1/np.pi*(np.pi/2+np.arctan((-xi+d/2)/L))\n",
    "H3 = (H1+H2-2)"
   ]
  },
  {
   "cell_type": "code",
   "execution_count": 209,
   "metadata": {
    "ExecuteTime": {
     "end_time": "2019-12-03T05:10:39.671236Z",
     "start_time": "2019-12-03T05:10:39.544345Z"
    },
    "hidden": true
   },
   "outputs": [
    {
     "data": {
      "text/plain": [
       "[<matplotlib.lines.Line2D at 0x7f16f040e4a8>]"
      ]
     },
     "execution_count": 209,
     "metadata": {},
     "output_type": "execute_result"
    },
    {
     "data": {
      "image/png": "[encoded data removed]",
      "text/plain": [
       "<Figure size 432x288 with 1 Axes>"
      ]
     },
     "metadata": {},
     "output_type": "display_data"
    }
   ],
   "source": [
    "# plt.plot(xi,H1)\n",
    "# plt.plot(xi,H2)\n",
    "plt.plot(xi,H3)"
   ]
  },
  {
   "cell_type": "code",
   "execution_count": 108,
   "metadata": {
    "ExecuteTime": {
     "end_time": "2019-12-03T01:17:46.256628Z",
     "start_time": "2019-12-03T01:17:46.249477Z"
    },
    "hidden": true
   },
   "outputs": [],
   "source": [
    "k = np.linspace(0,5,5000)\n",
    "p = calc_psi1(.1,.5,0,k,0,6,3,r3)"
   ]
  },
  {
   "cell_type": "code",
   "execution_count": 109,
   "metadata": {
    "ExecuteTime": {
     "end_time": "2019-12-03T01:17:46.590761Z",
     "start_time": "2019-12-03T01:17:46.484748Z"
    },
    "hidden": true
   },
   "outputs": [
    {
     "name": "stderr",
     "output_type": "stream",
     "text": [
      "/home/student.unimelb.edu.au/shorte1/anaconda3/lib/python3.6/site-packages/numpy/core/numeric.py:492: ComplexWarning: Casting complex values to real discards the imaginary part\n",
      "  return array(a, dtype, copy=False, order=order)\n"
     ]
    },
    {
     "data": {
      "text/plain": [
       "[<matplotlib.lines.Line2D at 0x7f16fdd1a550>]"
      ]
     },
     "execution_count": 109,
     "metadata": {},
     "output_type": "execute_result"
    },
    {
     "data": {
      "image/png": "[encoded data removed]",
      "text/plain": [
       "<Figure size 432x288 with 1 Axes>"
      ]
     },
     "metadata": {},
     "output_type": "display_data"
    }
   ],
   "source": [
    "plt.plot(k,H)\n",
    "plt.plot([2*np.pi/6,2*np.pi/6],[-.5,.5])"
   ]
  },
  {
   "cell_type": "code",
   "execution_count": 73,
   "metadata": {
    "ExecuteTime": {
     "end_time": "2019-12-03T01:02:27.549102Z",
     "start_time": "2019-12-03T01:02:27.533589Z"
    },
    "hidden": true
   },
   "outputs": [
    {
     "name": "stdout",
     "output_type": "stream",
     "text": [
      "Invalid choice of sigma. \n",
      "sigma should be an int between 1 and 5. \n",
      "Defaulting to sigma = 2.\n"
     ]
    },
    {
     "data": {
      "text/plain": [
       "20"
      ]
     },
     "execution_count": 73,
     "metadata": {},
     "output_type": "execute_result"
    }
   ],
   "source": [
    "def r1(x):\n",
    "    return 10\n",
    "def r2(x):\n",
    "    return 20\n",
    "\n",
    "sigma=2\n",
    "\n",
    "# Choose sigma polynomail\n",
    "try:\n",
    "    r = eval('r' + str(sigma))\n",
    "except:\n",
    "    print(('Invalid choice of sigma. \\n'\n",
    "           + 'sigma should be an int between 1 and 5. \\n'\n",
    "           + 'Defaulting to sigma = 2.'))\n",
    "    sigma = 2\n",
    "    r = eval('r' + str(sigma))\n",
    "\n",
    "r(1)"
   ]
  },
  {
   "cell_type": "code",
   "execution_count": 76,
   "metadata": {
    "ExecuteTime": {
     "end_time": "2019-12-03T01:02:46.614985Z",
     "start_time": "2019-12-03T01:02:46.503311Z"
    },
    "hidden": true
   },
   "outputs": [
    {
     "data": {
      "text/plain": [
       "[<matplotlib.lines.Line2D at 0x7f16fdab0128>]"
      ]
     },
     "execution_count": 76,
     "metadata": {},
     "output_type": "execute_result"
    },
    {
     "data": {
      "image/png": "[encoded data removed]",
      "text/plain": [
       "<Figure size 432x288 with 1 Axes>"
      ]
     },
     "metadata": {},
     "output_type": "display_data"
    }
   ],
   "source": [
    "# plt.plot(xi,(H-1)*-1)\n",
    "# plt.plot(xi,dH)\n",
    "# plt.plot(xi[1:],dH_alt+1)\n",
    "plt.plot(xi,dH2)"
   ]
  },
  {
   "cell_type": "code",
   "execution_count": null,
   "metadata": {
    "hidden": true
   },
   "outputs": [],
   "source": []
  },
  {
   "cell_type": "code",
   "execution_count": 194,
   "metadata": {
    "ExecuteTime": {
     "end_time": "2019-12-03T03:32:46.454113Z",
     "start_time": "2019-12-03T03:32:46.201410Z"
    },
    "hidden": true
   },
   "outputs": [],
   "source": [
    "from sympy import *\n",
    "import sympy as sp"
   ]
  },
  {
   "cell_type": "code",
   "execution_count": 195,
   "metadata": {
    "ExecuteTime": {
     "end_time": "2019-12-03T03:32:46.989807Z",
     "start_time": "2019-12-03T03:32:46.981285Z"
    },
    "hidden": true
   },
   "outputs": [],
   "source": [
    "x, a, k, D= symbols('x a k D')"
   ]
  },
  {
   "cell_type": "code",
   "execution_count": 196,
   "metadata": {
    "ExecuteTime": {
     "end_time": "2019-12-03T03:32:48.005221Z",
     "start_time": "2019-12-03T03:32:47.770606Z"
    },
    "hidden": true
   },
   "outputs": [],
   "source": [
    "init_printing()"
   ]
  },
  {
   "cell_type": "code",
   "execution_count": 6,
   "metadata": {
    "ExecuteTime": {
     "end_time": "2019-12-01T03:10:07.861553Z",
     "start_time": "2019-12-01T03:08:07.821399Z"
    },
    "hidden": true
   },
   "outputs": [
    {
     "ename": "IntegralTransformError",
     "evalue": "non-unitary Transform could not be computed: could not compute integral.",
     "output_type": "error",
     "traceback": [
      "\u001b[0;31m---------------------------------------------------------------------------\u001b[0m",
      "\u001b[0;31mIntegralTransformError\u001b[0m                    Traceback (most recent call last)",
      "\u001b[0;32m<ipython-input-6-d1e735d7784d>\u001b[0m in \u001b[0;36m<module>\u001b[0;34m()\u001b[0m\n\u001b[0;32m----> 1\u001b[0;31m \u001b[0msp\u001b[0m\u001b[0;34m.\u001b[0m\u001b[0mtransforms\u001b[0m\u001b[0;34m.\u001b[0m\u001b[0m_fourier_transform\u001b[0m\u001b[0;34m(\u001b[0m\u001b[0mdHsym\u001b[0m\u001b[0;34m,\u001b[0m \u001b[0mx\u001b[0m\u001b[0;34m,\u001b[0m \u001b[0mk\u001b[0m\u001b[0;34m,\u001b[0m \u001b[0;36m1\u001b[0m\u001b[0;34m,\u001b[0m \u001b[0;34m-\u001b[0m\u001b[0;36m1\u001b[0m\u001b[0;34m,\u001b[0m \u001b[0;34m'non-unitary'\u001b[0m\u001b[0;34m,\u001b[0m\u001b[0msimplify\u001b[0m\u001b[0;34m=\u001b[0m\u001b[0;32mFalse\u001b[0m\u001b[0;34m)\u001b[0m\u001b[0;34m\u001b[0m\u001b[0m\n\u001b[0m",
      "\u001b[0;32m~/anaconda3/lib/python3.6/site-packages/sympy/integrals/transforms.py\u001b[0m in \u001b[0;36mwrapper\u001b[0;34m(*args, **kwargs)\u001b[0m\n\u001b[1;32m    193\u001b[0m         \u001b[0;32mdef\u001b[0m \u001b[0mwrapper\u001b[0m\u001b[0;34m(\u001b[0m\u001b[0;34m*\u001b[0m\u001b[0margs\u001b[0m\u001b[0;34m,\u001b[0m \u001b[0;34m**\u001b[0m\u001b[0mkwargs\u001b[0m\u001b[0;34m)\u001b[0m\u001b[0;34m:\u001b[0m\u001b[0;34m\u001b[0m\u001b[0m\n\u001b[1;32m    194\u001b[0m             \u001b[0mnoconds\u001b[0m \u001b[0;34m=\u001b[0m \u001b[0mkwargs\u001b[0m\u001b[0;34m.\u001b[0m\u001b[0mpop\u001b[0m\u001b[0;34m(\u001b[0m\u001b[0;34m'noconds'\u001b[0m\u001b[0;34m,\u001b[0m \u001b[0mdefault\u001b[0m\u001b[0;34m)\u001b[0m\u001b[0;34m\u001b[0m\u001b[0m\n\u001b[0;32m--> 195\u001b[0;31m             \u001b[0mres\u001b[0m \u001b[0;34m=\u001b[0m \u001b[0mfunc\u001b[0m\u001b[0;34m(\u001b[0m\u001b[0;34m*\u001b[0m\u001b[0margs\u001b[0m\u001b[0;34m,\u001b[0m \u001b[0;34m**\u001b[0m\u001b[0mkwargs\u001b[0m\u001b[0;34m)\u001b[0m\u001b[0;34m\u001b[0m\u001b[0m\n\u001b[0m\u001b[1;32m    196\u001b[0m             \u001b[0;32mif\u001b[0m \u001b[0mnoconds\u001b[0m\u001b[0;34m:\u001b[0m\u001b[0;34m\u001b[0m\u001b[0m\n\u001b[1;32m    197\u001b[0m                 \u001b[0;32mreturn\u001b[0m \u001b[0mres\u001b[0m\u001b[0;34m[\u001b[0m\u001b[0;36m0\u001b[0m\u001b[0;34m]\u001b[0m\u001b[0;34m\u001b[0m\u001b[0m\n",
      "\u001b[0;32m~/anaconda3/lib/python3.6/site-packages/sympy/integrals/transforms.py\u001b[0m in \u001b[0;36m_fourier_transform\u001b[0;34m(f, x, k, a, b, name, simplify)\u001b[0m\n\u001b[1;32m   1292\u001b[0m \u001b[0;34m\u001b[0m\u001b[0m\n\u001b[1;32m   1293\u001b[0m     \u001b[0;32mif\u001b[0m \u001b[0;32mnot\u001b[0m \u001b[0mF\u001b[0m\u001b[0;34m.\u001b[0m\u001b[0mis_Piecewise\u001b[0m\u001b[0;34m:\u001b[0m\u001b[0;34m\u001b[0m\u001b[0m\n\u001b[0;32m-> 1294\u001b[0;31m         \u001b[0;32mraise\u001b[0m \u001b[0mIntegralTransformError\u001b[0m\u001b[0;34m(\u001b[0m\u001b[0mname\u001b[0m\u001b[0;34m,\u001b[0m \u001b[0mf\u001b[0m\u001b[0;34m,\u001b[0m \u001b[0;34m'could not compute integral'\u001b[0m\u001b[0;34m)\u001b[0m\u001b[0;34m\u001b[0m\u001b[0m\n\u001b[0m\u001b[1;32m   1295\u001b[0m \u001b[0;34m\u001b[0m\u001b[0m\n\u001b[1;32m   1296\u001b[0m     \u001b[0mF\u001b[0m\u001b[0;34m,\u001b[0m \u001b[0mcond\u001b[0m \u001b[0;34m=\u001b[0m \u001b[0mF\u001b[0m\u001b[0;34m.\u001b[0m\u001b[0margs\u001b[0m\u001b[0;34m[\u001b[0m\u001b[0;36m0\u001b[0m\u001b[0;34m]\u001b[0m\u001b[0;34m\u001b[0m\u001b[0m\n",
      "\u001b[0;31mIntegralTransformError\u001b[0m: non-unitary Transform could not be computed: could not compute integral."
     ]
    }
   ],
   "source": [
    "sp.transforms._fourier_transform(dHsym, x, k, 1, -1, 'non-unitary',simplify=False)"
   ]
  },
  {
   "cell_type": "code",
   "execution_count": 197,
   "metadata": {
    "ExecuteTime": {
     "end_time": "2019-12-03T03:32:56.164400Z",
     "start_time": "2019-12-03T03:32:55.866544Z"
    },
    "hidden": true
   },
   "outputs": [
    {
     "ename": "TypeError",
     "evalue": "'>' not supported between instances of 'NoneType' and 'int'",
     "output_type": "error",
     "traceback": [
      "\u001b[0;31m---------------------------------------------------------------------------\u001b[0m",
      "\u001b[0;31mTypeError\u001b[0m                                 Traceback (most recent call last)",
      "\u001b[0;32m~/anaconda3/lib/python3.6/site-packages/IPython/core/formatters.py\u001b[0m in \u001b[0;36m__call__\u001b[0;34m(self, obj)\u001b[0m\n\u001b[1;32m    700\u001b[0m                 \u001b[0mtype_pprinters\u001b[0m\u001b[0;34m=\u001b[0m\u001b[0mself\u001b[0m\u001b[0;34m.\u001b[0m\u001b[0mtype_printers\u001b[0m\u001b[0;34m,\u001b[0m\u001b[0;34m\u001b[0m\u001b[0m\n\u001b[1;32m    701\u001b[0m                 deferred_pprinters=self.deferred_printers)\n\u001b[0;32m--> 702\u001b[0;31m             \u001b[0mprinter\u001b[0m\u001b[0;34m.\u001b[0m\u001b[0mpretty\u001b[0m\u001b[0;34m(\u001b[0m\u001b[0mobj\u001b[0m\u001b[0;34m)\u001b[0m\u001b[0;34m\u001b[0m\u001b[0m\n\u001b[0m\u001b[1;32m    703\u001b[0m             \u001b[0mprinter\u001b[0m\u001b[0;34m.\u001b[0m\u001b[0mflush\u001b[0m\u001b[0;34m(\u001b[0m\u001b[0;34m)\u001b[0m\u001b[0;34m\u001b[0m\u001b[0m\n\u001b[1;32m    704\u001b[0m             \u001b[0;32mreturn\u001b[0m \u001b[0mstream\u001b[0m\u001b[0;34m.\u001b[0m\u001b[0mgetvalue\u001b[0m\u001b[0;34m(\u001b[0m\u001b[0;34m)\u001b[0m\u001b[0;34m\u001b[0m\u001b[0m\n",
      "\u001b[0;32m~/anaconda3/lib/python3.6/site-packages/IPython/lib/pretty.py\u001b[0m in \u001b[0;36mpretty\u001b[0;34m(self, obj)\u001b[0m\n\u001b[1;32m    381\u001b[0m                 \u001b[0;32mif\u001b[0m \u001b[0mcls\u001b[0m \u001b[0;32min\u001b[0m \u001b[0mself\u001b[0m\u001b[0;34m.\u001b[0m\u001b[0mtype_pprinters\u001b[0m\u001b[0;34m:\u001b[0m\u001b[0;34m\u001b[0m\u001b[0m\n\u001b[1;32m    382\u001b[0m                     \u001b[0;31m# printer registered in self.type_pprinters\u001b[0m\u001b[0;34m\u001b[0m\u001b[0;34m\u001b[0m\u001b[0m\n\u001b[0;32m--> 383\u001b[0;31m                     \u001b[0;32mreturn\u001b[0m \u001b[0mself\u001b[0m\u001b[0;34m.\u001b[0m\u001b[0mtype_pprinters\u001b[0m\u001b[0;34m[\u001b[0m\u001b[0mcls\u001b[0m\u001b[0;34m]\u001b[0m\u001b[0;34m(\u001b[0m\u001b[0mobj\u001b[0m\u001b[0;34m,\u001b[0m \u001b[0mself\u001b[0m\u001b[0;34m,\u001b[0m \u001b[0mcycle\u001b[0m\u001b[0;34m)\u001b[0m\u001b[0;34m\u001b[0m\u001b[0m\n\u001b[0m\u001b[1;32m    384\u001b[0m                 \u001b[0;32melse\u001b[0m\u001b[0;34m:\u001b[0m\u001b[0;34m\u001b[0m\u001b[0m\n\u001b[1;32m    385\u001b[0m                     \u001b[0;31m# deferred printer\u001b[0m\u001b[0;34m\u001b[0m\u001b[0;34m\u001b[0m\u001b[0m\n",
      "\u001b[0;32m~/anaconda3/lib/python3.6/site-packages/sympy/interactive/printing.py\u001b[0m in \u001b[0;36m_print_plain\u001b[0;34m(arg, p, cycle)\u001b[0m\n\u001b[1;32m     66\u001b[0m         \u001b[0;34m\"\"\"caller for pretty, for use in IPython 0.11\"\"\"\u001b[0m\u001b[0;34m\u001b[0m\u001b[0m\n\u001b[1;32m     67\u001b[0m         \u001b[0;32mif\u001b[0m \u001b[0m_can_print_latex\u001b[0m\u001b[0;34m(\u001b[0m\u001b[0marg\u001b[0m\u001b[0;34m)\u001b[0m\u001b[0;34m:\u001b[0m\u001b[0;34m\u001b[0m\u001b[0m\n\u001b[0;32m---> 68\u001b[0;31m             \u001b[0mp\u001b[0m\u001b[0;34m.\u001b[0m\u001b[0mtext\u001b[0m\u001b[0;34m(\u001b[0m\u001b[0mstringify_func\u001b[0m\u001b[0;34m(\u001b[0m\u001b[0marg\u001b[0m\u001b[0;34m)\u001b[0m\u001b[0;34m)\u001b[0m\u001b[0;34m\u001b[0m\u001b[0m\n\u001b[0m\u001b[1;32m     69\u001b[0m         \u001b[0;32melse\u001b[0m\u001b[0;34m:\u001b[0m\u001b[0;34m\u001b[0m\u001b[0m\n\u001b[1;32m     70\u001b[0m             \u001b[0mp\u001b[0m\u001b[0;34m.\u001b[0m\u001b[0mtext\u001b[0m\u001b[0;34m(\u001b[0m\u001b[0mIPython\u001b[0m\u001b[0;34m.\u001b[0m\u001b[0mlib\u001b[0m\u001b[0;34m.\u001b[0m\u001b[0mpretty\u001b[0m\u001b[0;34m.\u001b[0m\u001b[0mpretty\u001b[0m\u001b[0;34m(\u001b[0m\u001b[0marg\u001b[0m\u001b[0;34m)\u001b[0m\u001b[0;34m)\u001b[0m\u001b[0;34m\u001b[0m\u001b[0m\n",
      "\u001b[0;32m~/anaconda3/lib/python3.6/site-packages/sympy/printing/pretty/pretty.py\u001b[0m in \u001b[0;36mpretty\u001b[0;34m(expr, **settings)\u001b[0m\n\u001b[1;32m   2162\u001b[0m \u001b[0;34m\u001b[0m\u001b[0m\n\u001b[1;32m   2163\u001b[0m     \u001b[0;32mtry\u001b[0m\u001b[0;34m:\u001b[0m\u001b[0;34m\u001b[0m\u001b[0m\n\u001b[0;32m-> 2164\u001b[0;31m         \u001b[0;32mreturn\u001b[0m \u001b[0mpp\u001b[0m\u001b[0;34m.\u001b[0m\u001b[0mdoprint\u001b[0m\u001b[0;34m(\u001b[0m\u001b[0mexpr\u001b[0m\u001b[0;34m)\u001b[0m\u001b[0;34m\u001b[0m\u001b[0m\n\u001b[0m\u001b[1;32m   2165\u001b[0m     \u001b[0;32mfinally\u001b[0m\u001b[0;34m:\u001b[0m\u001b[0;34m\u001b[0m\u001b[0m\n\u001b[1;32m   2166\u001b[0m         \u001b[0mpretty_use_unicode\u001b[0m\u001b[0;34m(\u001b[0m\u001b[0muflag\u001b[0m\u001b[0;34m)\u001b[0m\u001b[0;34m\u001b[0m\u001b[0m\n",
      "\u001b[0;32m~/anaconda3/lib/python3.6/site-packages/sympy/printing/pretty/pretty.py\u001b[0m in \u001b[0;36mdoprint\u001b[0;34m(self, expr)\u001b[0m\n\u001b[1;32m     60\u001b[0m \u001b[0;34m\u001b[0m\u001b[0m\n\u001b[1;32m     61\u001b[0m     \u001b[0;32mdef\u001b[0m \u001b[0mdoprint\u001b[0m\u001b[0;34m(\u001b[0m\u001b[0mself\u001b[0m\u001b[0;34m,\u001b[0m \u001b[0mexpr\u001b[0m\u001b[0;34m)\u001b[0m\u001b[0;34m:\u001b[0m\u001b[0;34m\u001b[0m\u001b[0m\n\u001b[0;32m---> 62\u001b[0;31m         \u001b[0;32mreturn\u001b[0m \u001b[0mself\u001b[0m\u001b[0;34m.\u001b[0m\u001b[0m_print\u001b[0m\u001b[0;34m(\u001b[0m\u001b[0mexpr\u001b[0m\u001b[0;34m)\u001b[0m\u001b[0;34m.\u001b[0m\u001b[0mrender\u001b[0m\u001b[0;34m(\u001b[0m\u001b[0;34m**\u001b[0m\u001b[0mself\u001b[0m\u001b[0;34m.\u001b[0m\u001b[0m_settings\u001b[0m\u001b[0;34m)\u001b[0m\u001b[0;34m\u001b[0m\u001b[0m\n\u001b[0m\u001b[1;32m     63\u001b[0m \u001b[0;34m\u001b[0m\u001b[0m\n\u001b[1;32m     64\u001b[0m     \u001b[0;31m# empty op so _print(stringPict) returns the same\u001b[0m\u001b[0;34m\u001b[0m\u001b[0;34m\u001b[0m\u001b[0m\n",
      "\u001b[0;32m~/anaconda3/lib/python3.6/site-packages/sympy/printing/printer.py\u001b[0m in \u001b[0;36m_print\u001b[0;34m(self, expr, *args, **kwargs)\u001b[0m\n\u001b[1;32m    255\u001b[0m                 \u001b[0mprintmethod\u001b[0m \u001b[0;34m=\u001b[0m \u001b[0;34m'_print_'\u001b[0m \u001b[0;34m+\u001b[0m \u001b[0mcls\u001b[0m\u001b[0;34m.\u001b[0m\u001b[0m__name__\u001b[0m\u001b[0;34m\u001b[0m\u001b[0m\n\u001b[1;32m    256\u001b[0m                 \u001b[0;32mif\u001b[0m \u001b[0mhasattr\u001b[0m\u001b[0;34m(\u001b[0m\u001b[0mself\u001b[0m\u001b[0;34m,\u001b[0m \u001b[0mprintmethod\u001b[0m\u001b[0;34m)\u001b[0m\u001b[0;34m:\u001b[0m\u001b[0;34m\u001b[0m\u001b[0m\n\u001b[0;32m--> 257\u001b[0;31m                     \u001b[0;32mreturn\u001b[0m \u001b[0mgetattr\u001b[0m\u001b[0;34m(\u001b[0m\u001b[0mself\u001b[0m\u001b[0;34m,\u001b[0m \u001b[0mprintmethod\u001b[0m\u001b[0;34m)\u001b[0m\u001b[0;34m(\u001b[0m\u001b[0mexpr\u001b[0m\u001b[0;34m,\u001b[0m \u001b[0;34m*\u001b[0m\u001b[0margs\u001b[0m\u001b[0;34m,\u001b[0m \u001b[0;34m**\u001b[0m\u001b[0mkwargs\u001b[0m\u001b[0;34m)\u001b[0m\u001b[0;34m\u001b[0m\u001b[0m\n\u001b[0m\u001b[1;32m    258\u001b[0m             \u001b[0;31m# Unknown object, fall back to the emptyPrinter.\u001b[0m\u001b[0;34m\u001b[0m\u001b[0;34m\u001b[0m\u001b[0m\n\u001b[1;32m    259\u001b[0m             \u001b[0;32mreturn\u001b[0m \u001b[0mself\u001b[0m\u001b[0;34m.\u001b[0m\u001b[0memptyPrinter\u001b[0m\u001b[0;34m(\u001b[0m\u001b[0mexpr\u001b[0m\u001b[0;34m)\u001b[0m\u001b[0;34m\u001b[0m\u001b[0m\n",
      "\u001b[0;32m~/anaconda3/lib/python3.6/site-packages/sympy/printing/pretty/pretty.py\u001b[0m in \u001b[0;36m_print_Add\u001b[0;34m(self, expr, order)\u001b[0m\n\u001b[1;32m   1373\u001b[0m                 \u001b[0mpforms\u001b[0m\u001b[0;34m.\u001b[0m\u001b[0mappend\u001b[0m\u001b[0;34m(\u001b[0m\u001b[0mprettyForm\u001b[0m\u001b[0;34m(\u001b[0m\u001b[0;34m*\u001b[0m\u001b[0mself\u001b[0m\u001b[0;34m.\u001b[0m\u001b[0m_print\u001b[0m\u001b[0;34m(\u001b[0m\u001b[0mterm\u001b[0m\u001b[0;34m)\u001b[0m\u001b[0;34m.\u001b[0m\u001b[0mparens\u001b[0m\u001b[0;34m(\u001b[0m\u001b[0;34m)\u001b[0m\u001b[0;34m)\u001b[0m\u001b[0;34m)\u001b[0m\u001b[0;34m\u001b[0m\u001b[0m\n\u001b[1;32m   1374\u001b[0m             \u001b[0;32melse\u001b[0m\u001b[0;34m:\u001b[0m\u001b[0;34m\u001b[0m\u001b[0m\n\u001b[0;32m-> 1375\u001b[0;31m                 \u001b[0mpforms\u001b[0m\u001b[0;34m.\u001b[0m\u001b[0mappend\u001b[0m\u001b[0;34m(\u001b[0m\u001b[0mself\u001b[0m\u001b[0;34m.\u001b[0m\u001b[0m_print\u001b[0m\u001b[0;34m(\u001b[0m\u001b[0mterm\u001b[0m\u001b[0;34m)\u001b[0m\u001b[0;34m)\u001b[0m\u001b[0;34m\u001b[0m\u001b[0m\n\u001b[0m\u001b[1;32m   1376\u001b[0m \u001b[0;34m\u001b[0m\u001b[0m\n\u001b[1;32m   1377\u001b[0m         \u001b[0;32mif\u001b[0m \u001b[0mindices\u001b[0m\u001b[0;34m:\u001b[0m\u001b[0;34m\u001b[0m\u001b[0m\n",
      "\u001b[0;32m~/anaconda3/lib/python3.6/site-packages/sympy/printing/printer.py\u001b[0m in \u001b[0;36m_print\u001b[0;34m(self, expr, *args, **kwargs)\u001b[0m\n\u001b[1;32m    255\u001b[0m                 \u001b[0mprintmethod\u001b[0m \u001b[0;34m=\u001b[0m \u001b[0;34m'_print_'\u001b[0m \u001b[0;34m+\u001b[0m \u001b[0mcls\u001b[0m\u001b[0;34m.\u001b[0m\u001b[0m__name__\u001b[0m\u001b[0;34m\u001b[0m\u001b[0m\n\u001b[1;32m    256\u001b[0m                 \u001b[0;32mif\u001b[0m \u001b[0mhasattr\u001b[0m\u001b[0;34m(\u001b[0m\u001b[0mself\u001b[0m\u001b[0;34m,\u001b[0m \u001b[0mprintmethod\u001b[0m\u001b[0;34m)\u001b[0m\u001b[0;34m:\u001b[0m\u001b[0;34m\u001b[0m\u001b[0m\n\u001b[0;32m--> 257\u001b[0;31m                     \u001b[0;32mreturn\u001b[0m \u001b[0mgetattr\u001b[0m\u001b[0;34m(\u001b[0m\u001b[0mself\u001b[0m\u001b[0;34m,\u001b[0m \u001b[0mprintmethod\u001b[0m\u001b[0;34m)\u001b[0m\u001b[0;34m(\u001b[0m\u001b[0mexpr\u001b[0m\u001b[0;34m,\u001b[0m \u001b[0;34m*\u001b[0m\u001b[0margs\u001b[0m\u001b[0;34m,\u001b[0m \u001b[0;34m**\u001b[0m\u001b[0mkwargs\u001b[0m\u001b[0;34m)\u001b[0m\u001b[0;34m\u001b[0m\u001b[0m\n\u001b[0m\u001b[1;32m    258\u001b[0m             \u001b[0;31m# Unknown object, fall back to the emptyPrinter.\u001b[0m\u001b[0;34m\u001b[0m\u001b[0;34m\u001b[0m\u001b[0m\n\u001b[1;32m    259\u001b[0m             \u001b[0;32mreturn\u001b[0m \u001b[0mself\u001b[0m\u001b[0;34m.\u001b[0m\u001b[0memptyPrinter\u001b[0m\u001b[0;34m(\u001b[0m\u001b[0mexpr\u001b[0m\u001b[0;34m)\u001b[0m\u001b[0;34m\u001b[0m\u001b[0m\n",
      "\u001b[0;32m~/anaconda3/lib/python3.6/site-packages/sympy/printing/pretty/pretty.py\u001b[0m in \u001b[0;36m_print_Mul\u001b[0;34m(self, product)\u001b[0m\n\u001b[1;32m   1448\u001b[0m         \u001b[0;31m# Construct a pretty form\u001b[0m\u001b[0;34m\u001b[0m\u001b[0;34m\u001b[0m\u001b[0m\n\u001b[1;32m   1449\u001b[0m         \u001b[0;32mif\u001b[0m \u001b[0mlen\u001b[0m\u001b[0;34m(\u001b[0m\u001b[0mb\u001b[0m\u001b[0;34m)\u001b[0m \u001b[0;34m==\u001b[0m \u001b[0;36m0\u001b[0m\u001b[0;34m:\u001b[0m\u001b[0;34m\u001b[0m\u001b[0m\n\u001b[0;32m-> 1450\u001b[0;31m             \u001b[0;32mreturn\u001b[0m \u001b[0mprettyForm\u001b[0m\u001b[0;34m.\u001b[0m\u001b[0m__mul__\u001b[0m\u001b[0;34m(\u001b[0m\u001b[0;34m*\u001b[0m\u001b[0ma\u001b[0m\u001b[0;34m)\u001b[0m\u001b[0;34m\u001b[0m\u001b[0m\n\u001b[0m\u001b[1;32m   1451\u001b[0m         \u001b[0;32melse\u001b[0m\u001b[0;34m:\u001b[0m\u001b[0;34m\u001b[0m\u001b[0m\n\u001b[1;32m   1452\u001b[0m             \u001b[0;32mif\u001b[0m \u001b[0mlen\u001b[0m\u001b[0;34m(\u001b[0m\u001b[0ma\u001b[0m\u001b[0;34m)\u001b[0m \u001b[0;34m==\u001b[0m \u001b[0;36m0\u001b[0m\u001b[0;34m:\u001b[0m\u001b[0;34m\u001b[0m\u001b[0m\n",
      "\u001b[0;32m~/anaconda3/lib/python3.6/site-packages/sympy/printing/pretty/stringpict.py\u001b[0m in \u001b[0;36m__mul__\u001b[0;34m(self, *others)\u001b[0m\n\u001b[1;32m    435\u001b[0m \u001b[0;34m\u001b[0m\u001b[0m\n\u001b[1;32m    436\u001b[0m         \u001b[0margs\u001b[0m \u001b[0;34m=\u001b[0m \u001b[0mself\u001b[0m\u001b[0;34m\u001b[0m\u001b[0m\n\u001b[0;32m--> 437\u001b[0;31m         \u001b[0;32mif\u001b[0m \u001b[0margs\u001b[0m\u001b[0;34m.\u001b[0m\u001b[0mbinding\u001b[0m \u001b[0;34m>\u001b[0m \u001b[0mprettyForm\u001b[0m\u001b[0;34m.\u001b[0m\u001b[0mMUL\u001b[0m\u001b[0;34m:\u001b[0m\u001b[0;34m\u001b[0m\u001b[0m\n\u001b[0m\u001b[1;32m    438\u001b[0m             \u001b[0marg\u001b[0m \u001b[0;34m=\u001b[0m \u001b[0mstringPict\u001b[0m\u001b[0;34m(\u001b[0m\u001b[0;34m*\u001b[0m\u001b[0margs\u001b[0m\u001b[0;34m.\u001b[0m\u001b[0mparens\u001b[0m\u001b[0;34m(\u001b[0m\u001b[0;34m)\u001b[0m\u001b[0;34m)\u001b[0m\u001b[0;34m\u001b[0m\u001b[0m\n\u001b[1;32m    439\u001b[0m         \u001b[0mresult\u001b[0m \u001b[0;34m=\u001b[0m \u001b[0;34m[\u001b[0m\u001b[0margs\u001b[0m\u001b[0;34m]\u001b[0m\u001b[0;34m\u001b[0m\u001b[0m\n",
      "\u001b[0;31mTypeError\u001b[0m: '>' not supported between instances of 'NoneType' and 'int'"
     ]
    },
    {
     "data": {
      "image/png": "[encoded data removed]",
      "text/latex": [
       "$$- 2 \\delta\\left(a - x\\right) \\delta\\left(a + x\\right) + \\delta^{\\left( 1 \\right)}\\left( a - x \\right) \\theta\\left(a + x\\right) + \\delta^{\\left( 1 \\right)}\\left( a + x \\right) \\theta\\left(a - x\\right)$$"
      ]
     },
     "execution_count": 197,
     "metadata": {},
     "output_type": "execute_result"
    }
   ],
   "source": [
    "1F1(1/4,1/2,z) * e^(-z) * (cos(z)sinh(z)+sin(z)cosh(z))test = Heaviside(a-x)*DiracDelta(a+x)-Heaviside(a+x)*DiracDelta(a-x)\n",
    "diff(test,x)"
   ]
  },
  {
   "cell_type": "code",
   "execution_count": 199,
   "metadata": {
    "ExecuteTime": {
     "end_time": "2019-12-03T03:33:20.196172Z",
     "start_time": "2019-12-03T03:33:19.935972Z"
    },
    "hidden": true
   },
   "outputs": [
    {
     "data": {
      "image/png": "[encoded data removed]",
      "text/latex": [
       "$$\\left(- 0.0625 \\left(- \\cos{\\left (\\frac{2 \\pi}{D} x \\right )} + 1\\right)^{4} + 1\\right) \\theta\\left(\\frac{D}{2} - x\\right) \\theta\\left(\\frac{D}{2} + x\\right)$$"
      ],
      "text/plain": [
       "⎛                           4    ⎞                                        \n",
       "⎜         ⎛     ⎛2⋅π⋅x⎞    ⎞     ⎟          ⎛D       ⎞          ⎛D       ⎞\n",
       "⎜- 0.0625⋅⎜- cos⎜─────⎟ + 1⎟  + 1⎟⋅Heaviside⎜─ - x, 0⎟⋅Heaviside⎜─ + x, 0⎟\n",
       "⎝         ⎝     ⎝  D  ⎠    ⎠     ⎠          ⎝2       ⎠          ⎝2       ⎠"
      ]
     },
     "execution_count": 199,
     "metadata": {},
     "output_type": "execute_result"
    }
   ],
   "source": [
    "alpha=4\n",
    "Hsym = (1-1/(2**alpha)*(1-cos(2*pi*x/D))**alpha)*Heaviside(D/2-x,0)*Heaviside(D/2+x,0)\n",
    "Hsym"
   ]
  },
  {
   "cell_type": "code",
   "execution_count": 5,
   "metadata": {
    "ExecuteTime": {
     "end_time": "2019-12-01T03:07:57.268691Z",
     "start_time": "2019-12-01T03:07:57.257087Z"
    },
    "hidden": true
   },
   "outputs": [
    {
     "data": {
      "text/plain": [
       "-1.0*pi*sin(2*pi*x/D)*Heaviside(D/2 - x, 0)*Heaviside(D/2 + x, 0)/D"
      ]
     },
     "execution_count": 5,
     "metadata": {},
     "output_type": "execute_result"
    }
   ],
   "source": [
    "dHsym = diff(Hsym,x)\n",
    "dHsym = - 1.0*pi*sin(2*pi*x/D)*Heaviside(D/2 - x, 0)*Heaviside(D/2 + x, 0)/D\n",
    "dHsym"
   ]
  },
  {
   "cell_type": "markdown",
   "metadata": {
    "heading_collapsed": true
   },
   "source": [
    "## Rotunno Case One Dev"
   ]
  },
  {
   "cell_type": "code",
   "execution_count": 301,
   "metadata": {
    "ExecuteTime": {
     "end_time": "2019-11-30T07:44:56.763184Z",
     "start_time": "2019-11-30T07:44:56.753243Z"
    },
    "hidden": true
   },
   "outputs": [
    {
     "ename": "SyntaxError",
     "evalue": "can't use starred expression here (<ipython-input-301-1486483d8e6c>, line 1)",
     "output_type": "error",
     "traceback": [
      "\u001b[0;36m  File \u001b[0;32m\"<ipython-input-301-1486483d8e6c>\"\u001b[0;36m, line \u001b[0;32m1\u001b[0m\n\u001b[0;31m    *[[1,2],[1,2]]\u001b[0m\n\u001b[0m                  ^\u001b[0m\n\u001b[0;31mSyntaxError\u001b[0m\u001b[0;31m:\u001b[0m can't use starred expression here\n"
     ]
    }
   ],
   "source": [
    "*[[1,2],[1,2]]"
   ]
  },
  {
   "cell_type": "code",
   "execution_count": 310,
   "metadata": {
    "ExecuteTime": {
     "end_time": "2019-11-30T07:49:24.614070Z",
     "start_time": "2019-11-30T07:49:24.606922Z"
    },
    "hidden": true
   },
   "outputs": [
    {
     "name": "stdout",
     "output_type": "stream",
     "text": [
      "01\n",
      "02\n",
      "03\n",
      "04\n",
      "10\n",
      "11\n",
      "12\n",
      "13\n",
      "14\n",
      "20\n",
      "21\n",
      "22\n",
      "23\n",
      "24\n",
      "30\n",
      "31\n",
      "32\n",
      "33\n",
      "34\n",
      "40\n",
      "41\n",
      "42\n",
      "43\n",
      "44\n"
     ]
    }
   ],
   "source": [
    "import itertools\n",
    "inds = list(itertools.product(range(5),range(5)))[1:]\n",
    "for [i,j] in inds:\n",
    "    print(str(i)+str(j))"
   ]
  },
  {
   "cell_type": "code",
   "execution_count": 45,
   "metadata": {
    "ExecuteTime": {
     "end_time": "2019-11-30T02:36:17.295424Z",
     "start_time": "2019-11-30T02:36:17.289364Z"
    },
    "hidden": true
   },
   "outputs": [
    {
     "name": "stderr",
     "output_type": "stream",
     "text": [
      "/home/student.unimelb.edu.au/shorte1/anaconda3/lib/python3.6/site-packages/ipykernel_launcher.py:6: RuntimeWarning: divide by zero encountered in true_divide\n",
      "  \n"
     ]
    }
   ],
   "source": [
    "sN=1001\n",
    "xi=2\n",
    "s = np.arange(0,1+1/sN,1/sN)\n",
    "alpha=3\n",
    "theta = s**alpha*np.pi/2\n",
    "xip = 2*xi-xi/(1-np.sin(theta))"
   ]
  },
  {
   "cell_type": "code",
   "execution_count": 47,
   "metadata": {
    "ExecuteTime": {
     "end_time": "2019-11-30T02:36:26.851247Z",
     "start_time": "2019-11-30T02:36:26.728894Z"
    },
    "hidden": true
   },
   "outputs": [
    {
     "data": {
      "text/plain": [
       "[<matplotlib.lines.Line2D at 0x7ff45d5ee588>]"
      ]
     },
     "execution_count": 47,
     "metadata": {},
     "output_type": "execute_result"
    },
    {
     "data": {
      "image/png": "[encoded data removed]",
      "text/plain": [
       "<Figure size 432x288 with 1 Axes>"
      ]
     },
     "metadata": {},
     "output_type": "display_data"
    }
   ],
   "source": [
    "plt.plot(theta[:960],xip[:960],'.')"
   ]
  },
  {
   "cell_type": "code",
   "execution_count": 321,
   "metadata": {
    "ExecuteTime": {
     "end_time": "2019-11-30T08:30:54.716339Z",
     "start_time": "2019-11-30T08:30:54.424766Z"
    },
    "hidden": true
   },
   "outputs": [
    {
     "data": {
      "image/png": "[encoded data removed]",
      "text/latex": [
       "$$299878.104241068$$"
      ],
      "text/plain": [
       "299878.104241068"
      ]
     },
     "execution_count": 321,
     "metadata": {},
     "output_type": "execute_result"
    }
   ],
   "source": [
    "xip = [xip_minus, xip_plus]\n",
    "xip[1].sum(axis=0)"
   ]
  },
  {
   "cell_type": "code",
   "execution_count": 315,
   "metadata": {
    "ExecuteTime": {
     "end_time": "2019-11-30T08:28:59.623009Z",
     "start_time": "2019-11-30T08:28:58.042937Z"
    },
    "hidden": true
   },
   "outputs": [
    {
     "name": "stdout",
     "output_type": "stream",
     "text": [
      "-0.7449513398575752\n",
      "-0.7450213475010908\n",
      "-0.06741513647068674\n",
      "-0.06748506562989355\n",
      "-0.06748506562989355\n",
      "-0.06748506562989355\n",
      "-0.06748506562989355\n",
      "-0.06748506562989355\n"
     ]
    },
    {
     "data": {
      "image/png": "[encoded data removed]",
      "text/plain": [
       "<Figure size 432x288 with 1 Axes>"
      ]
     },
     "metadata": {},
     "output_type": "display_data"
    },
    {
     "data": {
      "image/png": "[encoded data removed]",
      "text/plain": [
       "<Figure size 432x288 with 1 Axes>"
      ]
     },
     "metadata": {},
     "output_type": "display_data"
    },
    {
     "data": {
      "image/png": "[encoded data removed]",
      "text/plain": [
       "<Figure size 432x288 with 1 Axes>"
      ]
     },
     "metadata": {},
     "output_type": "display_data"
    },
    {
     "data": {
      "image/png": "[encoded data removed]",
      "text/plain": [
       "<Figure size 432x288 with 1 Axes>"
      ]
     },
     "metadata": {},
     "output_type": "display_data"
    }
   ],
   "source": [
    "sN=1000\n",
    "s = np.arange(1/sN,1,1/sN)\n",
    "alpha=3\n",
    "theta = s**alpha*np.pi/2\n",
    "xip_minus = 2*xi-xi/(1-np.sin(theta))\n",
    "xip_plus = xi/(1-np.sin(theta))\n",
    "\n",
    "# zetap=np.linspace(0,10,1000)\n",
    "# XIP, ZETAP = np.meshgrid(xip,zetap)\n",
    "zetap=2\n",
    "xi=2\n",
    "zeta=1\n",
    "xi0=0.5\n",
    "fn1_minus = np.log(((xi-xip_minus)**2+(zeta-zetap)**2)/((xi-xip_minus)**2+(zeta+zetap)**2))*np.exp(-zetap)/(xip_minus**2+xi0**2)*xi/(1-np.sin(theta))**2*np.cos(theta)*alpha*s**(alpha-1)*np.pi/2\n",
    "fn1_plus = np.log(((xi-xip_plus)**2+(zeta-zetap)**2)/((xi-xip_plus)**2+(zeta+zetap)**2))*np.exp(-zetap)/(xip_plus**2+xi0**2)*xi/(1-np.sin(theta))**2*np.cos(theta)*alpha*s**(alpha-1)*np.pi/2\n",
    "\n",
    "w_minus = -(2*(xi-xip_minus)*(-(zeta-zetap)**2+(zeta+zetap)**2)\n",
    "             /(((xi-xip_minus)**2+(zeta-zetap)**2)\n",
    "               *((xi-xip_minus)**2+(zeta+zetap)**2)))\n",
    "w_plus = -(2*(xi-xip_plus)*(-(zeta-zetap)**2+(zeta+zetap)**2)\n",
    "             /(((xi-xip_plus)**2+(zeta-zetap)**2)\n",
    "               *((xi-xip_plus)**2+(zeta+zetap)**2)))\n",
    "\n",
    "u_minus = (2*((zeta-zetap)*((xi-xip_minus)**2\n",
    "               +(zeta+zetap)**2)\n",
    "               -(zeta+zetap)*((xi-xip_minus)**2\n",
    "               +(zeta-zetap)**2))\n",
    "            /(((xi-xip_minus)**2+(zeta-zetap)**2)\n",
    "              *((xi-xip_minus)**2+(zeta+zetap)**2)))\n",
    "\n",
    "u_plus = (2*((zeta-zetap)*((xi-xip_plus)**2\n",
    "               +(zeta+zetap)**2)\n",
    "               -(zeta+zetap)*((xi-xip_plus)**2\n",
    "               +(zeta-zetap)**2))\n",
    "            /(((xi-xip_plus)**2+(zeta-zetap)**2)\n",
    "              *((xi-xip_plus)**2+(zeta+zetap)**2)))\n",
    "\n",
    "\n",
    "dXip = 1/1000\n",
    "xip_alt_minus = np.arange(-1000,xi,dXip)\n",
    "fn1_alt_minus = np.log(((xi-xip_alt_minus)**2+(zeta-zetap)**2)/((xi-xip_alt_minus)**2+(zeta+zetap)**2))*np.exp(-zetap)/(xip_alt_minus**2+xi0**2)\n",
    "\n",
    "xip_alt_plus = np.arange(xi+dXip,1000,dXip)\n",
    "fn1_alt_plus = np.log(((xi-xip_alt_plus)**2+(zeta-zetap)**2)/((xi-xip_alt_plus)**2+(zeta+zetap)**2))*np.exp(-zetap)/(xip_alt_plus**2+xi0**2)\n",
    "plt.plot(xip_alt_minus,fn1_alt_minus)\n",
    "plt.figure()\n",
    "plt.plot(s,fn1_minus)\n",
    "plt.figure()\n",
    "plt.plot(s[:50],xip_plus[:50])\n",
    "plt.figure()\n",
    "plt.plot(xip_alt)\n",
    "print(np.trapz(fn1_alt_minus,xip_alt_minus))\n",
    "print(np.trapz(fn1_minus,s))\n",
    "print(np.trapz(fn1_alt_plus,xip_alt_plus))\n",
    "print(np.trapz(fn1_plus,s))\n",
    "\n",
    "print(np.trapz(fn1_plus,s))\n",
    "print(np.trapz(fn1_plus,s))\n",
    "print(np.trapz(fn1_plus,s))\n",
    "print(np.trapz(fn1_plus,s))"
   ]
  },
  {
   "cell_type": "code",
   "execution_count": 21,
   "metadata": {
    "ExecuteTime": {
     "end_time": "2019-11-30T10:13:51.430304Z",
     "start_time": "2019-11-30T10:13:51.126760Z"
    },
    "hidden": true
   },
   "outputs": [
    {
     "data": {
      "image/png": "[encoded data removed]",
      "text/latex": [
       "$$1$$"
      ],
      "text/plain": [
       "1"
      ]
     },
     "execution_count": 21,
     "metadata": {},
     "output_type": "execute_result"
    }
   ],
   "source": [
    "5%2"
   ]
  },
  {
   "cell_type": "code",
   "execution_count": 148,
   "metadata": {
    "ExecuteTime": {
     "end_time": "2019-11-30T03:35:38.483098Z",
     "start_time": "2019-11-30T03:35:38.471510Z"
    },
    "hidden": true
   },
   "outputs": [
    {
     "data": {
      "text/plain": [
       "array([ 0.04908093,  0.04908174,  0.04908256, ..., -3.78036847,\n",
       "       -3.96895674, -4.29155481])"
      ]
     },
     "execution_count": 148,
     "metadata": {},
     "output_type": "execute_result"
    }
   ],
   "source": [
    "np.log(((xi-xip_alt)**2+(zeta-zetap)**2)/((xi-xip_alt)**2+(zeta+zetap)**2))*np.exp(-zetap)/(xip_alt**2+xi0**2)\n"
   ]
  },
  {
   "cell_type": "code",
   "execution_count": 141,
   "metadata": {
    "ExecuteTime": {
     "end_time": "2019-11-30T03:23:09.907133Z",
     "start_time": "2019-11-30T03:23:09.902614Z"
    },
    "hidden": true
   },
   "outputs": [
    {
     "data": {
      "text/plain": [
       "0.0"
      ]
     },
     "execution_count": 141,
     "metadata": {},
     "output_type": "execute_result"
    }
   ],
   "source": [
    "fn1_alt.max()"
   ]
  },
  {
   "cell_type": "code",
   "execution_count": 9,
   "metadata": {
    "ExecuteTime": {
     "end_time": "2019-11-30T10:10:00.501216Z",
     "start_time": "2019-11-30T10:10:00.146029Z"
    },
    "hidden": true
   },
   "outputs": [],
   "source": [
    "from sympy import *"
   ]
  },
  {
   "cell_type": "code",
   "execution_count": 10,
   "metadata": {
    "ExecuteTime": {
     "end_time": "2019-11-30T10:10:00.505314Z",
     "start_time": "2019-11-30T10:10:00.502678Z"
    },
    "hidden": true
   },
   "outputs": [],
   "source": [
    "xi, xip, z, zp, xi0, epsilon_1, epsilon_2, r = symbols('xi xi_p zeta zeta_p xi0 \\epsilon_1 \\epsilon_2 r')"
   ]
  },
  {
   "cell_type": "code",
   "execution_count": 149,
   "metadata": {
    "ExecuteTime": {
     "end_time": "2019-11-28T19:34:54.517835Z",
     "start_time": "2019-11-28T19:34:54.015389Z"
    },
    "hidden": true
   },
   "outputs": [
    {
     "data": {
      "image/png": "[encoded data removed]",
      "text/latex": [
       "$$\\frac{r^{2}}{2} \\log{\\left (r^{2} \\right )} - \\frac{r^{2}}{2}$$"
      ],
      "text/plain": [
       " 2    ⎛ 2⎞    2\n",
       "r ⋅log⎝r ⎠   r \n",
       "────────── - ──\n",
       "    2        2 "
      ]
     },
     "execution_count": 149,
     "metadata": {},
     "output_type": "execute_result"
    }
   ],
   "source": [
    "integrate(log(r**2)*r)"
   ]
  },
  {
   "cell_type": "code",
   "execution_count": 78,
   "metadata": {
    "ExecuteTime": {
     "end_time": "2019-11-28T18:00:40.071143Z",
     "start_time": "2019-11-28T18:00:39.568594Z"
    },
    "hidden": true
   },
   "outputs": [
    {
     "data": {
      "image/png": "[encoded data removed]",
      "text/latex": [
       "$$\\log{\\left (\\frac{\\left(\\xi - \\xi_{p}\\right)^{2} + \\left(\\zeta - \\zeta_{p}\\right)^{2}}{\\left(\\xi - \\xi_{p}\\right)^{2} + \\left(\\zeta + \\zeta_{p}\\right)^{2}} \\right )}$$"
      ],
      "text/plain": [
       "   ⎛        2           2⎞\n",
       "   ⎜(ξ - ξₚ)  + (ζ - ζₚ) ⎟\n",
       "log⎜─────────────────────⎟\n",
       "   ⎜        2           2⎟\n",
       "   ⎝(ξ - ξₚ)  + (ζ + ζₚ) ⎠"
      ]
     },
     "execution_count": 78,
     "metadata": {},
     "output_type": "execute_result"
    }
   ],
   "source": [
    "fn3 = log(((xi-xip)**2+(z-zp)**2)/((xi-xip)**2+(z+zp)**2))\n",
    "fn3"
   ]
  },
  {
   "cell_type": "code",
   "execution_count": 16,
   "metadata": {
    "ExecuteTime": {
     "end_time": "2019-11-30T10:10:14.190064Z",
     "start_time": "2019-11-30T10:10:13.960931Z"
    },
    "hidden": true
   },
   "outputs": [],
   "source": [
    "init_printing()"
   ]
  },
  {
   "cell_type": "code",
   "execution_count": 17,
   "metadata": {
    "ExecuteTime": {
     "end_time": "2019-11-30T10:10:14.502652Z",
     "start_time": "2019-11-30T10:10:14.191646Z"
    },
    "hidden": true
   },
   "outputs": [
    {
     "data": {
      "image/png": "[encoded data removed]",
      "text/latex": [
       "$$\\frac{e^{- \\zeta_{p}}}{\\xi_{0}^{2} + \\xi_{p}^{2}} \\log{\\left (\\frac{\\left(\\xi - \\xi_{p}\\right)^{2} + \\left(\\zeta - \\zeta_{p}\\right)^{2}}{\\left(\\xi - \\xi_{p}\\right)^{2} + \\left(\\zeta + \\zeta_{p}\\right)^{2}} \\right )}$$"
      ],
      "text/plain": [
       "        ⎛        2           2⎞\n",
       " -ζₚ    ⎜(ξ - ξₚ)  + (ζ - ζₚ) ⎟\n",
       "ℯ   ⋅log⎜─────────────────────⎟\n",
       "        ⎜        2           2⎟\n",
       "        ⎝(ξ - ξₚ)  + (ζ + ζₚ) ⎠\n",
       "───────────────────────────────\n",
       "             2     2           \n",
       "           ξ₀  + ξₚ            "
      ]
     },
     "execution_count": 17,
     "metadata": {},
     "output_type": "execute_result"
    }
   ],
   "source": [
    "fn4 = (log(((xi-xip)**2+(z-zp)**2)/((xi-xip)**2+(z+zp)**2))*exp(-zp)/(xip**2+xi0**2))\n",
    "# fn5 = -log((zeta-zetap)**2/(zeta+zetap)**2)*exp(-zeta)/(xi**2+xi0**2)\n",
    "fn4"
   ]
  },
  {
   "cell_type": "code",
   "execution_count": 18,
   "metadata": {
    "ExecuteTime": {
     "end_time": "2019-11-30T10:10:15.088464Z",
     "start_time": "2019-11-30T10:10:14.546880Z"
    },
    "hidden": true
   },
   "outputs": [
    {
     "data": {
      "image/png": "[encoded data removed]",
      "text/latex": [
       "$$\\frac{2 \\left(\\xi - \\xi_{p}\\right) \\left(- \\left(\\zeta - \\zeta_{p}\\right)^{2} + \\left(\\zeta + \\zeta_{p}\\right)^{2}\\right) e^{- \\zeta_{p}}}{\\left(\\xi_{0}^{2} + \\xi_{p}^{2}\\right) \\left(\\left(\\xi - \\xi_{p}\\right)^{2} + \\left(\\zeta - \\zeta_{p}\\right)^{2}\\right) \\left(\\left(\\xi - \\xi_{p}\\right)^{2} + \\left(\\zeta + \\zeta_{p}\\right)^{2}\\right)}$$"
      ],
      "text/plain": [
       "                    ⎛          2           2⎞  -ζₚ         \n",
       "         2⋅(ξ - ξₚ)⋅⎝- (ζ - ζₚ)  + (ζ + ζₚ) ⎠⋅ℯ            \n",
       "───────────────────────────────────────────────────────────\n",
       "⎛  2     2⎞ ⎛        2           2⎞ ⎛        2           2⎞\n",
       "⎝ξ₀  + ξₚ ⎠⋅⎝(ξ - ξₚ)  + (ζ - ζₚ) ⎠⋅⎝(ξ - ξₚ)  + (ζ + ζₚ) ⎠"
      ]
     },
     "execution_count": 18,
     "metadata": {},
     "output_type": "execute_result"
    }
   ],
   "source": [
    "# limit(limit(simplify(diff(fn4, z)),zp,z),xip,xi)\n",
    "# limit(limit(simplify(diff(fn4, z)),xip,xi),zp,z)\n",
    "# limit(simplify(diff(fn4, z)).subs(zp,z),xip,xi)\n",
    "# limit(limit(simplify(diff(fn4, xi)),zp,z),xip,xi)\n",
    "simplify(diff(fn4, xi))"
   ]
  },
  {
   "cell_type": "code",
   "execution_count": 19,
   "metadata": {
    "ExecuteTime": {
     "end_time": "2019-11-30T10:10:23.405386Z",
     "start_time": "2019-11-30T10:10:22.998048Z"
    },
    "hidden": true
   },
   "outputs": [
    {
     "data": {
      "image/png": "[encoded data removed]",
      "text/latex": [
       "$$\\frac{\\left(2 \\left(\\zeta - \\zeta_{p}\\right) \\left(\\left(\\xi - \\xi_{p}\\right)^{2} + \\left(\\zeta + \\zeta_{p}\\right)^{2}\\right) - 2 \\left(\\zeta + \\zeta_{p}\\right) \\left(\\left(\\xi - \\xi_{p}\\right)^{2} + \\left(\\zeta - \\zeta_{p}\\right)^{2}\\right)\\right) e^{- \\zeta_{p}}}{\\left(\\xi_{0}^{2} + \\xi_{p}^{2}\\right) \\left(\\left(\\xi - \\xi_{p}\\right)^{2} + \\left(\\zeta - \\zeta_{p}\\right)^{2}\\right) \\left(\\left(\\xi - \\xi_{p}\\right)^{2} + \\left(\\zeta + \\zeta_{p}\\right)^{2}\\right)}$$"
      ],
      "text/plain": [
       "⎛           ⎛        2           2⎞              ⎛        2           2⎞⎞  -ζₚ\n",
       "⎝2⋅(ζ - ζₚ)⋅⎝(ξ - ξₚ)  + (ζ + ζₚ) ⎠ - 2⋅(ζ + ζₚ)⋅⎝(ξ - ξₚ)  + (ζ - ζₚ) ⎠⎠⋅ℯ   \n",
       "──────────────────────────────────────────────────────────────────────────────\n",
       "         ⎛  2     2⎞ ⎛        2           2⎞ ⎛        2           2⎞          \n",
       "         ⎝ξ₀  + ξₚ ⎠⋅⎝(ξ - ξₚ)  + (ζ - ζₚ) ⎠⋅⎝(ξ - ξₚ)  + (ζ + ζₚ) ⎠          "
      ]
     },
     "execution_count": 19,
     "metadata": {},
     "output_type": "execute_result"
    }
   ],
   "source": [
    "simplify(diff(fn4, z))"
   ]
  },
  {
   "cell_type": "code",
   "execution_count": 284,
   "metadata": {
    "ExecuteTime": {
     "end_time": "2019-11-30T07:10:58.396732Z",
     "start_time": "2019-11-30T07:10:57.956513Z"
    },
    "hidden": true
   },
   "outputs": [
    {
     "data": {
      "image/png": "[encoded data removed]",
      "text/latex": [
       "$$\\frac{8 \\zeta^{2}}{\\xi^{3} \\xi_{0}^{2} e^{\\zeta} + \\xi^{3} \\xi_{p}^{2} e^{\\zeta} - 3 \\xi^{2} \\xi_{0}^{2} \\xi_{p} e^{\\zeta} - 3 \\xi^{2} \\xi_{p}^{3} e^{\\zeta} + 3 \\xi \\xi_{0}^{2} \\xi_{p}^{2} e^{\\zeta} + 4 \\xi \\xi_{0}^{2} \\zeta^{2} e^{\\zeta} + 3 \\xi \\xi_{p}^{4} e^{\\zeta} + 4 \\xi \\xi_{p}^{2} \\zeta^{2} e^{\\zeta} - \\xi_{0}^{2} \\xi_{p}^{3} e^{\\zeta} - 4 \\xi_{0}^{2} \\xi_{p} \\zeta^{2} e^{\\zeta} - \\xi_{p}^{5} e^{\\zeta} - 4 \\xi_{p}^{3} \\zeta^{2} e^{\\zeta}}$$"
      ],
      "text/plain": [
       "                                                                              \n",
       "                                                                              \n",
       "──────────────────────────────────────────────────────────────────────────────\n",
       " 3   2  ζ    3   2  ζ      2   2     ζ      2   3  ζ         2   2  ζ         \n",
       "ξ ⋅ξ₀ ⋅ℯ  + ξ ⋅ξₚ ⋅ℯ  - 3⋅ξ ⋅ξ₀ ⋅ξₚ⋅ℯ  - 3⋅ξ ⋅ξₚ ⋅ℯ  + 3⋅ξ⋅ξ₀ ⋅ξₚ ⋅ℯ  + 4⋅ξ⋅ξ₀\n",
       "\n",
       "       2                                                                      \n",
       "    8⋅ζ                                                                       \n",
       "──────────────────────────────────────────────────────────────────────────────\n",
       "2  2  ζ         4  ζ         2  2  ζ     2   3  ζ       2     2  ζ     5  ζ   \n",
       " ⋅ζ ⋅ℯ  + 3⋅ξ⋅ξₚ ⋅ℯ  + 4⋅ξ⋅ξₚ ⋅ζ ⋅ℯ  - ξ₀ ⋅ξₚ ⋅ℯ  - 4⋅ξ₀ ⋅ξₚ⋅ζ ⋅ℯ  - ξₚ ⋅ℯ  - \n",
       "\n",
       "           \n",
       "           \n",
       "───────────\n",
       "    3  2  ζ\n",
       "4⋅ξₚ ⋅ζ ⋅ℯ "
      ]
     },
     "execution_count": 284,
     "metadata": {},
     "output_type": "execute_result"
    }
   ],
   "source": []
  },
  {
   "cell_type": "code",
   "execution_count": 107,
   "metadata": {
    "ExecuteTime": {
     "end_time": "2019-11-28T18:54:00.748909Z",
     "start_time": "2019-11-28T18:54:00.689282Z"
    },
    "hidden": true
   },
   "outputs": [],
   "source": [
    "xip=np.linspace(-.1,.1,1000)\n",
    "zetap=np.linspace(1.1,1.2,1000)\n",
    "\n",
    "XIP, ZETAP = np.meshgrid(xip,zetap)\n",
    "\n",
    "zeta=1.15\n",
    "xi0=0.1\n",
    "xi=0\n",
    "\n",
    "y1 = np.log(((xi-XIP)**2+(zeta-ZETAP)**2)/((xi-XIP)**2+(zeta+ZETAP)**2))*np.exp(-ZETAP)/(XIP**2+xi0**2)\n",
    "y2 = np.log(((xi-XIP)**2+(zeta-ZETAP)**2)/((xi-XIP)**2+(zeta+ZETAP)**2))*np.exp(-zeta)/(xi**2+xi0**2)"
   ]
  },
  {
   "cell_type": "code",
   "execution_count": 108,
   "metadata": {
    "ExecuteTime": {
     "end_time": "2019-11-28T18:54:38.464694Z",
     "start_time": "2019-11-28T18:54:38.445027Z"
    },
    "hidden": true
   },
   "outputs": [
    {
     "data": {
      "text/plain": [
       "array([-36.6128718 , -36.62237273, -36.63188264, -36.64140155,\n",
       "       -36.65092946, -36.66046638, -36.67001234, -36.67956734,\n",
       "       -36.68913139, -36.69870451, -36.7082867 , -36.71787799,\n",
       "       -36.72747838, -36.73708789, -36.74670653, -36.75633431,\n",
       "       -36.76597124, -36.77561734, -36.78527262, -36.79493709,\n",
       "       -36.80461077, -36.81429366, -36.82398578, -36.83368715,\n",
       "       -36.84339777, -36.85311765, -36.86284682, -36.87258528,\n",
       "       -36.88233305, -36.89209014, -36.90185655, -36.91163231,\n",
       "       -36.92141743, -36.93121192, -36.94101579, -36.95082906,\n",
       "       -36.96065174, -36.97048384, -36.98032537, -36.99017636,\n",
       "       -37.0000368 , -37.00990672, -37.01978612, -37.02967502,\n",
       "       -37.03957344, -37.04948139, -37.05939887, -37.0693259 ,\n",
       "       -37.07926251, -37.08920869, -37.09916446, -37.10912984,\n",
       "       -37.11910484, -37.12908947, -37.13908374, -37.14908767,\n",
       "       -37.15910128, -37.16912457, -37.17915756, -37.18920026,\n",
       "       -37.19925269, -37.20931486, -37.21938678, -37.22946847,\n",
       "       -37.23955993, -37.24966119, -37.25977226, -37.26989314,\n",
       "       -37.28002386, -37.29016443, -37.30031486, -37.31047517,\n",
       "       -37.32064536, -37.33082546, -37.34101547, -37.35121541,\n",
       "       -37.3614253 , -37.37164514, -37.38187495, -37.39211475,\n",
       "       -37.40236455, -37.41262437, -37.42289421, -37.43317409,\n",
       "       -37.44346402, -37.45376403, -37.46407411, -37.4743943 ,\n",
       "       -37.48472459, -37.49506501, -37.50541557, -37.51577628,\n",
       "       -37.52614716, -37.53652823, -37.54691948, -37.55732095,\n",
       "       -37.56773264, -37.57815458, -37.58858676, -37.59902921,\n",
       "       -37.60948194, -37.61994497, -37.63041831, -37.64090198,\n",
       "       -37.65139598, -37.66190033, -37.67241506, -37.68294017,\n",
       "       -37.69347567, -37.70402159, -37.71457793, -37.72514471,\n",
       "       -37.73572195, -37.74630966, -37.75690786, -37.76751655,\n",
       "       -37.77813576, -37.7887655 , -37.79940578, -37.81005662,\n",
       "       -37.82071803, -37.83139003, -37.84207264, -37.85276586,\n",
       "       -37.86346971, -37.87418422, -37.88490938, -37.89564523,\n",
       "       -37.90639176, -37.91714901, -37.92791698, -37.93869568,\n",
       "       -37.94948514, -37.96028537, -37.97109638, -37.9819182 ,\n",
       "       -37.99275082, -38.00359427, -38.01444857, -38.02531373,\n",
       "       -38.03618976, -38.04707669, -38.05797452, -38.06888327,\n",
       "       -38.07980296, -38.0907336 , -38.10167521, -38.1126278 ,\n",
       "       -38.12359139, -38.13456599, -38.14555163, -38.15654831,\n",
       "       -38.16755605, -38.17857487, -38.18960478, -38.2006458 ,\n",
       "       -38.21169795, -38.22276123, -38.23383567, -38.24492128,\n",
       "       -38.25601808, -38.26712608, -38.2782453 , -38.28937576,\n",
       "       -38.30051746, -38.31167044, -38.3228347 , -38.33401025,\n",
       "       -38.34519712, -38.35639533, -38.36760488, -38.37882579,\n",
       "       -38.39005809, -38.40130178, -38.41255688, -38.42382342,\n",
       "       -38.43510139, -38.44639083, -38.45769175, -38.46900416,\n",
       "       -38.48032808, -38.49166353, -38.50301052, -38.51436908,\n",
       "       -38.5257392 , -38.53712093, -38.54851426, -38.55991922,\n",
       "       -38.57133582, -38.58276408, -38.59420402, -38.60565565,\n",
       "       -38.61711899, -38.62859406, -38.64008087, -38.65157944,\n",
       "       -38.66308979, -38.67461194, -38.68614589, -38.69769168,\n",
       "       -38.70924931, -38.7208188 , -38.73240017, -38.74399344,\n",
       "       -38.75559863, -38.76721574, -38.7788448 , -38.79048583,\n",
       "       -38.80213884, -38.81380385, -38.82548088, -38.83716994,\n",
       "       -38.84887106, -38.86058424, -38.87230951, -38.88404689,\n",
       "       -38.89579639, -38.90755803, -38.91933182, -38.9311178 ,\n",
       "       -38.94291596, -38.95472633, -38.96654893, -38.97838378,\n",
       "       -38.99023089, -39.00209029, -39.01396198, -39.02584599,\n",
       "       -39.03774233, -39.04965103, -39.0615721 , -39.07350556,\n",
       "       -39.08545142, -39.09740971, -39.10938045, -39.12136364,\n",
       "       -39.13335932, -39.14536749, -39.15738818, -39.1694214 ,\n",
       "       -39.18146718, -39.19352553, -39.20559647, -39.21768001,\n",
       "       -39.22977619, -39.241885  , -39.25400648, -39.26614065,\n",
       "       -39.27828751, -39.2904471 , -39.30261942, -39.3148045 ,\n",
       "       -39.32700235, -39.339213  , -39.35143647, -39.36367276,\n",
       "       -39.37592191, -39.38818393, -39.40045883, -39.41274664,\n",
       "       -39.42504739, -39.43736107, -39.44968773, -39.46202736,\n",
       "       -39.47438   , -39.48674567, -39.49912437, -39.51151614,\n",
       "       -39.52392099, -39.53633894, -39.54877001, -39.56121422,\n",
       "       -39.57367158, -39.58614213, -39.59862587, -39.61112283,\n",
       "       -39.62363303, -39.63615649, -39.64869322, -39.66124325,\n",
       "       -39.67380659, -39.68638327, -39.69897331, -39.71157672,\n",
       "       -39.72419353, -39.73682375, -39.74946741, -39.76212453,\n",
       "       -39.77479513, -39.78747921, -39.80017682, -39.81288797,\n",
       "       -39.82561267, -39.83835095, -39.85110282, -39.86386832,\n",
       "       -39.87664745, -39.88944025, -39.90224672, -39.9150669 ,\n",
       "       -39.92790079, -39.94074843, -39.95360983, -39.96648502,\n",
       "       -39.97937401, -39.99227682, -40.00519348, -40.01812401,\n",
       "       -40.03106842, -40.04402675, -40.056999  , -40.06998521,\n",
       "       -40.08298539, -40.09599956, -40.10902775, -40.12206998,\n",
       "       -40.13512626, -40.14819662, -40.16128108, -40.17437966,\n",
       "       -40.18749239, -40.20061928, -40.21376036, -40.22691565,\n",
       "       -40.24008517, -40.25326894, -40.26646698, -40.27967932,\n",
       "       -40.29290598, -40.30614697, -40.31940233, -40.33267207,\n",
       "       -40.34595622, -40.35925479, -40.37256782, -40.38589531,\n",
       "       -40.3992373 , -40.41259381, -40.42596486, -40.43935047,\n",
       "       -40.45275066, -40.46616546, -40.47959489, -40.49303897,\n",
       "       -40.50649772, -40.51997118, -40.53345935, -40.54696226,\n",
       "       -40.56047995, -40.57401242, -40.5875597 , -40.60112181,\n",
       "       -40.61469879, -40.62829064, -40.6418974 , -40.65551909,\n",
       "       -40.66915573, -40.68280734, -40.69647395, -40.71015558,\n",
       "       -40.72385225, -40.737564  , -40.75129083, -40.76503278,\n",
       "       -40.77878987, -40.79256212, -40.80634956, -40.82015221,\n",
       "       -40.8339701 , -40.84780324, -40.86165166, -40.87551539,\n",
       "       -40.88939446, -40.90328887, -40.91719867, -40.93112387,\n",
       "       -40.9450645 , -40.95902058, -40.97299214, -40.9869792 ,\n",
       "       -41.00098179, -41.01499992, -41.02903364, -41.04308295,\n",
       "       -41.05714789, -41.07122848, -41.08532474, -41.0994367 ,\n",
       "       -41.11356439, -41.12770783, -41.14186705, -41.15604207,\n",
       "       -41.17023291, -41.1844396 , -41.19866217, -41.21290065,\n",
       "       -41.22715505, -41.24142541, -41.25571174, -41.27001408,\n",
       "       -41.28433246, -41.29866688, -41.3130174 , -41.32738402,\n",
       "       -41.34176677, -41.35616569, -41.37058079, -41.38501211,\n",
       "       -41.39945967, -41.4139235 , -41.42840361, -41.44290005,\n",
       "       -41.45741283, -41.47194199, -41.48648754, -41.50104952,\n",
       "       -41.51562796, -41.53022287, -41.54483429, -41.55946224,\n",
       "       -41.57410676, -41.58876786, -41.60344558, -41.61813994,\n",
       "       -41.63285097, -41.6475787 , -41.66232316, -41.67708436,\n",
       "       -41.69186235, -41.70665715, -41.72146878, -41.73629728,\n",
       "       -41.75114266, -41.76600497, -41.78088423, -41.79578046,\n",
       "       -41.8106937 , -41.82562397, -41.8405713 , -41.85553572,\n",
       "       -41.87051726, -41.88551594, -41.9005318 , -41.91556487,\n",
       "       -41.93061516, -41.94568272, -41.96076757, -41.97586974,\n",
       "       -41.99098926, -42.00612616, -42.02128047, -42.03645221,\n",
       "       -42.05164142, -42.06684813, -42.08207236, -42.09731414,\n",
       "       -42.11257351, -42.1278505 , -42.14314513, -42.15845744,\n",
       "       -42.17378745, -42.18913519, -42.2045007 , -42.21988401,\n",
       "       -42.23528514, -42.25070413, -42.26614101, -42.2815958 ,\n",
       "       -42.29706854, -42.31255926, -42.32806799, -42.34359476,\n",
       "       -42.35913961, -42.37470256, -42.39028364, -42.40588289,\n",
       "       -42.42150033, -42.437136  , -42.45278994, -42.46846216,\n",
       "       -42.48415271, -42.49986162, -42.51558891, -42.53133463,\n",
       "       -42.54709879, -42.56288144, -42.5786826 , -42.59450232,\n",
       "       -42.61034061, -42.62619752, -42.64207307, -42.6579673 ,\n",
       "       -42.67388025, -42.68981194, -42.7057624 , -42.72173167,\n",
       "       -42.73771959, -42.75372188, -42.76963931, -42.78340297,\n",
       "       -42.77955324, -42.75809543, -42.73449197, -42.71081161,\n",
       "       -42.68715356, -42.66352207, -42.63991729, -42.61633916,\n",
       "       -42.59278766, -42.56926272, -42.54576431, -42.52229237,\n",
       "       -42.49884687, -42.47542776, -42.45203499, -42.42866851,\n",
       "       -42.40532828, -42.38201426, -42.35872639, -42.33546464,\n",
       "       -42.31222896, -42.28901931, -42.26583563, -42.24267789,\n",
       "       -42.21954604, -42.19644003, -42.17335983, -42.15030538,\n",
       "       -42.12727665, -42.10427358, -42.08129615, -42.05834429,\n",
       "       -42.03541797, -42.01251715, -41.98964178, -41.96679182,\n",
       "       -41.94396722, -41.92116795, -41.89839395, -41.87564519,\n",
       "       -41.85292162, -41.83022321, -41.8075499 , -41.78490166,\n",
       "       -41.76227844, -41.73968021, -41.71710691, -41.69455851,\n",
       "       -41.67203497, -41.64953624, -41.62706228, -41.60461306,\n",
       "       -41.58218852, -41.55978863, -41.53741335, -41.51506263,\n",
       "       -41.49273644, -41.47043473, -41.44815747, -41.42590461,\n",
       "       -41.4036761 , -41.38147192, -41.35929202, -41.33713636,\n",
       "       -41.3150049 , -41.2928976 , -41.27081442, -41.24875532,\n",
       "       -41.22672026, -41.2047092 , -41.1827221 , -41.16075892,\n",
       "       -41.13881963, -41.11690417, -41.09501252, -41.07314464,\n",
       "       -41.05130047, -41.02948   , -41.00768317, -40.98590995,\n",
       "       -40.9641603 , -40.94243418, -40.92073155, -40.89905238,\n",
       "       -40.87739663, -40.85576425, -40.83415521, -40.81256947,\n",
       "       -40.791007  , -40.76946775, -40.74795169, -40.72645878,\n",
       "       -40.70498898, -40.68354226, -40.66211857, -40.64071789,\n",
       "       -40.61934016, -40.59798537, -40.57665346, -40.55534441,\n",
       "       -40.53405817, -40.51279471, -40.49155399, -40.47033598,\n",
       "       -40.44914063, -40.42796792, -40.4068178 , -40.38569024,\n",
       "       -40.36458521, -40.34350266, -40.32244256, -40.30140488,\n",
       "       -40.28038958, -40.25939662, -40.23842596, -40.21747758,\n",
       "       -40.19655144, -40.1756475 , -40.15476572, -40.13390607,\n",
       "       -40.11306852, -40.09225303, -40.07145956, -40.05068809,\n",
       "       -40.02993856, -40.00921096, -39.98850525, -39.96782138,\n",
       "       -39.94715933, -39.92651907, -39.90590055, -39.88530374,\n",
       "       -39.86472861, -39.84417513, -39.82364325, -39.80313296,\n",
       "       -39.7826442 , -39.76217695, -39.74173118, -39.72130685,\n",
       "       -39.70090393, -39.68052237, -39.66016216, -39.63982326,\n",
       "       -39.61950563, -39.59920924, -39.57893405, -39.55868004,\n",
       "       -39.53844717, -39.51823541, -39.49804472, -39.47787508,\n",
       "       -39.45772644, -39.43759878, -39.41749206, -39.39740625,\n",
       "       -39.37734132, -39.35729724, -39.33727397, -39.31727148,\n",
       "       -39.29728974, -39.27732872, -39.25738838, -39.23746869,\n",
       "       -39.21756963, -39.19769115, -39.17783324, -39.15799584,\n",
       "       -39.13817894, -39.11838251, -39.0986065 , -39.07885089,\n",
       "       -39.05911565, -39.03940075, -39.01970615, -39.00003182,\n",
       "       -38.98037774, -38.96074387, -38.94113018, -38.92153664,\n",
       "       -38.90196322, -38.88240988, -38.8628766 , -38.84336335,\n",
       "       -38.8238701 , -38.80439681, -38.78494345, -38.76551   ,\n",
       "       -38.74609642, -38.72670269, -38.70732877, -38.68797463,\n",
       "       -38.66864025, -38.64932559, -38.63003062, -38.61075532,\n",
       "       -38.59149965, -38.57226358, -38.55304708, -38.53385013,\n",
       "       -38.5146727 , -38.49551475, -38.47637625, -38.45725718,\n",
       "       -38.4381575 , -38.4190772 , -38.40001623, -38.38097457,\n",
       "       -38.36195219, -38.34294906, -38.32396515, -38.30500043,\n",
       "       -38.28605488, -38.26712846, -38.24822115, -38.22933291,\n",
       "       -38.21046372, -38.19161356, -38.17278238, -38.15397017,\n",
       "       -38.13517689, -38.11640251, -38.09764702, -38.07891037,\n",
       "       -38.06019255, -38.04149351, -38.02281325, -38.00415171,\n",
       "       -37.98550889, -37.96688475, -37.94827926, -37.9296924 ,\n",
       "       -37.91112413, -37.89257444, -37.87404328, -37.85553064,\n",
       "       -37.83703649, -37.81856079, -37.80010353, -37.78166467,\n",
       "       -37.76324419, -37.74484206, -37.72645825, -37.70809274,\n",
       "       -37.6897455 , -37.67141649, -37.6531057 , -37.6348131 ,\n",
       "       -37.61653866, -37.59828235, -37.58004415, -37.56182402,\n",
       "       -37.54362195, -37.52543791, -37.50727187, -37.4891238 ,\n",
       "       -37.47099368, -37.45288147, -37.43478716, -37.41671072,\n",
       "       -37.39865212, -37.38061134, -37.36258834, -37.34458311,\n",
       "       -37.32659561, -37.30862583, -37.29067373, -37.27273928,\n",
       "       -37.25482247, -37.23692327, -37.21904165, -37.20117758,\n",
       "       -37.18333104, -37.16550201, -37.14769046, -37.12989635,\n",
       "       -37.11211968, -37.09436041, -37.07661851, -37.05889396,\n",
       "       -37.04118674, -37.02349682, -37.00582418, -36.98816879,\n",
       "       -36.97053062, -36.95290965, -36.93530585, -36.91771921,\n",
       "       -36.90014969, -36.88259727, -36.86506192, -36.84754363,\n",
       "       -36.83004236, -36.81255809, -36.7950908 , -36.77764046,\n",
       "       -36.76020705, -36.74279054, -36.72539091, -36.70800813,\n",
       "       -36.69064218, -36.67329304, -36.65596067, -36.63864506,\n",
       "       -36.62134619, -36.60406402, -36.58679854, -36.56954971,\n",
       "       -36.55231753, -36.53510195, -36.51790296, -36.50072054,\n",
       "       -36.48355465, -36.46640529, -36.44927241, -36.432156  ,\n",
       "       -36.41505604, -36.3979725 , -36.38090536, -36.36385459,\n",
       "       -36.34682017, -36.32980208, -36.31280029, -36.29581479,\n",
       "       -36.27884554, -36.26189253, -36.24495572, -36.2280351 ,\n",
       "       -36.21113065, -36.19424234, -36.17737015, -36.16051405,\n",
       "       -36.14367402, -36.12685004, -36.11004209, -36.09325014,\n",
       "       -36.07647418, -36.05971417, -36.04297009, -36.02624193,\n",
       "       -36.00952965, -35.99283325, -35.97615268, -35.95948794,\n",
       "       -35.942839  , -35.92620583, -35.90958842, -35.89298674,\n",
       "       -35.87640077, -35.85983049, -35.84327587, -35.8267369 ,\n",
       "       -35.81021354, -35.79370578, -35.7772136 , -35.76073698,\n",
       "       -35.74427588, -35.7278303 , -35.7114002 , -35.69498557,\n",
       "       -35.67858639, -35.66220262, -35.64583426, -35.62948128,\n",
       "       -35.61314365, -35.59682136, -35.58051438, -35.5642227 ,\n",
       "       -35.54794628, -35.53168512, -35.51543918, -35.49920845,\n",
       "       -35.4829929 , -35.46679251, -35.45060727, -35.43443715,\n",
       "       -35.41828213, -35.40214218, -35.3860173 , -35.36990745,\n",
       "       -35.35381261, -35.33773277, -35.32166789, -35.30561798,\n",
       "       -35.28958299, -35.27356291, -35.25755772, -35.24156739,\n",
       "       -35.22559192, -35.20963127, -35.19368542, -35.17775436,\n",
       "       -35.16183807, -35.14593651, -35.13004968, -35.11417755,\n",
       "       -35.09832011, -35.08247732, -35.06664918, -35.05083565,\n",
       "       -35.03503672, -35.01925238, -35.00348259, -34.98772734,\n",
       "       -34.97198661, -34.95626038, -34.94054862, -34.92485133,\n",
       "       -34.90916847, -34.89350002, -34.87784598, -34.86220631,\n",
       "       -34.846581  , -34.83097003, -34.81537338, -34.79979102,\n",
       "       -34.78422294, -34.76866912, -34.75312954, -34.73760417,\n",
       "       -34.72209301, -34.70659602, -34.69111319, -34.6756445 ,\n",
       "       -34.66018994, -34.64474947, -34.62932308, -34.61391076,\n",
       "       -34.59851248, -34.58312822, -34.56775796, -34.55240169,\n",
       "       -34.53705938, -34.52173102, -34.50641658, -34.49111605,\n",
       "       -34.47582941, -34.46055664, -34.44529771, -34.43005262,\n",
       "       -34.41482134, -34.39960385, -34.38440013, -34.36921017,\n",
       "       -34.35403394, -34.33887143, -34.32372262, -34.30858748,\n",
       "       -34.293466  , -34.27835817, -34.26326396, -34.24818335,\n",
       "       -34.23311633, -34.21806287, -34.20302296, -34.18799658,\n",
       "       -34.17298371, -34.15798433, -34.14299842, -34.12802597,\n",
       "       -34.11306696, -34.09812136, -34.08318917, -34.06827035,\n",
       "       -34.0533649 , -34.0384728 , -34.02359402, -34.00872855,\n",
       "       -33.99387636, -33.97903746, -33.9642118 , -33.94939938,\n",
       "       -33.93460018, -33.91981418, -33.90504136, -33.8902817 ,\n",
       "       -33.87553519, -33.8608018 , -33.84608153, -33.83137435,\n",
       "       -33.81668024, -33.80199919, -33.78733118, -33.77267618,\n",
       "       -33.7580342 , -33.74340519, -33.72878916, -33.71418607,\n",
       "       -33.69959592, -33.68501868, -33.67045434, -33.65590288,\n",
       "       -33.64136429, -33.62683853, -33.61232561, -33.59782549,\n",
       "       -33.58333817, -33.56886363, -33.55440184, -33.53995279])"
      ]
     },
     "execution_count": 108,
     "metadata": {},
     "output_type": "execute_result"
    }
   ],
   "source": [
    "np.trapz(y1,xip,-1)"
   ]
  },
  {
   "cell_type": "code",
   "execution_count": 124,
   "metadata": {
    "ExecuteTime": {
     "end_time": "2019-11-28T19:05:58.475641Z",
     "start_time": "2019-11-28T19:03:51.056320Z"
    },
    "hidden": true
   },
   "outputs": [
    {
     "ename": "KeyboardInterrupt",
     "evalue": "",
     "output_type": "error",
     "traceback": [
      "\u001b[0;31m---------------------------------------------------------------------------\u001b[0m",
      "\u001b[0;31mKeyboardInterrupt\u001b[0m                         Traceback (most recent call last)",
      "\u001b[0;32m<ipython-input-124-ee7c59bad6b7>\u001b[0m in \u001b[0;36m<module>\u001b[0;34m()\u001b[0m\n\u001b[0;32m----> 1\u001b[0;31m \u001b[0mintegrate\u001b[0m\u001b[0;34m(\u001b[0m\u001b[0mfn4\u001b[0m\u001b[0;34m,\u001b[0m \u001b[0mzp\u001b[0m\u001b[0;34m)\u001b[0m\u001b[0;34m\u001b[0m\u001b[0m\n\u001b[0m",
      "\u001b[0;32m~/anaconda3/lib/python3.6/site-packages/sympy/integrals/integrals.py\u001b[0m in \u001b[0;36mintegrate\u001b[0;34m(*args, **kwargs)\u001b[0m\n\u001b[1;32m   1293\u001b[0m     \u001b[0;32mif\u001b[0m \u001b[0misinstance\u001b[0m\u001b[0;34m(\u001b[0m\u001b[0mintegral\u001b[0m\u001b[0;34m,\u001b[0m \u001b[0mIntegral\u001b[0m\u001b[0;34m)\u001b[0m\u001b[0;34m:\u001b[0m\u001b[0;34m\u001b[0m\u001b[0m\n\u001b[1;32m   1294\u001b[0m         return integral.doit(deep=False, meijerg=meijerg, conds=conds,\n\u001b[0;32m-> 1295\u001b[0;31m                              risch=risch, manual=manual)\n\u001b[0m\u001b[1;32m   1296\u001b[0m     \u001b[0;32melse\u001b[0m\u001b[0;34m:\u001b[0m\u001b[0;34m\u001b[0m\u001b[0m\n\u001b[1;32m   1297\u001b[0m         \u001b[0;32mreturn\u001b[0m \u001b[0mintegral\u001b[0m\u001b[0;34m\u001b[0m\u001b[0m\n",
      "\u001b[0;32m~/anaconda3/lib/python3.6/site-packages/sympy/integrals/integrals.py\u001b[0m in \u001b[0;36mdoit\u001b[0;34m(self, **hints)\u001b[0m\n\u001b[1;32m    484\u001b[0m                     \u001b[0mfunction\u001b[0m\u001b[0;34m,\u001b[0m \u001b[0mxab\u001b[0m\u001b[0;34m[\u001b[0m\u001b[0;36m0\u001b[0m\u001b[0;34m]\u001b[0m\u001b[0;34m,\u001b[0m\u001b[0;34m\u001b[0m\u001b[0m\n\u001b[1;32m    485\u001b[0m                     \u001b[0mmeijerg\u001b[0m\u001b[0;34m=\u001b[0m\u001b[0mmeijerg1\u001b[0m\u001b[0;34m,\u001b[0m \u001b[0mrisch\u001b[0m\u001b[0;34m=\u001b[0m\u001b[0mrisch\u001b[0m\u001b[0;34m,\u001b[0m \u001b[0mmanual\u001b[0m\u001b[0;34m=\u001b[0m\u001b[0mmanual\u001b[0m\u001b[0;34m,\u001b[0m\u001b[0;34m\u001b[0m\u001b[0m\n\u001b[0;32m--> 486\u001b[0;31m                     conds=conds)\n\u001b[0m\u001b[1;32m    487\u001b[0m                 \u001b[0;32mif\u001b[0m \u001b[0mantideriv\u001b[0m \u001b[0;32mis\u001b[0m \u001b[0;32mNone\u001b[0m \u001b[0;32mand\u001b[0m \u001b[0mmeijerg1\u001b[0m \u001b[0;32mis\u001b[0m \u001b[0;32mTrue\u001b[0m\u001b[0;34m:\u001b[0m\u001b[0;34m\u001b[0m\u001b[0m\n\u001b[1;32m    488\u001b[0m                     \u001b[0mret\u001b[0m \u001b[0;34m=\u001b[0m \u001b[0mtry_meijerg\u001b[0m\u001b[0;34m(\u001b[0m\u001b[0mfunction\u001b[0m\u001b[0;34m,\u001b[0m \u001b[0mxab\u001b[0m\u001b[0;34m)\u001b[0m\u001b[0;34m\u001b[0m\u001b[0m\n",
      "\u001b[0;32m~/anaconda3/lib/python3.6/site-packages/sympy/integrals/integrals.py\u001b[0m in \u001b[0;36m_eval_integral\u001b[0;34m(self, f, x, meijerg, risch, manual, conds)\u001b[0m\n\u001b[1;32m    784\u001b[0m                 \u001b[0;32mif\u001b[0m \u001b[0mi\u001b[0m\u001b[0;34m:\u001b[0m\u001b[0;34m\u001b[0m\u001b[0m\n\u001b[1;32m    785\u001b[0m                     \u001b[0;31m# There was a nonelementary integral. Try integrating it.\u001b[0m\u001b[0;34m\u001b[0m\u001b[0;34m\u001b[0m\u001b[0m\n\u001b[0;32m--> 786\u001b[0;31m                     \u001b[0;32mreturn\u001b[0m \u001b[0mresult\u001b[0m \u001b[0;34m+\u001b[0m \u001b[0mi\u001b[0m\u001b[0;34m.\u001b[0m\u001b[0mdoit\u001b[0m\u001b[0;34m(\u001b[0m\u001b[0mrisch\u001b[0m\u001b[0;34m=\u001b[0m\u001b[0;32mFalse\u001b[0m\u001b[0;34m)\u001b[0m\u001b[0;34m\u001b[0m\u001b[0m\n\u001b[0m\u001b[1;32m    787\u001b[0m                 \u001b[0;32melse\u001b[0m\u001b[0;34m:\u001b[0m\u001b[0;34m\u001b[0m\u001b[0m\n\u001b[1;32m    788\u001b[0m                     \u001b[0;32mreturn\u001b[0m \u001b[0mresult\u001b[0m\u001b[0;34m\u001b[0m\u001b[0m\n",
      "\u001b[0;32m~/anaconda3/lib/python3.6/site-packages/sympy/integrals/integrals.py\u001b[0m in \u001b[0;36mdoit\u001b[0;34m(self, **hints)\u001b[0m\n\u001b[1;32m    484\u001b[0m                     \u001b[0mfunction\u001b[0m\u001b[0;34m,\u001b[0m \u001b[0mxab\u001b[0m\u001b[0;34m[\u001b[0m\u001b[0;36m0\u001b[0m\u001b[0;34m]\u001b[0m\u001b[0;34m,\u001b[0m\u001b[0;34m\u001b[0m\u001b[0m\n\u001b[1;32m    485\u001b[0m                     \u001b[0mmeijerg\u001b[0m\u001b[0;34m=\u001b[0m\u001b[0mmeijerg1\u001b[0m\u001b[0;34m,\u001b[0m \u001b[0mrisch\u001b[0m\u001b[0;34m=\u001b[0m\u001b[0mrisch\u001b[0m\u001b[0;34m,\u001b[0m \u001b[0mmanual\u001b[0m\u001b[0;34m=\u001b[0m\u001b[0mmanual\u001b[0m\u001b[0;34m,\u001b[0m\u001b[0;34m\u001b[0m\u001b[0m\n\u001b[0;32m--> 486\u001b[0;31m                     conds=conds)\n\u001b[0m\u001b[1;32m    487\u001b[0m                 \u001b[0;32mif\u001b[0m \u001b[0mantideriv\u001b[0m \u001b[0;32mis\u001b[0m \u001b[0;32mNone\u001b[0m \u001b[0;32mand\u001b[0m \u001b[0mmeijerg1\u001b[0m \u001b[0;32mis\u001b[0m \u001b[0;32mTrue\u001b[0m\u001b[0;34m:\u001b[0m\u001b[0;34m\u001b[0m\u001b[0m\n\u001b[1;32m    488\u001b[0m                     \u001b[0mret\u001b[0m \u001b[0;34m=\u001b[0m \u001b[0mtry_meijerg\u001b[0m\u001b[0;34m(\u001b[0m\u001b[0mfunction\u001b[0m\u001b[0;34m,\u001b[0m \u001b[0mxab\u001b[0m\u001b[0;34m)\u001b[0m\u001b[0;34m\u001b[0m\u001b[0m\n",
      "\u001b[0;32m~/anaconda3/lib/python3.6/site-packages/sympy/integrals/integrals.py\u001b[0m in \u001b[0;36m_eval_integral\u001b[0;34m(self, f, x, meijerg, risch, manual, conds)\u001b[0m\n\u001b[1;32m    892\u001b[0m                 \u001b[0;32mtry\u001b[0m\u001b[0;34m:\u001b[0m\u001b[0;34m\u001b[0m\u001b[0m\n\u001b[1;32m    893\u001b[0m                     \u001b[0;32mif\u001b[0m \u001b[0mconds\u001b[0m \u001b[0;34m==\u001b[0m \u001b[0;34m'piecewise'\u001b[0m\u001b[0;34m:\u001b[0m\u001b[0;34m\u001b[0m\u001b[0m\n\u001b[0;32m--> 894\u001b[0;31m                         \u001b[0mh\u001b[0m \u001b[0;34m=\u001b[0m \u001b[0mheurisch_wrapper\u001b[0m\u001b[0;34m(\u001b[0m\u001b[0mg\u001b[0m\u001b[0;34m,\u001b[0m \u001b[0mx\u001b[0m\u001b[0;34m,\u001b[0m \u001b[0mhints\u001b[0m\u001b[0;34m=\u001b[0m\u001b[0;34m[\u001b[0m\u001b[0;34m]\u001b[0m\u001b[0;34m)\u001b[0m\u001b[0;34m\u001b[0m\u001b[0m\n\u001b[0m\u001b[1;32m    895\u001b[0m                     \u001b[0;32melse\u001b[0m\u001b[0;34m:\u001b[0m\u001b[0;34m\u001b[0m\u001b[0m\n\u001b[1;32m    896\u001b[0m                         \u001b[0mh\u001b[0m \u001b[0;34m=\u001b[0m \u001b[0mheurisch\u001b[0m\u001b[0;34m(\u001b[0m\u001b[0mg\u001b[0m\u001b[0;34m,\u001b[0m \u001b[0mx\u001b[0m\u001b[0;34m,\u001b[0m \u001b[0mhints\u001b[0m\u001b[0;34m=\u001b[0m\u001b[0;34m[\u001b[0m\u001b[0;34m]\u001b[0m\u001b[0;34m)\u001b[0m\u001b[0;34m\u001b[0m\u001b[0m\n",
      "\u001b[0;32m~/anaconda3/lib/python3.6/site-packages/sympy/integrals/heurisch.py\u001b[0m in \u001b[0;36mheurisch_wrapper\u001b[0;34m(f, x, rewrite, hints, mappings, retries, degree_offset, unnecessary_permutations)\u001b[0m\n\u001b[1;32m    128\u001b[0m \u001b[0;34m\u001b[0m\u001b[0m\n\u001b[1;32m    129\u001b[0m     res = heurisch(f, x, rewrite, hints, mappings, retries, degree_offset,\n\u001b[0;32m--> 130\u001b[0;31m                    unnecessary_permutations)\n\u001b[0m\u001b[1;32m    131\u001b[0m     \u001b[0;32mif\u001b[0m \u001b[0;32mnot\u001b[0m \u001b[0misinstance\u001b[0m\u001b[0;34m(\u001b[0m\u001b[0mres\u001b[0m\u001b[0;34m,\u001b[0m \u001b[0mBasic\u001b[0m\u001b[0;34m)\u001b[0m\u001b[0;34m:\u001b[0m\u001b[0;34m\u001b[0m\u001b[0m\n\u001b[1;32m    132\u001b[0m         \u001b[0;32mreturn\u001b[0m \u001b[0mres\u001b[0m\u001b[0;34m\u001b[0m\u001b[0m\n",
      "\u001b[0;32m~/anaconda3/lib/python3.6/site-packages/sympy/integrals/heurisch.py\u001b[0m in \u001b[0;36mheurisch\u001b[0;34m(f, x, rewrite, hints, mappings, retries, degree_offset, unnecessary_permutations)\u001b[0m\n\u001b[1;32m    659\u001b[0m \u001b[0;34m\u001b[0m\u001b[0m\n\u001b[1;32m    660\u001b[0m         \u001b[0;32mif\u001b[0m \u001b[0msolution\u001b[0m \u001b[0;32mis\u001b[0m \u001b[0;32mNone\u001b[0m\u001b[0;34m:\u001b[0m\u001b[0;34m\u001b[0m\u001b[0m\n\u001b[0;32m--> 661\u001b[0;31m             \u001b[0msolution\u001b[0m \u001b[0;34m=\u001b[0m \u001b[0m_integrate\u001b[0m\u001b[0;34m(\u001b[0m\u001b[0;34m)\u001b[0m\u001b[0;34m\u001b[0m\u001b[0m\n\u001b[0m\u001b[1;32m    662\u001b[0m     \u001b[0;32melse\u001b[0m\u001b[0;34m:\u001b[0m\u001b[0;34m\u001b[0m\u001b[0m\n\u001b[1;32m    663\u001b[0m         \u001b[0msolution\u001b[0m \u001b[0;34m=\u001b[0m \u001b[0m_integrate\u001b[0m\u001b[0;34m(\u001b[0m\u001b[0;34m)\u001b[0m\u001b[0;34m\u001b[0m\u001b[0m\n",
      "\u001b[0;32m~/anaconda3/lib/python3.6/site-packages/sympy/integrals/heurisch.py\u001b[0m in \u001b[0;36m_integrate\u001b[0;34m(field)\u001b[0m\n\u001b[1;32m    644\u001b[0m         \u001b[0mring\u001b[0m \u001b[0;34m=\u001b[0m \u001b[0mPolyRing\u001b[0m\u001b[0;34m(\u001b[0m\u001b[0mV\u001b[0m\u001b[0;34m,\u001b[0m \u001b[0mcoeff_ring\u001b[0m\u001b[0;34m)\u001b[0m\u001b[0;34m\u001b[0m\u001b[0m\n\u001b[1;32m    645\u001b[0m         \u001b[0;32mtry\u001b[0m\u001b[0;34m:\u001b[0m\u001b[0;34m\u001b[0m\u001b[0m\n\u001b[0;32m--> 646\u001b[0;31m             \u001b[0mnumer\u001b[0m \u001b[0;34m=\u001b[0m \u001b[0mring\u001b[0m\u001b[0;34m.\u001b[0m\u001b[0mfrom_expr\u001b[0m\u001b[0;34m(\u001b[0m\u001b[0mraw_numer\u001b[0m\u001b[0;34m)\u001b[0m\u001b[0;34m\u001b[0m\u001b[0m\n\u001b[0m\u001b[1;32m    647\u001b[0m         \u001b[0;32mexcept\u001b[0m \u001b[0mValueError\u001b[0m\u001b[0;34m:\u001b[0m\u001b[0;34m\u001b[0m\u001b[0m\n\u001b[1;32m    648\u001b[0m             \u001b[0;32mraise\u001b[0m \u001b[0mPolynomialError\u001b[0m\u001b[0;34m\u001b[0m\u001b[0m\n",
      "\u001b[0;32m~/anaconda3/lib/python3.6/site-packages/sympy/polys/rings.py\u001b[0m in \u001b[0;36mfrom_expr\u001b[0;34m(self, expr)\u001b[0m\n\u001b[1;32m    383\u001b[0m \u001b[0;34m\u001b[0m\u001b[0m\n\u001b[1;32m    384\u001b[0m         \u001b[0;32mtry\u001b[0m\u001b[0;34m:\u001b[0m\u001b[0;34m\u001b[0m\u001b[0m\n\u001b[0;32m--> 385\u001b[0;31m             \u001b[0mpoly\u001b[0m \u001b[0;34m=\u001b[0m \u001b[0mself\u001b[0m\u001b[0;34m.\u001b[0m\u001b[0m_rebuild_expr\u001b[0m\u001b[0;34m(\u001b[0m\u001b[0mexpr\u001b[0m\u001b[0;34m,\u001b[0m \u001b[0mmapping\u001b[0m\u001b[0;34m)\u001b[0m\u001b[0;34m\u001b[0m\u001b[0m\n\u001b[0m\u001b[1;32m    386\u001b[0m         \u001b[0;32mexcept\u001b[0m \u001b[0mCoercionFailed\u001b[0m\u001b[0;34m:\u001b[0m\u001b[0;34m\u001b[0m\u001b[0m\n\u001b[1;32m    387\u001b[0m             \u001b[0;32mraise\u001b[0m \u001b[0mValueError\u001b[0m\u001b[0;34m(\u001b[0m\u001b[0;34m\"expected an expression convertible to a polynomial in %s, got %s\"\u001b[0m \u001b[0;34m%\u001b[0m \u001b[0;34m(\u001b[0m\u001b[0mself\u001b[0m\u001b[0;34m,\u001b[0m \u001b[0mexpr\u001b[0m\u001b[0;34m)\u001b[0m\u001b[0;34m)\u001b[0m\u001b[0;34m\u001b[0m\u001b[0m\n",
      "\u001b[0;32m~/anaconda3/lib/python3.6/site-packages/sympy/polys/rings.py\u001b[0m in \u001b[0;36m_rebuild_expr\u001b[0;34m(self, expr, mapping)\u001b[0m\n\u001b[1;32m    377\u001b[0m                 \u001b[0;32mreturn\u001b[0m \u001b[0mdomain\u001b[0m\u001b[0;34m.\u001b[0m\u001b[0mconvert\u001b[0m\u001b[0;34m(\u001b[0m\u001b[0mexpr\u001b[0m\u001b[0;34m)\u001b[0m\u001b[0;34m\u001b[0m\u001b[0m\n\u001b[1;32m    378\u001b[0m \u001b[0;34m\u001b[0m\u001b[0m\n\u001b[0;32m--> 379\u001b[0;31m         \u001b[0;32mreturn\u001b[0m \u001b[0m_rebuild\u001b[0m\u001b[0;34m(\u001b[0m\u001b[0msympify\u001b[0m\u001b[0;34m(\u001b[0m\u001b[0mexpr\u001b[0m\u001b[0;34m)\u001b[0m\u001b[0;34m)\u001b[0m\u001b[0;34m\u001b[0m\u001b[0m\n\u001b[0m\u001b[1;32m    380\u001b[0m \u001b[0;34m\u001b[0m\u001b[0m\n\u001b[1;32m    381\u001b[0m     \u001b[0;32mdef\u001b[0m \u001b[0mfrom_expr\u001b[0m\u001b[0;34m(\u001b[0m\u001b[0mself\u001b[0m\u001b[0;34m,\u001b[0m \u001b[0mexpr\u001b[0m\u001b[0;34m)\u001b[0m\u001b[0;34m:\u001b[0m\u001b[0;34m\u001b[0m\u001b[0m\n",
      "\u001b[0;32m~/anaconda3/lib/python3.6/site-packages/sympy/polys/rings.py\u001b[0m in \u001b[0;36m_rebuild\u001b[0;34m(expr)\u001b[0m\n\u001b[1;32m    369\u001b[0m                 \u001b[0;32mreturn\u001b[0m \u001b[0mgenerator\u001b[0m\u001b[0;34m\u001b[0m\u001b[0m\n\u001b[1;32m    370\u001b[0m             \u001b[0;32melif\u001b[0m \u001b[0mexpr\u001b[0m\u001b[0;34m.\u001b[0m\u001b[0mis_Add\u001b[0m\u001b[0;34m:\u001b[0m\u001b[0;34m\u001b[0m\u001b[0m\n\u001b[0;32m--> 371\u001b[0;31m                 \u001b[0;32mreturn\u001b[0m \u001b[0mreduce\u001b[0m\u001b[0;34m(\u001b[0m\u001b[0madd\u001b[0m\u001b[0;34m,\u001b[0m \u001b[0mlist\u001b[0m\u001b[0;34m(\u001b[0m\u001b[0mmap\u001b[0m\u001b[0;34m(\u001b[0m\u001b[0m_rebuild\u001b[0m\u001b[0;34m,\u001b[0m \u001b[0mexpr\u001b[0m\u001b[0;34m.\u001b[0m\u001b[0margs\u001b[0m\u001b[0;34m)\u001b[0m\u001b[0;34m)\u001b[0m\u001b[0;34m)\u001b[0m\u001b[0;34m\u001b[0m\u001b[0m\n\u001b[0m\u001b[1;32m    372\u001b[0m             \u001b[0;32melif\u001b[0m \u001b[0mexpr\u001b[0m\u001b[0;34m.\u001b[0m\u001b[0mis_Mul\u001b[0m\u001b[0;34m:\u001b[0m\u001b[0;34m\u001b[0m\u001b[0m\n\u001b[1;32m    373\u001b[0m                 \u001b[0;32mreturn\u001b[0m \u001b[0mreduce\u001b[0m\u001b[0;34m(\u001b[0m\u001b[0mmul\u001b[0m\u001b[0;34m,\u001b[0m \u001b[0mlist\u001b[0m\u001b[0;34m(\u001b[0m\u001b[0mmap\u001b[0m\u001b[0;34m(\u001b[0m\u001b[0m_rebuild\u001b[0m\u001b[0;34m,\u001b[0m \u001b[0mexpr\u001b[0m\u001b[0;34m.\u001b[0m\u001b[0margs\u001b[0m\u001b[0;34m)\u001b[0m\u001b[0;34m)\u001b[0m\u001b[0;34m)\u001b[0m\u001b[0;34m\u001b[0m\u001b[0m\n",
      "\u001b[0;32m~/anaconda3/lib/python3.6/site-packages/sympy/polys/rings.py\u001b[0m in \u001b[0;36m_rebuild\u001b[0;34m(expr)\u001b[0m\n\u001b[1;32m    371\u001b[0m                 \u001b[0;32mreturn\u001b[0m \u001b[0mreduce\u001b[0m\u001b[0;34m(\u001b[0m\u001b[0madd\u001b[0m\u001b[0;34m,\u001b[0m \u001b[0mlist\u001b[0m\u001b[0;34m(\u001b[0m\u001b[0mmap\u001b[0m\u001b[0;34m(\u001b[0m\u001b[0m_rebuild\u001b[0m\u001b[0;34m,\u001b[0m \u001b[0mexpr\u001b[0m\u001b[0;34m.\u001b[0m\u001b[0margs\u001b[0m\u001b[0;34m)\u001b[0m\u001b[0;34m)\u001b[0m\u001b[0;34m)\u001b[0m\u001b[0;34m\u001b[0m\u001b[0m\n\u001b[1;32m    372\u001b[0m             \u001b[0;32melif\u001b[0m \u001b[0mexpr\u001b[0m\u001b[0;34m.\u001b[0m\u001b[0mis_Mul\u001b[0m\u001b[0;34m:\u001b[0m\u001b[0;34m\u001b[0m\u001b[0m\n\u001b[0;32m--> 373\u001b[0;31m                 \u001b[0;32mreturn\u001b[0m \u001b[0mreduce\u001b[0m\u001b[0;34m(\u001b[0m\u001b[0mmul\u001b[0m\u001b[0;34m,\u001b[0m \u001b[0mlist\u001b[0m\u001b[0;34m(\u001b[0m\u001b[0mmap\u001b[0m\u001b[0;34m(\u001b[0m\u001b[0m_rebuild\u001b[0m\u001b[0;34m,\u001b[0m \u001b[0mexpr\u001b[0m\u001b[0;34m.\u001b[0m\u001b[0margs\u001b[0m\u001b[0;34m)\u001b[0m\u001b[0;34m)\u001b[0m\u001b[0;34m)\u001b[0m\u001b[0;34m\u001b[0m\u001b[0m\n\u001b[0m\u001b[1;32m    374\u001b[0m             \u001b[0;32melif\u001b[0m \u001b[0mexpr\u001b[0m\u001b[0;34m.\u001b[0m\u001b[0mis_Pow\u001b[0m \u001b[0;32mand\u001b[0m \u001b[0mexpr\u001b[0m\u001b[0;34m.\u001b[0m\u001b[0mexp\u001b[0m\u001b[0;34m.\u001b[0m\u001b[0mis_Integer\u001b[0m \u001b[0;32mand\u001b[0m \u001b[0mexpr\u001b[0m\u001b[0;34m.\u001b[0m\u001b[0mexp\u001b[0m \u001b[0;34m>=\u001b[0m \u001b[0;36m0\u001b[0m\u001b[0;34m:\u001b[0m\u001b[0;34m\u001b[0m\u001b[0m\n\u001b[1;32m    375\u001b[0m                 \u001b[0;32mreturn\u001b[0m \u001b[0m_rebuild\u001b[0m\u001b[0;34m(\u001b[0m\u001b[0mexpr\u001b[0m\u001b[0;34m.\u001b[0m\u001b[0mbase\u001b[0m\u001b[0;34m)\u001b[0m\u001b[0;34m**\u001b[0m\u001b[0mint\u001b[0m\u001b[0;34m(\u001b[0m\u001b[0mexpr\u001b[0m\u001b[0;34m.\u001b[0m\u001b[0mexp\u001b[0m\u001b[0;34m)\u001b[0m\u001b[0;34m\u001b[0m\u001b[0m\n",
      "\u001b[0;32m~/anaconda3/lib/python3.6/site-packages/sympy/polys/rings.py\u001b[0m in \u001b[0;36m__mul__\u001b[0;34m(p1, p2)\u001b[0m\n\u001b[1;32m   1094\u001b[0m                 \u001b[0;32mpass\u001b[0m\u001b[0;34m\u001b[0m\u001b[0m\n\u001b[1;32m   1095\u001b[0m             \u001b[0;32melif\u001b[0m \u001b[0misinstance\u001b[0m\u001b[0;34m(\u001b[0m\u001b[0mp2\u001b[0m\u001b[0;34m.\u001b[0m\u001b[0mring\u001b[0m\u001b[0;34m.\u001b[0m\u001b[0mdomain\u001b[0m\u001b[0;34m,\u001b[0m \u001b[0mPolynomialRing\u001b[0m\u001b[0;34m)\u001b[0m \u001b[0;32mand\u001b[0m \u001b[0mp2\u001b[0m\u001b[0;34m.\u001b[0m\u001b[0mring\u001b[0m\u001b[0;34m.\u001b[0m\u001b[0mdomain\u001b[0m\u001b[0;34m.\u001b[0m\u001b[0mring\u001b[0m \u001b[0;34m==\u001b[0m \u001b[0mring\u001b[0m\u001b[0;34m:\u001b[0m\u001b[0;34m\u001b[0m\u001b[0m\n\u001b[0;32m-> 1096\u001b[0;31m                 \u001b[0;32mreturn\u001b[0m \u001b[0mp2\u001b[0m\u001b[0;34m.\u001b[0m\u001b[0m__rmul__\u001b[0m\u001b[0;34m(\u001b[0m\u001b[0mp1\u001b[0m\u001b[0;34m)\u001b[0m\u001b[0;34m\u001b[0m\u001b[0m\n\u001b[0m\u001b[1;32m   1097\u001b[0m             \u001b[0;32melse\u001b[0m\u001b[0;34m:\u001b[0m\u001b[0;34m\u001b[0m\u001b[0m\n\u001b[1;32m   1098\u001b[0m                 \u001b[0;32mreturn\u001b[0m \u001b[0mNotImplemented\u001b[0m\u001b[0;34m\u001b[0m\u001b[0m\n",
      "\u001b[0;32m~/anaconda3/lib/python3.6/site-packages/sympy/polys/rings.py\u001b[0m in \u001b[0;36m__rmul__\u001b[0;34m(p1, p2)\u001b[0m\n\u001b[1;32m   1133\u001b[0m         \u001b[0;32melse\u001b[0m\u001b[0;34m:\u001b[0m\u001b[0;34m\u001b[0m\u001b[0m\n\u001b[1;32m   1134\u001b[0m             \u001b[0;32mfor\u001b[0m \u001b[0mexp1\u001b[0m\u001b[0;34m,\u001b[0m \u001b[0mv1\u001b[0m \u001b[0;32min\u001b[0m \u001b[0mp1\u001b[0m\u001b[0;34m.\u001b[0m\u001b[0mitems\u001b[0m\u001b[0;34m(\u001b[0m\u001b[0;34m)\u001b[0m\u001b[0;34m:\u001b[0m\u001b[0;34m\u001b[0m\u001b[0m\n\u001b[0;32m-> 1135\u001b[0;31m                 \u001b[0mv\u001b[0m \u001b[0;34m=\u001b[0m \u001b[0mp2\u001b[0m\u001b[0;34m*\u001b[0m\u001b[0mv1\u001b[0m\u001b[0;34m\u001b[0m\u001b[0m\n\u001b[0m\u001b[1;32m   1136\u001b[0m                 \u001b[0;32mif\u001b[0m \u001b[0mv\u001b[0m\u001b[0;34m:\u001b[0m\u001b[0;34m\u001b[0m\u001b[0m\n\u001b[1;32m   1137\u001b[0m                     \u001b[0mp\u001b[0m\u001b[0;34m[\u001b[0m\u001b[0mexp1\u001b[0m\u001b[0;34m]\u001b[0m \u001b[0;34m=\u001b[0m \u001b[0mv\u001b[0m\u001b[0;34m\u001b[0m\u001b[0m\n",
      "\u001b[0;32m~/anaconda3/lib/python3.6/site-packages/sympy/polys/rings.py\u001b[0m in \u001b[0;36m__mul__\u001b[0;34m(p1, p2)\u001b[0m\n\u001b[1;32m   1087\u001b[0m                 \u001b[0;32mfor\u001b[0m \u001b[0mexp2\u001b[0m\u001b[0;34m,\u001b[0m \u001b[0mv2\u001b[0m \u001b[0;32min\u001b[0m \u001b[0mp2it\u001b[0m\u001b[0;34m:\u001b[0m\u001b[0;34m\u001b[0m\u001b[0m\n\u001b[1;32m   1088\u001b[0m                     \u001b[0mexp\u001b[0m \u001b[0;34m=\u001b[0m \u001b[0mmonomial_mul\u001b[0m\u001b[0;34m(\u001b[0m\u001b[0mexp1\u001b[0m\u001b[0;34m,\u001b[0m \u001b[0mexp2\u001b[0m\u001b[0;34m)\u001b[0m\u001b[0;34m\u001b[0m\u001b[0m\n\u001b[0;32m-> 1089\u001b[0;31m                     \u001b[0mp\u001b[0m\u001b[0;34m[\u001b[0m\u001b[0mexp\u001b[0m\u001b[0;34m]\u001b[0m \u001b[0;34m=\u001b[0m \u001b[0mget\u001b[0m\u001b[0;34m(\u001b[0m\u001b[0mexp\u001b[0m\u001b[0;34m,\u001b[0m \u001b[0mzero\u001b[0m\u001b[0;34m)\u001b[0m \u001b[0;34m+\u001b[0m \u001b[0mv1\u001b[0m\u001b[0;34m*\u001b[0m\u001b[0mv2\u001b[0m\u001b[0;34m\u001b[0m\u001b[0m\n\u001b[0m\u001b[1;32m   1090\u001b[0m             \u001b[0mp\u001b[0m\u001b[0;34m.\u001b[0m\u001b[0mstrip_zero\u001b[0m\u001b[0;34m(\u001b[0m\u001b[0;34m)\u001b[0m\u001b[0;34m\u001b[0m\u001b[0m\n\u001b[1;32m   1091\u001b[0m             \u001b[0;32mreturn\u001b[0m \u001b[0mp\u001b[0m\u001b[0;34m\u001b[0m\u001b[0m\n",
      "\u001b[0;32m~/anaconda3/lib/python3.6/site-packages/sympy/polys/domains/expressiondomain.py\u001b[0m in \u001b[0;36m__mul__\u001b[0;34m(f, g)\u001b[0m\n\u001b[1;32m     87\u001b[0m \u001b[0;34m\u001b[0m\u001b[0m\n\u001b[1;32m     88\u001b[0m             \u001b[0;32mif\u001b[0m \u001b[0mg\u001b[0m \u001b[0;32mis\u001b[0m \u001b[0;32mnot\u001b[0m \u001b[0;32mNone\u001b[0m\u001b[0;34m:\u001b[0m\u001b[0;34m\u001b[0m\u001b[0m\n\u001b[0;32m---> 89\u001b[0;31m                 \u001b[0;32mreturn\u001b[0m \u001b[0mf\u001b[0m\u001b[0;34m.\u001b[0m\u001b[0msimplify\u001b[0m\u001b[0;34m(\u001b[0m\u001b[0mf\u001b[0m\u001b[0;34m.\u001b[0m\u001b[0mex\u001b[0m\u001b[0;34m*\u001b[0m\u001b[0mg\u001b[0m\u001b[0;34m.\u001b[0m\u001b[0mex\u001b[0m\u001b[0;34m)\u001b[0m\u001b[0;34m\u001b[0m\u001b[0m\n\u001b[0m\u001b[1;32m     90\u001b[0m             \u001b[0;32melse\u001b[0m\u001b[0;34m:\u001b[0m\u001b[0;34m\u001b[0m\u001b[0m\n\u001b[1;32m     91\u001b[0m                 \u001b[0;32mreturn\u001b[0m \u001b[0mNotImplemented\u001b[0m\u001b[0;34m\u001b[0m\u001b[0m\n",
      "\u001b[0;32m~/anaconda3/lib/python3.6/site-packages/sympy/polys/domains/expressiondomain.py\u001b[0m in \u001b[0;36msimplify\u001b[0;34m(f, ex)\u001b[0m\n\u001b[1;32m     47\u001b[0m \u001b[0;34m\u001b[0m\u001b[0m\n\u001b[1;32m     48\u001b[0m         \u001b[0;32mdef\u001b[0m \u001b[0msimplify\u001b[0m\u001b[0;34m(\u001b[0m\u001b[0mf\u001b[0m\u001b[0;34m,\u001b[0m \u001b[0mex\u001b[0m\u001b[0;34m)\u001b[0m\u001b[0;34m:\u001b[0m\u001b[0;34m\u001b[0m\u001b[0m\n\u001b[0;32m---> 49\u001b[0;31m             \u001b[0;32mreturn\u001b[0m \u001b[0mf\u001b[0m\u001b[0;34m.\u001b[0m\u001b[0m__class__\u001b[0m\u001b[0;34m(\u001b[0m\u001b[0mex\u001b[0m\u001b[0;34m.\u001b[0m\u001b[0mcancel\u001b[0m\u001b[0;34m(\u001b[0m\u001b[0;34m)\u001b[0m\u001b[0;34m)\u001b[0m\u001b[0;34m\u001b[0m\u001b[0m\n\u001b[0m\u001b[1;32m     50\u001b[0m \u001b[0;34m\u001b[0m\u001b[0m\n\u001b[1;32m     51\u001b[0m         \u001b[0;32mdef\u001b[0m \u001b[0m__abs__\u001b[0m\u001b[0;34m(\u001b[0m\u001b[0mf\u001b[0m\u001b[0;34m)\u001b[0m\u001b[0;34m:\u001b[0m\u001b[0;34m\u001b[0m\u001b[0m\n",
      "\u001b[0;32m~/anaconda3/lib/python3.6/site-packages/sympy/core/expr.py\u001b[0m in \u001b[0;36mcancel\u001b[0;34m(self, *gens, **args)\u001b[0m\n\u001b[1;32m   3159\u001b[0m         \u001b[0;34m\"\"\"See the cancel function in sympy.polys\"\"\"\u001b[0m\u001b[0;34m\u001b[0m\u001b[0m\n\u001b[1;32m   3160\u001b[0m         \u001b[0;32mfrom\u001b[0m \u001b[0msympy\u001b[0m\u001b[0;34m.\u001b[0m\u001b[0mpolys\u001b[0m \u001b[0;32mimport\u001b[0m \u001b[0mcancel\u001b[0m\u001b[0;34m\u001b[0m\u001b[0m\n\u001b[0;32m-> 3161\u001b[0;31m         \u001b[0;32mreturn\u001b[0m \u001b[0mcancel\u001b[0m\u001b[0;34m(\u001b[0m\u001b[0mself\u001b[0m\u001b[0;34m,\u001b[0m \u001b[0;34m*\u001b[0m\u001b[0mgens\u001b[0m\u001b[0;34m,\u001b[0m \u001b[0;34m**\u001b[0m\u001b[0margs\u001b[0m\u001b[0;34m)\u001b[0m\u001b[0;34m\u001b[0m\u001b[0m\n\u001b[0m\u001b[1;32m   3162\u001b[0m \u001b[0;34m\u001b[0m\u001b[0m\n\u001b[1;32m   3163\u001b[0m     \u001b[0;32mdef\u001b[0m \u001b[0minvert\u001b[0m\u001b[0;34m(\u001b[0m\u001b[0mself\u001b[0m\u001b[0;34m,\u001b[0m \u001b[0mg\u001b[0m\u001b[0;34m,\u001b[0m \u001b[0;34m*\u001b[0m\u001b[0mgens\u001b[0m\u001b[0;34m,\u001b[0m \u001b[0;34m**\u001b[0m\u001b[0margs\u001b[0m\u001b[0;34m)\u001b[0m\u001b[0;34m:\u001b[0m\u001b[0;34m\u001b[0m\u001b[0m\n",
      "\u001b[0;32m~/anaconda3/lib/python3.6/site-packages/sympy/polys/polytools.py\u001b[0m in \u001b[0;36mcancel\u001b[0;34m(f, *gens, **args)\u001b[0m\n\u001b[1;32m   6421\u001b[0m         \u001b[0;32mif\u001b[0m \u001b[0mf\u001b[0m\u001b[0;34m.\u001b[0m\u001b[0mis_Number\u001b[0m \u001b[0;32mor\u001b[0m \u001b[0misinstance\u001b[0m\u001b[0;34m(\u001b[0m\u001b[0mf\u001b[0m\u001b[0;34m,\u001b[0m \u001b[0mRelational\u001b[0m\u001b[0;34m)\u001b[0m \u001b[0;32mor\u001b[0m \u001b[0;32mnot\u001b[0m \u001b[0misinstance\u001b[0m\u001b[0;34m(\u001b[0m\u001b[0mf\u001b[0m\u001b[0;34m,\u001b[0m \u001b[0mExpr\u001b[0m\u001b[0;34m)\u001b[0m\u001b[0;34m:\u001b[0m\u001b[0;34m\u001b[0m\u001b[0m\n\u001b[1;32m   6422\u001b[0m             \u001b[0;32mreturn\u001b[0m \u001b[0mf\u001b[0m\u001b[0;34m\u001b[0m\u001b[0m\n\u001b[0;32m-> 6423\u001b[0;31m         \u001b[0mf\u001b[0m \u001b[0;34m=\u001b[0m \u001b[0mfactor_terms\u001b[0m\u001b[0;34m(\u001b[0m\u001b[0mf\u001b[0m\u001b[0;34m,\u001b[0m \u001b[0mradical\u001b[0m\u001b[0;34m=\u001b[0m\u001b[0;32mTrue\u001b[0m\u001b[0;34m)\u001b[0m\u001b[0;34m\u001b[0m\u001b[0m\n\u001b[0m\u001b[1;32m   6424\u001b[0m         \u001b[0mp\u001b[0m\u001b[0;34m,\u001b[0m \u001b[0mq\u001b[0m \u001b[0;34m=\u001b[0m \u001b[0mf\u001b[0m\u001b[0;34m.\u001b[0m\u001b[0mas_numer_denom\u001b[0m\u001b[0;34m(\u001b[0m\u001b[0;34m)\u001b[0m\u001b[0;34m\u001b[0m\u001b[0m\n\u001b[1;32m   6425\u001b[0m \u001b[0;34m\u001b[0m\u001b[0m\n",
      "\u001b[0;32m~/anaconda3/lib/python3.6/site-packages/sympy/core/exprtools.py\u001b[0m in \u001b[0;36mfactor_terms\u001b[0;34m(expr, radical, clear, fraction, sign)\u001b[0m\n\u001b[1;32m   1191\u001b[0m         \u001b[0;32mreturn\u001b[0m \u001b[0mrv\u001b[0m\u001b[0;34m\u001b[0m\u001b[0m\n\u001b[1;32m   1192\u001b[0m     \u001b[0mexpr\u001b[0m \u001b[0;34m=\u001b[0m \u001b[0msympify\u001b[0m\u001b[0;34m(\u001b[0m\u001b[0mexpr\u001b[0m\u001b[0;34m)\u001b[0m\u001b[0;34m\u001b[0m\u001b[0m\n\u001b[0;32m-> 1193\u001b[0;31m     \u001b[0;32mreturn\u001b[0m \u001b[0mdo\u001b[0m\u001b[0;34m(\u001b[0m\u001b[0mexpr\u001b[0m\u001b[0;34m)\u001b[0m\u001b[0;34m\u001b[0m\u001b[0m\n\u001b[0m\u001b[1;32m   1194\u001b[0m \u001b[0;34m\u001b[0m\u001b[0m\n\u001b[1;32m   1195\u001b[0m \u001b[0;34m\u001b[0m\u001b[0m\n",
      "\u001b[0;32m~/anaconda3/lib/python3.6/site-packages/sympy/core/exprtools.py\u001b[0m in \u001b[0;36mdo\u001b[0;34m(expr)\u001b[0m\n\u001b[1;32m   1165\u001b[0m             \u001b[0;32mreturn\u001b[0m \u001b[0mfactor_sum\u001b[0m\u001b[0;34m(\u001b[0m\u001b[0mexpr\u001b[0m\u001b[0;34m,\u001b[0m \u001b[0mradical\u001b[0m\u001b[0;34m=\u001b[0m\u001b[0mradical\u001b[0m\u001b[0;34m,\u001b[0m \u001b[0mclear\u001b[0m\u001b[0;34m=\u001b[0m\u001b[0mclear\u001b[0m\u001b[0;34m,\u001b[0m \u001b[0mfraction\u001b[0m\u001b[0;34m=\u001b[0m\u001b[0mfraction\u001b[0m\u001b[0;34m,\u001b[0m \u001b[0msign\u001b[0m\u001b[0;34m=\u001b[0m\u001b[0msign\u001b[0m\u001b[0;34m)\u001b[0m\u001b[0;34m\u001b[0m\u001b[0m\n\u001b[1;32m   1166\u001b[0m \u001b[0;34m\u001b[0m\u001b[0m\n\u001b[0;32m-> 1167\u001b[0;31m         \u001b[0mcont\u001b[0m\u001b[0;34m,\u001b[0m \u001b[0mp\u001b[0m \u001b[0;34m=\u001b[0m \u001b[0mexpr\u001b[0m\u001b[0;34m.\u001b[0m\u001b[0mas_content_primitive\u001b[0m\u001b[0;34m(\u001b[0m\u001b[0mradical\u001b[0m\u001b[0;34m=\u001b[0m\u001b[0mradical\u001b[0m\u001b[0;34m,\u001b[0m \u001b[0mclear\u001b[0m\u001b[0;34m=\u001b[0m\u001b[0mclear\u001b[0m\u001b[0;34m)\u001b[0m\u001b[0;34m\u001b[0m\u001b[0m\n\u001b[0m\u001b[1;32m   1168\u001b[0m         \u001b[0;32mif\u001b[0m \u001b[0mp\u001b[0m\u001b[0;34m.\u001b[0m\u001b[0mis_Add\u001b[0m\u001b[0;34m:\u001b[0m\u001b[0;34m\u001b[0m\u001b[0m\n\u001b[1;32m   1169\u001b[0m             \u001b[0mlist_args\u001b[0m \u001b[0;34m=\u001b[0m \u001b[0;34m[\u001b[0m\u001b[0mdo\u001b[0m\u001b[0;34m(\u001b[0m\u001b[0ma\u001b[0m\u001b[0;34m)\u001b[0m \u001b[0;32mfor\u001b[0m \u001b[0ma\u001b[0m \u001b[0;32min\u001b[0m \u001b[0mAdd\u001b[0m\u001b[0;34m.\u001b[0m\u001b[0mmake_args\u001b[0m\u001b[0;34m(\u001b[0m\u001b[0mp\u001b[0m\u001b[0;34m)\u001b[0m\u001b[0;34m]\u001b[0m\u001b[0;34m\u001b[0m\u001b[0m\n",
      "\u001b[0;32m~/anaconda3/lib/python3.6/site-packages/sympy/core/add.py\u001b[0m in \u001b[0;36mas_content_primitive\u001b[0;34m(self, radical, clear)\u001b[0m\n\u001b[1;32m    968\u001b[0m         \"\"\"\n\u001b[1;32m    969\u001b[0m         con, prim = self.func(*[_keep_coeff(*a.as_content_primitive(\n\u001b[0;32m--> 970\u001b[0;31m             radical=radical, clear=clear)) for a in self.args]).primitive()\n\u001b[0m\u001b[1;32m    971\u001b[0m         \u001b[0;32mif\u001b[0m \u001b[0;32mnot\u001b[0m \u001b[0mclear\u001b[0m \u001b[0;32mand\u001b[0m \u001b[0;32mnot\u001b[0m \u001b[0mcon\u001b[0m\u001b[0;34m.\u001b[0m\u001b[0mis_Integer\u001b[0m \u001b[0;32mand\u001b[0m \u001b[0mprim\u001b[0m\u001b[0;34m.\u001b[0m\u001b[0mis_Add\u001b[0m\u001b[0;34m:\u001b[0m\u001b[0;34m\u001b[0m\u001b[0m\n\u001b[1;32m    972\u001b[0m             \u001b[0mcon\u001b[0m\u001b[0;34m,\u001b[0m \u001b[0md\u001b[0m \u001b[0;34m=\u001b[0m \u001b[0mcon\u001b[0m\u001b[0;34m.\u001b[0m\u001b[0mas_numer_denom\u001b[0m\u001b[0;34m(\u001b[0m\u001b[0;34m)\u001b[0m\u001b[0;34m\u001b[0m\u001b[0m\n",
      "\u001b[0;32m~/anaconda3/lib/python3.6/site-packages/sympy/core/operations.py\u001b[0m in \u001b[0;36m__new__\u001b[0;34m(cls, *args, **options)\u001b[0m\n\u001b[1;32m     39\u001b[0m             \u001b[0;32mreturn\u001b[0m \u001b[0margs\u001b[0m\u001b[0;34m[\u001b[0m\u001b[0;36m0\u001b[0m\u001b[0;34m]\u001b[0m\u001b[0;34m\u001b[0m\u001b[0m\n\u001b[1;32m     40\u001b[0m \u001b[0;34m\u001b[0m\u001b[0m\n\u001b[0;32m---> 41\u001b[0;31m         \u001b[0mc_part\u001b[0m\u001b[0;34m,\u001b[0m \u001b[0mnc_part\u001b[0m\u001b[0;34m,\u001b[0m \u001b[0morder_symbols\u001b[0m \u001b[0;34m=\u001b[0m \u001b[0mcls\u001b[0m\u001b[0;34m.\u001b[0m\u001b[0mflatten\u001b[0m\u001b[0;34m(\u001b[0m\u001b[0margs\u001b[0m\u001b[0;34m)\u001b[0m\u001b[0;34m\u001b[0m\u001b[0m\n\u001b[0m\u001b[1;32m     42\u001b[0m         \u001b[0mis_commutative\u001b[0m \u001b[0;34m=\u001b[0m \u001b[0;32mnot\u001b[0m \u001b[0mnc_part\u001b[0m\u001b[0;34m\u001b[0m\u001b[0m\n\u001b[1;32m     43\u001b[0m         \u001b[0mobj\u001b[0m \u001b[0;34m=\u001b[0m \u001b[0mcls\u001b[0m\u001b[0;34m.\u001b[0m\u001b[0m_from_args\u001b[0m\u001b[0;34m(\u001b[0m\u001b[0mc_part\u001b[0m \u001b[0;34m+\u001b[0m \u001b[0mnc_part\u001b[0m\u001b[0;34m,\u001b[0m \u001b[0mis_commutative\u001b[0m\u001b[0;34m)\u001b[0m\u001b[0;34m\u001b[0m\u001b[0m\n",
      "\u001b[0;32m~/anaconda3/lib/python3.6/site-packages/sympy/core/add.py\u001b[0m in \u001b[0;36mflatten\u001b[0;34m(cls, seq)\u001b[0m\n\u001b[1;32m    109\u001b[0m                         \u001b[0;31m# e.g. x**2 -> 5   for ... + 5*x**2 + ...\u001b[0m\u001b[0;34m\u001b[0m\u001b[0;34m\u001b[0m\u001b[0m\n\u001b[1;32m    110\u001b[0m \u001b[0;34m\u001b[0m\u001b[0m\n\u001b[0;32m--> 111\u001b[0;31m         \u001b[0mcoeff\u001b[0m \u001b[0;34m=\u001b[0m \u001b[0mS\u001b[0m\u001b[0;34m.\u001b[0m\u001b[0mZero\u001b[0m  \u001b[0;31m# coefficient (Number or zoo) to always be in slot 0\u001b[0m\u001b[0;34m\u001b[0m\u001b[0m\n\u001b[0m\u001b[1;32m    112\u001b[0m                         \u001b[0;31m# e.g. 3 + ...\u001b[0m\u001b[0;34m\u001b[0m\u001b[0;34m\u001b[0m\u001b[0m\n\u001b[1;32m    113\u001b[0m         \u001b[0morder_factors\u001b[0m \u001b[0;34m=\u001b[0m \u001b[0;34m[\u001b[0m\u001b[0;34m]\u001b[0m\u001b[0;34m\u001b[0m\u001b[0m\n",
      "\u001b[0;31mKeyboardInterrupt\u001b[0m: "
     ]
    }
   ],
   "source": [
    "integrate(fn4, zp)"
   ]
  },
  {
   "cell_type": "code",
   "execution_count": 126,
   "metadata": {
    "ExecuteTime": {
     "end_time": "2019-11-28T19:10:27.115266Z",
     "start_time": "2019-11-28T19:07:39.249198Z"
    },
    "hidden": true
   },
   "outputs": [
    {
     "ename": "KeyboardInterrupt",
     "evalue": "",
     "output_type": "error",
     "traceback": [
      "\u001b[0;31m---------------------------------------------------------------------------\u001b[0m",
      "\u001b[0;31mKeyboardInterrupt\u001b[0m                         Traceback (most recent call last)",
      "\u001b[0;32m<ipython-input-126-df2d8714979a>\u001b[0m in \u001b[0;36m<module>\u001b[0;34m()\u001b[0m\n\u001b[1;32m      1\u001b[0m \u001b[0mf6\u001b[0m \u001b[0;34m=\u001b[0m \u001b[0mlog\u001b[0m\u001b[0;34m(\u001b[0m\u001b[0;34m(\u001b[0m\u001b[0;34m(\u001b[0m\u001b[0mxi\u001b[0m\u001b[0;34m-\u001b[0m\u001b[0mxip\u001b[0m\u001b[0;34m)\u001b[0m\u001b[0;34m**\u001b[0m\u001b[0;36m2\u001b[0m\u001b[0;34m+\u001b[0m\u001b[0;34m(\u001b[0m\u001b[0mz\u001b[0m\u001b[0;34m-\u001b[0m\u001b[0mzp\u001b[0m\u001b[0;34m)\u001b[0m\u001b[0;34m**\u001b[0m\u001b[0;36m2\u001b[0m\u001b[0;34m)\u001b[0m\u001b[0;34m/\u001b[0m\u001b[0;34m(\u001b[0m\u001b[0;34m(\u001b[0m\u001b[0mxi\u001b[0m\u001b[0;34m-\u001b[0m\u001b[0mxip\u001b[0m\u001b[0;34m)\u001b[0m\u001b[0;34m**\u001b[0m\u001b[0;36m2\u001b[0m\u001b[0;34m+\u001b[0m\u001b[0;34m(\u001b[0m\u001b[0mz\u001b[0m\u001b[0;34m+\u001b[0m\u001b[0mzp\u001b[0m\u001b[0;34m)\u001b[0m\u001b[0;34m**\u001b[0m\u001b[0;36m2\u001b[0m\u001b[0;34m)\u001b[0m\u001b[0;34m)\u001b[0m\u001b[0;34m*\u001b[0m\u001b[0;34m(\u001b[0m\u001b[0mxip\u001b[0m\u001b[0;34m-\u001b[0m\u001b[0mxi\u001b[0m\u001b[0;34m)\u001b[0m \u001b[0;34m+\u001b[0m \u001b[0;36m2\u001b[0m\u001b[0;34m*\u001b[0m\u001b[0;34m(\u001b[0m\u001b[0mz\u001b[0m\u001b[0;34m-\u001b[0m\u001b[0mzp\u001b[0m\u001b[0;34m)\u001b[0m\u001b[0;34m*\u001b[0m\u001b[0matan\u001b[0m\u001b[0;34m(\u001b[0m\u001b[0;34m(\u001b[0m\u001b[0mz\u001b[0m\u001b[0;34m-\u001b[0m\u001b[0mzp\u001b[0m\u001b[0;34m)\u001b[0m\u001b[0;34m/\u001b[0m\u001b[0;34m(\u001b[0m\u001b[0mxi\u001b[0m\u001b[0;34m-\u001b[0m\u001b[0mxip\u001b[0m\u001b[0;34m)\u001b[0m\u001b[0;34m)\u001b[0m\u001b[0;34m-\u001b[0m\u001b[0;36m2\u001b[0m\u001b[0;34m*\u001b[0m\u001b[0;34m(\u001b[0m\u001b[0mz\u001b[0m\u001b[0;34m+\u001b[0m\u001b[0mzp\u001b[0m\u001b[0;34m)\u001b[0m\u001b[0;34m*\u001b[0m\u001b[0matan\u001b[0m\u001b[0;34m(\u001b[0m\u001b[0;34m(\u001b[0m\u001b[0mz\u001b[0m\u001b[0;34m+\u001b[0m\u001b[0mzp\u001b[0m\u001b[0;34m)\u001b[0m\u001b[0;34m/\u001b[0m\u001b[0;34m(\u001b[0m\u001b[0mxi\u001b[0m\u001b[0;34m-\u001b[0m\u001b[0mxip\u001b[0m\u001b[0;34m)\u001b[0m\u001b[0;34m)\u001b[0m\u001b[0;34m\u001b[0m\u001b[0m\n\u001b[0;32m----> 2\u001b[0;31m \u001b[0mintegrate\u001b[0m\u001b[0;34m(\u001b[0m\u001b[0mf6\u001b[0m\u001b[0;34m,\u001b[0m \u001b[0mzp\u001b[0m\u001b[0;34m)\u001b[0m\u001b[0;34m\u001b[0m\u001b[0m\n\u001b[0m",
      "\u001b[0;32m~/anaconda3/lib/python3.6/site-packages/sympy/integrals/integrals.py\u001b[0m in \u001b[0;36mintegrate\u001b[0;34m(*args, **kwargs)\u001b[0m\n\u001b[1;32m   1293\u001b[0m     \u001b[0;32mif\u001b[0m \u001b[0misinstance\u001b[0m\u001b[0;34m(\u001b[0m\u001b[0mintegral\u001b[0m\u001b[0;34m,\u001b[0m \u001b[0mIntegral\u001b[0m\u001b[0;34m)\u001b[0m\u001b[0;34m:\u001b[0m\u001b[0;34m\u001b[0m\u001b[0m\n\u001b[1;32m   1294\u001b[0m         return integral.doit(deep=False, meijerg=meijerg, conds=conds,\n\u001b[0;32m-> 1295\u001b[0;31m                              risch=risch, manual=manual)\n\u001b[0m\u001b[1;32m   1296\u001b[0m     \u001b[0;32melse\u001b[0m\u001b[0;34m:\u001b[0m\u001b[0;34m\u001b[0m\u001b[0m\n\u001b[1;32m   1297\u001b[0m         \u001b[0;32mreturn\u001b[0m \u001b[0mintegral\u001b[0m\u001b[0;34m\u001b[0m\u001b[0m\n",
      "\u001b[0;32m~/anaconda3/lib/python3.6/site-packages/sympy/integrals/integrals.py\u001b[0m in \u001b[0;36mdoit\u001b[0;34m(self, **hints)\u001b[0m\n\u001b[1;32m    484\u001b[0m                     \u001b[0mfunction\u001b[0m\u001b[0;34m,\u001b[0m \u001b[0mxab\u001b[0m\u001b[0;34m[\u001b[0m\u001b[0;36m0\u001b[0m\u001b[0;34m]\u001b[0m\u001b[0;34m,\u001b[0m\u001b[0;34m\u001b[0m\u001b[0m\n\u001b[1;32m    485\u001b[0m                     \u001b[0mmeijerg\u001b[0m\u001b[0;34m=\u001b[0m\u001b[0mmeijerg1\u001b[0m\u001b[0;34m,\u001b[0m \u001b[0mrisch\u001b[0m\u001b[0;34m=\u001b[0m\u001b[0mrisch\u001b[0m\u001b[0;34m,\u001b[0m \u001b[0mmanual\u001b[0m\u001b[0;34m=\u001b[0m\u001b[0mmanual\u001b[0m\u001b[0;34m,\u001b[0m\u001b[0;34m\u001b[0m\u001b[0m\n\u001b[0;32m--> 486\u001b[0;31m                     conds=conds)\n\u001b[0m\u001b[1;32m    487\u001b[0m                 \u001b[0;32mif\u001b[0m \u001b[0mantideriv\u001b[0m \u001b[0;32mis\u001b[0m \u001b[0;32mNone\u001b[0m \u001b[0;32mand\u001b[0m \u001b[0mmeijerg1\u001b[0m \u001b[0;32mis\u001b[0m \u001b[0;32mTrue\u001b[0m\u001b[0;34m:\u001b[0m\u001b[0;34m\u001b[0m\u001b[0m\n\u001b[1;32m    488\u001b[0m                     \u001b[0mret\u001b[0m \u001b[0;34m=\u001b[0m \u001b[0mtry_meijerg\u001b[0m\u001b[0;34m(\u001b[0m\u001b[0mfunction\u001b[0m\u001b[0;34m,\u001b[0m \u001b[0mxab\u001b[0m\u001b[0;34m)\u001b[0m\u001b[0;34m\u001b[0m\u001b[0m\n",
      "\u001b[0;32m~/anaconda3/lib/python3.6/site-packages/sympy/integrals/integrals.py\u001b[0m in \u001b[0;36m_eval_integral\u001b[0;34m(self, f, x, meijerg, risch, manual, conds)\u001b[0m\n\u001b[1;32m    892\u001b[0m                 \u001b[0;32mtry\u001b[0m\u001b[0;34m:\u001b[0m\u001b[0;34m\u001b[0m\u001b[0m\n\u001b[1;32m    893\u001b[0m                     \u001b[0;32mif\u001b[0m \u001b[0mconds\u001b[0m \u001b[0;34m==\u001b[0m \u001b[0;34m'piecewise'\u001b[0m\u001b[0;34m:\u001b[0m\u001b[0;34m\u001b[0m\u001b[0m\n\u001b[0;32m--> 894\u001b[0;31m                         \u001b[0mh\u001b[0m \u001b[0;34m=\u001b[0m \u001b[0mheurisch_wrapper\u001b[0m\u001b[0;34m(\u001b[0m\u001b[0mg\u001b[0m\u001b[0;34m,\u001b[0m \u001b[0mx\u001b[0m\u001b[0;34m,\u001b[0m \u001b[0mhints\u001b[0m\u001b[0;34m=\u001b[0m\u001b[0;34m[\u001b[0m\u001b[0;34m]\u001b[0m\u001b[0;34m)\u001b[0m\u001b[0;34m\u001b[0m\u001b[0m\n\u001b[0m\u001b[1;32m    895\u001b[0m                     \u001b[0;32melse\u001b[0m\u001b[0;34m:\u001b[0m\u001b[0;34m\u001b[0m\u001b[0m\n\u001b[1;32m    896\u001b[0m                         \u001b[0mh\u001b[0m \u001b[0;34m=\u001b[0m \u001b[0mheurisch\u001b[0m\u001b[0;34m(\u001b[0m\u001b[0mg\u001b[0m\u001b[0;34m,\u001b[0m \u001b[0mx\u001b[0m\u001b[0;34m,\u001b[0m \u001b[0mhints\u001b[0m\u001b[0;34m=\u001b[0m\u001b[0;34m[\u001b[0m\u001b[0;34m]\u001b[0m\u001b[0;34m)\u001b[0m\u001b[0;34m\u001b[0m\u001b[0m\n",
      "\u001b[0;32m~/anaconda3/lib/python3.6/site-packages/sympy/integrals/heurisch.py\u001b[0m in \u001b[0;36mheurisch_wrapper\u001b[0;34m(f, x, rewrite, hints, mappings, retries, degree_offset, unnecessary_permutations)\u001b[0m\n\u001b[1;32m    128\u001b[0m \u001b[0;34m\u001b[0m\u001b[0m\n\u001b[1;32m    129\u001b[0m     res = heurisch(f, x, rewrite, hints, mappings, retries, degree_offset,\n\u001b[0;32m--> 130\u001b[0;31m                    unnecessary_permutations)\n\u001b[0m\u001b[1;32m    131\u001b[0m     \u001b[0;32mif\u001b[0m \u001b[0;32mnot\u001b[0m \u001b[0misinstance\u001b[0m\u001b[0;34m(\u001b[0m\u001b[0mres\u001b[0m\u001b[0;34m,\u001b[0m \u001b[0mBasic\u001b[0m\u001b[0;34m)\u001b[0m\u001b[0;34m:\u001b[0m\u001b[0;34m\u001b[0m\u001b[0m\n\u001b[1;32m    132\u001b[0m         \u001b[0;32mreturn\u001b[0m \u001b[0mres\u001b[0m\u001b[0;34m\u001b[0m\u001b[0m\n",
      "\u001b[0;32m~/anaconda3/lib/python3.6/site-packages/sympy/integrals/heurisch.py\u001b[0m in \u001b[0;36mheurisch\u001b[0;34m(f, x, rewrite, hints, mappings, retries, degree_offset, unnecessary_permutations)\u001b[0m\n\u001b[1;32m    661\u001b[0m             \u001b[0msolution\u001b[0m \u001b[0;34m=\u001b[0m \u001b[0m_integrate\u001b[0m\u001b[0;34m(\u001b[0m\u001b[0;34m)\u001b[0m\u001b[0;34m\u001b[0m\u001b[0m\n\u001b[1;32m    662\u001b[0m     \u001b[0;32melse\u001b[0m\u001b[0;34m:\u001b[0m\u001b[0;34m\u001b[0m\u001b[0m\n\u001b[0;32m--> 663\u001b[0;31m         \u001b[0msolution\u001b[0m \u001b[0;34m=\u001b[0m \u001b[0m_integrate\u001b[0m\u001b[0;34m(\u001b[0m\u001b[0;34m)\u001b[0m\u001b[0;34m\u001b[0m\u001b[0m\n\u001b[0m\u001b[1;32m    664\u001b[0m \u001b[0;34m\u001b[0m\u001b[0m\n\u001b[1;32m    665\u001b[0m     \u001b[0;32mif\u001b[0m \u001b[0msolution\u001b[0m \u001b[0;32mis\u001b[0m \u001b[0;32mnot\u001b[0m \u001b[0;32mNone\u001b[0m\u001b[0;34m:\u001b[0m\u001b[0;34m\u001b[0m\u001b[0m\n",
      "\u001b[0;32m~/anaconda3/lib/python3.6/site-packages/sympy/integrals/heurisch.py\u001b[0m in \u001b[0;36m_integrate\u001b[0;34m(field)\u001b[0m\n\u001b[1;32m    647\u001b[0m         \u001b[0;32mexcept\u001b[0m \u001b[0mValueError\u001b[0m\u001b[0;34m:\u001b[0m\u001b[0;34m\u001b[0m\u001b[0m\n\u001b[1;32m    648\u001b[0m             \u001b[0;32mraise\u001b[0m \u001b[0mPolynomialError\u001b[0m\u001b[0;34m\u001b[0m\u001b[0m\n\u001b[0;32m--> 649\u001b[0;31m         \u001b[0msolution\u001b[0m \u001b[0;34m=\u001b[0m \u001b[0msolve_lin_sys\u001b[0m\u001b[0;34m(\u001b[0m\u001b[0mnumer\u001b[0m\u001b[0;34m.\u001b[0m\u001b[0mcoeffs\u001b[0m\u001b[0;34m(\u001b[0m\u001b[0;34m)\u001b[0m\u001b[0;34m,\u001b[0m \u001b[0mcoeff_ring\u001b[0m\u001b[0;34m,\u001b[0m \u001b[0m_raw\u001b[0m\u001b[0;34m=\u001b[0m\u001b[0;32mFalse\u001b[0m\u001b[0;34m)\u001b[0m\u001b[0;34m\u001b[0m\u001b[0m\n\u001b[0m\u001b[1;32m    650\u001b[0m \u001b[0;34m\u001b[0m\u001b[0m\n\u001b[1;32m    651\u001b[0m         \u001b[0;32mif\u001b[0m \u001b[0msolution\u001b[0m \u001b[0;32mis\u001b[0m \u001b[0;32mNone\u001b[0m\u001b[0;34m:\u001b[0m\u001b[0;34m\u001b[0m\u001b[0m\n",
      "\u001b[0;32m~/anaconda3/lib/python3.6/site-packages/sympy/polys/solvers.py\u001b[0m in \u001b[0;36msolve_lin_sys\u001b[0;34m(eqs, ring, _raw)\u001b[0m\n\u001b[1;32m     40\u001b[0m \u001b[0;34m\u001b[0m\u001b[0m\n\u001b[1;32m     41\u001b[0m     \u001b[0;31m# solve by row-reduction\u001b[0m\u001b[0;34m\u001b[0m\u001b[0;34m\u001b[0m\u001b[0m\n\u001b[0;32m---> 42\u001b[0;31m     \u001b[0mechelon\u001b[0m\u001b[0;34m,\u001b[0m \u001b[0mpivots\u001b[0m \u001b[0;34m=\u001b[0m \u001b[0mmatrix\u001b[0m\u001b[0;34m.\u001b[0m\u001b[0mrref\u001b[0m\u001b[0;34m(\u001b[0m\u001b[0miszerofunc\u001b[0m\u001b[0;34m=\u001b[0m\u001b[0;32mlambda\u001b[0m \u001b[0mx\u001b[0m\u001b[0;34m:\u001b[0m \u001b[0;32mnot\u001b[0m \u001b[0mx\u001b[0m\u001b[0;34m,\u001b[0m \u001b[0msimplify\u001b[0m\u001b[0;34m=\u001b[0m\u001b[0;32mlambda\u001b[0m \u001b[0mx\u001b[0m\u001b[0;34m:\u001b[0m \u001b[0mx\u001b[0m\u001b[0;34m)\u001b[0m\u001b[0;34m\u001b[0m\u001b[0m\n\u001b[0m\u001b[1;32m     43\u001b[0m \u001b[0;34m\u001b[0m\u001b[0m\n\u001b[1;32m     44\u001b[0m     \u001b[0;31m# construct the returnable form of the solutions\u001b[0m\u001b[0;34m\u001b[0m\u001b[0;34m\u001b[0m\u001b[0m\n",
      "\u001b[0;32m~/anaconda3/lib/python3.6/site-packages/sympy/matrices/matrices.py\u001b[0m in \u001b[0;36mrref\u001b[0;34m(self, iszerofunc, simplify, pivots, normalize_last)\u001b[0m\n\u001b[1;32m    878\u001b[0m         ret, pivot_cols = self._eval_rref(iszerofunc=iszerofunc,\n\u001b[1;32m    879\u001b[0m                                           \u001b[0msimpfunc\u001b[0m\u001b[0;34m=\u001b[0m\u001b[0msimpfunc\u001b[0m\u001b[0;34m,\u001b[0m\u001b[0;34m\u001b[0m\u001b[0m\n\u001b[0;32m--> 880\u001b[0;31m                                           normalize_last=normalize_last)\n\u001b[0m\u001b[1;32m    881\u001b[0m         \u001b[0;32mif\u001b[0m \u001b[0mpivots\u001b[0m\u001b[0;34m:\u001b[0m\u001b[0;34m\u001b[0m\u001b[0m\n\u001b[1;32m    882\u001b[0m             \u001b[0mret\u001b[0m \u001b[0;34m=\u001b[0m \u001b[0;34m(\u001b[0m\u001b[0mret\u001b[0m\u001b[0;34m,\u001b[0m \u001b[0mpivot_cols\u001b[0m\u001b[0;34m)\u001b[0m\u001b[0;34m\u001b[0m\u001b[0m\n",
      "\u001b[0;32m~/anaconda3/lib/python3.6/site-packages/sympy/matrices/matrices.py\u001b[0m in \u001b[0;36m_eval_rref\u001b[0;34m(self, iszerofunc, simpfunc, normalize_last)\u001b[0m\n\u001b[1;32m    533\u001b[0m         reduced, pivot_cols, swaps = self._row_reduce(iszerofunc, simpfunc,\n\u001b[1;32m    534\u001b[0m                                                       \u001b[0mnormalize_last\u001b[0m\u001b[0;34m,\u001b[0m \u001b[0mnormalize\u001b[0m\u001b[0;34m=\u001b[0m\u001b[0;32mTrue\u001b[0m\u001b[0;34m,\u001b[0m\u001b[0;34m\u001b[0m\u001b[0m\n\u001b[0;32m--> 535\u001b[0;31m                                                       zero_above=True)\n\u001b[0m\u001b[1;32m    536\u001b[0m         \u001b[0;32mreturn\u001b[0m \u001b[0mreduced\u001b[0m\u001b[0;34m,\u001b[0m \u001b[0mpivot_cols\u001b[0m\u001b[0;34m\u001b[0m\u001b[0m\n\u001b[1;32m    537\u001b[0m \u001b[0;34m\u001b[0m\u001b[0m\n",
      "\u001b[0;32m~/anaconda3/lib/python3.6/site-packages/sympy/matrices/matrices.py\u001b[0m in \u001b[0;36m_row_reduce\u001b[0;34m(self, iszerofunc, simpfunc, normalize_last, normalize, zero_above)\u001b[0m\n\u001b[1;32m    689\u001b[0m                     \u001b[0;32mcontinue\u001b[0m\u001b[0;34m\u001b[0m\u001b[0m\n\u001b[1;32m    690\u001b[0m \u001b[0;34m\u001b[0m\u001b[0m\n\u001b[0;32m--> 691\u001b[0;31m                 \u001b[0mcross_cancel\u001b[0m\u001b[0;34m(\u001b[0m\u001b[0mpivot_val\u001b[0m\u001b[0;34m,\u001b[0m \u001b[0mrow\u001b[0m\u001b[0;34m,\u001b[0m \u001b[0mval\u001b[0m\u001b[0;34m,\u001b[0m \u001b[0mpiv_row\u001b[0m\u001b[0;34m)\u001b[0m\u001b[0;34m\u001b[0m\u001b[0m\n\u001b[0m\u001b[1;32m    692\u001b[0m             \u001b[0mpiv_row\u001b[0m \u001b[0;34m+=\u001b[0m \u001b[0;36m1\u001b[0m\u001b[0;34m\u001b[0m\u001b[0m\n\u001b[1;32m    693\u001b[0m \u001b[0;34m\u001b[0m\u001b[0m\n",
      "\u001b[0;32m~/anaconda3/lib/python3.6/site-packages/sympy/matrices/matrices.py\u001b[0m in \u001b[0;36mcross_cancel\u001b[0;34m(a, i, b, j)\u001b[0m\n\u001b[1;32m    640\u001b[0m             \u001b[0mq\u001b[0m \u001b[0;34m=\u001b[0m \u001b[0;34m(\u001b[0m\u001b[0mj\u001b[0m \u001b[0;34m-\u001b[0m \u001b[0mi\u001b[0m\u001b[0;34m)\u001b[0m\u001b[0;34m*\u001b[0m\u001b[0mcols\u001b[0m\u001b[0;34m\u001b[0m\u001b[0m\n\u001b[1;32m    641\u001b[0m             \u001b[0;32mfor\u001b[0m \u001b[0mp\u001b[0m \u001b[0;32min\u001b[0m \u001b[0mrange\u001b[0m\u001b[0;34m(\u001b[0m\u001b[0mi\u001b[0m\u001b[0;34m*\u001b[0m\u001b[0mcols\u001b[0m\u001b[0;34m,\u001b[0m \u001b[0;34m(\u001b[0m\u001b[0mi\u001b[0m \u001b[0;34m+\u001b[0m \u001b[0;36m1\u001b[0m\u001b[0;34m)\u001b[0m\u001b[0;34m*\u001b[0m\u001b[0mcols\u001b[0m\u001b[0;34m)\u001b[0m\u001b[0;34m:\u001b[0m\u001b[0;34m\u001b[0m\u001b[0m\n\u001b[0;32m--> 642\u001b[0;31m                 \u001b[0mmat\u001b[0m\u001b[0;34m[\u001b[0m\u001b[0mp\u001b[0m\u001b[0;34m]\u001b[0m \u001b[0;34m=\u001b[0m \u001b[0ma\u001b[0m\u001b[0;34m*\u001b[0m\u001b[0mmat\u001b[0m\u001b[0;34m[\u001b[0m\u001b[0mp\u001b[0m\u001b[0;34m]\u001b[0m \u001b[0;34m-\u001b[0m \u001b[0mb\u001b[0m\u001b[0;34m*\u001b[0m\u001b[0mmat\u001b[0m\u001b[0;34m[\u001b[0m\u001b[0mp\u001b[0m \u001b[0;34m+\u001b[0m \u001b[0mq\u001b[0m\u001b[0;34m]\u001b[0m\u001b[0;34m\u001b[0m\u001b[0m\n\u001b[0m\u001b[1;32m    643\u001b[0m \u001b[0;34m\u001b[0m\u001b[0m\n\u001b[1;32m    644\u001b[0m         \u001b[0mpiv_row\u001b[0m\u001b[0;34m,\u001b[0m \u001b[0mpiv_col\u001b[0m \u001b[0;34m=\u001b[0m \u001b[0;36m0\u001b[0m\u001b[0;34m,\u001b[0m \u001b[0;36m0\u001b[0m\u001b[0;34m\u001b[0m\u001b[0m\n",
      "\u001b[0;32m~/anaconda3/lib/python3.6/site-packages/sympy/polys/domains/expressiondomain.py\u001b[0m in \u001b[0;36m__mul__\u001b[0;34m(f, g)\u001b[0m\n\u001b[1;32m     87\u001b[0m \u001b[0;34m\u001b[0m\u001b[0m\n\u001b[1;32m     88\u001b[0m             \u001b[0;32mif\u001b[0m \u001b[0mg\u001b[0m \u001b[0;32mis\u001b[0m \u001b[0;32mnot\u001b[0m \u001b[0;32mNone\u001b[0m\u001b[0;34m:\u001b[0m\u001b[0;34m\u001b[0m\u001b[0m\n\u001b[0;32m---> 89\u001b[0;31m                 \u001b[0;32mreturn\u001b[0m \u001b[0mf\u001b[0m\u001b[0;34m.\u001b[0m\u001b[0msimplify\u001b[0m\u001b[0;34m(\u001b[0m\u001b[0mf\u001b[0m\u001b[0;34m.\u001b[0m\u001b[0mex\u001b[0m\u001b[0;34m*\u001b[0m\u001b[0mg\u001b[0m\u001b[0;34m.\u001b[0m\u001b[0mex\u001b[0m\u001b[0;34m)\u001b[0m\u001b[0;34m\u001b[0m\u001b[0m\n\u001b[0m\u001b[1;32m     90\u001b[0m             \u001b[0;32melse\u001b[0m\u001b[0;34m:\u001b[0m\u001b[0;34m\u001b[0m\u001b[0m\n\u001b[1;32m     91\u001b[0m                 \u001b[0;32mreturn\u001b[0m \u001b[0mNotImplemented\u001b[0m\u001b[0;34m\u001b[0m\u001b[0m\n",
      "\u001b[0;32m~/anaconda3/lib/python3.6/site-packages/sympy/polys/domains/expressiondomain.py\u001b[0m in \u001b[0;36msimplify\u001b[0;34m(f, ex)\u001b[0m\n\u001b[1;32m     47\u001b[0m \u001b[0;34m\u001b[0m\u001b[0m\n\u001b[1;32m     48\u001b[0m         \u001b[0;32mdef\u001b[0m \u001b[0msimplify\u001b[0m\u001b[0;34m(\u001b[0m\u001b[0mf\u001b[0m\u001b[0;34m,\u001b[0m \u001b[0mex\u001b[0m\u001b[0;34m)\u001b[0m\u001b[0;34m:\u001b[0m\u001b[0;34m\u001b[0m\u001b[0m\n\u001b[0;32m---> 49\u001b[0;31m             \u001b[0;32mreturn\u001b[0m \u001b[0mf\u001b[0m\u001b[0;34m.\u001b[0m\u001b[0m__class__\u001b[0m\u001b[0;34m(\u001b[0m\u001b[0mex\u001b[0m\u001b[0;34m.\u001b[0m\u001b[0mcancel\u001b[0m\u001b[0;34m(\u001b[0m\u001b[0;34m)\u001b[0m\u001b[0;34m)\u001b[0m\u001b[0;34m\u001b[0m\u001b[0m\n\u001b[0m\u001b[1;32m     50\u001b[0m \u001b[0;34m\u001b[0m\u001b[0m\n\u001b[1;32m     51\u001b[0m         \u001b[0;32mdef\u001b[0m \u001b[0m__abs__\u001b[0m\u001b[0;34m(\u001b[0m\u001b[0mf\u001b[0m\u001b[0;34m)\u001b[0m\u001b[0;34m:\u001b[0m\u001b[0;34m\u001b[0m\u001b[0m\n",
      "\u001b[0;32m~/anaconda3/lib/python3.6/site-packages/sympy/core/expr.py\u001b[0m in \u001b[0;36mcancel\u001b[0;34m(self, *gens, **args)\u001b[0m\n\u001b[1;32m   3159\u001b[0m         \u001b[0;34m\"\"\"See the cancel function in sympy.polys\"\"\"\u001b[0m\u001b[0;34m\u001b[0m\u001b[0m\n\u001b[1;32m   3160\u001b[0m         \u001b[0;32mfrom\u001b[0m \u001b[0msympy\u001b[0m\u001b[0;34m.\u001b[0m\u001b[0mpolys\u001b[0m \u001b[0;32mimport\u001b[0m \u001b[0mcancel\u001b[0m\u001b[0;34m\u001b[0m\u001b[0m\n\u001b[0;32m-> 3161\u001b[0;31m         \u001b[0;32mreturn\u001b[0m \u001b[0mcancel\u001b[0m\u001b[0;34m(\u001b[0m\u001b[0mself\u001b[0m\u001b[0;34m,\u001b[0m \u001b[0;34m*\u001b[0m\u001b[0mgens\u001b[0m\u001b[0;34m,\u001b[0m \u001b[0;34m**\u001b[0m\u001b[0margs\u001b[0m\u001b[0;34m)\u001b[0m\u001b[0;34m\u001b[0m\u001b[0m\n\u001b[0m\u001b[1;32m   3162\u001b[0m \u001b[0;34m\u001b[0m\u001b[0m\n\u001b[1;32m   3163\u001b[0m     \u001b[0;32mdef\u001b[0m \u001b[0minvert\u001b[0m\u001b[0;34m(\u001b[0m\u001b[0mself\u001b[0m\u001b[0;34m,\u001b[0m \u001b[0mg\u001b[0m\u001b[0;34m,\u001b[0m \u001b[0;34m*\u001b[0m\u001b[0mgens\u001b[0m\u001b[0;34m,\u001b[0m \u001b[0;34m**\u001b[0m\u001b[0margs\u001b[0m\u001b[0;34m)\u001b[0m\u001b[0;34m:\u001b[0m\u001b[0;34m\u001b[0m\u001b[0m\n",
      "\u001b[0;32m~/anaconda3/lib/python3.6/site-packages/sympy/polys/polytools.py\u001b[0m in \u001b[0;36mcancel\u001b[0;34m(f, *gens, **args)\u001b[0m\n\u001b[1;32m   6432\u001b[0m \u001b[0;34m\u001b[0m\u001b[0m\n\u001b[1;32m   6433\u001b[0m     \u001b[0;32mtry\u001b[0m\u001b[0;34m:\u001b[0m\u001b[0;34m\u001b[0m\u001b[0m\n\u001b[0;32m-> 6434\u001b[0;31m         \u001b[0;34m(\u001b[0m\u001b[0mF\u001b[0m\u001b[0;34m,\u001b[0m \u001b[0mG\u001b[0m\u001b[0;34m)\u001b[0m\u001b[0;34m,\u001b[0m \u001b[0mopt\u001b[0m \u001b[0;34m=\u001b[0m \u001b[0mparallel_poly_from_expr\u001b[0m\u001b[0;34m(\u001b[0m\u001b[0;34m(\u001b[0m\u001b[0mp\u001b[0m\u001b[0;34m,\u001b[0m \u001b[0mq\u001b[0m\u001b[0;34m)\u001b[0m\u001b[0;34m,\u001b[0m \u001b[0;34m*\u001b[0m\u001b[0mgens\u001b[0m\u001b[0;34m,\u001b[0m \u001b[0;34m**\u001b[0m\u001b[0margs\u001b[0m\u001b[0;34m)\u001b[0m\u001b[0;34m\u001b[0m\u001b[0m\n\u001b[0m\u001b[1;32m   6435\u001b[0m     \u001b[0;32mexcept\u001b[0m \u001b[0mPolificationFailed\u001b[0m\u001b[0;34m:\u001b[0m\u001b[0;34m\u001b[0m\u001b[0m\n\u001b[1;32m   6436\u001b[0m         \u001b[0;32mif\u001b[0m \u001b[0;32mnot\u001b[0m \u001b[0misinstance\u001b[0m\u001b[0;34m(\u001b[0m\u001b[0mf\u001b[0m\u001b[0;34m,\u001b[0m \u001b[0;34m(\u001b[0m\u001b[0mtuple\u001b[0m\u001b[0;34m,\u001b[0m \u001b[0mTuple\u001b[0m\u001b[0;34m)\u001b[0m\u001b[0;34m)\u001b[0m\u001b[0;34m:\u001b[0m\u001b[0;34m\u001b[0m\u001b[0m\n",
      "\u001b[0;32m~/anaconda3/lib/python3.6/site-packages/sympy/polys/polytools.py\u001b[0m in \u001b[0;36mparallel_poly_from_expr\u001b[0;34m(exprs, *gens, **args)\u001b[0m\n\u001b[1;32m   4264\u001b[0m     \u001b[0;34m\"\"\"Construct polynomials from expressions. \"\"\"\u001b[0m\u001b[0;34m\u001b[0m\u001b[0m\n\u001b[1;32m   4265\u001b[0m     \u001b[0mopt\u001b[0m \u001b[0;34m=\u001b[0m \u001b[0moptions\u001b[0m\u001b[0;34m.\u001b[0m\u001b[0mbuild_options\u001b[0m\u001b[0;34m(\u001b[0m\u001b[0mgens\u001b[0m\u001b[0;34m,\u001b[0m \u001b[0margs\u001b[0m\u001b[0;34m)\u001b[0m\u001b[0;34m\u001b[0m\u001b[0m\n\u001b[0;32m-> 4266\u001b[0;31m     \u001b[0;32mreturn\u001b[0m \u001b[0m_parallel_poly_from_expr\u001b[0m\u001b[0;34m(\u001b[0m\u001b[0mexprs\u001b[0m\u001b[0;34m,\u001b[0m \u001b[0mopt\u001b[0m\u001b[0;34m)\u001b[0m\u001b[0;34m\u001b[0m\u001b[0m\n\u001b[0m\u001b[1;32m   4267\u001b[0m \u001b[0;34m\u001b[0m\u001b[0m\n\u001b[1;32m   4268\u001b[0m \u001b[0;34m\u001b[0m\u001b[0m\n",
      "\u001b[0;32m~/anaconda3/lib/python3.6/site-packages/sympy/polys/polytools.py\u001b[0m in \u001b[0;36m_parallel_poly_from_expr\u001b[0;34m(exprs, opt)\u001b[0m\n\u001b[1;32m   4317\u001b[0m             \u001b[0mexprs\u001b[0m\u001b[0;34m[\u001b[0m\u001b[0mi\u001b[0m\u001b[0;34m]\u001b[0m \u001b[0;34m=\u001b[0m \u001b[0mexprs\u001b[0m\u001b[0;34m[\u001b[0m\u001b[0mi\u001b[0m\u001b[0;34m]\u001b[0m\u001b[0;34m.\u001b[0m\u001b[0mas_expr\u001b[0m\u001b[0;34m(\u001b[0m\u001b[0;34m)\u001b[0m\u001b[0;34m\u001b[0m\u001b[0m\n\u001b[1;32m   4318\u001b[0m \u001b[0;34m\u001b[0m\u001b[0m\n\u001b[0;32m-> 4319\u001b[0;31m     \u001b[0mreps\u001b[0m\u001b[0;34m,\u001b[0m \u001b[0mopt\u001b[0m \u001b[0;34m=\u001b[0m \u001b[0m_parallel_dict_from_expr\u001b[0m\u001b[0;34m(\u001b[0m\u001b[0mexprs\u001b[0m\u001b[0;34m,\u001b[0m \u001b[0mopt\u001b[0m\u001b[0;34m)\u001b[0m\u001b[0;34m\u001b[0m\u001b[0m\n\u001b[0m\u001b[1;32m   4320\u001b[0m     \u001b[0;32mif\u001b[0m \u001b[0;32mnot\u001b[0m \u001b[0mopt\u001b[0m\u001b[0;34m.\u001b[0m\u001b[0mgens\u001b[0m\u001b[0;34m:\u001b[0m\u001b[0;34m\u001b[0m\u001b[0m\n\u001b[1;32m   4321\u001b[0m         \u001b[0;32mraise\u001b[0m \u001b[0mPolificationFailed\u001b[0m\u001b[0;34m(\u001b[0m\u001b[0mopt\u001b[0m\u001b[0;34m,\u001b[0m \u001b[0morigs\u001b[0m\u001b[0;34m,\u001b[0m \u001b[0mexprs\u001b[0m\u001b[0;34m,\u001b[0m \u001b[0;32mTrue\u001b[0m\u001b[0;34m)\u001b[0m\u001b[0;34m\u001b[0m\u001b[0m\n",
      "\u001b[0;32m~/anaconda3/lib/python3.6/site-packages/sympy/polys/polyutils.py\u001b[0m in \u001b[0;36m_parallel_dict_from_expr\u001b[0;34m(exprs, opt)\u001b[0m\n\u001b[1;32m    329\u001b[0m         \u001b[0mreps\u001b[0m\u001b[0;34m,\u001b[0m \u001b[0mgens\u001b[0m \u001b[0;34m=\u001b[0m \u001b[0m_parallel_dict_from_expr_if_gens\u001b[0m\u001b[0;34m(\u001b[0m\u001b[0mexprs\u001b[0m\u001b[0;34m,\u001b[0m \u001b[0mopt\u001b[0m\u001b[0;34m)\u001b[0m\u001b[0;34m\u001b[0m\u001b[0m\n\u001b[1;32m    330\u001b[0m     \u001b[0;32melse\u001b[0m\u001b[0;34m:\u001b[0m\u001b[0;34m\u001b[0m\u001b[0m\n\u001b[0;32m--> 331\u001b[0;31m         \u001b[0mreps\u001b[0m\u001b[0;34m,\u001b[0m \u001b[0mgens\u001b[0m \u001b[0;34m=\u001b[0m \u001b[0m_parallel_dict_from_expr_no_gens\u001b[0m\u001b[0;34m(\u001b[0m\u001b[0mexprs\u001b[0m\u001b[0;34m,\u001b[0m \u001b[0mopt\u001b[0m\u001b[0;34m)\u001b[0m\u001b[0;34m\u001b[0m\u001b[0m\n\u001b[0m\u001b[1;32m    332\u001b[0m \u001b[0;34m\u001b[0m\u001b[0m\n\u001b[1;32m    333\u001b[0m     \u001b[0;32mreturn\u001b[0m \u001b[0mreps\u001b[0m\u001b[0;34m,\u001b[0m \u001b[0mopt\u001b[0m\u001b[0;34m.\u001b[0m\u001b[0mclone\u001b[0m\u001b[0;34m(\u001b[0m\u001b[0;34m{\u001b[0m\u001b[0;34m'gens'\u001b[0m\u001b[0;34m:\u001b[0m \u001b[0mgens\u001b[0m\u001b[0;34m}\u001b[0m\u001b[0;34m)\u001b[0m\u001b[0;34m\u001b[0m\u001b[0m\n",
      "\u001b[0;32m~/anaconda3/lib/python3.6/site-packages/sympy/polys/polyutils.py\u001b[0m in \u001b[0;36m_parallel_dict_from_expr_no_gens\u001b[0;34m(exprs, opt)\u001b[0m\n\u001b[1;32m    253\u001b[0m \u001b[0;34m\u001b[0m\u001b[0m\n\u001b[1;32m    254\u001b[0m             \u001b[0;32mfor\u001b[0m \u001b[0mfactor\u001b[0m \u001b[0;32min\u001b[0m \u001b[0mMul\u001b[0m\u001b[0;34m.\u001b[0m\u001b[0mmake_args\u001b[0m\u001b[0;34m(\u001b[0m\u001b[0mterm\u001b[0m\u001b[0;34m)\u001b[0m\u001b[0;34m:\u001b[0m\u001b[0;34m\u001b[0m\u001b[0m\n\u001b[0;32m--> 255\u001b[0;31m                 \u001b[0;32mif\u001b[0m \u001b[0;32mnot\u001b[0m \u001b[0m_not_a_coeff\u001b[0m\u001b[0;34m(\u001b[0m\u001b[0mfactor\u001b[0m\u001b[0;34m)\u001b[0m \u001b[0;32mand\u001b[0m \u001b[0;34m(\u001b[0m\u001b[0mfactor\u001b[0m\u001b[0;34m.\u001b[0m\u001b[0mis_Number\u001b[0m \u001b[0;32mor\u001b[0m \u001b[0m_is_coeff\u001b[0m\u001b[0;34m(\u001b[0m\u001b[0mfactor\u001b[0m\u001b[0;34m)\u001b[0m\u001b[0;34m)\u001b[0m\u001b[0;34m:\u001b[0m\u001b[0;34m\u001b[0m\u001b[0m\n\u001b[0m\u001b[1;32m    256\u001b[0m                     \u001b[0mcoeff\u001b[0m\u001b[0;34m.\u001b[0m\u001b[0mappend\u001b[0m\u001b[0;34m(\u001b[0m\u001b[0mfactor\u001b[0m\u001b[0;34m)\u001b[0m\u001b[0;34m\u001b[0m\u001b[0m\n\u001b[1;32m    257\u001b[0m                 \u001b[0;32melse\u001b[0m\u001b[0;34m:\u001b[0m\u001b[0;34m\u001b[0m\u001b[0m\n",
      "\u001b[0;32m~/anaconda3/lib/python3.6/site-packages/sympy/polys/polyutils.py\u001b[0m in \u001b[0;36m_not_a_coeff\u001b[0;34m(expr)\u001b[0m\n\u001b[1;32m    173\u001b[0m \u001b[0;32mdef\u001b[0m \u001b[0m_not_a_coeff\u001b[0m\u001b[0;34m(\u001b[0m\u001b[0mexpr\u001b[0m\u001b[0;34m)\u001b[0m\u001b[0;34m:\u001b[0m\u001b[0;34m\u001b[0m\u001b[0m\n\u001b[1;32m    174\u001b[0m     \u001b[0;34m\"\"\"Do not treat NaN and infinities as valid polynomial coefficients. \"\"\"\u001b[0m\u001b[0;34m\u001b[0m\u001b[0m\n\u001b[0;32m--> 175\u001b[0;31m     \u001b[0;32mreturn\u001b[0m \u001b[0mexpr\u001b[0m \u001b[0;32min\u001b[0m \u001b[0;34m[\u001b[0m\u001b[0mS\u001b[0m\u001b[0;34m.\u001b[0m\u001b[0mNaN\u001b[0m\u001b[0;34m,\u001b[0m \u001b[0mS\u001b[0m\u001b[0;34m.\u001b[0m\u001b[0mInfinity\u001b[0m\u001b[0;34m,\u001b[0m \u001b[0mS\u001b[0m\u001b[0;34m.\u001b[0m\u001b[0mNegativeInfinity\u001b[0m\u001b[0;34m,\u001b[0m \u001b[0mS\u001b[0m\u001b[0;34m.\u001b[0m\u001b[0mComplexInfinity\u001b[0m\u001b[0;34m]\u001b[0m\u001b[0;34m\u001b[0m\u001b[0m\n\u001b[0m\u001b[1;32m    176\u001b[0m \u001b[0;34m\u001b[0m\u001b[0m\n\u001b[1;32m    177\u001b[0m \u001b[0;34m\u001b[0m\u001b[0m\n",
      "\u001b[0;32m~/anaconda3/lib/python3.6/site-packages/sympy/core/numbers.py\u001b[0m in \u001b[0;36m__eq__\u001b[0;34m(self, other)\u001b[0m\n\u001b[1;32m   2110\u001b[0m         \u001b[0;32melif\u001b[0m \u001b[0misinstance\u001b[0m\u001b[0;34m(\u001b[0m\u001b[0mother\u001b[0m\u001b[0;34m,\u001b[0m \u001b[0mInteger\u001b[0m\u001b[0;34m)\u001b[0m\u001b[0;34m:\u001b[0m\u001b[0;34m\u001b[0m\u001b[0m\n\u001b[1;32m   2111\u001b[0m             \u001b[0;32mreturn\u001b[0m \u001b[0;34m(\u001b[0m\u001b[0mself\u001b[0m\u001b[0;34m.\u001b[0m\u001b[0mp\u001b[0m \u001b[0;34m==\u001b[0m \u001b[0mother\u001b[0m\u001b[0;34m.\u001b[0m\u001b[0mp\u001b[0m\u001b[0;34m)\u001b[0m\u001b[0;34m\u001b[0m\u001b[0m\n\u001b[0;32m-> 2112\u001b[0;31m         \u001b[0;32mreturn\u001b[0m \u001b[0mRational\u001b[0m\u001b[0;34m.\u001b[0m\u001b[0m__eq__\u001b[0m\u001b[0;34m(\u001b[0m\u001b[0mself\u001b[0m\u001b[0;34m,\u001b[0m \u001b[0mother\u001b[0m\u001b[0;34m)\u001b[0m\u001b[0;34m\u001b[0m\u001b[0m\n\u001b[0m\u001b[1;32m   2113\u001b[0m \u001b[0;34m\u001b[0m\u001b[0m\n\u001b[1;32m   2114\u001b[0m     \u001b[0;32mdef\u001b[0m \u001b[0m__ne__\u001b[0m\u001b[0;34m(\u001b[0m\u001b[0mself\u001b[0m\u001b[0;34m,\u001b[0m \u001b[0mother\u001b[0m\u001b[0;34m)\u001b[0m\u001b[0;34m:\u001b[0m\u001b[0;34m\u001b[0m\u001b[0m\n",
      "\u001b[0;32m~/anaconda3/lib/python3.6/site-packages/sympy/core/numbers.py\u001b[0m in \u001b[0;36m__eq__\u001b[0;34m(self, other)\u001b[0m\n\u001b[1;32m   1718\u001b[0m     \u001b[0;32mdef\u001b[0m \u001b[0m__eq__\u001b[0m\u001b[0;34m(\u001b[0m\u001b[0mself\u001b[0m\u001b[0;34m,\u001b[0m \u001b[0mother\u001b[0m\u001b[0;34m)\u001b[0m\u001b[0;34m:\u001b[0m\u001b[0;34m\u001b[0m\u001b[0m\n\u001b[1;32m   1719\u001b[0m         \u001b[0;32mtry\u001b[0m\u001b[0;34m:\u001b[0m\u001b[0;34m\u001b[0m\u001b[0m\n\u001b[0;32m-> 1720\u001b[0;31m             \u001b[0mother\u001b[0m \u001b[0;34m=\u001b[0m \u001b[0m_sympify\u001b[0m\u001b[0;34m(\u001b[0m\u001b[0mother\u001b[0m\u001b[0;34m)\u001b[0m\u001b[0;34m\u001b[0m\u001b[0m\n\u001b[0m\u001b[1;32m   1721\u001b[0m         \u001b[0;32mexcept\u001b[0m \u001b[0mSympifyError\u001b[0m\u001b[0;34m:\u001b[0m\u001b[0;34m\u001b[0m\u001b[0m\n\u001b[1;32m   1722\u001b[0m             \u001b[0;32mreturn\u001b[0m \u001b[0;32mFalse\u001b[0m    \u001b[0;31m# sympy != other  -->  not ==\u001b[0m\u001b[0;34m\u001b[0m\u001b[0m\n",
      "\u001b[0;32m~/anaconda3/lib/python3.6/site-packages/sympy/core/sympify.py\u001b[0m in \u001b[0;36m_sympify\u001b[0;34m(a)\u001b[0m\n\u001b[1;32m    385\u001b[0m \u001b[0;34m\u001b[0m\u001b[0m\n\u001b[1;32m    386\u001b[0m     \"\"\"\n\u001b[0;32m--> 387\u001b[0;31m     \u001b[0;32mreturn\u001b[0m \u001b[0msympify\u001b[0m\u001b[0;34m(\u001b[0m\u001b[0ma\u001b[0m\u001b[0;34m,\u001b[0m \u001b[0mstrict\u001b[0m\u001b[0;34m=\u001b[0m\u001b[0;32mTrue\u001b[0m\u001b[0;34m)\u001b[0m\u001b[0;34m\u001b[0m\u001b[0m\n\u001b[0m\u001b[1;32m    388\u001b[0m \u001b[0;34m\u001b[0m\u001b[0m\n\u001b[1;32m    389\u001b[0m \u001b[0;34m\u001b[0m\u001b[0m\n",
      "\u001b[0;32m~/anaconda3/lib/python3.6/site-packages/sympy/core/sympify.py\u001b[0m in \u001b[0;36msympify\u001b[0;34m(a, locals, convert_xor, strict, rational, evaluate)\u001b[0m\n\u001b[1;32m    242\u001b[0m             \u001b[0mevaluate\u001b[0m \u001b[0;34m=\u001b[0m \u001b[0;32mTrue\u001b[0m\u001b[0;34m\u001b[0m\u001b[0m\n\u001b[1;32m    243\u001b[0m     \u001b[0;32mtry\u001b[0m\u001b[0;34m:\u001b[0m\u001b[0;34m\u001b[0m\u001b[0m\n\u001b[0;32m--> 244\u001b[0;31m         \u001b[0;32mif\u001b[0m \u001b[0ma\u001b[0m \u001b[0;32min\u001b[0m \u001b[0msympy_classes\u001b[0m\u001b[0;34m:\u001b[0m\u001b[0;34m\u001b[0m\u001b[0m\n\u001b[0m\u001b[1;32m    245\u001b[0m             \u001b[0;32mreturn\u001b[0m \u001b[0ma\u001b[0m\u001b[0;34m\u001b[0m\u001b[0m\n\u001b[1;32m    246\u001b[0m     \u001b[0;32mexcept\u001b[0m \u001b[0mTypeError\u001b[0m\u001b[0;34m:\u001b[0m \u001b[0;31m# Type of a is unhashable\u001b[0m\u001b[0;34m\u001b[0m\u001b[0m\n",
      "\u001b[0;32m~/anaconda3/lib/python3.6/site-packages/sympy/core/numbers.py\u001b[0m in \u001b[0;36m__hash__\u001b[0;34m(self)\u001b[0m\n\u001b[1;32m   3215\u001b[0m \u001b[0;34m\u001b[0m\u001b[0m\n\u001b[1;32m   3216\u001b[0m     \u001b[0;32mdef\u001b[0m \u001b[0m__hash__\u001b[0m\u001b[0;34m(\u001b[0m\u001b[0mself\u001b[0m\u001b[0;34m)\u001b[0m\u001b[0;34m:\u001b[0m\u001b[0;34m\u001b[0m\u001b[0m\n\u001b[0;32m-> 3217\u001b[0;31m         \u001b[0;32mreturn\u001b[0m \u001b[0msuper\u001b[0m\u001b[0;34m(\u001b[0m\u001b[0mNaN\u001b[0m\u001b[0;34m,\u001b[0m \u001b[0mself\u001b[0m\u001b[0;34m)\u001b[0m\u001b[0;34m.\u001b[0m\u001b[0m__hash__\u001b[0m\u001b[0;34m(\u001b[0m\u001b[0;34m)\u001b[0m\u001b[0;34m\u001b[0m\u001b[0m\n\u001b[0m\u001b[1;32m   3218\u001b[0m \u001b[0;34m\u001b[0m\u001b[0m\n\u001b[1;32m   3219\u001b[0m     \u001b[0;32mdef\u001b[0m \u001b[0m__eq__\u001b[0m\u001b[0;34m(\u001b[0m\u001b[0mself\u001b[0m\u001b[0;34m,\u001b[0m \u001b[0mother\u001b[0m\u001b[0;34m)\u001b[0m\u001b[0;34m:\u001b[0m\u001b[0;34m\u001b[0m\u001b[0m\n",
      "\u001b[0;32m~/anaconda3/lib/python3.6/site-packages/sympy/core/numbers.py\u001b[0m in \u001b[0;36m__hash__\u001b[0;34m(self)\u001b[0m\n\u001b[1;32m    725\u001b[0m \u001b[0;34m\u001b[0m\u001b[0m\n\u001b[1;32m    726\u001b[0m     \u001b[0;32mdef\u001b[0m \u001b[0m__hash__\u001b[0m\u001b[0;34m(\u001b[0m\u001b[0mself\u001b[0m\u001b[0;34m)\u001b[0m\u001b[0;34m:\u001b[0m\u001b[0;34m\u001b[0m\u001b[0m\n\u001b[0;32m--> 727\u001b[0;31m         \u001b[0;32mreturn\u001b[0m \u001b[0msuper\u001b[0m\u001b[0;34m(\u001b[0m\u001b[0mNumber\u001b[0m\u001b[0;34m,\u001b[0m \u001b[0mself\u001b[0m\u001b[0;34m)\u001b[0m\u001b[0;34m.\u001b[0m\u001b[0m__hash__\u001b[0m\u001b[0;34m(\u001b[0m\u001b[0;34m)\u001b[0m\u001b[0;34m\u001b[0m\u001b[0m\n\u001b[0m\u001b[1;32m    728\u001b[0m \u001b[0;34m\u001b[0m\u001b[0m\n\u001b[1;32m    729\u001b[0m     \u001b[0;32mdef\u001b[0m \u001b[0mis_constant\u001b[0m\u001b[0;34m(\u001b[0m\u001b[0mself\u001b[0m\u001b[0;34m,\u001b[0m \u001b[0;34m*\u001b[0m\u001b[0mwrt\u001b[0m\u001b[0;34m,\u001b[0m \u001b[0;34m**\u001b[0m\u001b[0mflags\u001b[0m\u001b[0;34m)\u001b[0m\u001b[0;34m:\u001b[0m\u001b[0;34m\u001b[0m\u001b[0m\n",
      "\u001b[0;31mKeyboardInterrupt\u001b[0m: "
     ]
    }
   ],
   "source": [
    "f6 = log(((xi-xip)**2+(z-zp)**2)/((xi-xip)**2+(z+zp)**2))*(xip-xi) + 2*(z-zp)*atan((z-zp)/(xi-xip))-2*(z+zp)*atan((z+zp)/(xi-xip))\n",
    "integrate(f6, zp)"
   ]
  },
  {
   "cell_type": "code",
   "execution_count": 84,
   "metadata": {
    "ExecuteTime": {
     "end_time": "2019-11-28T18:14:51.569461Z",
     "start_time": "2019-11-28T18:14:26.710209Z"
    },
    "hidden": true
   },
   "outputs": [
    {
     "data": {
      "image/png": "[encoded data removed]",
      "text/latex": [
       "$$\\epsilon_1 \\log{\\left (\\frac{\\left(\\epsilon_1 - \\xi\\right)^{2} + \\left(\\zeta - \\zeta_{p}\\right)^{2}}{\\left(\\epsilon_1 - \\xi\\right)^{2} + \\left(\\zeta + \\zeta_{p}\\right)^{2}} \\right )} + \\epsilon_1 \\log{\\left (\\frac{\\left(\\epsilon_1 + \\xi\\right)^{2} + \\left(\\zeta - \\zeta_{p}\\right)^{2}}{\\left(\\epsilon_1 + \\xi\\right)^{2} + \\left(\\zeta + \\zeta_{p}\\right)^{2}} \\right )} + \\left(\\xi + i \\left(- \\zeta + \\zeta_{p}\\right)\\right) \\left(\\log{\\left (\\frac{1}{\\xi^{4} + \\xi^{2} \\zeta^{2} + \\xi^{2} \\zeta_{p}^{2} + \\zeta^{2} \\zeta_{p}^{2}} \\left(- 2 \\epsilon_1 \\left(\\xi^{4} + \\xi^{2} \\zeta^{2} + \\xi^{2} \\zeta_{p}^{2} + \\zeta^{2} \\zeta_{p}^{2}\\right) - \\xi^{5} - 2 \\xi^{3} \\zeta^{2} - 2 \\xi^{3} \\zeta_{p}^{2} - \\xi^{3} \\left(\\xi - i \\left(\\zeta - \\zeta_{p}\\right)\\right)^{2} + 3 \\xi^{2} \\zeta \\zeta_{p} \\left(\\xi - i \\left(\\zeta - \\zeta_{p}\\right)\\right) - \\xi \\zeta^{4} + 2 \\xi \\zeta^{2} \\zeta_{p}^{2} - \\xi \\zeta^{2} \\left(\\xi - i \\left(\\zeta - \\zeta_{p}\\right)\\right)^{2} - \\xi \\zeta_{p}^{4} - \\xi \\zeta_{p}^{2} \\left(\\xi - i \\left(\\zeta - \\zeta_{p}\\right)\\right)^{2} - \\zeta^{3} \\zeta_{p} \\left(\\xi - i \\left(\\zeta - \\zeta_{p}\\right)\\right) - \\zeta \\zeta_{p}^{3} \\left(\\xi - i \\left(\\zeta - \\zeta_{p}\\right)\\right) - \\zeta \\zeta_{p} \\left(\\xi - i \\left(\\zeta - \\zeta_{p}\\right)\\right)^{3}\\right) \\right )} - \\log{\\left (2 \\right )}\\right) - \\left(\\xi + i \\left(- \\zeta + \\zeta_{p}\\right)\\right) \\left(\\log{\\left (\\frac{1}{\\xi^{4} + \\xi^{2} \\zeta^{2} + \\xi^{2} \\zeta_{p}^{2} + \\zeta^{2} \\zeta_{p}^{2}} \\left(2 \\epsilon_1 \\left(\\xi^{4} + \\xi^{2} \\zeta^{2} + \\xi^{2} \\zeta_{p}^{2} + \\zeta^{2} \\zeta_{p}^{2}\\right) - \\xi^{5} - 2 \\xi^{3} \\zeta^{2} - 2 \\xi^{3} \\zeta_{p}^{2} - \\xi^{3} \\left(\\xi - i \\left(\\zeta - \\zeta_{p}\\right)\\right)^{2} + 3 \\xi^{2} \\zeta \\zeta_{p} \\left(\\xi - i \\left(\\zeta - \\zeta_{p}\\right)\\right) - \\xi \\zeta^{4} + 2 \\xi \\zeta^{2} \\zeta_{p}^{2} - \\xi \\zeta^{2} \\left(\\xi - i \\left(\\zeta - \\zeta_{p}\\right)\\right)^{2} - \\xi \\zeta_{p}^{4} - \\xi \\zeta_{p}^{2} \\left(\\xi - i \\left(\\zeta - \\zeta_{p}\\right)\\right)^{2} - \\zeta^{3} \\zeta_{p} \\left(\\xi - i \\left(\\zeta - \\zeta_{p}\\right)\\right) - \\zeta \\zeta_{p}^{3} \\left(\\xi - i \\left(\\zeta - \\zeta_{p}\\right)\\right) - \\zeta \\zeta_{p} \\left(\\xi - i \\left(\\zeta - \\zeta_{p}\\right)\\right)^{3}\\right) \\right )} - \\log{\\left (2 \\right )}\\right) + \\left(\\xi + i \\left(\\zeta - \\zeta_{p}\\right)\\right) \\left(\\log{\\left (\\frac{1}{\\xi^{4} + \\xi^{2} \\zeta^{2} + \\xi^{2} \\zeta_{p}^{2} + \\zeta^{2} \\zeta_{p}^{2}} \\left(- 2 \\epsilon_1 \\left(\\xi^{4} + \\xi^{2} \\zeta^{2} + \\xi^{2} \\zeta_{p}^{2} + \\zeta^{2} \\zeta_{p}^{2}\\right) - \\xi^{5} - 2 \\xi^{3} \\zeta^{2} - 2 \\xi^{3} \\zeta_{p}^{2} - \\xi^{3} \\left(\\xi + i \\left(\\zeta - \\zeta_{p}\\right)\\right)^{2} + 3 \\xi^{2} \\zeta \\zeta_{p} \\left(\\xi + i \\left(\\zeta - \\zeta_{p}\\right)\\right) - \\xi \\zeta^{4} + 2 \\xi \\zeta^{2} \\zeta_{p}^{2} - \\xi \\zeta^{2} \\left(\\xi + i \\left(\\zeta - \\zeta_{p}\\right)\\right)^{2} - \\xi \\zeta_{p}^{4} - \\xi \\zeta_{p}^{2} \\left(\\xi + i \\left(\\zeta - \\zeta_{p}\\right)\\right)^{2} - \\zeta^{3} \\zeta_{p} \\left(\\xi + i \\left(\\zeta - \\zeta_{p}\\right)\\right) - \\zeta \\zeta_{p}^{3} \\left(\\xi + i \\left(\\zeta - \\zeta_{p}\\right)\\right) - \\zeta \\zeta_{p} \\left(\\xi + i \\left(\\zeta - \\zeta_{p}\\right)\\right)^{3}\\right) \\right )} - \\log{\\left (2 \\right )}\\right) - \\left(\\xi + i \\left(\\zeta - \\zeta_{p}\\right)\\right) \\left(\\log{\\left (\\frac{1}{\\xi^{4} + \\xi^{2} \\zeta^{2} + \\xi^{2} \\zeta_{p}^{2} + \\zeta^{2} \\zeta_{p}^{2}} \\left(2 \\epsilon_1 \\left(\\xi^{4} + \\xi^{2} \\zeta^{2} + \\xi^{2} \\zeta_{p}^{2} + \\zeta^{2} \\zeta_{p}^{2}\\right) - \\xi^{5} - 2 \\xi^{3} \\zeta^{2} - 2 \\xi^{3} \\zeta_{p}^{2} - \\xi^{3} \\left(\\xi + i \\left(\\zeta - \\zeta_{p}\\right)\\right)^{2} + 3 \\xi^{2} \\zeta \\zeta_{p} \\left(\\xi + i \\left(\\zeta - \\zeta_{p}\\right)\\right) - \\xi \\zeta^{4} + 2 \\xi \\zeta^{2} \\zeta_{p}^{2} - \\xi \\zeta^{2} \\left(\\xi + i \\left(\\zeta - \\zeta_{p}\\right)\\right)^{2} - \\xi \\zeta_{p}^{4} - \\xi \\zeta_{p}^{2} \\left(\\xi + i \\left(\\zeta - \\zeta_{p}\\right)\\right)^{2} - \\zeta^{3} \\zeta_{p} \\left(\\xi + i \\left(\\zeta - \\zeta_{p}\\right)\\right) - \\zeta \\zeta_{p}^{3} \\left(\\xi + i \\left(\\zeta - \\zeta_{p}\\right)\\right) - \\zeta \\zeta_{p} \\left(\\xi + i \\left(\\zeta - \\zeta_{p}\\right)\\right)^{3}\\right) \\right )} - \\log{\\left (2 \\right )}\\right) - \\left(\\xi - i \\left(\\zeta + \\zeta_{p}\\right)\\right) \\left(\\log{\\left (\\frac{1}{\\xi^{4} + \\xi^{2} \\zeta^{2} + \\xi^{2} \\zeta_{p}^{2} + \\zeta^{2} \\zeta_{p}^{2}} \\left(- 2 \\epsilon_1 \\left(\\xi^{4} + \\xi^{2} \\zeta^{2} + \\xi^{2} \\zeta_{p}^{2} + \\zeta^{2} \\zeta_{p}^{2}\\right) - \\xi^{5} - 2 \\xi^{3} \\zeta^{2} - 2 \\xi^{3} \\zeta_{p}^{2} - \\xi^{3} \\left(\\xi - i \\left(\\zeta + \\zeta_{p}\\right)\\right)^{2} - 3 \\xi^{2} \\zeta \\zeta_{p} \\left(\\xi - i \\left(\\zeta + \\zeta_{p}\\right)\\right) - \\xi \\zeta^{4} + 2 \\xi \\zeta^{2} \\zeta_{p}^{2} - \\xi \\zeta^{2} \\left(\\xi - i \\left(\\zeta + \\zeta_{p}\\right)\\right)^{2} - \\xi \\zeta_{p}^{4} - \\xi \\zeta_{p}^{2} \\left(\\xi - i \\left(\\zeta + \\zeta_{p}\\right)\\right)^{2} + \\zeta^{3} \\zeta_{p} \\left(\\xi - i \\left(\\zeta + \\zeta_{p}\\right)\\right) + \\zeta \\zeta_{p}^{3} \\left(\\xi - i \\left(\\zeta + \\zeta_{p}\\right)\\right) + \\zeta \\zeta_{p} \\left(\\xi - i \\left(\\zeta + \\zeta_{p}\\right)\\right)^{3}\\right) \\right )} - \\log{\\left (2 \\right )}\\right) + \\left(\\xi - i \\left(\\zeta + \\zeta_{p}\\right)\\right) \\left(\\log{\\left (\\frac{1}{\\xi^{4} + \\xi^{2} \\zeta^{2} + \\xi^{2} \\zeta_{p}^{2} + \\zeta^{2} \\zeta_{p}^{2}} \\left(2 \\epsilon_1 \\left(\\xi^{4} + \\xi^{2} \\zeta^{2} + \\xi^{2} \\zeta_{p}^{2} + \\zeta^{2} \\zeta_{p}^{2}\\right) - \\xi^{5} - 2 \\xi^{3} \\zeta^{2} - 2 \\xi^{3} \\zeta_{p}^{2} - \\xi^{3} \\left(\\xi - i \\left(\\zeta + \\zeta_{p}\\right)\\right)^{2} - 3 \\xi^{2} \\zeta \\zeta_{p} \\left(\\xi - i \\left(\\zeta + \\zeta_{p}\\right)\\right) - \\xi \\zeta^{4} + 2 \\xi \\zeta^{2} \\zeta_{p}^{2} - \\xi \\zeta^{2} \\left(\\xi - i \\left(\\zeta + \\zeta_{p}\\right)\\right)^{2} - \\xi \\zeta_{p}^{4} - \\xi \\zeta_{p}^{2} \\left(\\xi - i \\left(\\zeta + \\zeta_{p}\\right)\\right)^{2} + \\zeta^{3} \\zeta_{p} \\left(\\xi - i \\left(\\zeta + \\zeta_{p}\\right)\\right) + \\zeta \\zeta_{p}^{3} \\left(\\xi - i \\left(\\zeta + \\zeta_{p}\\right)\\right) + \\zeta \\zeta_{p} \\left(\\xi - i \\left(\\zeta + \\zeta_{p}\\right)\\right)^{3}\\right) \\right )} - \\log{\\left (2 \\right )}\\right) - \\left(\\xi + i \\left(\\zeta + \\zeta_{p}\\right)\\right) \\left(\\log{\\left (\\frac{1}{\\xi^{4} + \\xi^{2} \\zeta^{2} + \\xi^{2} \\zeta_{p}^{2} + \\zeta^{2} \\zeta_{p}^{2}} \\left(- 2 \\epsilon_1 \\left(\\xi^{4} + \\xi^{2} \\zeta^{2} + \\xi^{2} \\zeta_{p}^{2} + \\zeta^{2} \\zeta_{p}^{2}\\right) - \\xi^{5} - 2 \\xi^{3} \\zeta^{2} - 2 \\xi^{3} \\zeta_{p}^{2} - \\xi^{3} \\left(\\xi + i \\left(\\zeta + \\zeta_{p}\\right)\\right)^{2} - 3 \\xi^{2} \\zeta \\zeta_{p} \\left(\\xi + i \\left(\\zeta + \\zeta_{p}\\right)\\right) - \\xi \\zeta^{4} + 2 \\xi \\zeta^{2} \\zeta_{p}^{2} - \\xi \\zeta^{2} \\left(\\xi + i \\left(\\zeta + \\zeta_{p}\\right)\\right)^{2} - \\xi \\zeta_{p}^{4} - \\xi \\zeta_{p}^{2} \\left(\\xi + i \\left(\\zeta + \\zeta_{p}\\right)\\right)^{2} + \\zeta^{3} \\zeta_{p} \\left(\\xi + i \\left(\\zeta + \\zeta_{p}\\right)\\right) + \\zeta \\zeta_{p}^{3} \\left(\\xi + i \\left(\\zeta + \\zeta_{p}\\right)\\right) + \\zeta \\zeta_{p} \\left(\\xi + i \\left(\\zeta + \\zeta_{p}\\right)\\right)^{3}\\right) \\right )} - \\log{\\left (2 \\right )}\\right) + \\left(\\xi + i \\left(\\zeta + \\zeta_{p}\\right)\\right) \\left(\\log{\\left (\\frac{1}{\\xi^{4} + \\xi^{2} \\zeta^{2} + \\xi^{2} \\zeta_{p}^{2} + \\zeta^{2} \\zeta_{p}^{2}} \\left(2 \\epsilon_1 \\left(\\xi^{4} + \\xi^{2} \\zeta^{2} + \\xi^{2} \\zeta_{p}^{2} + \\zeta^{2} \\zeta_{p}^{2}\\right) - \\xi^{5} - 2 \\xi^{3} \\zeta^{2} - 2 \\xi^{3} \\zeta_{p}^{2} - \\xi^{3} \\left(\\xi + i \\left(\\zeta + \\zeta_{p}\\right)\\right)^{2} - 3 \\xi^{2} \\zeta \\zeta_{p} \\left(\\xi + i \\left(\\zeta + \\zeta_{p}\\right)\\right) - \\xi \\zeta^{4} + 2 \\xi \\zeta^{2} \\zeta_{p}^{2} - \\xi \\zeta^{2} \\left(\\xi + i \\left(\\zeta + \\zeta_{p}\\right)\\right)^{2} - \\xi \\zeta_{p}^{4} - \\xi \\zeta_{p}^{2} \\left(\\xi + i \\left(\\zeta + \\zeta_{p}\\right)\\right)^{2} + \\zeta^{3} \\zeta_{p} \\left(\\xi + i \\left(\\zeta + \\zeta_{p}\\right)\\right) + \\zeta \\zeta_{p}^{3} \\left(\\xi + i \\left(\\zeta + \\zeta_{p}\\right)\\right) + \\zeta \\zeta_{p} \\left(\\xi + i \\left(\\zeta + \\zeta_{p}\\right)\\right)^{3}\\right) \\right )} - \\log{\\left (2 \\right )}\\right)$$"
      ],
      "text/plain": [
       "             ⎛               2           2⎞                ⎛               2  \n",
       "             ⎜(\\epsilon₁ - ξ)  + (ζ - ζₚ) ⎟                ⎜(\\epsilon₁ + ξ)  +\n",
       "\\epsilon₁⋅log⎜────────────────────────────⎟ + \\epsilon₁⋅log⎜──────────────────\n",
       "             ⎜               2           2⎟                ⎜               2  \n",
       "             ⎝(\\epsilon₁ - ξ)  + (ζ + ζₚ) ⎠                ⎝(\\epsilon₁ + ξ)  +\n",
       "\n",
       "         2⎞                     ⎛   ⎛              ⎛ 4    2  2    2   2    2  \n",
       " (ζ - ζₚ) ⎟                     ⎜   ⎜- 2⋅\\epsilon₁⋅⎝ξ  + ξ ⋅ζ  + ξ ⋅ζₚ  + ζ ⋅ζ\n",
       "──────────⎟ + (ξ + ⅈ⋅(-ζ + ζₚ))⋅⎜log⎜─────────────────────────────────────────\n",
       "         2⎟                     ⎜   ⎜                                         \n",
       " (ζ + ζₚ) ⎠                     ⎝   ⎝                                         \n",
       "\n",
       " 2⎞    5      3  2      3   2    3                 2      2                   \n",
       "ₚ ⎠ - ξ  - 2⋅ξ ⋅ζ  - 2⋅ξ ⋅ζₚ  - ξ ⋅(ξ - ⅈ⋅(ζ - ζₚ))  + 3⋅ξ ⋅ζ⋅ζₚ⋅(ξ - ⅈ⋅(ζ - ζ\n",
       "──────────────────────────────────────────────────────────────────────────────\n",
       "                                                                              \n",
       "                                                                              \n",
       "\n",
       "         4        2   2      2                 2       4       2              \n",
       "ₚ)) - ξ⋅ζ  + 2⋅ξ⋅ζ ⋅ζₚ  - ξ⋅ζ ⋅(ξ - ⅈ⋅(ζ - ζₚ))  - ξ⋅ζₚ  - ξ⋅ζₚ ⋅(ξ - ⅈ⋅(ζ - ζ\n",
       "──────────────────────────────────────────────────────────────────────────────\n",
       "      4    2  2    2   2    2   2                                             \n",
       "     ξ  + ξ ⋅ζ  + ξ ⋅ζₚ  + ζ ⋅ζₚ                                              \n",
       "\n",
       "   2    3                           3                                         \n",
       "ₚ))  - ζ ⋅ζₚ⋅(ξ - ⅈ⋅(ζ - ζₚ)) - ζ⋅ζₚ ⋅(ξ - ⅈ⋅(ζ - ζₚ)) - ζ⋅ζₚ⋅(ξ - ⅈ⋅(ζ - ζₚ))\n",
       "──────────────────────────────────────────────────────────────────────────────\n",
       "                                                                              \n",
       "                                                                              \n",
       "\n",
       "3⎞         ⎞                     ⎛   ⎛            ⎛ 4    2  2    2   2    2   \n",
       " ⎟         ⎟                     ⎜   ⎜2⋅\\epsilon₁⋅⎝ξ  + ξ ⋅ζ  + ξ ⋅ζₚ  + ζ ⋅ζₚ\n",
       "─⎟ - log(2)⎟ - (ξ + ⅈ⋅(-ζ + ζₚ))⋅⎜log⎜────────────────────────────────────────\n",
       " ⎟         ⎟                     ⎜   ⎜                                        \n",
       " ⎠         ⎠                     ⎝   ⎝                                        \n",
       "\n",
       "2⎞    5      3  2      3   2    3                 2      2                    \n",
       " ⎠ - ξ  - 2⋅ξ ⋅ζ  - 2⋅ξ ⋅ζₚ  - ξ ⋅(ξ - ⅈ⋅(ζ - ζₚ))  + 3⋅ξ ⋅ζ⋅ζₚ⋅(ξ - ⅈ⋅(ζ - ζₚ\n",
       "──────────────────────────────────────────────────────────────────────────────\n",
       "                                                                              \n",
       "                                                                              \n",
       "\n",
       "        4        2   2      2                 2       4       2               \n",
       ")) - ξ⋅ζ  + 2⋅ξ⋅ζ ⋅ζₚ  - ξ⋅ζ ⋅(ξ - ⅈ⋅(ζ - ζₚ))  - ξ⋅ζₚ  - ξ⋅ζₚ ⋅(ξ - ⅈ⋅(ζ - ζₚ\n",
       "──────────────────────────────────────────────────────────────────────────────\n",
       "      4    2  2    2   2    2   2                                             \n",
       "     ξ  + ξ ⋅ζ  + ξ ⋅ζₚ  + ζ ⋅ζₚ                                              \n",
       "\n",
       "  2    3                           3                                         3\n",
       "))  - ζ ⋅ζₚ⋅(ξ - ⅈ⋅(ζ - ζₚ)) - ζ⋅ζₚ ⋅(ξ - ⅈ⋅(ζ - ζₚ)) - ζ⋅ζₚ⋅(ξ - ⅈ⋅(ζ - ζₚ)) \n",
       "──────────────────────────────────────────────────────────────────────────────\n",
       "                                                                              \n",
       "                                                                              \n",
       "\n",
       "⎞         ⎞                    ⎛   ⎛              ⎛ 4    2  2    2   2    2   \n",
       "⎟         ⎟                    ⎜   ⎜- 2⋅\\epsilon₁⋅⎝ξ  + ξ ⋅ζ  + ξ ⋅ζₚ  + ζ ⋅ζₚ\n",
       "⎟ - log(2)⎟ + (ξ + ⅈ⋅(ζ - ζₚ))⋅⎜log⎜──────────────────────────────────────────\n",
       "⎟         ⎟                    ⎜   ⎜                                          \n",
       "⎠         ⎠                    ⎝   ⎝                                          \n",
       "\n",
       "2⎞    5      3  2      3   2    3                 2      2                    \n",
       " ⎠ - ξ  - 2⋅ξ ⋅ζ  - 2⋅ξ ⋅ζₚ  - ξ ⋅(ξ + ⅈ⋅(ζ - ζₚ))  + 3⋅ξ ⋅ζ⋅ζₚ⋅(ξ + ⅈ⋅(ζ - ζₚ\n",
       "──────────────────────────────────────────────────────────────────────────────\n",
       "                                                                              \n",
       "                                                                              \n",
       "\n",
       "        4        2   2      2                 2       4       2               \n",
       ")) - ξ⋅ζ  + 2⋅ξ⋅ζ ⋅ζₚ  - ξ⋅ζ ⋅(ξ + ⅈ⋅(ζ - ζₚ))  - ξ⋅ζₚ  - ξ⋅ζₚ ⋅(ξ + ⅈ⋅(ζ - ζₚ\n",
       "──────────────────────────────────────────────────────────────────────────────\n",
       "     4    2  2    2   2    2   2                                              \n",
       "    ξ  + ξ ⋅ζ  + ξ ⋅ζₚ  + ζ ⋅ζₚ                                               \n",
       "\n",
       "  2    3                           3                                         3\n",
       "))  - ζ ⋅ζₚ⋅(ξ + ⅈ⋅(ζ - ζₚ)) - ζ⋅ζₚ ⋅(ξ + ⅈ⋅(ζ - ζₚ)) - ζ⋅ζₚ⋅(ξ + ⅈ⋅(ζ - ζₚ)) \n",
       "──────────────────────────────────────────────────────────────────────────────\n",
       "                                                                              \n",
       "                                                                              \n",
       "\n",
       "⎞         ⎞                    ⎛   ⎛            ⎛ 4    2  2    2   2    2   2⎞\n",
       "⎟         ⎟                    ⎜   ⎜2⋅\\epsilon₁⋅⎝ξ  + ξ ⋅ζ  + ξ ⋅ζₚ  + ζ ⋅ζₚ ⎠\n",
       "⎟ - log(2)⎟ - (ξ + ⅈ⋅(ζ - ζₚ))⋅⎜log⎜──────────────────────────────────────────\n",
       "⎟         ⎟                    ⎜   ⎜                                          \n",
       "⎠         ⎠                    ⎝   ⎝                                          \n",
       "\n",
       "    5      3  2      3   2    3                 2      2                      \n",
       " - ξ  - 2⋅ξ ⋅ζ  - 2⋅ξ ⋅ζₚ  - ξ ⋅(ξ + ⅈ⋅(ζ - ζₚ))  + 3⋅ξ ⋅ζ⋅ζₚ⋅(ξ + ⅈ⋅(ζ - ζₚ))\n",
       "──────────────────────────────────────────────────────────────────────────────\n",
       "                                                                              \n",
       "                                                                              \n",
       "\n",
       "      4        2   2      2                 2       4       2                 \n",
       " - ξ⋅ζ  + 2⋅ξ⋅ζ ⋅ζₚ  - ξ⋅ζ ⋅(ξ + ⅈ⋅(ζ - ζₚ))  - ξ⋅ζₚ  - ξ⋅ζₚ ⋅(ξ + ⅈ⋅(ζ - ζₚ))\n",
       "──────────────────────────────────────────────────────────────────────────────\n",
       "    4    2  2    2   2    2   2                                               \n",
       "   ξ  + ξ ⋅ζ  + ξ ⋅ζₚ  + ζ ⋅ζₚ                                                \n",
       "\n",
       "2    3                           3                                         3⎞ \n",
       "  - ζ ⋅ζₚ⋅(ξ + ⅈ⋅(ζ - ζₚ)) - ζ⋅ζₚ ⋅(ξ + ⅈ⋅(ζ - ζₚ)) - ζ⋅ζₚ⋅(ξ + ⅈ⋅(ζ - ζₚ)) ⎟ \n",
       "────────────────────────────────────────────────────────────────────────────⎟ \n",
       "                                                                            ⎟ \n",
       "                                                                            ⎠ \n",
       "\n",
       "        ⎞                    ⎛   ⎛              ⎛ 4    2  2    2   2    2   2⎞\n",
       "        ⎟                    ⎜   ⎜- 2⋅\\epsilon₁⋅⎝ξ  + ξ ⋅ζ  + ξ ⋅ζₚ  + ζ ⋅ζₚ ⎠\n",
       "- log(2)⎟ - (ξ - ⅈ⋅(ζ + ζₚ))⋅⎜log⎜────────────────────────────────────────────\n",
       "        ⎟                    ⎜   ⎜                                            \n",
       "        ⎠                    ⎝   ⎝                                            \n",
       "\n",
       "    5      3  2      3   2    3                 2      2                      \n",
       " - ξ  - 2⋅ξ ⋅ζ  - 2⋅ξ ⋅ζₚ  - ξ ⋅(ξ - ⅈ⋅(ζ + ζₚ))  - 3⋅ξ ⋅ζ⋅ζₚ⋅(ξ - ⅈ⋅(ζ + ζₚ))\n",
       "──────────────────────────────────────────────────────────────────────────────\n",
       "                                                                              \n",
       "                                                                              \n",
       "\n",
       "      4        2   2      2                 2       4       2                 \n",
       " - ξ⋅ζ  + 2⋅ξ⋅ζ ⋅ζₚ  - ξ⋅ζ ⋅(ξ - ⅈ⋅(ζ + ζₚ))  - ξ⋅ζₚ  - ξ⋅ζₚ ⋅(ξ - ⅈ⋅(ζ + ζₚ))\n",
       "──────────────────────────────────────────────────────────────────────────────\n",
       "   4    2  2    2   2    2   2                                                \n",
       "  ξ  + ξ ⋅ζ  + ξ ⋅ζₚ  + ζ ⋅ζₚ                                                 \n",
       "\n",
       "2    3                           3                                         3⎞ \n",
       "  + ζ ⋅ζₚ⋅(ξ - ⅈ⋅(ζ + ζₚ)) + ζ⋅ζₚ ⋅(ξ - ⅈ⋅(ζ + ζₚ)) + ζ⋅ζₚ⋅(ξ - ⅈ⋅(ζ + ζₚ)) ⎟ \n",
       "────────────────────────────────────────────────────────────────────────────⎟ \n",
       "                                                                            ⎟ \n",
       "                                                                            ⎠ \n",
       "\n",
       "        ⎞                    ⎛   ⎛            ⎛ 4    2  2    2   2    2   2⎞  \n",
       "        ⎟                    ⎜   ⎜2⋅\\epsilon₁⋅⎝ξ  + ξ ⋅ζ  + ξ ⋅ζₚ  + ζ ⋅ζₚ ⎠ -\n",
       "- log(2)⎟ + (ξ - ⅈ⋅(ζ + ζₚ))⋅⎜log⎜────────────────────────────────────────────\n",
       "        ⎟                    ⎜   ⎜                                            \n",
       "        ⎠                    ⎝   ⎝                                            \n",
       "\n",
       "  5      3  2      3   2    3                 2      2                        \n",
       " ξ  - 2⋅ξ ⋅ζ  - 2⋅ξ ⋅ζₚ  - ξ ⋅(ξ - ⅈ⋅(ζ + ζₚ))  - 3⋅ξ ⋅ζ⋅ζₚ⋅(ξ - ⅈ⋅(ζ + ζₚ)) -\n",
       "──────────────────────────────────────────────────────────────────────────────\n",
       "                                                                              \n",
       "                                                                              \n",
       "\n",
       "    4        2   2      2                 2       4       2                 2 \n",
       " ξ⋅ζ  + 2⋅ξ⋅ζ ⋅ζₚ  - ξ⋅ζ ⋅(ξ - ⅈ⋅(ζ + ζₚ))  - ξ⋅ζₚ  - ξ⋅ζₚ ⋅(ξ - ⅈ⋅(ζ + ζₚ))  \n",
       "──────────────────────────────────────────────────────────────────────────────\n",
       "  4    2  2    2   2    2   2                                                 \n",
       " ξ  + ξ ⋅ζ  + ξ ⋅ζₚ  + ζ ⋅ζₚ                                                  \n",
       "\n",
       "   3                           3                                         3⎞   \n",
       "+ ζ ⋅ζₚ⋅(ξ - ⅈ⋅(ζ + ζₚ)) + ζ⋅ζₚ ⋅(ξ - ⅈ⋅(ζ + ζₚ)) + ζ⋅ζₚ⋅(ξ - ⅈ⋅(ζ + ζₚ)) ⎟   \n",
       "──────────────────────────────────────────────────────────────────────────⎟ - \n",
       "                                                                          ⎟   \n",
       "                                                                          ⎠   \n",
       "\n",
       "      ⎞                    ⎛   ⎛              ⎛ 4    2  2    2   2    2   2⎞  \n",
       "      ⎟                    ⎜   ⎜- 2⋅\\epsilon₁⋅⎝ξ  + ξ ⋅ζ  + ξ ⋅ζₚ  + ζ ⋅ζₚ ⎠ -\n",
       "log(2)⎟ - (ξ + ⅈ⋅(ζ + ζₚ))⋅⎜log⎜──────────────────────────────────────────────\n",
       "      ⎟                    ⎜   ⎜                                              \n",
       "      ⎠                    ⎝   ⎝                                              \n",
       "\n",
       "  5      3  2      3   2    3                 2      2                        \n",
       " ξ  - 2⋅ξ ⋅ζ  - 2⋅ξ ⋅ζₚ  - ξ ⋅(ξ + ⅈ⋅(ζ + ζₚ))  - 3⋅ξ ⋅ζ⋅ζₚ⋅(ξ + ⅈ⋅(ζ + ζₚ)) -\n",
       "──────────────────────────────────────────────────────────────────────────────\n",
       "                                                                              \n",
       "                                                                              \n",
       "\n",
       "    4        2   2      2                 2       4       2                 2 \n",
       " ξ⋅ζ  + 2⋅ξ⋅ζ ⋅ζₚ  - ξ⋅ζ ⋅(ξ + ⅈ⋅(ζ + ζₚ))  - ξ⋅ζₚ  - ξ⋅ζₚ ⋅(ξ + ⅈ⋅(ζ + ζₚ))  \n",
       "──────────────────────────────────────────────────────────────────────────────\n",
       " 4    2  2    2   2    2   2                                                  \n",
       "ξ  + ξ ⋅ζ  + ξ ⋅ζₚ  + ζ ⋅ζₚ                                                   \n",
       "\n",
       "   3                           3                                         3⎞   \n",
       "+ ζ ⋅ζₚ⋅(ξ + ⅈ⋅(ζ + ζₚ)) + ζ⋅ζₚ ⋅(ξ + ⅈ⋅(ζ + ζₚ)) + ζ⋅ζₚ⋅(ξ + ⅈ⋅(ζ + ζₚ)) ⎟   \n",
       "──────────────────────────────────────────────────────────────────────────⎟ - \n",
       "                                                                          ⎟   \n",
       "                                                                          ⎠   \n",
       "\n",
       "      ⎞                    ⎛   ⎛            ⎛ 4    2  2    2   2    2   2⎞    \n",
       "      ⎟                    ⎜   ⎜2⋅\\epsilon₁⋅⎝ξ  + ξ ⋅ζ  + ξ ⋅ζₚ  + ζ ⋅ζₚ ⎠ - ξ\n",
       "log(2)⎟ + (ξ + ⅈ⋅(ζ + ζₚ))⋅⎜log⎜──────────────────────────────────────────────\n",
       "      ⎟                    ⎜   ⎜                                              \n",
       "      ⎠                    ⎝   ⎝                                              \n",
       "\n",
       "5      3  2      3   2    3                 2      2                          \n",
       "  - 2⋅ξ ⋅ζ  - 2⋅ξ ⋅ζₚ  - ξ ⋅(ξ + ⅈ⋅(ζ + ζₚ))  - 3⋅ξ ⋅ζ⋅ζₚ⋅(ξ + ⅈ⋅(ζ + ζₚ)) - ξ\n",
       "──────────────────────────────────────────────────────────────────────────────\n",
       "                                                                              \n",
       "                                                                             ξ\n",
       "\n",
       "  4        2   2      2                 2       4       2                 2   \n",
       "⋅ζ  + 2⋅ξ⋅ζ ⋅ζₚ  - ξ⋅ζ ⋅(ξ + ⅈ⋅(ζ + ζₚ))  - ξ⋅ζₚ  - ξ⋅ζₚ ⋅(ξ + ⅈ⋅(ζ + ζₚ))  + \n",
       "──────────────────────────────────────────────────────────────────────────────\n",
       "4    2  2    2   2    2   2                                                   \n",
       "  + ξ ⋅ζ  + ξ ⋅ζₚ  + ζ ⋅ζₚ                                                    \n",
       "\n",
       " 3                           3                                         3⎞     \n",
       "ζ ⋅ζₚ⋅(ξ + ⅈ⋅(ζ + ζₚ)) + ζ⋅ζₚ ⋅(ξ + ⅈ⋅(ζ + ζₚ)) + ζ⋅ζₚ⋅(ξ + ⅈ⋅(ζ + ζₚ)) ⎟     \n",
       "────────────────────────────────────────────────────────────────────────⎟ - lo\n",
       "                                                                        ⎟     \n",
       "                                                                        ⎠     \n",
       "\n",
       "    ⎞\n",
       "    ⎟\n",
       "g(2)⎟\n",
       "    ⎟\n",
       "    ⎠"
      ]
     },
     "execution_count": 84,
     "metadata": {},
     "output_type": "execute_result"
    }
   ],
   "source": [
    "simplify(integrate(fn3,(xip,-epsilon_1,epsilon_1)))"
   ]
  },
  {
   "cell_type": "code",
   "execution_count": 158,
   "metadata": {
    "ExecuteTime": {
     "end_time": "2019-11-28T19:49:42.372387Z",
     "start_time": "2019-11-28T19:49:11.281541Z"
    },
    "hidden": true
   },
   "outputs": [
    {
     "ename": "KeyboardInterrupt",
     "evalue": "",
     "output_type": "error",
     "traceback": [
      "\u001b[0;31m---------------------------------------------------------------------------\u001b[0m",
      "\u001b[0;31mKeyboardInterrupt\u001b[0m                         Traceback (most recent call last)",
      "\u001b[0;32m<ipython-input-158-2e2357b942ed>\u001b[0m in \u001b[0;36m<module>\u001b[0;34m()\u001b[0m\n\u001b[1;32m      2\u001b[0m \u001b[0mfn_alt\u001b[0m \u001b[0;34m=\u001b[0m \u001b[0mlog\u001b[0m\u001b[0;34m(\u001b[0m\u001b[0;34m(\u001b[0m\u001b[0;34m(\u001b[0m\u001b[0mxi\u001b[0m\u001b[0;34m-\u001b[0m\u001b[0mxip\u001b[0m\u001b[0;34m)\u001b[0m\u001b[0;34m**\u001b[0m\u001b[0;36m2\u001b[0m\u001b[0;34m+\u001b[0m\u001b[0;34m(\u001b[0m\u001b[0mz\u001b[0m\u001b[0;34m-\u001b[0m\u001b[0mzp\u001b[0m\u001b[0;34m)\u001b[0m\u001b[0;34m**\u001b[0m\u001b[0;36m2\u001b[0m\u001b[0;34m)\u001b[0m\u001b[0;34m/\u001b[0m\u001b[0;34m(\u001b[0m\u001b[0;34m(\u001b[0m\u001b[0mxi\u001b[0m\u001b[0;34m-\u001b[0m\u001b[0mxip\u001b[0m\u001b[0;34m)\u001b[0m\u001b[0;34m**\u001b[0m\u001b[0;36m2\u001b[0m\u001b[0;34m+\u001b[0m\u001b[0;34m(\u001b[0m\u001b[0mz\u001b[0m\u001b[0;34m+\u001b[0m\u001b[0mzp\u001b[0m\u001b[0;34m)\u001b[0m\u001b[0;34m**\u001b[0m\u001b[0;36m2\u001b[0m\u001b[0;34m)\u001b[0m\u001b[0;34m)\u001b[0m\u001b[0;34m*\u001b[0m\u001b[0mexp\u001b[0m\u001b[0;34m(\u001b[0m\u001b[0;34m-\u001b[0m\u001b[0mz\u001b[0m\u001b[0;34m)\u001b[0m\u001b[0;34m/\u001b[0m\u001b[0;34m(\u001b[0m\u001b[0mxip\u001b[0m\u001b[0;34m**\u001b[0m\u001b[0;36m2\u001b[0m\u001b[0;34m+\u001b[0m\u001b[0mxi0\u001b[0m\u001b[0;34m**\u001b[0m\u001b[0;36m2\u001b[0m\u001b[0;34m)\u001b[0m\u001b[0;34m\u001b[0m\u001b[0m\n\u001b[1;32m      3\u001b[0m \u001b[0;34m\u001b[0m\u001b[0m\n\u001b[0;32m----> 4\u001b[0;31m \u001b[0mintegrate\u001b[0m\u001b[0;34m(\u001b[0m\u001b[0mfn_alt\u001b[0m\u001b[0;34m,\u001b[0m \u001b[0;34m(\u001b[0m\u001b[0mz\u001b[0m\u001b[0;34m,\u001b[0m \u001b[0;36m0\u001b[0m\u001b[0;34m,\u001b[0m \u001b[0moo\u001b[0m\u001b[0;34m)\u001b[0m\u001b[0;34m)\u001b[0m\u001b[0;34m\u001b[0m\u001b[0m\n\u001b[0m",
      "\u001b[0;32m~/anaconda3/lib/python3.6/site-packages/sympy/integrals/integrals.py\u001b[0m in \u001b[0;36mintegrate\u001b[0;34m(*args, **kwargs)\u001b[0m\n\u001b[1;32m   1293\u001b[0m     \u001b[0;32mif\u001b[0m \u001b[0misinstance\u001b[0m\u001b[0;34m(\u001b[0m\u001b[0mintegral\u001b[0m\u001b[0;34m,\u001b[0m \u001b[0mIntegral\u001b[0m\u001b[0;34m)\u001b[0m\u001b[0;34m:\u001b[0m\u001b[0;34m\u001b[0m\u001b[0m\n\u001b[1;32m   1294\u001b[0m         return integral.doit(deep=False, meijerg=meijerg, conds=conds,\n\u001b[0;32m-> 1295\u001b[0;31m                              risch=risch, manual=manual)\n\u001b[0m\u001b[1;32m   1296\u001b[0m     \u001b[0;32melse\u001b[0m\u001b[0;34m:\u001b[0m\u001b[0;34m\u001b[0m\u001b[0m\n\u001b[1;32m   1297\u001b[0m         \u001b[0;32mreturn\u001b[0m \u001b[0mintegral\u001b[0m\u001b[0;34m\u001b[0m\u001b[0m\n",
      "\u001b[0;32m~/anaconda3/lib/python3.6/site-packages/sympy/integrals/integrals.py\u001b[0m in \u001b[0;36mdoit\u001b[0;34m(self, **hints)\u001b[0m\n\u001b[1;32m    484\u001b[0m                     \u001b[0mfunction\u001b[0m\u001b[0;34m,\u001b[0m \u001b[0mxab\u001b[0m\u001b[0;34m[\u001b[0m\u001b[0;36m0\u001b[0m\u001b[0;34m]\u001b[0m\u001b[0;34m,\u001b[0m\u001b[0;34m\u001b[0m\u001b[0m\n\u001b[1;32m    485\u001b[0m                     \u001b[0mmeijerg\u001b[0m\u001b[0;34m=\u001b[0m\u001b[0mmeijerg1\u001b[0m\u001b[0;34m,\u001b[0m \u001b[0mrisch\u001b[0m\u001b[0;34m=\u001b[0m\u001b[0mrisch\u001b[0m\u001b[0;34m,\u001b[0m \u001b[0mmanual\u001b[0m\u001b[0;34m=\u001b[0m\u001b[0mmanual\u001b[0m\u001b[0;34m,\u001b[0m\u001b[0;34m\u001b[0m\u001b[0m\n\u001b[0;32m--> 486\u001b[0;31m                     conds=conds)\n\u001b[0m\u001b[1;32m    487\u001b[0m                 \u001b[0;32mif\u001b[0m \u001b[0mantideriv\u001b[0m \u001b[0;32mis\u001b[0m \u001b[0;32mNone\u001b[0m \u001b[0;32mand\u001b[0m \u001b[0mmeijerg1\u001b[0m \u001b[0;32mis\u001b[0m \u001b[0;32mTrue\u001b[0m\u001b[0;34m:\u001b[0m\u001b[0;34m\u001b[0m\u001b[0m\n\u001b[1;32m    488\u001b[0m                     \u001b[0mret\u001b[0m \u001b[0;34m=\u001b[0m \u001b[0mtry_meijerg\u001b[0m\u001b[0;34m(\u001b[0m\u001b[0mfunction\u001b[0m\u001b[0;34m,\u001b[0m \u001b[0mxab\u001b[0m\u001b[0;34m)\u001b[0m\u001b[0;34m\u001b[0m\u001b[0m\n",
      "\u001b[0;32m~/anaconda3/lib/python3.6/site-packages/sympy/integrals/integrals.py\u001b[0m in \u001b[0;36m_eval_integral\u001b[0;34m(self, f, x, meijerg, risch, manual, conds)\u001b[0m\n\u001b[1;32m    778\u001b[0m         \u001b[0;32mif\u001b[0m \u001b[0mrisch\u001b[0m \u001b[0;32mis\u001b[0m \u001b[0;32mnot\u001b[0m \u001b[0;32mFalse\u001b[0m\u001b[0;34m:\u001b[0m\u001b[0;34m\u001b[0m\u001b[0m\n\u001b[1;32m    779\u001b[0m             \u001b[0;32mtry\u001b[0m\u001b[0;34m:\u001b[0m\u001b[0;34m\u001b[0m\u001b[0m\n\u001b[0;32m--> 780\u001b[0;31m                 \u001b[0mresult\u001b[0m\u001b[0;34m,\u001b[0m \u001b[0mi\u001b[0m \u001b[0;34m=\u001b[0m \u001b[0mrisch_integrate\u001b[0m\u001b[0;34m(\u001b[0m\u001b[0mf\u001b[0m\u001b[0;34m,\u001b[0m \u001b[0mx\u001b[0m\u001b[0;34m,\u001b[0m \u001b[0mseparate_integral\u001b[0m\u001b[0;34m=\u001b[0m\u001b[0;32mTrue\u001b[0m\u001b[0;34m,\u001b[0m \u001b[0mconds\u001b[0m\u001b[0;34m=\u001b[0m\u001b[0mconds\u001b[0m\u001b[0;34m)\u001b[0m\u001b[0;34m\u001b[0m\u001b[0m\n\u001b[0m\u001b[1;32m    781\u001b[0m             \u001b[0;32mexcept\u001b[0m \u001b[0mNotImplementedError\u001b[0m\u001b[0;34m:\u001b[0m\u001b[0;34m\u001b[0m\u001b[0m\n\u001b[1;32m    782\u001b[0m                 \u001b[0;32mpass\u001b[0m\u001b[0;34m\u001b[0m\u001b[0m\n",
      "\u001b[0;32m~/anaconda3/lib/python3.6/site-packages/sympy/integrals/risch.py\u001b[0m in \u001b[0;36mrisch_integrate\u001b[0;34m(f, x, extension, handle_first, separate_integral, rewrite_complex, conds)\u001b[0m\n\u001b[1;32m   1727\u001b[0m         \u001b[0mfa\u001b[0m\u001b[0;34m,\u001b[0m \u001b[0mfd\u001b[0m \u001b[0;34m=\u001b[0m \u001b[0mfa\u001b[0m\u001b[0;34m.\u001b[0m\u001b[0mcancel\u001b[0m\u001b[0;34m(\u001b[0m\u001b[0mfd\u001b[0m\u001b[0;34m,\u001b[0m \u001b[0minclude\u001b[0m\u001b[0;34m=\u001b[0m\u001b[0;32mTrue\u001b[0m\u001b[0;34m)\u001b[0m\u001b[0;34m\u001b[0m\u001b[0m\n\u001b[1;32m   1728\u001b[0m         \u001b[0;32mif\u001b[0m \u001b[0mcase\u001b[0m \u001b[0;34m==\u001b[0m \u001b[0;34m'exp'\u001b[0m\u001b[0;34m:\u001b[0m\u001b[0;34m\u001b[0m\u001b[0m\n\u001b[0;32m-> 1729\u001b[0;31m             \u001b[0mans\u001b[0m\u001b[0;34m,\u001b[0m \u001b[0mi\u001b[0m\u001b[0;34m,\u001b[0m \u001b[0mb\u001b[0m \u001b[0;34m=\u001b[0m \u001b[0mintegrate_hyperexponential\u001b[0m\u001b[0;34m(\u001b[0m\u001b[0mfa\u001b[0m\u001b[0;34m,\u001b[0m \u001b[0mfd\u001b[0m\u001b[0;34m,\u001b[0m \u001b[0mDE\u001b[0m\u001b[0;34m,\u001b[0m \u001b[0mconds\u001b[0m\u001b[0;34m=\u001b[0m\u001b[0mconds\u001b[0m\u001b[0;34m)\u001b[0m\u001b[0;34m\u001b[0m\u001b[0m\n\u001b[0m\u001b[1;32m   1730\u001b[0m         \u001b[0;32melif\u001b[0m \u001b[0mcase\u001b[0m \u001b[0;34m==\u001b[0m \u001b[0;34m'primitive'\u001b[0m\u001b[0;34m:\u001b[0m\u001b[0;34m\u001b[0m\u001b[0m\n\u001b[1;32m   1731\u001b[0m             \u001b[0mans\u001b[0m\u001b[0;34m,\u001b[0m \u001b[0mi\u001b[0m\u001b[0;34m,\u001b[0m \u001b[0mb\u001b[0m \u001b[0;34m=\u001b[0m \u001b[0mintegrate_primitive\u001b[0m\u001b[0;34m(\u001b[0m\u001b[0mfa\u001b[0m\u001b[0;34m,\u001b[0m \u001b[0mfd\u001b[0m\u001b[0;34m,\u001b[0m \u001b[0mDE\u001b[0m\u001b[0;34m)\u001b[0m\u001b[0;34m\u001b[0m\u001b[0m\n",
      "\u001b[0;32m~/anaconda3/lib/python3.6/site-packages/sympy/integrals/risch.py\u001b[0m in \u001b[0;36mintegrate_hyperexponential\u001b[0;34m(a, d, DE, z, conds)\u001b[0m\n\u001b[1;32m   1487\u001b[0m         \u001b[0;31m# equaling 1?\u001b[0m\u001b[0;34m\u001b[0m\u001b[0;34m\u001b[0m\u001b[0m\n\u001b[1;32m   1488\u001b[0m         ret += Piecewise(\n\u001b[0;32m-> 1489\u001b[0;31m                 \u001b[0;34m(\u001b[0m\u001b[0mintegrate\u001b[0m\u001b[0;34m(\u001b[0m\u001b[0;34m(\u001b[0m\u001b[0mp\u001b[0m \u001b[0;34m-\u001b[0m \u001b[0mi\u001b[0m\u001b[0;34m)\u001b[0m\u001b[0;34m.\u001b[0m\u001b[0msubs\u001b[0m\u001b[0;34m(\u001b[0m\u001b[0mDE\u001b[0m\u001b[0;34m.\u001b[0m\u001b[0mt\u001b[0m\u001b[0;34m,\u001b[0m \u001b[0;36m1\u001b[0m\u001b[0;34m)\u001b[0m\u001b[0;34m.\u001b[0m\u001b[0msubs\u001b[0m\u001b[0;34m(\u001b[0m\u001b[0ms\u001b[0m\u001b[0;34m)\u001b[0m\u001b[0;34m,\u001b[0m \u001b[0mDE\u001b[0m\u001b[0;34m.\u001b[0m\u001b[0mx\u001b[0m\u001b[0;34m)\u001b[0m\u001b[0;34m,\u001b[0m \u001b[0mEq\u001b[0m\u001b[0;34m(\u001b[0m\u001b[0mqds\u001b[0m\u001b[0;34m,\u001b[0m \u001b[0;36m0\u001b[0m\u001b[0;34m)\u001b[0m\u001b[0;34m)\u001b[0m\u001b[0;34m,\u001b[0m\u001b[0;34m\u001b[0m\u001b[0m\n\u001b[0m\u001b[1;32m   1490\u001b[0m                 \u001b[0;34m(\u001b[0m\u001b[0mqas\u001b[0m\u001b[0;34m/\u001b[0m\u001b[0mqds\u001b[0m\u001b[0;34m,\u001b[0m \u001b[0;32mTrue\u001b[0m\u001b[0;34m)\u001b[0m\u001b[0;34m\u001b[0m\u001b[0m\n\u001b[1;32m   1491\u001b[0m             )\n",
      "\u001b[0;32m~/anaconda3/lib/python3.6/site-packages/sympy/integrals/integrals.py\u001b[0m in \u001b[0;36mintegrate\u001b[0;34m(*args, **kwargs)\u001b[0m\n\u001b[1;32m   1293\u001b[0m     \u001b[0;32mif\u001b[0m \u001b[0misinstance\u001b[0m\u001b[0;34m(\u001b[0m\u001b[0mintegral\u001b[0m\u001b[0;34m,\u001b[0m \u001b[0mIntegral\u001b[0m\u001b[0;34m)\u001b[0m\u001b[0;34m:\u001b[0m\u001b[0;34m\u001b[0m\u001b[0m\n\u001b[1;32m   1294\u001b[0m         return integral.doit(deep=False, meijerg=meijerg, conds=conds,\n\u001b[0;32m-> 1295\u001b[0;31m                              risch=risch, manual=manual)\n\u001b[0m\u001b[1;32m   1296\u001b[0m     \u001b[0;32melse\u001b[0m\u001b[0;34m:\u001b[0m\u001b[0;34m\u001b[0m\u001b[0m\n\u001b[1;32m   1297\u001b[0m         \u001b[0;32mreturn\u001b[0m \u001b[0mintegral\u001b[0m\u001b[0;34m\u001b[0m\u001b[0m\n",
      "\u001b[0;32m~/anaconda3/lib/python3.6/site-packages/sympy/integrals/integrals.py\u001b[0m in \u001b[0;36mdoit\u001b[0;34m(self, **hints)\u001b[0m\n\u001b[1;32m    484\u001b[0m                     \u001b[0mfunction\u001b[0m\u001b[0;34m,\u001b[0m \u001b[0mxab\u001b[0m\u001b[0;34m[\u001b[0m\u001b[0;36m0\u001b[0m\u001b[0;34m]\u001b[0m\u001b[0;34m,\u001b[0m\u001b[0;34m\u001b[0m\u001b[0m\n\u001b[1;32m    485\u001b[0m                     \u001b[0mmeijerg\u001b[0m\u001b[0;34m=\u001b[0m\u001b[0mmeijerg1\u001b[0m\u001b[0;34m,\u001b[0m \u001b[0mrisch\u001b[0m\u001b[0;34m=\u001b[0m\u001b[0mrisch\u001b[0m\u001b[0;34m,\u001b[0m \u001b[0mmanual\u001b[0m\u001b[0;34m=\u001b[0m\u001b[0mmanual\u001b[0m\u001b[0;34m,\u001b[0m\u001b[0;34m\u001b[0m\u001b[0m\n\u001b[0;32m--> 486\u001b[0;31m                     conds=conds)\n\u001b[0m\u001b[1;32m    487\u001b[0m                 \u001b[0;32mif\u001b[0m \u001b[0mantideriv\u001b[0m \u001b[0;32mis\u001b[0m \u001b[0;32mNone\u001b[0m \u001b[0;32mand\u001b[0m \u001b[0mmeijerg1\u001b[0m \u001b[0;32mis\u001b[0m \u001b[0;32mTrue\u001b[0m\u001b[0;34m:\u001b[0m\u001b[0;34m\u001b[0m\u001b[0m\n\u001b[1;32m    488\u001b[0m                     \u001b[0mret\u001b[0m \u001b[0;34m=\u001b[0m \u001b[0mtry_meijerg\u001b[0m\u001b[0;34m(\u001b[0m\u001b[0mfunction\u001b[0m\u001b[0;34m,\u001b[0m \u001b[0mxab\u001b[0m\u001b[0;34m)\u001b[0m\u001b[0;34m\u001b[0m\u001b[0m\n",
      "\u001b[0;32m~/anaconda3/lib/python3.6/site-packages/sympy/integrals/integrals.py\u001b[0m in \u001b[0;36m_eval_integral\u001b[0;34m(self, f, x, meijerg, risch, manual, conds)\u001b[0m\n\u001b[1;32m    778\u001b[0m         \u001b[0;32mif\u001b[0m \u001b[0mrisch\u001b[0m \u001b[0;32mis\u001b[0m \u001b[0;32mnot\u001b[0m \u001b[0;32mFalse\u001b[0m\u001b[0;34m:\u001b[0m\u001b[0;34m\u001b[0m\u001b[0m\n\u001b[1;32m    779\u001b[0m             \u001b[0;32mtry\u001b[0m\u001b[0;34m:\u001b[0m\u001b[0;34m\u001b[0m\u001b[0m\n\u001b[0;32m--> 780\u001b[0;31m                 \u001b[0mresult\u001b[0m\u001b[0;34m,\u001b[0m \u001b[0mi\u001b[0m \u001b[0;34m=\u001b[0m \u001b[0mrisch_integrate\u001b[0m\u001b[0;34m(\u001b[0m\u001b[0mf\u001b[0m\u001b[0;34m,\u001b[0m \u001b[0mx\u001b[0m\u001b[0;34m,\u001b[0m \u001b[0mseparate_integral\u001b[0m\u001b[0;34m=\u001b[0m\u001b[0;32mTrue\u001b[0m\u001b[0;34m,\u001b[0m \u001b[0mconds\u001b[0m\u001b[0;34m=\u001b[0m\u001b[0mconds\u001b[0m\u001b[0;34m)\u001b[0m\u001b[0;34m\u001b[0m\u001b[0m\n\u001b[0m\u001b[1;32m    781\u001b[0m             \u001b[0;32mexcept\u001b[0m \u001b[0mNotImplementedError\u001b[0m\u001b[0;34m:\u001b[0m\u001b[0;34m\u001b[0m\u001b[0m\n\u001b[1;32m    782\u001b[0m                 \u001b[0;32mpass\u001b[0m\u001b[0;34m\u001b[0m\u001b[0m\n",
      "\u001b[0;32m~/anaconda3/lib/python3.6/site-packages/sympy/integrals/risch.py\u001b[0m in \u001b[0;36mrisch_integrate\u001b[0;34m(f, x, extension, handle_first, separate_integral, rewrite_complex, conds)\u001b[0m\n\u001b[1;32m   1733\u001b[0m             \u001b[0;31m# XXX: We can't call ratint() directly here because it doesn't\u001b[0m\u001b[0;34m\u001b[0m\u001b[0;34m\u001b[0m\u001b[0m\n\u001b[1;32m   1734\u001b[0m             \u001b[0;31m# handle polynomials correctly.\u001b[0m\u001b[0;34m\u001b[0m\u001b[0;34m\u001b[0m\u001b[0m\n\u001b[0;32m-> 1735\u001b[0;31m             \u001b[0mans\u001b[0m \u001b[0;34m=\u001b[0m \u001b[0mintegrate\u001b[0m\u001b[0;34m(\u001b[0m\u001b[0mfa\u001b[0m\u001b[0;34m.\u001b[0m\u001b[0mas_expr\u001b[0m\u001b[0;34m(\u001b[0m\u001b[0;34m)\u001b[0m\u001b[0;34m/\u001b[0m\u001b[0mfd\u001b[0m\u001b[0;34m.\u001b[0m\u001b[0mas_expr\u001b[0m\u001b[0;34m(\u001b[0m\u001b[0;34m)\u001b[0m\u001b[0;34m,\u001b[0m \u001b[0mDE\u001b[0m\u001b[0;34m.\u001b[0m\u001b[0mx\u001b[0m\u001b[0;34m,\u001b[0m \u001b[0mrisch\u001b[0m\u001b[0;34m=\u001b[0m\u001b[0;32mFalse\u001b[0m\u001b[0;34m)\u001b[0m\u001b[0;34m\u001b[0m\u001b[0m\n\u001b[0m\u001b[1;32m   1736\u001b[0m             \u001b[0mb\u001b[0m \u001b[0;34m=\u001b[0m \u001b[0;32mFalse\u001b[0m\u001b[0;34m\u001b[0m\u001b[0m\n\u001b[1;32m   1737\u001b[0m             \u001b[0mi\u001b[0m \u001b[0;34m=\u001b[0m \u001b[0mS\u001b[0m\u001b[0;34m(\u001b[0m\u001b[0;36m0\u001b[0m\u001b[0;34m)\u001b[0m\u001b[0;34m\u001b[0m\u001b[0m\n",
      "\u001b[0;32m~/anaconda3/lib/python3.6/site-packages/sympy/integrals/integrals.py\u001b[0m in \u001b[0;36mintegrate\u001b[0;34m(*args, **kwargs)\u001b[0m\n\u001b[1;32m   1293\u001b[0m     \u001b[0;32mif\u001b[0m \u001b[0misinstance\u001b[0m\u001b[0;34m(\u001b[0m\u001b[0mintegral\u001b[0m\u001b[0;34m,\u001b[0m \u001b[0mIntegral\u001b[0m\u001b[0;34m)\u001b[0m\u001b[0;34m:\u001b[0m\u001b[0;34m\u001b[0m\u001b[0m\n\u001b[1;32m   1294\u001b[0m         return integral.doit(deep=False, meijerg=meijerg, conds=conds,\n\u001b[0;32m-> 1295\u001b[0;31m                              risch=risch, manual=manual)\n\u001b[0m\u001b[1;32m   1296\u001b[0m     \u001b[0;32melse\u001b[0m\u001b[0;34m:\u001b[0m\u001b[0;34m\u001b[0m\u001b[0m\n\u001b[1;32m   1297\u001b[0m         \u001b[0;32mreturn\u001b[0m \u001b[0mintegral\u001b[0m\u001b[0;34m\u001b[0m\u001b[0m\n",
      "\u001b[0;32m~/anaconda3/lib/python3.6/site-packages/sympy/integrals/integrals.py\u001b[0m in \u001b[0;36mdoit\u001b[0;34m(self, **hints)\u001b[0m\n\u001b[1;32m    484\u001b[0m                     \u001b[0mfunction\u001b[0m\u001b[0;34m,\u001b[0m \u001b[0mxab\u001b[0m\u001b[0;34m[\u001b[0m\u001b[0;36m0\u001b[0m\u001b[0;34m]\u001b[0m\u001b[0;34m,\u001b[0m\u001b[0;34m\u001b[0m\u001b[0m\n\u001b[1;32m    485\u001b[0m                     \u001b[0mmeijerg\u001b[0m\u001b[0;34m=\u001b[0m\u001b[0mmeijerg1\u001b[0m\u001b[0;34m,\u001b[0m \u001b[0mrisch\u001b[0m\u001b[0;34m=\u001b[0m\u001b[0mrisch\u001b[0m\u001b[0;34m,\u001b[0m \u001b[0mmanual\u001b[0m\u001b[0;34m=\u001b[0m\u001b[0mmanual\u001b[0m\u001b[0;34m,\u001b[0m\u001b[0;34m\u001b[0m\u001b[0m\n\u001b[0;32m--> 486\u001b[0;31m                     conds=conds)\n\u001b[0m\u001b[1;32m    487\u001b[0m                 \u001b[0;32mif\u001b[0m \u001b[0mantideriv\u001b[0m \u001b[0;32mis\u001b[0m \u001b[0;32mNone\u001b[0m \u001b[0;32mand\u001b[0m \u001b[0mmeijerg1\u001b[0m \u001b[0;32mis\u001b[0m \u001b[0;32mTrue\u001b[0m\u001b[0;34m:\u001b[0m\u001b[0;34m\u001b[0m\u001b[0m\n\u001b[1;32m    488\u001b[0m                     \u001b[0mret\u001b[0m \u001b[0;34m=\u001b[0m \u001b[0mtry_meijerg\u001b[0m\u001b[0;34m(\u001b[0m\u001b[0mfunction\u001b[0m\u001b[0;34m,\u001b[0m \u001b[0mxab\u001b[0m\u001b[0;34m)\u001b[0m\u001b[0;34m\u001b[0m\u001b[0m\n",
      "\u001b[0;32m~/anaconda3/lib/python3.6/site-packages/sympy/integrals/integrals.py\u001b[0m in \u001b[0;36m_eval_integral\u001b[0;34m(self, f, x, meijerg, risch, manual, conds)\u001b[0m\n\u001b[1;32m    854\u001b[0m             \u001b[0;31m#        poly(x)\u001b[0m\u001b[0;34m\u001b[0m\u001b[0;34m\u001b[0m\u001b[0m\n\u001b[1;32m    855\u001b[0m             \u001b[0;32mif\u001b[0m \u001b[0mg\u001b[0m\u001b[0;34m.\u001b[0m\u001b[0mis_rational_function\u001b[0m\u001b[0;34m(\u001b[0m\u001b[0mx\u001b[0m\u001b[0;34m)\u001b[0m \u001b[0;32mand\u001b[0m \u001b[0;32mnot\u001b[0m \u001b[0mmeijerg\u001b[0m\u001b[0;34m:\u001b[0m\u001b[0;34m\u001b[0m\u001b[0m\n\u001b[0;32m--> 856\u001b[0;31m                 \u001b[0mparts\u001b[0m\u001b[0;34m.\u001b[0m\u001b[0mappend\u001b[0m\u001b[0;34m(\u001b[0m\u001b[0mcoeff\u001b[0m \u001b[0;34m*\u001b[0m \u001b[0mratint\u001b[0m\u001b[0;34m(\u001b[0m\u001b[0mg\u001b[0m\u001b[0;34m,\u001b[0m \u001b[0mx\u001b[0m\u001b[0;34m)\u001b[0m\u001b[0;34m)\u001b[0m\u001b[0;34m\u001b[0m\u001b[0m\n\u001b[0m\u001b[1;32m    857\u001b[0m                 \u001b[0;32mcontinue\u001b[0m\u001b[0;34m\u001b[0m\u001b[0m\n\u001b[1;32m    858\u001b[0m \u001b[0;34m\u001b[0m\u001b[0m\n",
      "\u001b[0;32m~/anaconda3/lib/python3.6/site-packages/sympy/integrals/rationaltools.py\u001b[0m in \u001b[0;36mratint\u001b[0;34m(f, x, **flags)\u001b[0m\n\u001b[1;32m     68\u001b[0m             \u001b[0mt\u001b[0m \u001b[0;34m=\u001b[0m \u001b[0msymbol\u001b[0m\u001b[0;34m.\u001b[0m\u001b[0mas_dummy\u001b[0m\u001b[0;34m(\u001b[0m\u001b[0;34m)\u001b[0m\u001b[0;34m\u001b[0m\u001b[0m\n\u001b[1;32m     69\u001b[0m \u001b[0;34m\u001b[0m\u001b[0m\n\u001b[0;32m---> 70\u001b[0;31m         \u001b[0mL\u001b[0m \u001b[0;34m=\u001b[0m \u001b[0mratint_logpart\u001b[0m\u001b[0;34m(\u001b[0m\u001b[0mr\u001b[0m\u001b[0;34m,\u001b[0m \u001b[0mQ\u001b[0m\u001b[0;34m,\u001b[0m \u001b[0mx\u001b[0m\u001b[0;34m,\u001b[0m \u001b[0mt\u001b[0m\u001b[0;34m)\u001b[0m\u001b[0;34m\u001b[0m\u001b[0m\n\u001b[0m\u001b[1;32m     71\u001b[0m \u001b[0;34m\u001b[0m\u001b[0m\n\u001b[1;32m     72\u001b[0m         \u001b[0mreal\u001b[0m \u001b[0;34m=\u001b[0m \u001b[0mflags\u001b[0m\u001b[0;34m.\u001b[0m\u001b[0mget\u001b[0m\u001b[0;34m(\u001b[0m\u001b[0;34m'real'\u001b[0m\u001b[0;34m)\u001b[0m\u001b[0;34m\u001b[0m\u001b[0m\n",
      "\u001b[0;32m~/anaconda3/lib/python3.6/site-packages/sympy/integrals/rationaltools.py\u001b[0m in \u001b[0;36mratint_logpart\u001b[0;34m(f, g, x, t)\u001b[0m\n\u001b[1;32m    224\u001b[0m             \u001b[0msqf\u001b[0m\u001b[0;34m[\u001b[0m\u001b[0;36m0\u001b[0m\u001b[0;34m]\u001b[0m \u001b[0;34m=\u001b[0m \u001b[0mh\u001b[0m\u001b[0;34m*\u001b[0m\u001b[0mc\u001b[0m\u001b[0;34m,\u001b[0m \u001b[0mk\u001b[0m\u001b[0;34m\u001b[0m\u001b[0m\n\u001b[1;32m    225\u001b[0m \u001b[0;34m\u001b[0m\u001b[0m\n\u001b[0;32m--> 226\u001b[0;31m     \u001b[0mC\u001b[0m\u001b[0;34m,\u001b[0m \u001b[0mres_sqf\u001b[0m \u001b[0;34m=\u001b[0m \u001b[0mres\u001b[0m\u001b[0;34m.\u001b[0m\u001b[0msqf_list\u001b[0m\u001b[0;34m(\u001b[0m\u001b[0;34m)\u001b[0m\u001b[0;34m\u001b[0m\u001b[0m\n\u001b[0m\u001b[1;32m    227\u001b[0m     \u001b[0m_include_sign\u001b[0m\u001b[0;34m(\u001b[0m\u001b[0mC\u001b[0m\u001b[0;34m,\u001b[0m \u001b[0mres_sqf\u001b[0m\u001b[0;34m)\u001b[0m\u001b[0;34m\u001b[0m\u001b[0m\n\u001b[1;32m    228\u001b[0m \u001b[0;34m\u001b[0m\u001b[0m\n",
      "\u001b[0;32m~/anaconda3/lib/python3.6/site-packages/sympy/polys/polytools.py\u001b[0m in \u001b[0;36msqf_list\u001b[0;34m(f, all)\u001b[0m\n\u001b[1;32m   3138\u001b[0m         \"\"\"\n\u001b[1;32m   3139\u001b[0m         \u001b[0;32mif\u001b[0m \u001b[0mhasattr\u001b[0m\u001b[0;34m(\u001b[0m\u001b[0mf\u001b[0m\u001b[0;34m.\u001b[0m\u001b[0mrep\u001b[0m\u001b[0;34m,\u001b[0m \u001b[0;34m'sqf_list'\u001b[0m\u001b[0;34m)\u001b[0m\u001b[0;34m:\u001b[0m\u001b[0;34m\u001b[0m\u001b[0m\n\u001b[0;32m-> 3140\u001b[0;31m             \u001b[0mcoeff\u001b[0m\u001b[0;34m,\u001b[0m \u001b[0mfactors\u001b[0m \u001b[0;34m=\u001b[0m \u001b[0mf\u001b[0m\u001b[0;34m.\u001b[0m\u001b[0mrep\u001b[0m\u001b[0;34m.\u001b[0m\u001b[0msqf_list\u001b[0m\u001b[0;34m(\u001b[0m\u001b[0mall\u001b[0m\u001b[0;34m)\u001b[0m\u001b[0;34m\u001b[0m\u001b[0m\n\u001b[0m\u001b[1;32m   3141\u001b[0m         \u001b[0;32melse\u001b[0m\u001b[0;34m:\u001b[0m  \u001b[0;31m# pragma: no cover\u001b[0m\u001b[0;34m\u001b[0m\u001b[0m\n\u001b[1;32m   3142\u001b[0m             \u001b[0;32mraise\u001b[0m \u001b[0mOperationNotSupported\u001b[0m\u001b[0;34m(\u001b[0m\u001b[0mf\u001b[0m\u001b[0;34m,\u001b[0m \u001b[0;34m'sqf_list'\u001b[0m\u001b[0;34m)\u001b[0m\u001b[0;34m\u001b[0m\u001b[0m\n",
      "\u001b[0;32m~/anaconda3/lib/python3.6/site-packages/sympy/polys/polyclasses.py\u001b[0m in \u001b[0;36msqf_list\u001b[0;34m(f, all)\u001b[0m\n\u001b[1;32m    762\u001b[0m     \u001b[0;32mdef\u001b[0m \u001b[0msqf_list\u001b[0m\u001b[0;34m(\u001b[0m\u001b[0mf\u001b[0m\u001b[0;34m,\u001b[0m \u001b[0mall\u001b[0m\u001b[0;34m=\u001b[0m\u001b[0;32mFalse\u001b[0m\u001b[0;34m)\u001b[0m\u001b[0;34m:\u001b[0m\u001b[0;34m\u001b[0m\u001b[0m\n\u001b[1;32m    763\u001b[0m         \u001b[0;34m\"\"\"Returns a list of square-free factors of ``f``. \"\"\"\u001b[0m\u001b[0;34m\u001b[0m\u001b[0m\n\u001b[0;32m--> 764\u001b[0;31m         \u001b[0mcoeff\u001b[0m\u001b[0;34m,\u001b[0m \u001b[0mfactors\u001b[0m \u001b[0;34m=\u001b[0m \u001b[0mdmp_sqf_list\u001b[0m\u001b[0;34m(\u001b[0m\u001b[0mf\u001b[0m\u001b[0;34m.\u001b[0m\u001b[0mrep\u001b[0m\u001b[0;34m,\u001b[0m \u001b[0mf\u001b[0m\u001b[0;34m.\u001b[0m\u001b[0mlev\u001b[0m\u001b[0;34m,\u001b[0m \u001b[0mf\u001b[0m\u001b[0;34m.\u001b[0m\u001b[0mdom\u001b[0m\u001b[0;34m,\u001b[0m \u001b[0mall\u001b[0m\u001b[0;34m)\u001b[0m\u001b[0;34m\u001b[0m\u001b[0m\n\u001b[0m\u001b[1;32m    765\u001b[0m         \u001b[0;32mreturn\u001b[0m \u001b[0mcoeff\u001b[0m\u001b[0;34m,\u001b[0m \u001b[0;34m[\u001b[0m \u001b[0;34m(\u001b[0m\u001b[0mf\u001b[0m\u001b[0;34m.\u001b[0m\u001b[0mper\u001b[0m\u001b[0;34m(\u001b[0m\u001b[0mg\u001b[0m\u001b[0;34m)\u001b[0m\u001b[0;34m,\u001b[0m \u001b[0mk\u001b[0m\u001b[0;34m)\u001b[0m \u001b[0;32mfor\u001b[0m \u001b[0mg\u001b[0m\u001b[0;34m,\u001b[0m \u001b[0mk\u001b[0m \u001b[0;32min\u001b[0m \u001b[0mfactors\u001b[0m \u001b[0;34m]\u001b[0m\u001b[0;34m\u001b[0m\u001b[0m\n\u001b[1;32m    766\u001b[0m \u001b[0;34m\u001b[0m\u001b[0m\n",
      "\u001b[0;32m~/anaconda3/lib/python3.6/site-packages/sympy/polys/sqfreetools.py\u001b[0m in \u001b[0;36mdmp_sqf_list\u001b[0;34m(f, u, K, all)\u001b[0m\n\u001b[1;32m    375\u001b[0m     \"\"\"\n\u001b[1;32m    376\u001b[0m     \u001b[0;32mif\u001b[0m \u001b[0;32mnot\u001b[0m \u001b[0mu\u001b[0m\u001b[0;34m:\u001b[0m\u001b[0;34m\u001b[0m\u001b[0m\n\u001b[0;32m--> 377\u001b[0;31m         \u001b[0;32mreturn\u001b[0m \u001b[0mdup_sqf_list\u001b[0m\u001b[0;34m(\u001b[0m\u001b[0mf\u001b[0m\u001b[0;34m,\u001b[0m \u001b[0mK\u001b[0m\u001b[0;34m,\u001b[0m \u001b[0mall\u001b[0m\u001b[0;34m=\u001b[0m\u001b[0mall\u001b[0m\u001b[0;34m)\u001b[0m\u001b[0;34m\u001b[0m\u001b[0m\n\u001b[0m\u001b[1;32m    378\u001b[0m \u001b[0;34m\u001b[0m\u001b[0m\n\u001b[1;32m    379\u001b[0m     \u001b[0;32mif\u001b[0m \u001b[0mK\u001b[0m\u001b[0;34m.\u001b[0m\u001b[0mis_FiniteField\u001b[0m\u001b[0;34m:\u001b[0m\u001b[0;34m\u001b[0m\u001b[0m\n",
      "\u001b[0;32m~/anaconda3/lib/python3.6/site-packages/sympy/polys/sqfreetools.py\u001b[0m in \u001b[0;36mdup_sqf_list\u001b[0;34m(f, K, all)\u001b[0m\n\u001b[1;32m    294\u001b[0m     \u001b[0;32mif\u001b[0m \u001b[0mK\u001b[0m\u001b[0;34m.\u001b[0m\u001b[0mis_Field\u001b[0m\u001b[0;34m:\u001b[0m\u001b[0;34m\u001b[0m\u001b[0m\n\u001b[1;32m    295\u001b[0m         \u001b[0mcoeff\u001b[0m \u001b[0;34m=\u001b[0m \u001b[0mdup_LC\u001b[0m\u001b[0;34m(\u001b[0m\u001b[0mf\u001b[0m\u001b[0;34m,\u001b[0m \u001b[0mK\u001b[0m\u001b[0;34m)\u001b[0m\u001b[0;34m\u001b[0m\u001b[0m\n\u001b[0;32m--> 296\u001b[0;31m         \u001b[0mf\u001b[0m \u001b[0;34m=\u001b[0m \u001b[0mdup_monic\u001b[0m\u001b[0;34m(\u001b[0m\u001b[0mf\u001b[0m\u001b[0;34m,\u001b[0m \u001b[0mK\u001b[0m\u001b[0;34m)\u001b[0m\u001b[0;34m\u001b[0m\u001b[0m\n\u001b[0m\u001b[1;32m    297\u001b[0m     \u001b[0;32melse\u001b[0m\u001b[0;34m:\u001b[0m\u001b[0;34m\u001b[0m\u001b[0m\n\u001b[1;32m    298\u001b[0m         \u001b[0mcoeff\u001b[0m\u001b[0;34m,\u001b[0m \u001b[0mf\u001b[0m \u001b[0;34m=\u001b[0m \u001b[0mdup_primitive\u001b[0m\u001b[0;34m(\u001b[0m\u001b[0mf\u001b[0m\u001b[0;34m,\u001b[0m \u001b[0mK\u001b[0m\u001b[0;34m)\u001b[0m\u001b[0;34m\u001b[0m\u001b[0m\n",
      "\u001b[0;32m~/anaconda3/lib/python3.6/site-packages/sympy/polys/densetools.py\u001b[0m in \u001b[0;36mdup_monic\u001b[0;34m(f, K)\u001b[0m\n\u001b[1;32m    535\u001b[0m         \u001b[0;32mreturn\u001b[0m \u001b[0mf\u001b[0m\u001b[0;34m\u001b[0m\u001b[0m\n\u001b[1;32m    536\u001b[0m     \u001b[0;32melse\u001b[0m\u001b[0;34m:\u001b[0m\u001b[0;34m\u001b[0m\u001b[0m\n\u001b[0;32m--> 537\u001b[0;31m         \u001b[0;32mreturn\u001b[0m \u001b[0mdup_exquo_ground\u001b[0m\u001b[0;34m(\u001b[0m\u001b[0mf\u001b[0m\u001b[0;34m,\u001b[0m \u001b[0mlc\u001b[0m\u001b[0;34m,\u001b[0m \u001b[0mK\u001b[0m\u001b[0;34m)\u001b[0m\u001b[0;34m\u001b[0m\u001b[0m\n\u001b[0m\u001b[1;32m    538\u001b[0m \u001b[0;34m\u001b[0m\u001b[0m\n\u001b[1;32m    539\u001b[0m \u001b[0;34m\u001b[0m\u001b[0m\n",
      "\u001b[0;32m~/anaconda3/lib/python3.6/site-packages/sympy/polys/densearith.py\u001b[0m in \u001b[0;36mdup_exquo_ground\u001b[0;34m(f, c, K)\u001b[0m\n\u001b[1;32m    372\u001b[0m         \u001b[0;32mreturn\u001b[0m \u001b[0mf\u001b[0m\u001b[0;34m\u001b[0m\u001b[0m\n\u001b[1;32m    373\u001b[0m \u001b[0;34m\u001b[0m\u001b[0m\n\u001b[0;32m--> 374\u001b[0;31m     \u001b[0;32mreturn\u001b[0m \u001b[0;34m[\u001b[0m \u001b[0mK\u001b[0m\u001b[0;34m.\u001b[0m\u001b[0mexquo\u001b[0m\u001b[0;34m(\u001b[0m\u001b[0mcf\u001b[0m\u001b[0;34m,\u001b[0m \u001b[0mc\u001b[0m\u001b[0;34m)\u001b[0m \u001b[0;32mfor\u001b[0m \u001b[0mcf\u001b[0m \u001b[0;32min\u001b[0m \u001b[0mf\u001b[0m \u001b[0;34m]\u001b[0m\u001b[0;34m\u001b[0m\u001b[0m\n\u001b[0m\u001b[1;32m    375\u001b[0m \u001b[0;34m\u001b[0m\u001b[0m\n\u001b[1;32m    376\u001b[0m \u001b[0;34m\u001b[0m\u001b[0m\n",
      "\u001b[0;32m~/anaconda3/lib/python3.6/site-packages/sympy/polys/densearith.py\u001b[0m in \u001b[0;36m<listcomp>\u001b[0;34m(.0)\u001b[0m\n\u001b[1;32m    372\u001b[0m         \u001b[0;32mreturn\u001b[0m \u001b[0mf\u001b[0m\u001b[0;34m\u001b[0m\u001b[0m\n\u001b[1;32m    373\u001b[0m \u001b[0;34m\u001b[0m\u001b[0m\n\u001b[0;32m--> 374\u001b[0;31m     \u001b[0;32mreturn\u001b[0m \u001b[0;34m[\u001b[0m \u001b[0mK\u001b[0m\u001b[0;34m.\u001b[0m\u001b[0mexquo\u001b[0m\u001b[0;34m(\u001b[0m\u001b[0mcf\u001b[0m\u001b[0;34m,\u001b[0m \u001b[0mc\u001b[0m\u001b[0;34m)\u001b[0m \u001b[0;32mfor\u001b[0m \u001b[0mcf\u001b[0m \u001b[0;32min\u001b[0m \u001b[0mf\u001b[0m \u001b[0;34m]\u001b[0m\u001b[0;34m\u001b[0m\u001b[0m\n\u001b[0m\u001b[1;32m    375\u001b[0m \u001b[0;34m\u001b[0m\u001b[0m\n\u001b[1;32m    376\u001b[0m \u001b[0;34m\u001b[0m\u001b[0m\n",
      "\u001b[0;32m~/anaconda3/lib/python3.6/site-packages/sympy/polys/domains/field.py\u001b[0m in \u001b[0;36mexquo\u001b[0;34m(self, a, b)\u001b[0m\n\u001b[1;32m     24\u001b[0m     \u001b[0;32mdef\u001b[0m \u001b[0mexquo\u001b[0m\u001b[0;34m(\u001b[0m\u001b[0mself\u001b[0m\u001b[0;34m,\u001b[0m \u001b[0ma\u001b[0m\u001b[0;34m,\u001b[0m \u001b[0mb\u001b[0m\u001b[0;34m)\u001b[0m\u001b[0;34m:\u001b[0m\u001b[0;34m\u001b[0m\u001b[0m\n\u001b[1;32m     25\u001b[0m         \u001b[0;34m\"\"\"Exact quotient of ``a`` and ``b``, implies ``__div__``.  \"\"\"\u001b[0m\u001b[0;34m\u001b[0m\u001b[0m\n\u001b[0;32m---> 26\u001b[0;31m         \u001b[0;32mreturn\u001b[0m \u001b[0ma\u001b[0m \u001b[0;34m/\u001b[0m \u001b[0mb\u001b[0m\u001b[0;34m\u001b[0m\u001b[0m\n\u001b[0m\u001b[1;32m     27\u001b[0m \u001b[0;34m\u001b[0m\u001b[0m\n\u001b[1;32m     28\u001b[0m     \u001b[0;32mdef\u001b[0m \u001b[0mquo\u001b[0m\u001b[0;34m(\u001b[0m\u001b[0mself\u001b[0m\u001b[0;34m,\u001b[0m \u001b[0ma\u001b[0m\u001b[0;34m,\u001b[0m \u001b[0mb\u001b[0m\u001b[0;34m)\u001b[0m\u001b[0;34m:\u001b[0m\u001b[0;34m\u001b[0m\u001b[0m\n",
      "\u001b[0;32m~/anaconda3/lib/python3.6/site-packages/sympy/polys/domains/expressiondomain.py\u001b[0m in \u001b[0;36m__truediv__\u001b[0;34m(f, g)\u001b[0m\n\u001b[1;32m    106\u001b[0m \u001b[0;34m\u001b[0m\u001b[0m\n\u001b[1;32m    107\u001b[0m             \u001b[0;32mif\u001b[0m \u001b[0mg\u001b[0m \u001b[0;32mis\u001b[0m \u001b[0;32mnot\u001b[0m \u001b[0;32mNone\u001b[0m\u001b[0;34m:\u001b[0m\u001b[0;34m\u001b[0m\u001b[0m\n\u001b[0;32m--> 108\u001b[0;31m                 \u001b[0;32mreturn\u001b[0m \u001b[0mf\u001b[0m\u001b[0;34m.\u001b[0m\u001b[0msimplify\u001b[0m\u001b[0;34m(\u001b[0m\u001b[0mf\u001b[0m\u001b[0;34m.\u001b[0m\u001b[0mex\u001b[0m\u001b[0;34m/\u001b[0m\u001b[0mg\u001b[0m\u001b[0;34m.\u001b[0m\u001b[0mex\u001b[0m\u001b[0;34m)\u001b[0m\u001b[0;34m\u001b[0m\u001b[0m\n\u001b[0m\u001b[1;32m    109\u001b[0m             \u001b[0;32melse\u001b[0m\u001b[0;34m:\u001b[0m\u001b[0;34m\u001b[0m\u001b[0m\n\u001b[1;32m    110\u001b[0m                 \u001b[0;32mreturn\u001b[0m \u001b[0mNotImplemented\u001b[0m\u001b[0;34m\u001b[0m\u001b[0m\n",
      "\u001b[0;32m~/anaconda3/lib/python3.6/site-packages/sympy/polys/domains/expressiondomain.py\u001b[0m in \u001b[0;36msimplify\u001b[0;34m(f, ex)\u001b[0m\n\u001b[1;32m     47\u001b[0m \u001b[0;34m\u001b[0m\u001b[0m\n\u001b[1;32m     48\u001b[0m         \u001b[0;32mdef\u001b[0m \u001b[0msimplify\u001b[0m\u001b[0;34m(\u001b[0m\u001b[0mf\u001b[0m\u001b[0;34m,\u001b[0m \u001b[0mex\u001b[0m\u001b[0;34m)\u001b[0m\u001b[0;34m:\u001b[0m\u001b[0;34m\u001b[0m\u001b[0m\n\u001b[0;32m---> 49\u001b[0;31m             \u001b[0;32mreturn\u001b[0m \u001b[0mf\u001b[0m\u001b[0;34m.\u001b[0m\u001b[0m__class__\u001b[0m\u001b[0;34m(\u001b[0m\u001b[0mex\u001b[0m\u001b[0;34m.\u001b[0m\u001b[0mcancel\u001b[0m\u001b[0;34m(\u001b[0m\u001b[0;34m)\u001b[0m\u001b[0;34m)\u001b[0m\u001b[0;34m\u001b[0m\u001b[0m\n\u001b[0m\u001b[1;32m     50\u001b[0m \u001b[0;34m\u001b[0m\u001b[0m\n\u001b[1;32m     51\u001b[0m         \u001b[0;32mdef\u001b[0m \u001b[0m__abs__\u001b[0m\u001b[0;34m(\u001b[0m\u001b[0mf\u001b[0m\u001b[0;34m)\u001b[0m\u001b[0;34m:\u001b[0m\u001b[0;34m\u001b[0m\u001b[0m\n",
      "\u001b[0;32m~/anaconda3/lib/python3.6/site-packages/sympy/core/expr.py\u001b[0m in \u001b[0;36mcancel\u001b[0;34m(self, *gens, **args)\u001b[0m\n\u001b[1;32m   3159\u001b[0m         \u001b[0;34m\"\"\"See the cancel function in sympy.polys\"\"\"\u001b[0m\u001b[0;34m\u001b[0m\u001b[0m\n\u001b[1;32m   3160\u001b[0m         \u001b[0;32mfrom\u001b[0m \u001b[0msympy\u001b[0m\u001b[0;34m.\u001b[0m\u001b[0mpolys\u001b[0m \u001b[0;32mimport\u001b[0m \u001b[0mcancel\u001b[0m\u001b[0;34m\u001b[0m\u001b[0m\n\u001b[0;32m-> 3161\u001b[0;31m         \u001b[0;32mreturn\u001b[0m \u001b[0mcancel\u001b[0m\u001b[0;34m(\u001b[0m\u001b[0mself\u001b[0m\u001b[0;34m,\u001b[0m \u001b[0;34m*\u001b[0m\u001b[0mgens\u001b[0m\u001b[0;34m,\u001b[0m \u001b[0;34m**\u001b[0m\u001b[0margs\u001b[0m\u001b[0;34m)\u001b[0m\u001b[0;34m\u001b[0m\u001b[0m\n\u001b[0m\u001b[1;32m   3162\u001b[0m \u001b[0;34m\u001b[0m\u001b[0m\n\u001b[1;32m   3163\u001b[0m     \u001b[0;32mdef\u001b[0m \u001b[0minvert\u001b[0m\u001b[0;34m(\u001b[0m\u001b[0mself\u001b[0m\u001b[0;34m,\u001b[0m \u001b[0mg\u001b[0m\u001b[0;34m,\u001b[0m \u001b[0;34m*\u001b[0m\u001b[0mgens\u001b[0m\u001b[0;34m,\u001b[0m \u001b[0;34m**\u001b[0m\u001b[0margs\u001b[0m\u001b[0;34m)\u001b[0m\u001b[0;34m:\u001b[0m\u001b[0;34m\u001b[0m\u001b[0m\n",
      "\u001b[0;32m~/anaconda3/lib/python3.6/site-packages/sympy/polys/polytools.py\u001b[0m in \u001b[0;36mcancel\u001b[0;34m(f, *gens, **args)\u001b[0m\n\u001b[1;32m   6462\u001b[0m             \u001b[0;32mreturn\u001b[0m \u001b[0mf\u001b[0m\u001b[0;34m.\u001b[0m\u001b[0mxreplace\u001b[0m\u001b[0;34m(\u001b[0m\u001b[0mdict\u001b[0m\u001b[0;34m(\u001b[0m\u001b[0mreps\u001b[0m\u001b[0;34m)\u001b[0m\u001b[0;34m)\u001b[0m\u001b[0;34m\u001b[0m\u001b[0m\n\u001b[1;32m   6463\u001b[0m \u001b[0;34m\u001b[0m\u001b[0m\n\u001b[0;32m-> 6464\u001b[0;31m     \u001b[0mc\u001b[0m\u001b[0;34m,\u001b[0m \u001b[0mP\u001b[0m\u001b[0;34m,\u001b[0m \u001b[0mQ\u001b[0m \u001b[0;34m=\u001b[0m \u001b[0mF\u001b[0m\u001b[0;34m.\u001b[0m\u001b[0mcancel\u001b[0m\u001b[0;34m(\u001b[0m\u001b[0mG\u001b[0m\u001b[0;34m)\u001b[0m\u001b[0;34m\u001b[0m\u001b[0m\n\u001b[0m\u001b[1;32m   6465\u001b[0m \u001b[0;34m\u001b[0m\u001b[0m\n\u001b[1;32m   6466\u001b[0m     \u001b[0;32mif\u001b[0m \u001b[0;32mnot\u001b[0m \u001b[0misinstance\u001b[0m\u001b[0;34m(\u001b[0m\u001b[0mf\u001b[0m\u001b[0;34m,\u001b[0m \u001b[0;34m(\u001b[0m\u001b[0mtuple\u001b[0m\u001b[0;34m,\u001b[0m \u001b[0mTuple\u001b[0m\u001b[0;34m)\u001b[0m\u001b[0;34m)\u001b[0m\u001b[0;34m:\u001b[0m\u001b[0;34m\u001b[0m\u001b[0m\n",
      "\u001b[0;32m~/anaconda3/lib/python3.6/site-packages/sympy/polys/polytools.py\u001b[0m in \u001b[0;36mcancel\u001b[0;34m(f, g, include)\u001b[0m\n\u001b[1;32m   3644\u001b[0m \u001b[0;34m\u001b[0m\u001b[0m\n\u001b[1;32m   3645\u001b[0m         \u001b[0;32mif\u001b[0m \u001b[0mhasattr\u001b[0m\u001b[0;34m(\u001b[0m\u001b[0mF\u001b[0m\u001b[0;34m,\u001b[0m \u001b[0;34m'cancel'\u001b[0m\u001b[0;34m)\u001b[0m\u001b[0;34m:\u001b[0m\u001b[0;34m\u001b[0m\u001b[0m\n\u001b[0;32m-> 3646\u001b[0;31m             \u001b[0mresult\u001b[0m \u001b[0;34m=\u001b[0m \u001b[0mF\u001b[0m\u001b[0;34m.\u001b[0m\u001b[0mcancel\u001b[0m\u001b[0;34m(\u001b[0m\u001b[0mG\u001b[0m\u001b[0;34m,\u001b[0m \u001b[0minclude\u001b[0m\u001b[0;34m=\u001b[0m\u001b[0minclude\u001b[0m\u001b[0;34m)\u001b[0m\u001b[0;34m\u001b[0m\u001b[0m\n\u001b[0m\u001b[1;32m   3647\u001b[0m         \u001b[0;32melse\u001b[0m\u001b[0;34m:\u001b[0m  \u001b[0;31m# pragma: no cover\u001b[0m\u001b[0;34m\u001b[0m\u001b[0m\n\u001b[1;32m   3648\u001b[0m             \u001b[0;32mraise\u001b[0m \u001b[0mOperationNotSupported\u001b[0m\u001b[0;34m(\u001b[0m\u001b[0mf\u001b[0m\u001b[0;34m,\u001b[0m \u001b[0;34m'cancel'\u001b[0m\u001b[0;34m)\u001b[0m\u001b[0;34m\u001b[0m\u001b[0m\n",
      "\u001b[0;32m~/anaconda3/lib/python3.6/site-packages/sympy/polys/polyclasses.py\u001b[0m in \u001b[0;36mcancel\u001b[0;34m(f, g, include)\u001b[0m\n\u001b[1;32m    678\u001b[0m             \u001b[0mF\u001b[0m\u001b[0;34m,\u001b[0m \u001b[0mG\u001b[0m \u001b[0;34m=\u001b[0m \u001b[0mdmp_cancel\u001b[0m\u001b[0;34m(\u001b[0m\u001b[0mF\u001b[0m\u001b[0;34m,\u001b[0m \u001b[0mG\u001b[0m\u001b[0;34m,\u001b[0m \u001b[0mlev\u001b[0m\u001b[0;34m,\u001b[0m \u001b[0mdom\u001b[0m\u001b[0;34m,\u001b[0m \u001b[0minclude\u001b[0m\u001b[0;34m=\u001b[0m\u001b[0;32mTrue\u001b[0m\u001b[0;34m)\u001b[0m\u001b[0;34m\u001b[0m\u001b[0m\n\u001b[1;32m    679\u001b[0m         \u001b[0;32melse\u001b[0m\u001b[0;34m:\u001b[0m\u001b[0;34m\u001b[0m\u001b[0m\n\u001b[0;32m--> 680\u001b[0;31m             \u001b[0mcF\u001b[0m\u001b[0;34m,\u001b[0m \u001b[0mcG\u001b[0m\u001b[0;34m,\u001b[0m \u001b[0mF\u001b[0m\u001b[0;34m,\u001b[0m \u001b[0mG\u001b[0m \u001b[0;34m=\u001b[0m \u001b[0mdmp_cancel\u001b[0m\u001b[0;34m(\u001b[0m\u001b[0mF\u001b[0m\u001b[0;34m,\u001b[0m \u001b[0mG\u001b[0m\u001b[0;34m,\u001b[0m \u001b[0mlev\u001b[0m\u001b[0;34m,\u001b[0m \u001b[0mdom\u001b[0m\u001b[0;34m,\u001b[0m \u001b[0minclude\u001b[0m\u001b[0;34m=\u001b[0m\u001b[0;32mFalse\u001b[0m\u001b[0;34m)\u001b[0m\u001b[0;34m\u001b[0m\u001b[0m\n\u001b[0m\u001b[1;32m    681\u001b[0m \u001b[0;34m\u001b[0m\u001b[0m\n\u001b[1;32m    682\u001b[0m         \u001b[0mF\u001b[0m\u001b[0;34m,\u001b[0m \u001b[0mG\u001b[0m \u001b[0;34m=\u001b[0m \u001b[0mper\u001b[0m\u001b[0;34m(\u001b[0m\u001b[0mF\u001b[0m\u001b[0;34m)\u001b[0m\u001b[0;34m,\u001b[0m \u001b[0mper\u001b[0m\u001b[0;34m(\u001b[0m\u001b[0mG\u001b[0m\u001b[0;34m)\u001b[0m\u001b[0;34m\u001b[0m\u001b[0m\n",
      "\u001b[0;32m~/anaconda3/lib/python3.6/site-packages/sympy/polys/euclidtools.py\u001b[0m in \u001b[0;36mdmp_cancel\u001b[0;34m(f, g, u, K, include)\u001b[0m\n\u001b[1;32m   1872\u001b[0m         \u001b[0mcp\u001b[0m\u001b[0;34m,\u001b[0m \u001b[0mcq\u001b[0m \u001b[0;34m=\u001b[0m \u001b[0mK\u001b[0m\u001b[0;34m.\u001b[0m\u001b[0mone\u001b[0m\u001b[0;34m,\u001b[0m \u001b[0mK\u001b[0m\u001b[0;34m.\u001b[0m\u001b[0mone\u001b[0m\u001b[0;34m\u001b[0m\u001b[0m\n\u001b[1;32m   1873\u001b[0m \u001b[0;34m\u001b[0m\u001b[0m\n\u001b[0;32m-> 1874\u001b[0;31m     \u001b[0m_\u001b[0m\u001b[0;34m,\u001b[0m \u001b[0mp\u001b[0m\u001b[0;34m,\u001b[0m \u001b[0mq\u001b[0m \u001b[0;34m=\u001b[0m \u001b[0mdmp_inner_gcd\u001b[0m\u001b[0;34m(\u001b[0m\u001b[0mf\u001b[0m\u001b[0;34m,\u001b[0m \u001b[0mg\u001b[0m\u001b[0;34m,\u001b[0m \u001b[0mu\u001b[0m\u001b[0;34m,\u001b[0m \u001b[0mK\u001b[0m\u001b[0;34m)\u001b[0m\u001b[0;34m\u001b[0m\u001b[0m\n\u001b[0m\u001b[1;32m   1875\u001b[0m \u001b[0;34m\u001b[0m\u001b[0m\n\u001b[1;32m   1876\u001b[0m     \u001b[0;32mif\u001b[0m \u001b[0mK0\u001b[0m \u001b[0;32mis\u001b[0m \u001b[0;32mnot\u001b[0m \u001b[0;32mNone\u001b[0m\u001b[0;34m:\u001b[0m\u001b[0;34m\u001b[0m\u001b[0m\n",
      "\u001b[0;32m~/anaconda3/lib/python3.6/site-packages/sympy/polys/euclidtools.py\u001b[0m in \u001b[0;36mdmp_inner_gcd\u001b[0;34m(f, g, u, K)\u001b[0m\n\u001b[1;32m   1589\u001b[0m \u001b[0;34m\u001b[0m\u001b[0m\n\u001b[1;32m   1590\u001b[0m     \u001b[0mJ\u001b[0m\u001b[0;34m,\u001b[0m \u001b[0;34m(\u001b[0m\u001b[0mf\u001b[0m\u001b[0;34m,\u001b[0m \u001b[0mg\u001b[0m\u001b[0;34m)\u001b[0m \u001b[0;34m=\u001b[0m \u001b[0mdmp_multi_deflate\u001b[0m\u001b[0;34m(\u001b[0m\u001b[0;34m(\u001b[0m\u001b[0mf\u001b[0m\u001b[0;34m,\u001b[0m \u001b[0mg\u001b[0m\u001b[0;34m)\u001b[0m\u001b[0;34m,\u001b[0m \u001b[0mu\u001b[0m\u001b[0;34m,\u001b[0m \u001b[0mK\u001b[0m\u001b[0;34m)\u001b[0m\u001b[0;34m\u001b[0m\u001b[0m\n\u001b[0;32m-> 1591\u001b[0;31m     \u001b[0mh\u001b[0m\u001b[0;34m,\u001b[0m \u001b[0mcff\u001b[0m\u001b[0;34m,\u001b[0m \u001b[0mcfg\u001b[0m \u001b[0;34m=\u001b[0m \u001b[0m_dmp_inner_gcd\u001b[0m\u001b[0;34m(\u001b[0m\u001b[0mf\u001b[0m\u001b[0;34m,\u001b[0m \u001b[0mg\u001b[0m\u001b[0;34m,\u001b[0m \u001b[0mu\u001b[0m\u001b[0;34m,\u001b[0m \u001b[0mK\u001b[0m\u001b[0;34m)\u001b[0m\u001b[0;34m\u001b[0m\u001b[0m\n\u001b[0m\u001b[1;32m   1592\u001b[0m \u001b[0;34m\u001b[0m\u001b[0m\n\u001b[1;32m   1593\u001b[0m     return (dmp_inflate(h, J, u, K),\n",
      "\u001b[0;32m~/anaconda3/lib/python3.6/site-packages/sympy/polys/euclidtools.py\u001b[0m in \u001b[0;36m_dmp_inner_gcd\u001b[0;34m(f, g, u, K)\u001b[0m\n\u001b[1;32m   1558\u001b[0m         \u001b[0;32mif\u001b[0m \u001b[0mK\u001b[0m\u001b[0;34m.\u001b[0m\u001b[0mis_ZZ\u001b[0m \u001b[0;32mand\u001b[0m \u001b[0mquery\u001b[0m\u001b[0;34m(\u001b[0m\u001b[0;34m'USE_HEU_GCD'\u001b[0m\u001b[0;34m)\u001b[0m\u001b[0;34m:\u001b[0m\u001b[0;34m\u001b[0m\u001b[0m\n\u001b[1;32m   1559\u001b[0m             \u001b[0;32mtry\u001b[0m\u001b[0;34m:\u001b[0m\u001b[0;34m\u001b[0m\u001b[0m\n\u001b[0;32m-> 1560\u001b[0;31m                 \u001b[0;32mreturn\u001b[0m \u001b[0mdmp_zz_heu_gcd\u001b[0m\u001b[0;34m(\u001b[0m\u001b[0mf\u001b[0m\u001b[0;34m,\u001b[0m \u001b[0mg\u001b[0m\u001b[0;34m,\u001b[0m \u001b[0mu\u001b[0m\u001b[0;34m,\u001b[0m \u001b[0mK\u001b[0m\u001b[0;34m)\u001b[0m\u001b[0;34m\u001b[0m\u001b[0m\n\u001b[0m\u001b[1;32m   1561\u001b[0m             \u001b[0;32mexcept\u001b[0m \u001b[0mHeuristicGCDFailed\u001b[0m\u001b[0;34m:\u001b[0m\u001b[0;34m\u001b[0m\u001b[0m\n\u001b[1;32m   1562\u001b[0m                 \u001b[0;32mpass\u001b[0m\u001b[0;34m\u001b[0m\u001b[0m\n",
      "\u001b[0;32m~/anaconda3/lib/python3.6/site-packages/sympy/polys/euclidtools.py\u001b[0m in \u001b[0;36mdmp_zz_heu_gcd\u001b[0;34m(f, g, u, K)\u001b[0m\n\u001b[1;32m   1347\u001b[0m \u001b[0;34m\u001b[0m\u001b[0m\n\u001b[1;32m   1348\u001b[0m             \u001b[0;32mif\u001b[0m \u001b[0mdmp_zero_p\u001b[0m\u001b[0;34m(\u001b[0m\u001b[0mr\u001b[0m\u001b[0;34m,\u001b[0m \u001b[0mu\u001b[0m\u001b[0;34m)\u001b[0m\u001b[0;34m:\u001b[0m\u001b[0;34m\u001b[0m\u001b[0m\n\u001b[0;32m-> 1349\u001b[0;31m                 \u001b[0mcfg_\u001b[0m\u001b[0;34m,\u001b[0m \u001b[0mr\u001b[0m \u001b[0;34m=\u001b[0m \u001b[0mdmp_div\u001b[0m\u001b[0;34m(\u001b[0m\u001b[0mg\u001b[0m\u001b[0;34m,\u001b[0m \u001b[0mh\u001b[0m\u001b[0;34m,\u001b[0m \u001b[0mu\u001b[0m\u001b[0;34m,\u001b[0m \u001b[0mK\u001b[0m\u001b[0;34m)\u001b[0m\u001b[0;34m\u001b[0m\u001b[0m\n\u001b[0m\u001b[1;32m   1350\u001b[0m \u001b[0;34m\u001b[0m\u001b[0m\n\u001b[1;32m   1351\u001b[0m                 \u001b[0;32mif\u001b[0m \u001b[0mdmp_zero_p\u001b[0m\u001b[0;34m(\u001b[0m\u001b[0mr\u001b[0m\u001b[0;34m,\u001b[0m \u001b[0mu\u001b[0m\u001b[0;34m)\u001b[0m\u001b[0;34m:\u001b[0m\u001b[0;34m\u001b[0m\u001b[0m\n",
      "\u001b[0;32m~/anaconda3/lib/python3.6/site-packages/sympy/polys/densearith.py\u001b[0m in \u001b[0;36mdmp_div\u001b[0;34m(f, g, u, K)\u001b[0m\n\u001b[1;32m   1624\u001b[0m         \u001b[0;32mreturn\u001b[0m \u001b[0mdmp_ff_div\u001b[0m\u001b[0;34m(\u001b[0m\u001b[0mf\u001b[0m\u001b[0;34m,\u001b[0m \u001b[0mg\u001b[0m\u001b[0;34m,\u001b[0m \u001b[0mu\u001b[0m\u001b[0;34m,\u001b[0m \u001b[0mK\u001b[0m\u001b[0;34m)\u001b[0m\u001b[0;34m\u001b[0m\u001b[0m\n\u001b[1;32m   1625\u001b[0m     \u001b[0;32melse\u001b[0m\u001b[0;34m:\u001b[0m\u001b[0;34m\u001b[0m\u001b[0m\n\u001b[0;32m-> 1626\u001b[0;31m         \u001b[0;32mreturn\u001b[0m \u001b[0mdmp_rr_div\u001b[0m\u001b[0;34m(\u001b[0m\u001b[0mf\u001b[0m\u001b[0;34m,\u001b[0m \u001b[0mg\u001b[0m\u001b[0;34m,\u001b[0m \u001b[0mu\u001b[0m\u001b[0;34m,\u001b[0m \u001b[0mK\u001b[0m\u001b[0;34m)\u001b[0m\u001b[0;34m\u001b[0m\u001b[0m\n\u001b[0m\u001b[1;32m   1627\u001b[0m \u001b[0;34m\u001b[0m\u001b[0m\n\u001b[1;32m   1628\u001b[0m \u001b[0;34m\u001b[0m\u001b[0m\n",
      "\u001b[0;32m~/anaconda3/lib/python3.6/site-packages/sympy/polys/densearith.py\u001b[0m in \u001b[0;36mdmp_rr_div\u001b[0;34m(f, g, u, K)\u001b[0m\n\u001b[1;32m   1399\u001b[0m         \u001b[0mq\u001b[0m \u001b[0;34m=\u001b[0m \u001b[0mdmp_add_term\u001b[0m\u001b[0;34m(\u001b[0m\u001b[0mq\u001b[0m\u001b[0;34m,\u001b[0m \u001b[0mc\u001b[0m\u001b[0;34m,\u001b[0m \u001b[0mj\u001b[0m\u001b[0;34m,\u001b[0m \u001b[0mu\u001b[0m\u001b[0;34m,\u001b[0m \u001b[0mK\u001b[0m\u001b[0;34m)\u001b[0m\u001b[0;34m\u001b[0m\u001b[0m\n\u001b[1;32m   1400\u001b[0m         \u001b[0mh\u001b[0m \u001b[0;34m=\u001b[0m \u001b[0mdmp_mul_term\u001b[0m\u001b[0;34m(\u001b[0m\u001b[0mg\u001b[0m\u001b[0;34m,\u001b[0m \u001b[0mc\u001b[0m\u001b[0;34m,\u001b[0m \u001b[0mj\u001b[0m\u001b[0;34m,\u001b[0m \u001b[0mu\u001b[0m\u001b[0;34m,\u001b[0m \u001b[0mK\u001b[0m\u001b[0;34m)\u001b[0m\u001b[0;34m\u001b[0m\u001b[0m\n\u001b[0;32m-> 1401\u001b[0;31m         \u001b[0mr\u001b[0m \u001b[0;34m=\u001b[0m \u001b[0mdmp_sub\u001b[0m\u001b[0;34m(\u001b[0m\u001b[0mr\u001b[0m\u001b[0;34m,\u001b[0m \u001b[0mh\u001b[0m\u001b[0;34m,\u001b[0m \u001b[0mu\u001b[0m\u001b[0;34m,\u001b[0m \u001b[0mK\u001b[0m\u001b[0;34m)\u001b[0m\u001b[0;34m\u001b[0m\u001b[0m\n\u001b[0m\u001b[1;32m   1402\u001b[0m \u001b[0;34m\u001b[0m\u001b[0m\n\u001b[1;32m   1403\u001b[0m         \u001b[0m_dr\u001b[0m\u001b[0;34m,\u001b[0m \u001b[0mdr\u001b[0m \u001b[0;34m=\u001b[0m \u001b[0mdr\u001b[0m\u001b[0;34m,\u001b[0m \u001b[0mdmp_degree\u001b[0m\u001b[0;34m(\u001b[0m\u001b[0mr\u001b[0m\u001b[0;34m,\u001b[0m \u001b[0mu\u001b[0m\u001b[0;34m)\u001b[0m\u001b[0;34m\u001b[0m\u001b[0m\n",
      "\u001b[0;32m~/anaconda3/lib/python3.6/site-packages/sympy/polys/densearith.py\u001b[0m in \u001b[0;36mdmp_sub\u001b[0;34m(f, g, u, K)\u001b[0m\n\u001b[1;32m    656\u001b[0m \u001b[0;34m\u001b[0m\u001b[0m\n\u001b[1;32m    657\u001b[0m     \u001b[0;32mif\u001b[0m \u001b[0mdf\u001b[0m \u001b[0;34m==\u001b[0m \u001b[0mdg\u001b[0m\u001b[0;34m:\u001b[0m\u001b[0;34m\u001b[0m\u001b[0m\n\u001b[0;32m--> 658\u001b[0;31m         \u001b[0;32mreturn\u001b[0m \u001b[0mdmp_strip\u001b[0m\u001b[0;34m(\u001b[0m\u001b[0;34m[\u001b[0m \u001b[0mdmp_sub\u001b[0m\u001b[0;34m(\u001b[0m\u001b[0ma\u001b[0m\u001b[0;34m,\u001b[0m \u001b[0mb\u001b[0m\u001b[0;34m,\u001b[0m \u001b[0mv\u001b[0m\u001b[0;34m,\u001b[0m \u001b[0mK\u001b[0m\u001b[0;34m)\u001b[0m \u001b[0;32mfor\u001b[0m \u001b[0ma\u001b[0m\u001b[0;34m,\u001b[0m \u001b[0mb\u001b[0m \u001b[0;32min\u001b[0m \u001b[0mzip\u001b[0m\u001b[0;34m(\u001b[0m\u001b[0mf\u001b[0m\u001b[0;34m,\u001b[0m \u001b[0mg\u001b[0m\u001b[0;34m)\u001b[0m \u001b[0;34m]\u001b[0m\u001b[0;34m,\u001b[0m \u001b[0mu\u001b[0m\u001b[0;34m)\u001b[0m\u001b[0;34m\u001b[0m\u001b[0m\n\u001b[0m\u001b[1;32m    659\u001b[0m     \u001b[0;32melse\u001b[0m\u001b[0;34m:\u001b[0m\u001b[0;34m\u001b[0m\u001b[0m\n\u001b[1;32m    660\u001b[0m         \u001b[0mk\u001b[0m \u001b[0;34m=\u001b[0m \u001b[0mabs\u001b[0m\u001b[0;34m(\u001b[0m\u001b[0mdf\u001b[0m \u001b[0;34m-\u001b[0m \u001b[0mdg\u001b[0m\u001b[0;34m)\u001b[0m\u001b[0;34m\u001b[0m\u001b[0m\n",
      "\u001b[0;32m~/anaconda3/lib/python3.6/site-packages/sympy/polys/densearith.py\u001b[0m in \u001b[0;36m<listcomp>\u001b[0;34m(.0)\u001b[0m\n\u001b[1;32m    656\u001b[0m \u001b[0;34m\u001b[0m\u001b[0m\n\u001b[1;32m    657\u001b[0m     \u001b[0;32mif\u001b[0m \u001b[0mdf\u001b[0m \u001b[0;34m==\u001b[0m \u001b[0mdg\u001b[0m\u001b[0;34m:\u001b[0m\u001b[0;34m\u001b[0m\u001b[0m\n\u001b[0;32m--> 658\u001b[0;31m         \u001b[0;32mreturn\u001b[0m \u001b[0mdmp_strip\u001b[0m\u001b[0;34m(\u001b[0m\u001b[0;34m[\u001b[0m \u001b[0mdmp_sub\u001b[0m\u001b[0;34m(\u001b[0m\u001b[0ma\u001b[0m\u001b[0;34m,\u001b[0m \u001b[0mb\u001b[0m\u001b[0;34m,\u001b[0m \u001b[0mv\u001b[0m\u001b[0;34m,\u001b[0m \u001b[0mK\u001b[0m\u001b[0;34m)\u001b[0m \u001b[0;32mfor\u001b[0m \u001b[0ma\u001b[0m\u001b[0;34m,\u001b[0m \u001b[0mb\u001b[0m \u001b[0;32min\u001b[0m \u001b[0mzip\u001b[0m\u001b[0;34m(\u001b[0m\u001b[0mf\u001b[0m\u001b[0;34m,\u001b[0m \u001b[0mg\u001b[0m\u001b[0;34m)\u001b[0m \u001b[0;34m]\u001b[0m\u001b[0;34m,\u001b[0m \u001b[0mu\u001b[0m\u001b[0;34m)\u001b[0m\u001b[0;34m\u001b[0m\u001b[0m\n\u001b[0m\u001b[1;32m    659\u001b[0m     \u001b[0;32melse\u001b[0m\u001b[0;34m:\u001b[0m\u001b[0;34m\u001b[0m\u001b[0m\n\u001b[1;32m    660\u001b[0m         \u001b[0mk\u001b[0m \u001b[0;34m=\u001b[0m \u001b[0mabs\u001b[0m\u001b[0;34m(\u001b[0m\u001b[0mdf\u001b[0m \u001b[0;34m-\u001b[0m \u001b[0mdg\u001b[0m\u001b[0;34m)\u001b[0m\u001b[0;34m\u001b[0m\u001b[0m\n",
      "\u001b[0;32m~/anaconda3/lib/python3.6/site-packages/sympy/polys/densearith.py\u001b[0m in \u001b[0;36mdmp_sub\u001b[0;34m(f, g, u, K)\u001b[0m\n\u001b[1;32m    656\u001b[0m \u001b[0;34m\u001b[0m\u001b[0m\n\u001b[1;32m    657\u001b[0m     \u001b[0;32mif\u001b[0m \u001b[0mdf\u001b[0m \u001b[0;34m==\u001b[0m \u001b[0mdg\u001b[0m\u001b[0;34m:\u001b[0m\u001b[0;34m\u001b[0m\u001b[0m\n\u001b[0;32m--> 658\u001b[0;31m         \u001b[0;32mreturn\u001b[0m \u001b[0mdmp_strip\u001b[0m\u001b[0;34m(\u001b[0m\u001b[0;34m[\u001b[0m \u001b[0mdmp_sub\u001b[0m\u001b[0;34m(\u001b[0m\u001b[0ma\u001b[0m\u001b[0;34m,\u001b[0m \u001b[0mb\u001b[0m\u001b[0;34m,\u001b[0m \u001b[0mv\u001b[0m\u001b[0;34m,\u001b[0m \u001b[0mK\u001b[0m\u001b[0;34m)\u001b[0m \u001b[0;32mfor\u001b[0m \u001b[0ma\u001b[0m\u001b[0;34m,\u001b[0m \u001b[0mb\u001b[0m \u001b[0;32min\u001b[0m \u001b[0mzip\u001b[0m\u001b[0;34m(\u001b[0m\u001b[0mf\u001b[0m\u001b[0;34m,\u001b[0m \u001b[0mg\u001b[0m\u001b[0;34m)\u001b[0m \u001b[0;34m]\u001b[0m\u001b[0;34m,\u001b[0m \u001b[0mu\u001b[0m\u001b[0;34m)\u001b[0m\u001b[0;34m\u001b[0m\u001b[0m\n\u001b[0m\u001b[1;32m    659\u001b[0m     \u001b[0;32melse\u001b[0m\u001b[0;34m:\u001b[0m\u001b[0;34m\u001b[0m\u001b[0m\n\u001b[1;32m    660\u001b[0m         \u001b[0mk\u001b[0m \u001b[0;34m=\u001b[0m \u001b[0mabs\u001b[0m\u001b[0;34m(\u001b[0m\u001b[0mdf\u001b[0m \u001b[0;34m-\u001b[0m \u001b[0mdg\u001b[0m\u001b[0;34m)\u001b[0m\u001b[0;34m\u001b[0m\u001b[0m\n",
      "\u001b[0;32m~/anaconda3/lib/python3.6/site-packages/sympy/polys/densearith.py\u001b[0m in \u001b[0;36m<listcomp>\u001b[0;34m(.0)\u001b[0m\n\u001b[1;32m    656\u001b[0m \u001b[0;34m\u001b[0m\u001b[0m\n\u001b[1;32m    657\u001b[0m     \u001b[0;32mif\u001b[0m \u001b[0mdf\u001b[0m \u001b[0;34m==\u001b[0m \u001b[0mdg\u001b[0m\u001b[0;34m:\u001b[0m\u001b[0;34m\u001b[0m\u001b[0m\n\u001b[0;32m--> 658\u001b[0;31m         \u001b[0;32mreturn\u001b[0m \u001b[0mdmp_strip\u001b[0m\u001b[0;34m(\u001b[0m\u001b[0;34m[\u001b[0m \u001b[0mdmp_sub\u001b[0m\u001b[0;34m(\u001b[0m\u001b[0ma\u001b[0m\u001b[0;34m,\u001b[0m \u001b[0mb\u001b[0m\u001b[0;34m,\u001b[0m \u001b[0mv\u001b[0m\u001b[0;34m,\u001b[0m \u001b[0mK\u001b[0m\u001b[0;34m)\u001b[0m \u001b[0;32mfor\u001b[0m \u001b[0ma\u001b[0m\u001b[0;34m,\u001b[0m \u001b[0mb\u001b[0m \u001b[0;32min\u001b[0m \u001b[0mzip\u001b[0m\u001b[0;34m(\u001b[0m\u001b[0mf\u001b[0m\u001b[0;34m,\u001b[0m \u001b[0mg\u001b[0m\u001b[0;34m)\u001b[0m \u001b[0;34m]\u001b[0m\u001b[0;34m,\u001b[0m \u001b[0mu\u001b[0m\u001b[0;34m)\u001b[0m\u001b[0;34m\u001b[0m\u001b[0m\n\u001b[0m\u001b[1;32m    659\u001b[0m     \u001b[0;32melse\u001b[0m\u001b[0;34m:\u001b[0m\u001b[0;34m\u001b[0m\u001b[0m\n\u001b[1;32m    660\u001b[0m         \u001b[0mk\u001b[0m \u001b[0;34m=\u001b[0m \u001b[0mabs\u001b[0m\u001b[0;34m(\u001b[0m\u001b[0mdf\u001b[0m \u001b[0;34m-\u001b[0m \u001b[0mdg\u001b[0m\u001b[0;34m)\u001b[0m\u001b[0;34m\u001b[0m\u001b[0m\n",
      "\u001b[0;32m~/anaconda3/lib/python3.6/site-packages/sympy/polys/densearith.py\u001b[0m in \u001b[0;36mdmp_sub\u001b[0;34m(f, g, u, K)\u001b[0m\n\u001b[1;32m    656\u001b[0m \u001b[0;34m\u001b[0m\u001b[0m\n\u001b[1;32m    657\u001b[0m     \u001b[0;32mif\u001b[0m \u001b[0mdf\u001b[0m \u001b[0;34m==\u001b[0m \u001b[0mdg\u001b[0m\u001b[0;34m:\u001b[0m\u001b[0;34m\u001b[0m\u001b[0m\n\u001b[0;32m--> 658\u001b[0;31m         \u001b[0;32mreturn\u001b[0m \u001b[0mdmp_strip\u001b[0m\u001b[0;34m(\u001b[0m\u001b[0;34m[\u001b[0m \u001b[0mdmp_sub\u001b[0m\u001b[0;34m(\u001b[0m\u001b[0ma\u001b[0m\u001b[0;34m,\u001b[0m \u001b[0mb\u001b[0m\u001b[0;34m,\u001b[0m \u001b[0mv\u001b[0m\u001b[0;34m,\u001b[0m \u001b[0mK\u001b[0m\u001b[0;34m)\u001b[0m \u001b[0;32mfor\u001b[0m \u001b[0ma\u001b[0m\u001b[0;34m,\u001b[0m \u001b[0mb\u001b[0m \u001b[0;32min\u001b[0m \u001b[0mzip\u001b[0m\u001b[0;34m(\u001b[0m\u001b[0mf\u001b[0m\u001b[0;34m,\u001b[0m \u001b[0mg\u001b[0m\u001b[0;34m)\u001b[0m \u001b[0;34m]\u001b[0m\u001b[0;34m,\u001b[0m \u001b[0mu\u001b[0m\u001b[0;34m)\u001b[0m\u001b[0;34m\u001b[0m\u001b[0m\n\u001b[0m\u001b[1;32m    659\u001b[0m     \u001b[0;32melse\u001b[0m\u001b[0;34m:\u001b[0m\u001b[0;34m\u001b[0m\u001b[0m\n\u001b[1;32m    660\u001b[0m         \u001b[0mk\u001b[0m \u001b[0;34m=\u001b[0m \u001b[0mabs\u001b[0m\u001b[0;34m(\u001b[0m\u001b[0mdf\u001b[0m \u001b[0;34m-\u001b[0m \u001b[0mdg\u001b[0m\u001b[0;34m)\u001b[0m\u001b[0;34m\u001b[0m\u001b[0m\n",
      "\u001b[0;32m~/anaconda3/lib/python3.6/site-packages/sympy/polys/densearith.py\u001b[0m in \u001b[0;36m<listcomp>\u001b[0;34m(.0)\u001b[0m\n\u001b[1;32m    656\u001b[0m \u001b[0;34m\u001b[0m\u001b[0m\n\u001b[1;32m    657\u001b[0m     \u001b[0;32mif\u001b[0m \u001b[0mdf\u001b[0m \u001b[0;34m==\u001b[0m \u001b[0mdg\u001b[0m\u001b[0;34m:\u001b[0m\u001b[0;34m\u001b[0m\u001b[0m\n\u001b[0;32m--> 658\u001b[0;31m         \u001b[0;32mreturn\u001b[0m \u001b[0mdmp_strip\u001b[0m\u001b[0;34m(\u001b[0m\u001b[0;34m[\u001b[0m \u001b[0mdmp_sub\u001b[0m\u001b[0;34m(\u001b[0m\u001b[0ma\u001b[0m\u001b[0;34m,\u001b[0m \u001b[0mb\u001b[0m\u001b[0;34m,\u001b[0m \u001b[0mv\u001b[0m\u001b[0;34m,\u001b[0m \u001b[0mK\u001b[0m\u001b[0;34m)\u001b[0m \u001b[0;32mfor\u001b[0m \u001b[0ma\u001b[0m\u001b[0;34m,\u001b[0m \u001b[0mb\u001b[0m \u001b[0;32min\u001b[0m \u001b[0mzip\u001b[0m\u001b[0;34m(\u001b[0m\u001b[0mf\u001b[0m\u001b[0;34m,\u001b[0m \u001b[0mg\u001b[0m\u001b[0;34m)\u001b[0m \u001b[0;34m]\u001b[0m\u001b[0;34m,\u001b[0m \u001b[0mu\u001b[0m\u001b[0;34m)\u001b[0m\u001b[0;34m\u001b[0m\u001b[0m\n\u001b[0m\u001b[1;32m    659\u001b[0m     \u001b[0;32melse\u001b[0m\u001b[0;34m:\u001b[0m\u001b[0;34m\u001b[0m\u001b[0m\n\u001b[1;32m    660\u001b[0m         \u001b[0mk\u001b[0m \u001b[0;34m=\u001b[0m \u001b[0mabs\u001b[0m\u001b[0;34m(\u001b[0m\u001b[0mdf\u001b[0m \u001b[0;34m-\u001b[0m \u001b[0mdg\u001b[0m\u001b[0;34m)\u001b[0m\u001b[0;34m\u001b[0m\u001b[0m\n",
      "\u001b[0;32m~/anaconda3/lib/python3.6/site-packages/sympy/polys/densearith.py\u001b[0m in \u001b[0;36mdmp_sub\u001b[0;34m(f, g, u, K)\u001b[0m\n\u001b[1;32m    641\u001b[0m     \"\"\"\n\u001b[1;32m    642\u001b[0m     \u001b[0;32mif\u001b[0m \u001b[0;32mnot\u001b[0m \u001b[0mu\u001b[0m\u001b[0;34m:\u001b[0m\u001b[0;34m\u001b[0m\u001b[0m\n\u001b[0;32m--> 643\u001b[0;31m         \u001b[0;32mreturn\u001b[0m \u001b[0mdup_sub\u001b[0m\u001b[0;34m(\u001b[0m\u001b[0mf\u001b[0m\u001b[0;34m,\u001b[0m \u001b[0mg\u001b[0m\u001b[0;34m,\u001b[0m \u001b[0mK\u001b[0m\u001b[0;34m)\u001b[0m\u001b[0;34m\u001b[0m\u001b[0m\n\u001b[0m\u001b[1;32m    644\u001b[0m \u001b[0;34m\u001b[0m\u001b[0m\n\u001b[1;32m    645\u001b[0m     \u001b[0mdf\u001b[0m \u001b[0;34m=\u001b[0m \u001b[0mdmp_degree\u001b[0m\u001b[0;34m(\u001b[0m\u001b[0mf\u001b[0m\u001b[0;34m,\u001b[0m \u001b[0mu\u001b[0m\u001b[0;34m)\u001b[0m\u001b[0;34m\u001b[0m\u001b[0m\n",
      "\u001b[0;32m~/anaconda3/lib/python3.6/site-packages/sympy/polys/densearith.py\u001b[0m in \u001b[0;36mdup_sub\u001b[0;34m(f, g, K)\u001b[0m\n\u001b[1;32m    606\u001b[0m     \"\"\"\n\u001b[1;32m    607\u001b[0m     \u001b[0;32mif\u001b[0m \u001b[0;32mnot\u001b[0m \u001b[0mf\u001b[0m\u001b[0;34m:\u001b[0m\u001b[0;34m\u001b[0m\u001b[0m\n\u001b[0;32m--> 608\u001b[0;31m         \u001b[0;32mreturn\u001b[0m \u001b[0mdup_neg\u001b[0m\u001b[0;34m(\u001b[0m\u001b[0mg\u001b[0m\u001b[0;34m,\u001b[0m \u001b[0mK\u001b[0m\u001b[0;34m)\u001b[0m\u001b[0;34m\u001b[0m\u001b[0m\n\u001b[0m\u001b[1;32m    609\u001b[0m     \u001b[0;32mif\u001b[0m \u001b[0;32mnot\u001b[0m \u001b[0mg\u001b[0m\u001b[0;34m:\u001b[0m\u001b[0;34m\u001b[0m\u001b[0m\n\u001b[1;32m    610\u001b[0m         \u001b[0;32mreturn\u001b[0m \u001b[0mf\u001b[0m\u001b[0;34m\u001b[0m\u001b[0m\n",
      "\u001b[0;32m~/anaconda3/lib/python3.6/site-packages/sympy/polys/densearith.py\u001b[0m in \u001b[0;36mdup_neg\u001b[0;34m(f, K)\u001b[0m\n\u001b[1;32m    489\u001b[0m \u001b[0;34m\u001b[0m\u001b[0m\n\u001b[1;32m    490\u001b[0m     \"\"\"\n\u001b[0;32m--> 491\u001b[0;31m     \u001b[0;32mreturn\u001b[0m \u001b[0;34m[\u001b[0m \u001b[0;34m-\u001b[0m\u001b[0mcoeff\u001b[0m \u001b[0;32mfor\u001b[0m \u001b[0mcoeff\u001b[0m \u001b[0;32min\u001b[0m \u001b[0mf\u001b[0m \u001b[0;34m]\u001b[0m\u001b[0;34m\u001b[0m\u001b[0m\n\u001b[0m\u001b[1;32m    492\u001b[0m \u001b[0;34m\u001b[0m\u001b[0m\n\u001b[1;32m    493\u001b[0m \u001b[0;34m\u001b[0m\u001b[0m\n",
      "\u001b[0;32m~/anaconda3/lib/python3.6/site-packages/sympy/polys/densearith.py\u001b[0m in \u001b[0;36m<listcomp>\u001b[0;34m(.0)\u001b[0m\n\u001b[1;32m    489\u001b[0m \u001b[0;34m\u001b[0m\u001b[0m\n\u001b[1;32m    490\u001b[0m     \"\"\"\n\u001b[0;32m--> 491\u001b[0;31m     \u001b[0;32mreturn\u001b[0m \u001b[0;34m[\u001b[0m \u001b[0;34m-\u001b[0m\u001b[0mcoeff\u001b[0m \u001b[0;32mfor\u001b[0m \u001b[0mcoeff\u001b[0m \u001b[0;32min\u001b[0m \u001b[0mf\u001b[0m \u001b[0;34m]\u001b[0m\u001b[0;34m\u001b[0m\u001b[0m\n\u001b[0m\u001b[1;32m    492\u001b[0m \u001b[0;34m\u001b[0m\u001b[0m\n\u001b[1;32m    493\u001b[0m \u001b[0;34m\u001b[0m\u001b[0m\n",
      "\u001b[0;31mKeyboardInterrupt\u001b[0m: "
     ]
    }
   ],
   "source": [
    "fn = log(((xi-xip)**2+(z-zp)**2)/((xi-xip)**2+(z+zp)**2))*exp(-zp)/(xip**2+xi0**2)\n",
    "fn_alt = log(((xi-xip)**2+(z-zp)**2)/((xi-xip)**2+(z+zp)**2))*exp(-z)/(xip**2+xi0**2)\n",
    "\n",
    "integrate(fn_alt, (z, 0, oo))\n"
   ]
  },
  {
   "cell_type": "code",
   "execution_count": 73,
   "metadata": {
    "ExecuteTime": {
     "end_time": "2019-11-28T17:58:32.442052Z",
     "start_time": "2019-11-28T17:58:31.933555Z"
    },
    "hidden": true
   },
   "outputs": [
    {
     "data": {
      "image/png": "[encoded data removed]",
      "text/latex": [
       "$$\\frac{\\left(\\xi - \\xi_{p}\\right)^{2} + \\left(\\zeta - \\zeta_{p}\\right)^{2}}{\\left(\\xi - \\xi_{p}\\right)^{2} + \\left(\\zeta + \\zeta_{p}\\right)^{2}}$$"
      ],
      "text/plain": [
       "        2           2\n",
       "(ξ - ξₚ)  + (ζ - ζₚ) \n",
       "─────────────────────\n",
       "        2           2\n",
       "(ξ - ξₚ)  + (ζ + ζₚ) "
      ]
     },
     "execution_count": 73,
     "metadata": {},
     "output_type": "execute_result"
    }
   ],
   "source": [
    "fn_2 = ((xi-xip)**2+(zeta-zetap)**2)/((xi-xip)**2+(zeta+zetap)**2)\n",
    "fn_2\n",
    "fn_2"
   ]
  },
  {
   "cell_type": "code",
   "execution_count": 4,
   "metadata": {
    "ExecuteTime": {
     "end_time": "2019-11-28T17:25:19.734153Z",
     "start_time": "2019-11-28T17:25:19.486002Z"
    },
    "hidden": true
   },
   "outputs": [],
   "source": [
    "init_printing()"
   ]
  },
  {
   "cell_type": "code",
   "execution_count": 152,
   "metadata": {
    "ExecuteTime": {
     "end_time": "2019-11-28T19:47:30.512774Z",
     "start_time": "2019-11-28T19:47:30.071411Z"
    },
    "hidden": true
   },
   "outputs": [
    {
     "data": {
      "image/png": "[encoded data removed]",
      "text/latex": [
       "$$\\log{\\left (\\left(\\xi - \\xi_{p}\\right)^{2} + \\left(\\zeta - \\zeta_{p}\\right)^{2} \\right )}$$"
      ],
      "text/plain": [
       "   ⎛        2           2⎞\n",
       "log⎝(ξ - ξₚ)  + (ζ - ζₚ) ⎠"
      ]
     },
     "execution_count": 152,
     "metadata": {},
     "output_type": "execute_result"
    }
   ],
   "source": [
    "fn"
   ]
  },
  {
   "cell_type": "code",
   "execution_count": 17,
   "metadata": {
    "ExecuteTime": {
     "end_time": "2019-11-27T17:40:12.867392Z",
     "start_time": "2019-11-27T17:39:42.527141Z"
    },
    "hidden": true
   },
   "outputs": [
    {
     "data": {
      "image/png": "[encoded data removed]",
      "text/latex": [
       "$$0$$"
      ],
      "text/plain": [
       "0"
      ]
     },
     "execution_count": 17,
     "metadata": {},
     "output_type": "execute_result"
    }
   ],
   "source": [
    "simplify(integrate(integrate(fn, (xip, -oo, oo)), (zetap, 0, oo)))\n",
    "# simplify(limit(integrate(fn, (xip, -epsilon_1, epsilon_1)),epsilon_1,oo))"
   ]
  },
  {
   "cell_type": "code",
   "execution_count": 39,
   "metadata": {
    "ExecuteTime": {
     "end_time": "2019-11-27T13:58:16.284452Z",
     "start_time": "2019-11-27T13:58:15.769024Z"
    },
    "hidden": true
   },
   "outputs": [
    {
     "data": {
      "image/png": "[encoded data removed]",
      "text/latex": [
       "$$- \\frac{2 \\left(\\xi - \\xi_{p}\\right) \\left(- \\left(\\zeta - \\zeta_{p}\\right)^{2} + \\left(\\zeta + \\zeta_{p}\\right)^{2}\\right)}{\\left(\\left(\\xi - \\xi_{p}\\right)^{2} + \\left(\\zeta - \\zeta_{p}\\right)^{2}\\right) \\left(\\left(\\xi - \\xi_{p}\\right)^{2} + \\left(\\zeta + \\zeta_{p}\\right)^{2}\\right)}$$"
      ],
      "text/plain": [
       "                 ⎛          2           2⎞     \n",
       "     -2⋅(ξ - ξₚ)⋅⎝- (ζ - ζₚ)  + (ζ + ζₚ) ⎠     \n",
       "───────────────────────────────────────────────\n",
       "⎛        2           2⎞ ⎛        2           2⎞\n",
       "⎝(ξ - ξₚ)  + (ζ - ζₚ) ⎠⋅⎝(ξ - ξₚ)  + (ζ + ζₚ) ⎠"
      ]
     },
     "execution_count": 39,
     "metadata": {},
     "output_type": "execute_result"
    }
   ],
   "source": [
    "w=-simplify(diff(fn,xi))\n",
    "w"
   ]
  },
  {
   "cell_type": "code",
   "execution_count": 103,
   "metadata": {
    "ExecuteTime": {
     "end_time": "2019-11-27T15:00:38.836225Z",
     "start_time": "2019-11-27T15:00:29.963657Z"
    },
    "hidden": true
   },
   "outputs": [
    {
     "data": {
      "image/png": "[encoded data removed]",
      "text/latex": [
       "$$0$$"
      ],
      "text/plain": [
       "0"
      ]
     },
     "execution_count": 103,
     "metadata": {},
     "output_type": "execute_result"
    }
   ],
   "source": [
    "limit(limit(fn,zeta,0),zetap,0)"
   ]
  },
  {
   "cell_type": "code",
   "execution_count": 151,
   "metadata": {
    "ExecuteTime": {
     "end_time": "2019-11-28T19:42:50.021037Z",
     "start_time": "2019-11-28T19:42:49.328242Z"
    },
    "hidden": true
   },
   "outputs": [
    {
     "data": {
      "image/png": "[encoded data removed]",
      "text/latex": [
       "$$- 2 r \\log{\\left (- r^{2} + \\xi^{2} \\right )} + \\xi \\log{\\left (\\frac{\\left(- r + \\xi\\right)^{2}}{\\left(r + \\xi\\right)^{2}} \\right )}$$"
      ],
      "text/plain": [
       "                            ⎛        2⎞\n",
       "         ⎛   2    2⎞        ⎜(-r + ξ) ⎟\n",
       "- 2⋅r⋅log⎝- r  + ξ ⎠ + ξ⋅log⎜─────────⎟\n",
       "                            ⎜        2⎟\n",
       "                            ⎝ (r + ξ) ⎠"
      ]
     },
     "execution_count": 151,
     "metadata": {},
     "output_type": "execute_result"
    }
   ],
   "source": [
    "integrate(log((xi-r)**2/(xi+r)**2), xi)"
   ]
  },
  {
   "cell_type": "code",
   "execution_count": 44,
   "metadata": {
    "ExecuteTime": {
     "end_time": "2019-11-27T14:00:20.735295Z",
     "start_time": "2019-11-27T14:00:20.216984Z"
    },
    "hidden": true
   },
   "outputs": [
    {
     "data": {
      "image/png": "[encoded data removed]",
      "text/latex": [
       "$$\\frac{2 \\left(\\left(\\zeta - \\zeta_{p}\\right) \\left(\\left(\\xi - \\xi_{p}\\right)^{2} + \\left(\\zeta + \\zeta_{p}\\right)^{2}\\right) - \\left(\\zeta + \\zeta_{p}\\right) \\left(\\left(\\xi - \\xi_{p}\\right)^{2} + \\left(\\zeta - \\zeta_{p}\\right)^{2}\\right)\\right)}{\\left(\\left(\\xi - \\xi_{p}\\right)^{2} + \\left(\\zeta - \\zeta_{p}\\right)^{2}\\right) \\left(\\left(\\xi - \\xi_{p}\\right)^{2} + \\left(\\zeta + \\zeta_{p}\\right)^{2}\\right)}$$"
      ],
      "text/plain": [
       "  ⎛         ⎛        2           2⎞            ⎛        2           2⎞⎞\n",
       "2⋅⎝(ζ - ζₚ)⋅⎝(ξ - ξₚ)  + (ζ + ζₚ) ⎠ - (ζ + ζₚ)⋅⎝(ξ - ξₚ)  + (ζ - ζₚ) ⎠⎠\n",
       "───────────────────────────────────────────────────────────────────────\n",
       "            ⎛        2           2⎞ ⎛        2           2⎞            \n",
       "            ⎝(ξ - ξₚ)  + (ζ - ζₚ) ⎠⋅⎝(ξ - ξₚ)  + (ζ + ζₚ) ⎠            "
      ]
     },
     "execution_count": 44,
     "metadata": {},
     "output_type": "execute_result"
    }
   ],
   "source": [
    "u=simplify(diff(fn,zeta))\n",
    "u"
   ]
  },
  {
   "cell_type": "code",
   "execution_count": 130,
   "metadata": {
    "ExecuteTime": {
     "end_time": "2019-11-28T19:19:37.044854Z",
     "start_time": "2019-11-28T19:19:36.587168Z"
    },
    "hidden": true
   },
   "outputs": [
    {
     "data": {
      "text/plain": [
       "<matplotlib.colorbar.Colorbar at 0x7fef6d163198>"
      ]
     },
     "execution_count": 130,
     "metadata": {},
     "output_type": "execute_result"
    },
    {
     "data": {
      "image/png": "[encoded data removed]",
      "text/plain": [
       "<Figure size 432x288 with 2 Axes>"
      ]
     },
     "metadata": {},
     "output_type": "display_data"
    }
   ],
   "source": [
    "xip=np.linspace(-10,10,1000)\n",
    "zetap=np.linspace(0,10,1000)\n",
    "XIP, ZETAP = np.meshgrid(xip,zetap)\n",
    "xi=2\n",
    "zeta=2\n",
    "xi0=0.5\n",
    "fn1 = np.log(((xi-XIP)**2+(zeta-ZETAP)**2))*np.exp(-ZETAP)/(XIP**2+xi0**2)\n",
    "# fn2 = np.log(((xi-XIP)**2+(zeta-ZETAP)**2)/((xi-XIP)**2+(zeta+ZETAP)**2))*np.exp(-zeta)/(xi**2+xi0**2)\n",
    "fn2 = np.log(((xi-XIP)**2+(zeta-ZETAP)**2))*np.exp(-zeta)/(xi**2+xi0**2)\n",
    "plt.contourf(XIP,ZETAP,fn2)\n",
    "plt.colorbar()"
   ]
  },
  {
   "cell_type": "code",
   "execution_count": 119,
   "metadata": {
    "ExecuteTime": {
     "end_time": "2019-11-28T18:57:50.598470Z",
     "start_time": "2019-11-28T18:57:50.571461Z"
    },
    "hidden": true
   },
   "outputs": [
    {
     "name": "stdout",
     "output_type": "stream",
     "text": [
      "-2.46299703057527\n",
      "-2.46299703057527\n"
     ]
    }
   ],
   "source": [
    "print(np.trapz(np.trapz(fn1-fn2, zetap, axis=1), zetap)+np.trapz(np.trapz(fn2, zetap, axis=1), zetap))\n",
    "print(np.trapz(np.trapz(fn1, zetap, axis=1), zetap))"
   ]
  },
  {
   "cell_type": "code",
   "execution_count": 16,
   "metadata": {
    "ExecuteTime": {
     "end_time": "2019-11-28T17:30:23.945855Z",
     "start_time": "2019-11-28T17:30:23.773452Z"
    },
    "hidden": true
   },
   "outputs": [
    {
     "name": "stderr",
     "output_type": "stream",
     "text": [
      "/home/student.unimelb.edu.au/shorte1/anaconda3/lib/python3.6/site-packages/ipykernel_launcher.py:3: RuntimeWarning: divide by zero encountered in log\n",
      "  This is separate from the ipykernel package so we can avoid doing imports until\n",
      "/home/student.unimelb.edu.au/shorte1/anaconda3/lib/python3.6/site-packages/ipykernel_launcher.py:3: RuntimeWarning: invalid value encountered in multiply\n",
      "  This is separate from the ipykernel package so we can avoid doing imports until\n"
     ]
    },
    {
     "data": {
      "text/plain": [
       "[<matplotlib.lines.Line2D at 0x7fef80bf1eb8>]"
      ]
     },
     "execution_count": 16,
     "metadata": {},
     "output_type": "execute_result"
    },
    {
     "data": {
      "image/png": "[encoded data removed]",
      "text/plain": [
       "<Figure size 432x288 with 1 Axes>"
      ]
     },
     "metadata": {},
     "output_type": "display_data"
    }
   ],
   "source": [
    "x=np.linspace(0,2,1001)\n",
    "# y=np.log((x-1)**2/(x+1)**2)[]\n",
    "y1=(np.exp(-x))*np.log((x-1)**2/(x+1)**2)\n",
    "y2=(np.exp(-1))*np.log((x-1)**2/(x+1)**2)\n",
    "plt.plot(x,y)"
   ]
  },
  {
   "cell_type": "code",
   "execution_count": 72,
   "metadata": {
    "ExecuteTime": {
     "end_time": "2019-11-27T14:17:59.497106Z",
     "start_time": "2019-11-27T14:17:59.489501Z"
    },
    "hidden": true
   },
   "outputs": [
    {
     "data": {
      "text/plain": [
       "False"
      ]
     },
     "execution_count": 72,
     "metadata": {},
     "output_type": "execute_result"
    }
   ],
   "source": [
    "np.any(np.isinf(fn))"
   ]
  },
  {
   "cell_type": "code",
   "execution_count": 64,
   "metadata": {
    "ExecuteTime": {
     "end_time": "2019-11-27T14:14:28.104887Z",
     "start_time": "2019-11-27T14:14:27.939406Z"
    },
    "hidden": true
   },
   "outputs": [
    {
     "data": {
      "text/plain": [
       "array([0.9 , 0.91, 0.92, 0.93, 0.94, 0.95, 0.96, 0.97, 0.98, 0.99, 1.  ,\n",
       "       1.01, 1.02, 1.03, 1.04, 1.05, 1.06, 1.07, 1.08, 1.09])"
      ]
     },
     "execution_count": 64,
     "metadata": {},
     "output_type": "execute_result"
    },
    {
     "data": {
      "image/png": "[encoded data removed]",
      "text/plain": [
       "<Figure size 432x288 with 2 Axes>"
      ]
     },
     "metadata": {},
     "output_type": "display_data"
    }
   ],
   "source": [
    "plt.imshow(fn[540:560,90:110])\n",
    "plt.colorbar()\n",
    "# xip[540:560]\n",
    "zetap[90:110]"
   ]
  },
  {
   "cell_type": "code",
   "execution_count": 22,
   "metadata": {
    "ExecuteTime": {
     "end_time": "2019-11-27T13:50:35.882724Z",
     "start_time": "2019-11-27T13:50:35.597497Z"
    },
    "hidden": true,
    "scrolled": true
   },
   "outputs": [
    {
     "data": {
      "text/plain": [
       "<function matplotlib.pyplot.show(*args, **kw)>"
      ]
     },
     "execution_count": 22,
     "metadata": {},
     "output_type": "execute_result"
    },
    {
     "data": {
      "image/png": "[encoded data removed]",
      "text/plain": [
       "<Figure size 432x288 with 1 Axes>"
      ]
     },
     "metadata": {},
     "output_type": "display_data"
    }
   ],
   "source": [
    "xx  = np.arange(1/100000,3,1/100000)\n",
    "plt.plot(xx,xx*np.log(xx**2));plt.show"
   ]
  },
  {
   "cell_type": "markdown",
   "metadata": {},
   "source": [
    "## Buoyancy debug"
   ]
  },
  {
   "cell_type": "code",
   "execution_count": 53,
   "metadata": {
    "ExecuteTime": {
     "end_time": "2019-12-04T14:51:15.382120Z",
     "start_time": "2019-12-04T14:51:15.147247Z"
    }
   },
   "outputs": [],
   "source": [
    "from sympy import *"
   ]
  },
  {
   "cell_type": "code",
   "execution_count": 54,
   "metadata": {
    "ExecuteTime": {
     "end_time": "2019-12-04T14:51:34.645079Z",
     "start_time": "2019-12-04T14:51:34.639526Z"
    }
   },
   "outputs": [],
   "source": [
    "kappa, U, x, tau, L, theta =symbols('kappa U x tau L theta')\n",
    "kappaU = 1/U"
   ]
  },
  {
   "cell_type": "code",
   "execution_count": 57,
   "metadata": {
    "ExecuteTime": {
     "end_time": "2019-12-04T14:55:43.459579Z",
     "start_time": "2019-12-04T14:55:43.189205Z"
    }
   },
   "outputs": [],
   "source": [
    "init_printing()"
   ]
  },
  {
   "cell_type": "code",
   "execution_count": 58,
   "metadata": {
    "ExecuteTime": {
     "end_time": "2019-12-04T14:55:46.988703Z",
     "start_time": "2019-12-04T14:55:44.145539Z"
    }
   },
   "outputs": [
    {
     "data": {
      "image/png": "[encoded data removed]",
      "text/latex": [
       "$$\\frac{e^{- \\frac{1.0 i}{U \\left(\\sin{\\left (\\theta \\right )} - 1\\right)} \\left(U \\tau \\left(\\sin{\\left (\\theta \\right )} - 1\\right) + x + \\left(U \\tau + x \\left(\\sin{\\left (\\theta \\right )} - 1\\right)\\right) \\left(\\sin{\\left (\\theta \\right )} - 1\\right)\\right)}}{\\left(U^{2} \\sin^{2}{\\left (\\theta \\right )} + 1\\right) \\left(U^{2} \\sin^{2}{\\left (\\theta \\right )} + \\left(\\sin{\\left (\\theta \\right )} - 1\\right)^{2}\\right)} \\left(- \\left(U^{2} \\sin^{2}{\\left (\\theta \\right )} + 1\\right) e^{\\frac{1}{U \\left(\\sin{\\left (\\theta \\right )} - 1\\right)} \\left(L \\left(\\sin{\\left (\\theta \\right )} - 1\\right)^{2} + 1.0 i \\left(U \\tau \\left(\\sin{\\left (\\theta \\right )} - 1\\right) + x\\right)\\right)} + \\left(U^{2} \\sin^{2}{\\left (\\theta \\right )} + \\left(\\sin{\\left (\\theta \\right )} - 1\\right)^{2}\\right) e^{\\frac{1}{U \\left(\\sin{\\left (\\theta \\right )} - 1\\right)} \\left(L + 1.0 i \\left(U \\tau + x \\left(\\sin{\\left (\\theta \\right )} - 1\\right)\\right) \\left(\\sin{\\left (\\theta \\right )} - 1\\right)\\right)}\\right)$$"
      ],
      "text/plain": [
       "⎛                                  2                                          \n",
       "⎜                    L⋅(sin(θ) - 1)  + 1.0⋅ⅈ⋅(U⋅τ⋅(sin(θ) - 1) + x)           \n",
       "⎜                    ──────────────────────────────────────────────           \n",
       "⎜  ⎛ 2    2       ⎞                  U⋅(sin(θ) - 1)                   ⎛ 2    2\n",
       "⎝- ⎝U ⋅sin (θ) + 1⎠⋅ℯ                                               + ⎝U ⋅sin \n",
       "──────────────────────────────────────────────────────────────────────────────\n",
       "                                                                              \n",
       "                                                                              \n",
       "\n",
       "                                                                   ⎞          \n",
       "                      L + 1.0⋅ⅈ⋅(U⋅τ + x⋅(sin(θ) - 1))⋅(sin(θ) - 1)⎟  -1.0⋅ⅈ⋅(\n",
       "                      ─────────────────────────────────────────────⎟  ────────\n",
       "                  2⎞                  U⋅(sin(θ) - 1)               ⎟          \n",
       "(θ) + (sin(θ) - 1) ⎠⋅ℯ                                             ⎠⋅ℯ        \n",
       "──────────────────────────────────────────────────────────────────────────────\n",
       "       ⎛ 2    2       ⎞ ⎛ 2    2                  2⎞                          \n",
       "       ⎝U ⋅sin (θ) + 1⎠⋅⎝U ⋅sin (θ) + (sin(θ) - 1) ⎠                          \n",
       "\n",
       "                                                            \n",
       "U⋅τ⋅(sin(θ) - 1) + x + (U⋅τ + x⋅(sin(θ) - 1))⋅(sin(θ) - 1)) \n",
       "────────────────────────────────────────────────────────────\n",
       "                   U⋅(sin(θ) - 1)                           \n",
       "                                                            \n",
       "────────────────────────────────────────────────────────────\n",
       "                                                            \n",
       "                                                            "
      ]
     },
     "execution_count": 58,
     "metadata": {},
     "output_type": "execute_result"
    }
   ],
   "source": [
    "C3 = exp(-kappa*L)/(kappa**2+(U*kappa-1)**2)*exp(1j*(kappa*x-tau))*kappa**2\n",
    "C2 = exp(-kappa*L)/(kappa**2+(U*kappa-1)**2)*exp(1j*(kappa*x-tau))\n",
    "kappa2 = kappaU*(1-sin(theta))\n",
    "kappa3 = kappaU/(1-sin(theta))\n",
    "simplify(C3.subs(kappa,kappa3)-C2.subs(kappa,kappa2)*kappaU**2)"
   ]
  },
  {
   "cell_type": "code",
   "execution_count": null,
   "metadata": {
    "ExecuteTime": {
     "end_time": "2019-11-25T14:54:49.835238Z",
     "start_time": "2019-11-25T14:54:49.797941Z"
    }
   },
   "outputs": [],
   "source": [
    "expression = (kappa/(kappa*U-1))/(kappa**2+(U*kappa-1)**2)*exp(-kappa*L)*exp(I*(kappa*x-tau))-(2*kappaU-kappa)/(kappa*U-1)/((2*kappaU-kappa)**2+(kappa*U-1)**2)*exp(-1*(2*kappaU-kappa)*L)*exp(I*((2*kappaU-kappa)*x-tau))"
   ]
  },
  {
   "cell_type": "code",
   "execution_count": null,
   "metadata": {
    "ExecuteTime": {
     "end_time": "2019-11-25T15:17:40.455559Z",
     "start_time": "2019-11-25T15:17:39.397462Z"
    }
   },
   "outputs": [],
   "source": [
    "simplify(expression)"
   ]
  },
  {
   "cell_type": "code",
   "execution_count": null,
   "metadata": {
    "ExecuteTime": {
     "end_time": "2019-11-25T14:54:57.482561Z",
     "start_time": "2019-11-25T14:54:57.202301Z"
    },
    "scrolled": true
   },
   "outputs": [],
   "source": [
    "init_printing()\n",
    "expression"
   ]
  },
  {
   "cell_type": "code",
   "execution_count": null,
   "metadata": {
    "ExecuteTime": {
     "end_time": "2019-11-25T14:55:44.392346Z",
     "start_time": "2019-11-25T14:55:42.970501Z"
    }
   },
   "outputs": [],
   "source": [
    "limit(expression,kappa,kappaU)"
   ]
  },
  {
   "cell_type": "code",
   "execution_count": null,
   "metadata": {
    "ExecuteTime": {
     "end_time": "2019-11-25T14:43:33.853442Z",
     "start_time": "2019-11-25T14:43:33.449783Z"
    }
   },
   "outputs": [],
   "source": [
    "simplify(cancel(factor(cancel(expand(exp)))))"
   ]
  },
  {
   "cell_type": "code",
   "execution_count": null,
   "metadata": {
    "ExecuteTime": {
     "end_time": "2019-11-25T01:31:25.686833Z",
     "start_time": "2019-11-25T01:31:25.682924Z"
    }
   },
   "outputs": [],
   "source": [
    "theta_alt = ((1-cos(s*pi))/(2))**(alpha)*pi/2"
   ]
  },
  {
   "cell_type": "code",
   "execution_count": null,
   "metadata": {
    "ExecuteTime": {
     "end_time": "2019-11-25T01:31:33.847464Z",
     "start_time": "2019-11-25T01:31:33.586243Z"
    },
    "scrolled": true
   },
   "outputs": [],
   "source": [
    "theta_alt.subs(alpha,5)"
   ]
  },
  {
   "cell_type": "code",
   "execution_count": null,
   "metadata": {
    "ExecuteTime": {
     "end_time": "2019-11-25T01:32:45.433724Z",
     "start_time": "2019-11-25T01:32:45.183309Z"
    }
   },
   "outputs": [],
   "source": [
    "diff(theta_alt.subs(alpha,2),s)"
   ]
  },
  {
   "cell_type": "code",
   "execution_count": null,
   "metadata": {
    "ExecuteTime": {
     "end_time": "2019-11-25T01:19:47.614491Z",
     "start_time": "2019-11-25T01:19:47.363554Z"
    }
   },
   "outputs": [],
   "source": [
    "init_printing()"
   ]
  },
  {
   "cell_type": "code",
   "execution_count": null,
   "metadata": {},
   "outputs": [],
   "source": []
  },
  {
   "cell_type": "code",
   "execution_count": 76,
   "metadata": {
    "ExecuteTime": {
     "end_time": "2019-12-04T15:11:37.240500Z",
     "start_time": "2019-12-04T15:11:34.191231Z"
    },
    "scrolled": false
   },
   "outputs": [
    {
     "name": "stderr",
     "output_type": "stream",
     "text": [
      "/home/student.unimelb.edu.au/shorte1/anaconda3/lib/python3.6/site-packages/ipykernel_launcher.py:51: ComplexWarning: Casting complex values to real discards the imaginary part\n",
      "/home/student.unimelb.edu.au/shorte1/anaconda3/lib/python3.6/site-packages/ipykernel_launcher.py:52: ComplexWarning: Casting complex values to real discards the imaginary part\n",
      "/home/student.unimelb.edu.au/shorte1/anaconda3/lib/python3.6/site-packages/ipykernel_launcher.py:53: ComplexWarning: Casting complex values to real discards the imaginary part\n",
      "/home/student.unimelb.edu.au/shorte1/anaconda3/lib/python3.6/site-packages/ipykernel_launcher.py:56: ComplexWarning: Casting complex values to real discards the imaginary part\n",
      "/home/student.unimelb.edu.au/shorte1/anaconda3/lib/python3.6/site-packages/ipykernel_launcher.py:59: ComplexWarning: Casting complex values to real discards the imaginary part\n",
      "/home/student.unimelb.edu.au/shorte1/anaconda3/lib/python3.6/site-packages/ipykernel_launcher.py:61: ComplexWarning: Casting complex values to real discards the imaginary part\n",
      "/home/student.unimelb.edu.au/shorte1/anaconda3/lib/python3.6/site-packages/ipykernel_launcher.py:63: ComplexWarning: Casting complex values to real discards the imaginary part\n",
      "/home/student.unimelb.edu.au/shorte1/anaconda3/lib/python3.6/site-packages/ipykernel_launcher.py:74: ComplexWarning: Casting complex values to real discards the imaginary part\n"
     ]
    },
    {
     "data": {
      "image/png": "[encoded data removed]",
      "text/plain": [
       "<Figure size 864x576 with 1 Axes>"
      ]
     },
     "metadata": {},
     "output_type": "display_data"
    }
   ],
   "source": [
    "plt.close('all')\n",
    "power=6\n",
    "tau=np.pi/2\n",
    "zeta=2\n",
    "alpha=3\n",
    "U=.6\n",
    "L=0.1\n",
    "sN=4000\n",
    "dS=1/sN\n",
    "\n",
    "s=np.arange(dS,1,dS, dtype=np.float32)\n",
    "xi=np.linspace(-10,10,1000, dtype=np.float32)\n",
    "theta=qian_helpers.calc_theta(s,alpha)\n",
    "\n",
    "k2 = qian_helpers.calc_k_2(theta,U)\n",
    "k3 = qian_helpers.calc_k_3(theta,U)\n",
    "k0_2 = qian_helpers.calc_k_2(0,U)\n",
    "k0_3 = qian_helpers.calc_k_3(0,U)\n",
    "bw23=np.zeros(xi.size)\n",
    "bw23_alt=np.zeros(xi.size)\n",
    "bw23a=np.zeros(xi.size)\n",
    "bw23b=np.zeros(xi.size)\n",
    "bw2b=np.zeros(xi.size)\n",
    "bw2ba=np.zeros(xi.size)\n",
    "bw2c=np.zeros(xi.size)\n",
    "bw3b=np.zeros(xi.size)\n",
    "bw3c=np.zeros(xi.size)\n",
    "\n",
    "for i in range(xi.size):\n",
    "    bw23a_ig = (1/np.tan(theta)\n",
    "               *(\n",
    "                 -qian_helpers.calc_C2(xi[i],tau,k2,U,L)/U**2\n",
    "#                  +qian_helpers.calc_C3(xi[i],tau,k3,U,L)\n",
    "                )\n",
    "               *alpha*s**(alpha-1)*np.pi/2)\n",
    "    bw23b_ig = (1/np.tan(theta)\n",
    "               *(\n",
    "#                  -qian_helpers.calc_C2(xi[i],tau,k2,U,L)/U**2\n",
    "                 +qian_helpers.calc_C3(xi[i],tau,k3,U,L)\n",
    "                )\n",
    "               *alpha*s**(alpha-1)*np.pi/2)\n",
    "    bw23_ig = ((-qian_helpers.calc_C2(xi[i],tau,k2,U,L)/U**2/np.tan(theta)\n",
    "                +qian_helpers.calc_C3(xi[i],tau,k3,U,L)/np.tan(theta))\n",
    "               *alpha*s**(alpha-1)*np.pi/2)\n",
    "    \n",
    "    s_app=np.concatenate(([0],s,[1]))\n",
    "    bw23_ig_app=np.concatenate(([0],bw23_ig,[0]))\n",
    "    \n",
    "#     bw23_ig_alt = calc_test(xi[i],zeta,tau,theta,U,L)*alpha*s**(alpha-1)*np.pi/2\n",
    "    \n",
    "    bw23a[i] = np.trapz(bw23a_ig,s)*1/2*np.exp(-zeta)\n",
    "    bw23b[i] = np.trapz(bw23b_ig,s)*1/2*np.exp(-zeta)\n",
    "    bw23[i] = np.trapz(bw23_ig_app,s_app)*1/2*np.exp(-zeta)\n",
    "#     bw23_alt[i] = np.trapz(bw23_ig_alt,s)*1/2*np.exp(-zeta)\n",
    "  \n",
    "    bw2b[i] = np.trapz(qian_helpers.calc_bw2b(xi[i],zeta,tau,s,alpha,U,L),s)\n",
    "    bw2c[i] = (1/(2*U**2)*np.exp(1j*zeta/U)\n",
    "               *qian_helpers.calc_C2(xi[i],tau,k0_2,U,L)\n",
    "               *qian_helpers.calc_exp1(1j*zeta/U))\n",
    "  \n",
    "    bw3b[i] = np.trapz(qian_helpers.calc_bw3b(xi[i],zeta,tau,s,alpha,U,L),s)\n",
    "    bw3c[i] = (-1/2*qian_helpers.calc_C3(xi[i],tau,k0_3,U,L)\n",
    "               *qian_helpers.calc_exp1(-1j*zeta/U))\n",
    "    \n",
    "    # Calc psi2\n",
    "    psi2a_ig = qian_helpers.calc_psi2a(xi[i],zeta,tau,s,alpha,U,L)\n",
    "    psi2b_ig = qian_helpers.calc_psi2b(xi[i],zeta,tau,s,alpha,U,L)\n",
    "    \n",
    "    psi2c = (-1/(2*U)*np.exp(1j*zeta/U)\n",
    "             *qian_helpers.calc_C2(xi[i],tau,k0_2,U,L)\n",
    "             *qian_helpers.calc_ep0(-1j*zeta/U))\n",
    "\n",
    "    psi2ab = np.trapz(psi2a_ig+psi2b_ig, s)\n",
    "    bw2ba[i] = (psi2ab+psi2c)/U\n",
    "        \n",
    "# plt.figure(figsize=(12,8))\n",
    "# plt.plot(xi,bw23a,label='bw23a')\n",
    "# plt.plot(xi,bw23b,label='bw23b')\n",
    "# plt.plot(xi,bw23_alt,label='bw23')\n",
    "# plt.plot(xi,np.zeros(xi.size),'--k')\n",
    "# plt.plot(xi,bw2b,label='bw2b')\n",
    "# plt.plot(xi,bw2c,label='bw2c')\n",
    "# plt.plot(xi,bw3b,label='bw3b')\n",
    "# plt.plot(xi,bw3c,label='bw3c')\n",
    "# plt.plot(s,k2,'.')\n",
    "# plt.plot(s[0:4000],k3[0:4000]-1.25,'.')\n",
    "\n",
    "# plt.figure(figsize=(12,8))\n",
    "# plt.plot(s[0:800],k3[0:800],'.')\n",
    "\n",
    "# plt.legend()\n",
    "# plt.show()\n",
    "plt.figure(figsize=(12,8))\n",
    "\n",
    "# plt.plot(xi,bw2ba,label='bw2ba')\n",
    "# plt.plot(xi,bw3b+bw3c+bw2b,label='bw3b+bw3c')\n",
    "# plt.plot(xi,bw2b+bw2ba+bw2c+bw3b+bw3c+bw23,label='all')\n",
    "plt.plot(xi,bw2b+bw2ba+bw2c,label='mode 2')\n",
    "plt.plot(xi,bw3b+bw3c,label='mode 3')\n",
    "# plt.plot(xi,bw2ba,label='bw2ba')\n",
    "# plt.plot(xi,bw2b+bw3b,label='bw2b+bw3b')\n",
    "# plt.plot(xi,bw23_alt,label='bw23_alt')\n",
    "# plt.plot(xi,bw23a,label='bw23a')\n",
    "# plt.plot(xi,bw23b,label='bw23b')\n",
    "plt.plot(xi,bw23,label='bw23')\n",
    "\n",
    "# plt.plot(xi,bw23+bw2ba,label='bw23')\n",
    "# plt.plot(xi,bw3b+bw3c+bw23+bw23+bw2c,label='all')\n",
    "# plt.plot(xi,bw23a+bw23b,label='bw23a+bw23b')\n",
    "# plt.plot(xi,bw23,label='bw23')\n",
    "plt.plot(xi,np.zeros(xi.size),'--k')\n",
    "plt.legend()\n",
    "plt.show()"
   ]
  },
  {
   "cell_type": "code",
   "execution_count": null,
   "metadata": {},
   "outputs": [],
   "source": []
  },
  {
   "cell_type": "code",
   "execution_count": null,
   "metadata": {
    "ExecuteTime": {
     "end_time": "2019-11-24T12:14:47.183582Z",
     "start_time": "2019-11-24T12:14:47.045584Z"
    }
   },
   "outputs": [],
   "source": [
    "plt.plot(k3_alt[0:4000])"
   ]
  },
  {
   "cell_type": "code",
   "execution_count": null,
   "metadata": {
    "ExecuteTime": {
     "end_time": "2019-11-25T13:38:14.590854Z",
     "start_time": "2019-11-25T13:38:14.547083Z"
    }
   },
   "outputs": [],
   "source": []
  },
  {
   "cell_type": "code",
   "execution_count": null,
   "metadata": {
    "ExecuteTime": {
     "end_time": "2019-11-24T12:12:03.554935Z",
     "start_time": "2019-11-24T12:12:03.549775Z"
    }
   },
   "outputs": [],
   "source": [
    "bw23_ig_app[np.isnan(bw23_ig_app)]=0"
   ]
  },
  {
   "cell_type": "code",
   "execution_count": null,
   "metadata": {
    "ExecuteTime": {
     "end_time": "2019-11-24T12:12:10.290196Z",
     "start_time": "2019-11-24T12:12:10.283997Z"
    }
   },
   "outputs": [],
   "source": [
    "bw23_ig_app"
   ]
  },
  {
   "cell_type": "code",
   "execution_count": null,
   "metadata": {
    "ExecuteTime": {
     "end_time": "2019-11-24T11:30:59.592361Z",
     "start_time": "2019-11-24T11:30:59.587237Z"
    }
   },
   "outputs": [],
   "source": [
    "print(bw23b_ig[-1])\n",
    "print(bw23a_ig[-1])\n",
    "print(bw23_ig[-1])\n",
    "\n",
    "print(bw23b_ig[0])\n",
    "print(bw23a_ig[0])\n",
    "print(bw23_ig[0])"
   ]
  },
  {
   "cell_type": "code",
   "execution_count": null,
   "metadata": {
    "ExecuteTime": {
     "end_time": "2019-11-24T14:49:58.012202Z",
     "start_time": "2019-11-24T14:49:57.901372Z"
    }
   },
   "outputs": [],
   "source": [
    "s_app=np.concatenate(([0],s,[1]))\n",
    "bw23_ig_app=np.concatenate(([0],bw23_ig,[0]))\n",
    "\n",
    "plt.plot(s_app,bw23_ig_app)\n",
    "plt.plot(s_app,np.zeros(s_app.size),'--k');\n",
    "plt.show()\n",
    "\n",
    "# plt.plot(s[200:],bw23a_ig[200:])\n",
    "# plt.plot(s[200:],bw23b_ig[200:])"
   ]
  },
  {
   "cell_type": "code",
   "execution_count": null,
   "metadata": {
    "ExecuteTime": {
     "end_time": "2019-11-24T11:34:31.046677Z",
     "start_time": "2019-11-24T11:34:30.947901Z"
    }
   },
   "outputs": [],
   "source": [
    "\n",
    "k2_app = np.concatenate((k2,[0]))\n",
    "plt.plot(k2_app[-10:],'.'); plt.show()"
   ]
  },
  {
   "cell_type": "code",
   "execution_count": null,
   "metadata": {
    "ExecuteTime": {
     "end_time": "2019-11-24T11:20:53.467326Z",
     "start_time": "2019-11-24T11:20:53.364099Z"
    }
   },
   "outputs": [],
   "source": [
    "plt.plot(bw23a_ig); plt.show()"
   ]
  },
  {
   "cell_type": "code",
   "execution_count": null,
   "metadata": {
    "ExecuteTime": {
     "end_time": "2019-11-24T11:02:43.779815Z",
     "start_time": "2019-11-24T11:02:43.513703Z"
    }
   },
   "outputs": [],
   "source": [
    "plt.plot(s[0:30000],k3[0:30000],'.')\n",
    "plt.plot(s,k2,'.')"
   ]
  },
  {
   "cell_type": "code",
   "execution_count": 69,
   "metadata": {
    "ExecuteTime": {
     "end_time": "2019-12-04T15:04:56.889342Z",
     "start_time": "2019-12-04T15:04:56.873406Z"
    }
   },
   "outputs": [],
   "source": [
    "def calc_theta_alt(s,alpha=1):\n",
    "    theta_alt = ((1-np.cos(s*np.pi))/(2))**(alpha)*np.pi/2\n",
    "    return theta_alt\n",
    "\n",
    "def calc_dtheta_alt(s,alpha=1):\n",
    "    dtheta_alt = (np.pi/2*alpha*((1-np.cos(s*np.pi))/2)**(alpha-1)\n",
    "                  *np.sin(s*np.pi)*np.pi/2)\n",
    "    return dtheta_alt"
   ]
  },
  {
   "cell_type": "code",
   "execution_count": null,
   "metadata": {
    "ExecuteTime": {
     "end_time": "2019-11-25T02:59:52.146870Z",
     "start_time": "2019-11-25T02:59:51.891487Z"
    }
   },
   "outputs": [],
   "source": [
    "plt.figure(figsize=(20,20))\n",
    "plt.plot(s[200:2500],k3[200:2500],'.',size=0.1)"
   ]
  },
  {
   "cell_type": "code",
   "execution_count": null,
   "metadata": {
    "ExecuteTime": {
     "end_time": "2019-11-25T02:57:41.036884Z",
     "start_time": "2019-11-25T02:57:40.881168Z"
    }
   },
   "outputs": [],
   "source": [
    "plt.plot(s,k2,'.')"
   ]
  },
  {
   "cell_type": "code",
   "execution_count": 24,
   "metadata": {
    "ExecuteTime": {
     "end_time": "2019-12-03T13:19:26.879442Z",
     "start_time": "2019-12-03T13:19:26.856756Z"
    }
   },
   "outputs": [
    {
     "ename": "TypingError",
     "evalue": "Failed at nopython (nopython frontend)\nInternal error at <numba.typeinfer.ArgConstraint object at 0x7fb577629320>:\n--%<----------------------------------------------------------------------------\nTraceback (most recent call last):\n  File \"/home/student.unimelb.edu.au/shorte1/anaconda3/lib/python3.6/site-packages/numba/errors.py\", line 491, in new_error_context\n    yield\n  File \"/home/student.unimelb.edu.au/shorte1/anaconda3/lib/python3.6/site-packages/numba/typeinfer.py\", line 194, in __call__\n    assert ty.is_precise()\nAssertionError\n\nDuring handling of the above exception, another exception occurred:\n\nTraceback (most recent call last):\n  File \"/home/student.unimelb.edu.au/shorte1/anaconda3/lib/python3.6/site-packages/numba/typeinfer.py\", line 138, in propagate\n    constraint(typeinfer)\n  File \"/home/student.unimelb.edu.au/shorte1/anaconda3/lib/python3.6/site-packages/numba/typeinfer.py\", line 195, in __call__\n    typeinfer.add_type(self.dst, ty, loc=self.loc)\n  File \"/home/student.unimelb.edu.au/shorte1/anaconda3/lib/python3.6/contextlib.py\", line 99, in __exit__\n    self.gen.throw(type, value, traceback)\n  File \"/home/student.unimelb.edu.au/shorte1/anaconda3/lib/python3.6/site-packages/numba/errors.py\", line 499, in new_error_context\n    six.reraise(type(newerr), newerr, tb)\n  File \"/home/student.unimelb.edu.au/shorte1/anaconda3/lib/python3.6/site-packages/numba/six.py\", line 659, in reraise\n    raise value\nnumba.errors.InternalError: \u001b[33m\u001b[1m\u001b[33m\u001b[1m\u001b[0m\n\u001b[0m\u001b[37m\u001b[1m[1] During: typing of argument at /home/student.unimelb.edu.au/shorte1/Documents/rotunno83/python_scripts/qian_helpers.py (463)\u001b[0m\n--%<----------------------------------------------------------------------------\n\n\u001b[37m\u001b[1m\nFile \"qian_helpers.py\", line 463:\u001b[0m\n\u001b[34m\u001b[1mdef calc_k_2(theta,U):\n\u001b[31m\u001b[1m    k = (1-np.sin(theta))/U\n\u001b[0m    \u001b[32m\u001b[1m^\u001b[0m\u001b[0m\n\nThis error may have been caused by the following argument(s):\n- argument 0: Unsupported array dtype: float128\n\nThis is not usually a problem with Numba itself but instead often caused by\nthe use of unsupported features or an issue in resolving types.\n\nTo see Python/NumPy features supported by the latest release of Numba visit:\nhttp://numba.pydata.org/numba-doc/dev/reference/pysupported.html\nand\nhttp://numba.pydata.org/numba-doc/dev/reference/numpysupported.html\n\nFor more information about typing errors and how to debug them visit:\nhttp://numba.pydata.org/numba-doc/latest/user/troubleshoot.html#my-code-doesn-t-compile\n\nIf you think your code should work with Numba, please report the error message\nand traceback, along with a minimal reproducer at:\nhttps://github.com/numba/numba/issues/new\n",
     "output_type": "error",
     "traceback": [
      "\u001b[0;31m---------------------------------------------------------------------------\u001b[0m",
      "\u001b[0;31mTypingError\u001b[0m                               Traceback (most recent call last)",
      "\u001b[0;32m<ipython-input-24-c5faf54307e0>\u001b[0m in \u001b[0;36m<module>\u001b[0;34m()\u001b[0m\n\u001b[1;32m      2\u001b[0m \u001b[0malpha\u001b[0m\u001b[0;34m=\u001b[0m\u001b[0;36m0.75\u001b[0m\u001b[0;34m\u001b[0m\u001b[0m\n\u001b[1;32m      3\u001b[0m \u001b[0mtheta_alt\u001b[0m\u001b[0;34m=\u001b[0m\u001b[0mcalc_theta_alt\u001b[0m\u001b[0;34m(\u001b[0m\u001b[0ms\u001b[0m\u001b[0;34m,\u001b[0m\u001b[0malpha\u001b[0m\u001b[0;34m)\u001b[0m\u001b[0;34m\u001b[0m\u001b[0m\n\u001b[0;32m----> 4\u001b[0;31m \u001b[0mk2\u001b[0m \u001b[0;34m=\u001b[0m \u001b[0mqian_helpers\u001b[0m\u001b[0;34m.\u001b[0m\u001b[0mcalc_k_2\u001b[0m\u001b[0;34m(\u001b[0m\u001b[0mtheta_alt\u001b[0m\u001b[0;34m,\u001b[0m\u001b[0mU\u001b[0m\u001b[0;34m)\u001b[0m\u001b[0;34m\u001b[0m\u001b[0m\n\u001b[0m\u001b[1;32m      5\u001b[0m \u001b[0mk3\u001b[0m \u001b[0;34m=\u001b[0m \u001b[0mqian_helpers\u001b[0m\u001b[0;34m.\u001b[0m\u001b[0mcalc_k_3\u001b[0m\u001b[0;34m(\u001b[0m\u001b[0mtheta_alt\u001b[0m\u001b[0;34m,\u001b[0m\u001b[0mU\u001b[0m\u001b[0;34m)\u001b[0m\u001b[0;34m\u001b[0m\u001b[0m\n\u001b[1;32m      6\u001b[0m \u001b[0;34m\u001b[0m\u001b[0m\n",
      "\u001b[0;32m~/anaconda3/lib/python3.6/site-packages/numba/dispatcher.py\u001b[0m in \u001b[0;36m_compile_for_args\u001b[0;34m(self, *args, **kws)\u001b[0m\n\u001b[1;32m    342\u001b[0m                 \u001b[0;32mraise\u001b[0m \u001b[0me\u001b[0m\u001b[0;34m\u001b[0m\u001b[0m\n\u001b[1;32m    343\u001b[0m             \u001b[0;32melse\u001b[0m\u001b[0;34m:\u001b[0m\u001b[0;34m\u001b[0m\u001b[0m\n\u001b[0;32m--> 344\u001b[0;31m                 \u001b[0mreraise\u001b[0m\u001b[0;34m(\u001b[0m\u001b[0mtype\u001b[0m\u001b[0;34m(\u001b[0m\u001b[0me\u001b[0m\u001b[0;34m)\u001b[0m\u001b[0;34m,\u001b[0m \u001b[0me\u001b[0m\u001b[0;34m,\u001b[0m \u001b[0;32mNone\u001b[0m\u001b[0;34m)\u001b[0m\u001b[0;34m\u001b[0m\u001b[0m\n\u001b[0m\u001b[1;32m    345\u001b[0m         \u001b[0;32mexcept\u001b[0m \u001b[0merrors\u001b[0m\u001b[0;34m.\u001b[0m\u001b[0mUnsupportedError\u001b[0m \u001b[0;32mas\u001b[0m \u001b[0me\u001b[0m\u001b[0;34m:\u001b[0m\u001b[0;34m\u001b[0m\u001b[0m\n\u001b[1;32m    346\u001b[0m             \u001b[0;31m# Something unsupported is present in the user code, add help info\u001b[0m\u001b[0;34m\u001b[0m\u001b[0;34m\u001b[0m\u001b[0m\n",
      "\u001b[0;32m~/anaconda3/lib/python3.6/site-packages/numba/six.py\u001b[0m in \u001b[0;36mreraise\u001b[0;34m(tp, value, tb)\u001b[0m\n\u001b[1;32m    656\u001b[0m             \u001b[0mvalue\u001b[0m \u001b[0;34m=\u001b[0m \u001b[0mtp\u001b[0m\u001b[0;34m(\u001b[0m\u001b[0;34m)\u001b[0m\u001b[0;34m\u001b[0m\u001b[0m\n\u001b[1;32m    657\u001b[0m         \u001b[0;32mif\u001b[0m \u001b[0mvalue\u001b[0m\u001b[0;34m.\u001b[0m\u001b[0m__traceback__\u001b[0m \u001b[0;32mis\u001b[0m \u001b[0;32mnot\u001b[0m \u001b[0mtb\u001b[0m\u001b[0;34m:\u001b[0m\u001b[0;34m\u001b[0m\u001b[0m\n\u001b[0;32m--> 658\u001b[0;31m             \u001b[0;32mraise\u001b[0m \u001b[0mvalue\u001b[0m\u001b[0;34m.\u001b[0m\u001b[0mwith_traceback\u001b[0m\u001b[0;34m(\u001b[0m\u001b[0mtb\u001b[0m\u001b[0;34m)\u001b[0m\u001b[0;34m\u001b[0m\u001b[0m\n\u001b[0m\u001b[1;32m    659\u001b[0m         \u001b[0;32mraise\u001b[0m \u001b[0mvalue\u001b[0m\u001b[0;34m\u001b[0m\u001b[0m\n\u001b[1;32m    660\u001b[0m \u001b[0;34m\u001b[0m\u001b[0m\n",
      "\u001b[0;31mTypingError\u001b[0m: Failed at nopython (nopython frontend)\nInternal error at <numba.typeinfer.ArgConstraint object at 0x7fb577629320>:\n--%<----------------------------------------------------------------------------\nTraceback (most recent call last):\n  File \"/home/student.unimelb.edu.au/shorte1/anaconda3/lib/python3.6/site-packages/numba/errors.py\", line 491, in new_error_context\n    yield\n  File \"/home/student.unimelb.edu.au/shorte1/anaconda3/lib/python3.6/site-packages/numba/typeinfer.py\", line 194, in __call__\n    assert ty.is_precise()\nAssertionError\n\nDuring handling of the above exception, another exception occurred:\n\nTraceback (most recent call last):\n  File \"/home/student.unimelb.edu.au/shorte1/anaconda3/lib/python3.6/site-packages/numba/typeinfer.py\", line 138, in propagate\n    constraint(typeinfer)\n  File \"/home/student.unimelb.edu.au/shorte1/anaconda3/lib/python3.6/site-packages/numba/typeinfer.py\", line 195, in __call__\n    typeinfer.add_type(self.dst, ty, loc=self.loc)\n  File \"/home/student.unimelb.edu.au/shorte1/anaconda3/lib/python3.6/contextlib.py\", line 99, in __exit__\n    self.gen.throw(type, value, traceback)\n  File \"/home/student.unimelb.edu.au/shorte1/anaconda3/lib/python3.6/site-packages/numba/errors.py\", line 499, in new_error_context\n    six.reraise(type(newerr), newerr, tb)\n  File \"/home/student.unimelb.edu.au/shorte1/anaconda3/lib/python3.6/site-packages/numba/six.py\", line 659, in reraise\n    raise value\nnumba.errors.InternalError: \u001b[33m\u001b[1m\u001b[33m\u001b[1m\u001b[0m\n\u001b[0m\u001b[37m\u001b[1m[1] During: typing of argument at /home/student.unimelb.edu.au/shorte1/Documents/rotunno83/python_scripts/qian_helpers.py (463)\u001b[0m\n--%<----------------------------------------------------------------------------\n\n\u001b[37m\u001b[1m\nFile \"qian_helpers.py\", line 463:\u001b[0m\n\u001b[34m\u001b[1mdef calc_k_2(theta,U):\n\u001b[31m\u001b[1m    k = (1-np.sin(theta))/U\n\u001b[0m    \u001b[32m\u001b[1m^\u001b[0m\u001b[0m\n\nThis error may have been caused by the following argument(s):\n- argument 0: Unsupported array dtype: float128\n\nThis is not usually a problem with Numba itself but instead often caused by\nthe use of unsupported features or an issue in resolving types.\n\nTo see Python/NumPy features supported by the latest release of Numba visit:\nhttp://numba.pydata.org/numba-doc/dev/reference/pysupported.html\nand\nhttp://numba.pydata.org/numba-doc/dev/reference/numpysupported.html\n\nFor more information about typing errors and how to debug them visit:\nhttp://numba.pydata.org/numba-doc/latest/user/troubleshoot.html#my-code-doesn-t-compile\n\nIf you think your code should work with Numba, please report the error message\nand traceback, along with a minimal reproducer at:\nhttps://github.com/numba/numba/issues/new\n"
     ]
    }
   ],
   "source": [
    "# plt.plot(s,theta_alt)\n",
    "alpha=0.75\n",
    "theta_alt=calc_theta_alt(s,alpha)\n",
    "k2 = qian_helpers.calc_k_2(theta_alt,U)\n",
    "k3 = qian_helpers.calc_k_3(theta_alt,U)\n",
    "\n",
    "plt.plot(s,calc_theta_alt(s, alpha))\n",
    "# plt.plot(s,calc_theta_alt(s))\n",
    "# k2_alt = qian_helpers.calc_k_2(calc_theta_alt(s),U)\n",
    "# k3_alt = qian_helpers.calc_k_3(calc_theta_alt(s),U)\n",
    "# plt.plot(s[0:100],k3_alt[0:100],'.')\n",
    "plt.plot(s,calc_dtheta_alt(s,alpha=alpha))\n",
    "plt.plot(s,k2)\n",
    "plt.plot(s[:-3000],k3[:-3000])"
   ]
  },
  {
   "cell_type": "code",
   "execution_count": 71,
   "metadata": {
    "ExecuteTime": {
     "end_time": "2019-12-04T15:07:49.646823Z",
     "start_time": "2019-12-04T15:07:49.475496Z"
    }
   },
   "outputs": [
    {
     "name": "stdout",
     "output_type": "stream",
     "text": [
      "(-2.9132987685698026+2.797086101339573j)\n",
      "(2.645840079481666-3.070445058517016j)\n",
      "(-0.26745868908813675-0.2733589571774431j)\n",
      "(-0.26745868908813564-0.2733589571774416j)\n",
      "(-0.2674586890881356-0.2733589571774415j)\n"
     ]
    },
    {
     "name": "stderr",
     "output_type": "stream",
     "text": [
      "/home/student.unimelb.edu.au/shorte1/anaconda3/lib/python3.6/site-packages/numpy/core/numeric.py:492: ComplexWarning: Casting complex values to real discards the imaginary part\n",
      "  return array(a, dtype, copy=False, order=order)\n"
     ]
    },
    {
     "data": {
      "image/png": "[encoded data removed]",
      "text/plain": [
       "<Figure size 432x288 with 1 Axes>"
      ]
     },
     "metadata": {},
     "output_type": "display_data"
    }
   ],
   "source": [
    "x=-10\n",
    "alpha=3\n",
    "U=0.6\n",
    "tau=3\n",
    "L=0.1\n",
    "sN=1000\n",
    "dS=1/sN\n",
    "zeta=2\n",
    "\n",
    "s=np.arange(dS,1,dS,dtype=np.float32)\n",
    "theta=calc_theta_alt(s,alpha)\n",
    "\n",
    "k2 = qian_helpers.calc_k_2(theta,U)\n",
    "k3 = qian_helpers.calc_k_3(theta,U)\n",
    "k0_2 = qian_helpers.calc_k_2(0,U)\n",
    "k0_3 = qian_helpers.calc_k_3(0,U)\n",
    "\n",
    "# bw23a_ig = (1/np.tan(theta)\n",
    "#                *(\n",
    "#                  -qian_helpers.calc_C2(x,tau,k2,U,L)/U**2\n",
    "# #                  +qian_helpers.calc_C3(xi[i],tau,k3,U,L)\n",
    "#                 )\n",
    "#                *alpha*s**(alpha-1)*np.pi/2)\n",
    "# bw23b_ig = (1/np.tan(theta)\n",
    "#            *(\n",
    "# #                  -qian_helpers.calc_C2(xi[i],tau,k2,U,L)/U**2\n",
    "#              +qian_helpers.calc_C3(x,tau,k3,U,L)\n",
    "#             )\n",
    "#            *alpha*s**(alpha-1)*np.pi/2)\n",
    "\n",
    "bw23a_ig = (1/np.tan(theta)*np.exp(-zeta)\n",
    "               *(\n",
    "                 -qian_helpers.calc_C2(x,tau,k2,U,L)/U**2\n",
    "#                  +qian_helpers.calc_C3(xi[i],tau,k3,U,L)\n",
    "                )\n",
    "#                *alpha*s**(alpha-1)*np.pi/2)*1/2*np.exp(-zeta)\n",
    "                *calc_dtheta_alt(s,alpha))\n",
    "bw23b_ig = (1/np.tan(theta)*np.exp(-zeta)\n",
    "           *(\n",
    "#                  -qian_helpers.calc_C2(xi[i],tau,k2,U,L)/U**2\n",
    "             +qian_helpers.calc_C3(x,tau,k3,U,L)\n",
    "            )\n",
    "#            *alpha*s**(alpha-1)*np.pi/2)*1/2*np.exp(-zeta)\n",
    "            *calc_dtheta_alt(s,alpha))\n",
    "bw23_ig = (1/np.tan(theta)*np.exp(-zeta)\n",
    "           *(\n",
    "             -qian_helpers.calc_C2(x,tau,k2,U,L)/U**2\n",
    "             +qian_helpers.calc_C3(x,tau,k3,U,L)\n",
    "            )\n",
    "#            *alpha*s**(alpha-1)*np.pi/2)*1/2*np.exp(-zeta)\n",
    "            *calc_dtheta_alt(s,alpha))\n",
    "\n",
    "where_nan = np.logical_or(np.isnan(bw23a_ig),np.isnan(bw23b_ig))\n",
    "bw23a_ig[where_nan]=0\n",
    "bw23b_ig[where_nan]=0\n",
    "bw23_ig[np.isnan(bw23_ig)]=0\n",
    "\n",
    "plt.plot(theta[100:],bw23a_ig[100:],label='a')\n",
    "plt.plot(theta[100:],bw23b_ig[100:],label='b')\n",
    "# plt.plot(theta,(bw23b_ig+bw23a_ig),label='a+b')\n",
    "plt.plot(theta,bw23_ig, label='a+b')\n",
    "plt.plot(theta, np.zeros(theta.size),'--k')\n",
    "plt.legend()\n",
    "\n",
    "# s_app = np.concatenate(([0],s,[1]))\n",
    "# bw\n",
    "\n",
    "print(np.trapz(bw23a_ig,s))\n",
    "print(np.trapz(bw23b_ig,s))\n",
    "print(np.trapz(bw23a_ig,s)+np.trapz(bw23b_ig,s))\n",
    "print(np.trapz(bw23a_ig+bw23b_ig,s))\n",
    "print(np.trapz(bw23_ig,s))\n"
   ]
  },
  {
   "cell_type": "code",
   "execution_count": null,
   "metadata": {
    "ExecuteTime": {
     "end_time": "2019-11-25T04:01:23.076895Z",
     "start_time": "2019-11-25T04:01:22.950971Z"
    }
   },
   "outputs": [],
   "source": [
    "plt.plot(np.tan(np.arange(0,np.pi/8,np.pi/(2*5000)))+1/U,'.')"
   ]
  },
  {
   "cell_type": "code",
   "execution_count": null,
   "metadata": {},
   "outputs": [],
   "source": []
  },
  {
   "cell_type": "code",
   "execution_count": null,
   "metadata": {
    "ExecuteTime": {
     "end_time": "2019-11-25T22:14:10.720748Z",
     "start_time": "2019-11-25T22:14:10.474882Z"
    }
   },
   "outputs": [],
   "source": [
    "# Alternative approach\n",
    "sN=2000\n",
    "dk = (1/U)/sN\n",
    "s=np.arange(1/sN,1,1/sN)\n",
    "U=0.5\n",
    "L=0.5\n",
    "alpha=1\n",
    "\n",
    "k2 = (1-s**alpha)/U\n",
    "\n",
    "k3 = np.tan((np.arange(0,1+1/sN,1/sN))*np.pi/2)+2/U\n",
    "x=10\n",
    "tau=0\n",
    "zeta=0.00001\n",
    "\n",
    "def calc_exp_terms(xi,tau,k,L):\n",
    "    return np.exp(-k*L)*np.exp(1j*(k*xi-tau))\n",
    "\n",
    "# bw2a_ig = qian_helpers.calc_C2(x,tau,k2,U,L)*k2/(U*k2-1)*alpha*s**(alpha-1)\n",
    "bw2a_ig = qian_helpers.calc_C2(x,tau,k2,U,L)*k2*alpha*s**(alpha-1)\n",
    "# bw2a_ig_alt = qian_helpers.calc_C2(x,tau,k2,U,L)*alpha*s**(alpha-1)\n",
    "bw2a_ig[np.isinf(bw2a_ig)]=0\n",
    "\n",
    "k2P = -k2+2/U\n",
    "\n",
    "# bw3a1_ig = qian_helpers.calc_C2(x,tau,k2P,U,L)*k2P/(1-U*k2)*alpha*s**(alpha-1)\n",
    "bw3a1_ig = qian_helpers.calc_C2(x,tau,k2P,U,L)*k2P*alpha*s**(alpha-1)\n",
    "# bw3a1_ig_alt = qian_helpers.calc_C2(x,tau,k2P,U,L)*alpha*s**(alpha-1)\n",
    "bw3a1_ig[np.isinf(bw3a1_ig)]=0\n",
    "\n",
    "bw3a2_ig = qian_helpers.calc_C2(x,tau,k3,U,L)*k3/(U*k3-1)\n",
    "\n",
    "# plt.plot(k2[-10:],'o')\n",
    "# plt.plot(k3[:10],'o')\n",
    "# plt.plot(k3[:10]*0+2,'--')\n",
    "\n",
    "# *np.exp(-zeta)\n",
    "\n",
    "lb=0\n",
    "ub=100\n",
    "\n",
    "# plt.plot(s,bw2a_ig+bw3a1_ig)\n",
    "plt.plot(s,bw2a_ig,label='bw2a')\n",
    "plt.plot(s,bw3a1_ig, label='bw3a1')\n",
    "plt.plot(s,(-bw3a1_ig+bw2a_ig)/(k2*U-1), label='sum')\n",
    "plt.legend()\n",
    "print(np.trapz((-bw3a1_ig+bw2a_ig)/(k2*U-1),s))\n",
    "plt.plot()\n",
    "# plt.plot(k2,bw2a_ig)\n",
    "plt.figure()\n",
    "plt.plot(np.arange(0,1+1/sN,1/sN),bw3a2_ig)\n",
    "print(np.trapz(bw3a2_ig,k3))\n",
    "\n",
    "# plt.plot(np.concatenate((bw2a_ig,bw3a_ig)))\n",
    "# print(np.trapz(bw2a_ig[:100],k2[:100]))\n",
    "# print(np.trapz(bw3a_ig[100:],k3[100:]))\n",
    "# print(np.trapz(bw2a_ig[-100:],k2[-100:]))\n",
    "# print(np.trapz(bw3a_ig[0:100],k3[0:100]))"
   ]
  },
  {
   "cell_type": "code",
   "execution_count": null,
   "metadata": {
    "ExecuteTime": {
     "end_time": "2019-11-25T15:14:51.307647Z",
     "start_time": "2019-11-25T15:14:51.034692Z"
    }
   },
   "outputs": [],
   "source": [
    "-2*0.5*np.exp(-1)-2*0.5*np.exp(-1)"
   ]
  },
  {
   "cell_type": "code",
   "execution_count": null,
   "metadata": {
    "ExecuteTime": {
     "end_time": "2019-11-25T15:15:23.363160Z",
     "start_time": "2019-11-25T15:15:23.351314Z"
    }
   },
   "outputs": [],
   "source": [
    "((-bw3a1_ig+bw2a_ig)/(k2*U-1))[0]"
   ]
  },
  {
   "cell_type": "code",
   "execution_count": null,
   "metadata": {
    "ExecuteTime": {
     "end_time": "2019-11-25T12:52:43.001437Z",
     "start_time": "2019-11-25T12:52:42.994491Z"
    }
   },
   "outputs": [],
   "source": [
    "(-bw3a1_ig+bw2a_ig)"
   ]
  },
  {
   "cell_type": "code",
   "execution_count": null,
   "metadata": {
    "ExecuteTime": {
     "end_time": "2019-11-25T09:04:58.259514Z",
     "start_time": "2019-11-25T09:04:58.252565Z"
    }
   },
   "outputs": [],
   "source": [
    "print(bw2a_ig[0:5])\n",
    "print(bw3a1_ig[0:5])"
   ]
  },
  {
   "cell_type": "code",
   "execution_count": null,
   "metadata": {
    "ExecuteTime": {
     "end_time": "2019-11-25T09:16:24.190492Z",
     "start_time": "2019-11-25T09:16:24.054487Z"
    }
   },
   "outputs": [],
   "source": [
    "plt.plot(s,k2)"
   ]
  },
  {
   "cell_type": "code",
   "execution_count": null,
   "metadata": {
    "ExecuteTime": {
     "end_time": "2019-11-25T06:36:12.955486Z",
     "start_time": "2019-11-25T06:36:12.948139Z"
    }
   },
   "outputs": [],
   "source": [
    "(bw2a_ig)[:10]\n",
    "(bw3a1_ig)[:10]"
   ]
  },
  {
   "cell_type": "code",
   "execution_count": null,
   "metadata": {
    "ExecuteTime": {
     "end_time": "2019-11-25T06:19:02.231727Z",
     "start_time": "2019-11-25T06:19:02.225801Z"
    }
   },
   "outputs": [],
   "source": [
    "print(bw3a1_ig[[0,-1]])\n",
    "print(bw2a_ig[[0,-1]])"
   ]
  },
  {
   "cell_type": "code",
   "execution_count": null,
   "metadata": {
    "ExecuteTime": {
     "end_time": "2019-11-25T06:19:09.274022Z",
     "start_time": "2019-11-25T06:19:09.260054Z"
    }
   },
   "outputs": [],
   "source": [
    "(bw2a_ig+bw3a1_ig)[-1]"
   ]
  },
  {
   "cell_type": "code",
   "execution_count": null,
   "metadata": {
    "ExecuteTime": {
     "end_time": "2019-11-25T05:51:21.308547Z",
     "start_time": "2019-11-25T05:51:21.289493Z"
    }
   },
   "outputs": [],
   "source": [
    "(bw2a_ig+bw3a1_ig)[-10:]"
   ]
  },
  {
   "cell_type": "code",
   "execution_count": null,
   "metadata": {
    "ExecuteTime": {
     "end_time": "2019-11-25T06:23:02.846763Z",
     "start_time": "2019-11-25T06:23:02.722950Z"
    }
   },
   "outputs": [],
   "source": [
    "plt.plot(k2P)"
   ]
  },
  {
   "cell_type": "code",
   "execution_count": null,
   "metadata": {
    "ExecuteTime": {
     "end_time": "2019-11-25T06:25:22.429087Z",
     "start_time": "2019-11-25T06:25:22.409768Z"
    }
   },
   "outputs": [],
   "source": [
    "np.trapz(bw3a2_ig,s)"
   ]
  },
  {
   "cell_type": "code",
   "execution_count": null,
   "metadata": {
    "ExecuteTime": {
     "end_time": "2019-11-25T02:34:36.817139Z",
     "start_time": "2019-11-25T02:34:36.797677Z"
    }
   },
   "outputs": [],
   "source": [
    "lb=0\n",
    "ub=None\n",
    "print(np.trapz(bw23_ig[lb:ub],s[lb:ub]))\n",
    "print(theta[lb])\n",
    "print(theta[ub])\n",
    "print('k2 bounds')\n",
    "print(k2[lb])\n",
    "print(k2[ub])\n",
    "print('k3 bounds')\n",
    "print(k3[lb])\n",
    "print(k3[ub])"
   ]
  },
  {
   "cell_type": "code",
   "execution_count": null,
   "metadata": {
    "ExecuteTime": {
     "end_time": "2019-11-25T02:00:54.211090Z",
     "start_time": "2019-11-25T02:00:54.205585Z"
    }
   },
   "outputs": [],
   "source": [
    "bw23_ig.max()"
   ]
  },
  {
   "cell_type": "code",
   "execution_count": null,
   "metadata": {
    "ExecuteTime": {
     "end_time": "2019-11-25T01:51:57.500789Z",
     "start_time": "2019-11-25T01:51:57.376266Z"
    }
   },
   "outputs": [],
   "source": [
    "plt.plot(k3[0:800],'.')"
   ]
  },
  {
   "cell_type": "code",
   "execution_count": null,
   "metadata": {
    "ExecuteTime": {
     "end_time": "2019-11-25T01:39:04.267716Z",
     "start_time": "2019-11-25T01:39:04.016505Z"
    }
   },
   "outputs": [],
   "source": [
    "np.logical_or(np.isnan(bw23a_ig),np.isnan(bw23b_ig))\n",
    "\n",
    "# bw23b_ig[-10:]"
   ]
  },
  {
   "cell_type": "code",
   "execution_count": null,
   "metadata": {
    "ExecuteTime": {
     "end_time": "2019-11-24T15:15:25.985840Z",
     "start_time": "2019-11-24T15:15:25.850214Z"
    }
   },
   "outputs": [],
   "source": [
    "plt.plot(theta)"
   ]
  },
  {
   "cell_type": "code",
   "execution_count": null,
   "metadata": {
    "ExecuteTime": {
     "end_time": "2019-11-24T09:12:16.545041Z",
     "start_time": "2019-11-24T09:12:16.538840Z"
    }
   },
   "outputs": [],
   "source": [
    "ig=(bw23b_ig+bw23a_ig)\n",
    "ig[np.isnan(bw23b_ig+bw23a_ig)]=0\n",
    "np.trapz(ig,s)"
   ]
  },
  {
   "cell_type": "code",
   "execution_count": null,
   "metadata": {
    "ExecuteTime": {
     "end_time": "2019-11-24T06:47:31.122519Z",
     "start_time": "2019-11-24T06:47:30.909360Z"
    }
   },
   "outputs": [],
   "source": [
    "bw23_ig_alt_1 = calc_test(-10.00,zeta,6*2*np.pi/10,theta,U,L)*alpha*s**(alpha-1)*np.pi/2\n",
    "bw23_ig_alt_2 = calc_test(-10.20,zeta,6*2*np.pi/10,theta,U,L)*alpha*s**(alpha-1)*np.pi/2\n",
    "bw23_ig_alt_3 = calc_test(-10.40,zeta,6*2*np.pi/10,theta,U,L)*alpha*s**(alpha-1)*np.pi/2\n",
    "bw23_ig_alt_4 = calc_test(-10.60,zeta,6*2*np.pi/10,theta,U,L)*alpha*s**(alpha-1)*np.pi/2\n",
    "\n",
    "plt.plot(bw23_ig_alt_1)\n",
    "print(np.trapz(bw23_ig_alt_1,s)*1/2*np.exp(-zeta))\n",
    "plt.plot(bw23_ig_alt_2)\n",
    "print(np.trapz(bw23_ig_alt_2,s)*1/2*np.exp(-zeta))\n",
    "plt.plot(bw23_ig_alt_3)\n",
    "print(np.trapz(bw23_ig_alt_3,s)*1/2*np.exp(-zeta))\n",
    "plt.plot(bw23_ig_alt_4)\n",
    "print(np.trapz(bw23_ig_alt_4,s)*1/2*np.exp(-zeta))"
   ]
  },
  {
   "cell_type": "code",
   "execution_count": null,
   "metadata": {
    "ExecuteTime": {
     "end_time": "2019-11-24T06:33:40.513905Z",
     "start_time": "2019-11-24T06:33:40.506739Z"
    }
   },
   "outputs": [],
   "source": [
    "k3[8000]"
   ]
  },
  {
   "cell_type": "code",
   "execution_count": null,
   "metadata": {
    "ExecuteTime": {
     "end_time": "2019-11-24T06:30:47.560910Z",
     "start_time": "2019-11-24T06:30:47.555864Z"
    }
   },
   "outputs": [],
   "source": [
    "len(k2)"
   ]
  },
  {
   "cell_type": "code",
   "execution_count": null,
   "metadata": {
    "ExecuteTime": {
     "end_time": "2019-11-24T05:17:33.371241Z",
     "start_time": "2019-11-24T05:17:33.184961Z"
    },
    "scrolled": true
   },
   "outputs": [],
   "source": [
    "plt.figure(figsize=(12,8))\n",
    "plt.plot(s[0:500],k3[0:500],'.')"
   ]
  }
 ],
 "metadata": {
  "kernelspec": {
   "display_name": "Python 3 (ipykernel)",
   "language": "python",
   "name": "python3"
  },
  "language_info": {
   "codemirror_mode": {
    "name": "ipython",
    "version": 3
   },
   "file_extension": ".py",
   "mimetype": "text/x-python",
   "name": "python",
   "nbconvert_exporter": "python",
   "pygments_lexer": "ipython3",
   "version": "3.8.10"
  },
  "toc": {
   "base_numbering": 1,
   "nav_menu": {},
   "number_sections": true,
   "sideBar": true,
   "skip_h1_title": false,
   "title_cell": "Table of Contents",
   "title_sidebar": "Contents",
   "toc_cell": false,
   "toc_position": {},
   "toc_section_display": true,
   "toc_window_display": false
  }
 },
 "nbformat": 4,
 "nbformat_minor": 2
}
